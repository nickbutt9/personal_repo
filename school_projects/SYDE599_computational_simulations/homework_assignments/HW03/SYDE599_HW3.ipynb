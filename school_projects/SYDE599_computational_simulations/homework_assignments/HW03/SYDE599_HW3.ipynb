{
 "cells": [
  {
   "cell_type": "markdown",
   "metadata": {},
   "source": [
    "# <font color='black'> Homework group: </font>\n",
    "Nicholas Butt (20757197) and Abby Tien (20758949)"
   ]
  },
  {
   "cell_type": "markdown",
   "metadata": {
    "id": "nynu5Jve9GPU"
   },
   "source": [
    "# <font color='orange'> Imports </font>\n"
   ]
  },
  {
   "cell_type": "code",
   "execution_count": 1,
   "metadata": {
    "id": "3hXFLFrFJdWG"
   },
   "outputs": [],
   "source": [
    "import pandas as pd\n",
    "import numpy as np\n",
    "from numpy.random import default_rng\n",
    "from plotnine import *\n",
    "\n",
    "rng = default_rng(13)\n",
    "import warnings\n",
    "warnings.filterwarnings('ignore')"
   ]
  },
  {
   "cell_type": "code",
   "execution_count": 2,
   "metadata": {
    "id": "8WODa4-ebYuA"
   },
   "outputs": [],
   "source": [
    "# ==============================================================================\n",
    "# ========== You do not need to make changes to this cell ======================\n",
    "# ==============================================================================\n",
    "def runModel(p,m,c):\n",
    "\n",
    "    theProbOfSnowyDay = p\n",
    "    theMeanAmountOfSnow = m\n",
    "    theStdevAmountOfSnow = 0.5428 \n",
    "    theCostOfInsuficientPlowing = c\n",
    "    theEstimateLoss = 0\n",
    "    plowing_capacity = 2\n",
    "    \n",
    "\n",
    "    # Get hold of the probability that it will snow today for this scenario\n",
    "    theProbabilityForThisScenario = theProbOfSnowyDay \n",
    "\n",
    "\n",
    "    # This is convoluted but quicker way to calculate losses due to lack of snow plowing capacity\n",
    "    v = (rng.random(32) < theProbabilityForThisScenario) * rng.normal(theMeanAmountOfSnow,theStdevAmountOfSnow,32)\n",
    "\n",
    "\n",
    "    theGap = [] # difference between accumulated snow and plowing capacity\n",
    "    for t in range(32):\n",
    "        if t == 0:\n",
    "            theGap.append(max(v[t] - plowing_capacity,0))\n",
    "        else:\n",
    "            theGap.append(max(theGap[t-1] + v[t] - plowing_capacity,0))\n",
    "    \n",
    "    return np.sum((np.array(theGap) > 0) * theCostOfInsuficientPlowing)"
   ]
  },
  {
   "cell_type": "code",
   "execution_count": 3,
   "metadata": {
    "id": "xc5AkU0lc71E"
   },
   "outputs": [],
   "source": [
    "# Consider that the probability of snowfall (P) can be between 0.25-0.75 (uniformly distributed)\n",
    "# Consider that the mean amount of snow (M) can be between 2-5 cm (uniformly distributed)\n",
    "# Consider that the cost per day of insufficient plowing (C) can be between $25000-75000 (uniformly distributed)\n",
    "\n",
    "num_rows = 10000\n",
    "\n",
    "# Create matrix A like this\n",
    "# P    |  M  |  C\n",
    "#_____________________\n",
    "# 0.5  |  3  |  40000\n",
    "# 0.4  |  4  |  65000\n",
    "#.....\n",
    "# N rows\n",
    "A = [list(rng.uniform(low=0.25, high=0.75, size=num_rows)),\n",
    "     list(rng.uniform(low=2, high=5, size=num_rows)),\n",
    "     list(rng.uniform(low=25000, high=75000, size=num_rows))]\n",
    "\n",
    "\n",
    "# Create matrix B like this\n",
    "# P    |  M  |  C\n",
    "#_____________________\n",
    "# 0.6  |  5  |  50000\n",
    "# 0.3  |  2  |  35000\n",
    "#.....\n",
    "# N rows\n",
    "B = [list(rng.uniform(low=0.25, high=0.75, size=num_rows)),\n",
    "     list(rng.uniform(low=2, high=5, size=num_rows)),\n",
    "     list(rng.uniform(low=25000, high=75000, size=num_rows))]\n",
    "\n",
    "'''\n",
    "# Hint: A and B must contain different values\n",
    "'''\n",
    "\n",
    "\n",
    "# Calculate outputs calculated on A\n",
    "f_a = []\n",
    "for i in range(len(A[0])):\n",
    "  f_a.append(runModel(A[0][i],A[1][i],A[2][i]))\n",
    "# Calculate outputs calculated on B\n",
    "f_b = []\n",
    "for i in range(len(B[0])):\n",
    "  f_b.append(runModel(B[0][i],B[1][i],B[2][i]))\n",
    "\n",
    "\n",
    "# Matrix AB_1\n",
    "AB_1 = np.copy(A) # use copy or you will overwrite A\n",
    "AB_1[0] = B[0]\n",
    "# Matrix AB_2\n",
    "AB_2 = np.copy(A) # use copy or you will overwrite A\n",
    "AB_2[1] = B[1]\n",
    "# Matrix AB_3\n",
    "AB_3 = np.copy(A) # use copy or you will overwrite A\n",
    "AB_3[2] = B[2]\n",
    "\n",
    "\n",
    "# Outputs calculated on AB_1\n",
    "f_1 = []\n",
    "for i in range(len(AB_1[0])):\n",
    "  f_1.append(runModel(AB_1[0][i],AB_1[1][i],AB_1[2][i]))\n",
    "# Outputs calculated on AB_2\n",
    "f_2 = []\n",
    "for i in range(len(AB_2[0])):\n",
    "  f_2.append(runModel(AB_2[0][i], AB_2[1][i], AB_2[2][i]))\n",
    "# Outputs calculated on AB_3\n",
    "f_3 = []\n",
    "for i in range(len(AB_3[0])):\n",
    "  f_3.append(runModel(AB_3[0][i], AB_3[1][i], AB_3[2][i]))"
   ]
  },
  {
   "cell_type": "code",
   "execution_count": 4,
   "metadata": {
    "id": "9b1Mq7VjEQ5p"
   },
   "outputs": [
    {
     "name": "stdout",
     "output_type": "stream",
     "text": [
      "The total variance is: 285370823552.2118\n"
     ]
    }
   ],
   "source": [
    "# Calculate the total variance\n",
    "Var = 0\n",
    "for i in range(num_rows):\n",
    "  Var += (f_b[i] - f_a[i])**2\n",
    "\n",
    "Var /= 2*num_rows\n",
    "print(f'The total variance is: {Var}')"
   ]
  },
  {
   "cell_type": "code",
   "execution_count": 5,
   "metadata": {
    "id": "1URxqfwt28t0"
   },
   "outputs": [
    {
     "name": "stdout",
     "output_type": "stream",
     "text": [
      "The first order Sobal index for m is: 0.2766234700442582\n",
      "The first order Sobal index for p is: 0.24672974203257605\n",
      "The first order Sobal index for c is: 0.30925787885006445\n"
     ]
    }
   ],
   "source": [
    "# Calculate the first order Sobol Indexes\n",
    "\n",
    "# Probability of snowfall first order Sobal index\n",
    "Var1 = 0\n",
    "for i in range(num_rows):\n",
    "  Var1 += f_b[i] * (f_1[i] - f_a[i])\n",
    "Var1 /= num_rows\n",
    "fo_sobal_p = Var1/Var\n",
    "\n",
    "# mean amount of snowfall first order Sobal index\n",
    "Var2 = 0\n",
    "for i in range(num_rows):\n",
    "  Var2 += f_b[i] * (f_2[i] - f_a[i])\n",
    "Var2 /= num_rows\n",
    "fo_sobal_m = Var2/Var\n",
    "\n",
    "# cost per day of insufficient snow clearing capacity first order Sobal index\n",
    "Var3 = 0\n",
    "for i in range(num_rows):\n",
    "  Var3 += f_b[i] * (f_3[i] - f_a[i])\n",
    "Var3 /= num_rows\n",
    "fo_sobal_c = Var3/Var\n",
    "\n",
    "print(f'The first order Sobal index for m is: {fo_sobal_p}')\n",
    "print(f'The first order Sobal index for p is: {fo_sobal_m}')\n",
    "print(f'The first order Sobal index for c is: {fo_sobal_c}')"
   ]
  },
  {
   "cell_type": "code",
   "execution_count": 6,
   "metadata": {
    "id": "p8vID86Y39AG"
   },
   "outputs": [
    {
     "name": "stdout",
     "output_type": "stream",
     "text": [
      "The total Sobal index for m is: 0.4287127114930639\n",
      "The total Sobal index for p is: 0.3788148306084228\n",
      "The total Sobal index for c is: 0.520652409134741\n"
     ]
    }
   ],
   "source": [
    "# Calculate the total Sobol Indexes\n",
    "\n",
    "# Probability of snowfall total Sobal index\n",
    "E1 = 0\n",
    "for i in range(num_rows):\n",
    "  E1 += (f_a[i] - f_1[i])**2\n",
    "E1 /= (2*num_rows)\n",
    "total_sobal_p = E1/Var\n",
    "\n",
    "# mean amount of snowfall total Sobal index\n",
    "E2 = 0\n",
    "for i in range(num_rows):\n",
    "  E2 += (f_a[i] - f_2[i])**2\n",
    "E2 /= (2*num_rows)\n",
    "total_sobal_m = E2/Var\n",
    "\n",
    "# cost per day of insufficient snow clearing capacity total Sobal index\n",
    "E3 = 0\n",
    "for i in range(num_rows):\n",
    "  E3 += (f_a[i] - f_3[i])**2\n",
    "E3 /= (2*num_rows)\n",
    "total_sobal_c = E3/Var\n",
    "\n",
    "print(f'The total Sobal index for m is: {total_sobal_p}')\n",
    "print(f'The total Sobal index for p is: {total_sobal_m}')\n",
    "print(f'The total Sobal index for c is: {total_sobal_c}')"
   ]
  },
  {
   "cell_type": "code",
   "execution_count": 7,
   "metadata": {
    "id": "hUR6DA-ou6-F"
   },
   "outputs": [],
   "source": [
    "# Identify which parameters contribute the most to the variance of the model"
   ]
  },
  {
   "cell_type": "code",
   "execution_count": 8,
   "metadata": {
    "id": "ZMpkQY_NEi5u"
   },
   "outputs": [
    {
     "data": {
      "text/plain": [
       "'\\nIn my solution, the total variance calculated on 10,000 points was: 281851096953.87476\\nThe first order Sobol indices were: 0.2313, 0.2112, and 0.3025\\nThe total Sobol indices were: 0.4309, 0.3934, 0.5145\\n\\nAll of these values may be slightly different for you because they are approximations.\\n'"
      ]
     },
     "execution_count": 8,
     "metadata": {},
     "output_type": "execute_result"
    }
   ],
   "source": [
    "'''\n",
    "In my solution, the total variance calculated on 10,000 points was: 281851096953.87476\n",
    "The first order Sobol indices were: 0.2313, 0.2112, and 0.3025\n",
    "The total Sobol indices were: 0.4309, 0.3934, 0.5145\n",
    "\n",
    "All of these values may be slightly different for you because they are approximations.\n",
    "'''"
   ]
  }
 ],
 "metadata": {
  "colab": {
   "provenance": []
  },
  "kernelspec": {
   "display_name": "Python 3 (ipykernel)",
   "language": "python",
   "name": "python3"
  },
  "language_info": {
   "codemirror_mode": {
    "name": "ipython",
    "version": 3
   },
   "file_extension": ".py",
   "mimetype": "text/x-python",
   "name": "python",
   "nbconvert_exporter": "python",
   "pygments_lexer": "ipython3",
   "version": "3.9.5"
  }
 },
 "nbformat": 4,
 "nbformat_minor": 1
}

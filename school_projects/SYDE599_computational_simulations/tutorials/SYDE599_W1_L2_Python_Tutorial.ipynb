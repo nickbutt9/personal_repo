{
 "cells": [
  {
   "cell_type": "markdown",
   "metadata": {
    "id": "AyJcaS1ZBI2t"
   },
   "source": [
    "# Disclaimer\n",
    "\n",
    "This tutorial is aimed at those with little or no experience with Python. The contents are not comprehensive. The focus is on providing students the basics to succeed in this class. \n",
    "\n",
    "This tutorial (and any code I provide you) will always prioritize readability over conciseness. Where needed, performance will be sacrificed for readability as well. If you are an experienced user you do *not* need to follow the guidelines I provide. As long as your code works and you understand what you are doing, that is all that matters :)"
   ]
  },
  {
   "cell_type": "markdown",
   "metadata": {
    "id": "8WB1aRLbCC7y"
   },
   "source": [
    "\n",
    "\n",
    "---\n",
    "\n",
    "\n",
    "\n",
    "---\n",
    "\n"
   ]
  },
  {
   "cell_type": "markdown",
   "metadata": {
    "id": "k79ha-M3bw5m"
   },
   "source": [
    "### <font color='orange'> Basic variables </font>\n",
    "In Python, variables types are dynamic and can be modified at any point."
   ]
  },
  {
   "cell_type": "code",
   "execution_count": null,
   "metadata": {
    "colab": {
     "base_uri": "https://localhost:8080/"
    },
    "executionInfo": {
     "elapsed": 487,
     "status": "ok",
     "timestamp": 1669826639401,
     "user": {
      "displayName": "Rodrigo Costa",
      "userId": "15201424764589684325"
     },
     "user_tz": 480
    },
    "id": "QfPIgTqCbZqJ",
    "outputId": "6c3cd791-a6ca-4d74-a7a9-99cdf8e07d19"
   },
   "outputs": [
    {
     "name": "stdout",
     "output_type": "stream",
     "text": [
      "The variable a has type: <class 'int'>\n"
     ]
    }
   ],
   "source": [
    "a = 1 # here, a is an integer (note: the symbol = in Python means 'a is being assigned the value 1'. The 'equals' symbol is ==.)\n",
    "print('The variable a has type:', type(a))"
   ]
  },
  {
   "cell_type": "code",
   "execution_count": null,
   "metadata": {
    "colab": {
     "base_uri": "https://localhost:8080/"
    },
    "executionInfo": {
     "elapsed": 505,
     "status": "ok",
     "timestamp": 1669826640528,
     "user": {
      "displayName": "Rodrigo Costa",
      "userId": "15201424764589684325"
     },
     "user_tz": 480
    },
    "id": "56gFsaskcRki",
    "outputId": "66d9066a-7df4-4b45-cc8f-befed4c9c2b7"
   },
   "outputs": [
    {
     "name": "stdout",
     "output_type": "stream",
     "text": [
      "The variable a has type: <class 'float'>\n"
     ]
    }
   ],
   "source": [
    "a = 1.0 # here, a is a real number (also known as a floating point)\n",
    "print('The variable a has type:', type(a))"
   ]
  },
  {
   "cell_type": "code",
   "execution_count": null,
   "metadata": {
    "colab": {
     "base_uri": "https://localhost:8080/"
    },
    "executionInfo": {
     "elapsed": 22,
     "status": "ok",
     "timestamp": 1669826640529,
     "user": {
      "displayName": "Rodrigo Costa",
      "userId": "15201424764589684325"
     },
     "user_tz": 480
    },
    "id": "yIwl5D_PcpZG",
    "outputId": "b8128e2b-0a4d-4fa1-e1f5-2b2842d48037"
   },
   "outputs": [
    {
     "name": "stdout",
     "output_type": "stream",
     "text": [
      "The variable a has type: <class 'str'>\n"
     ]
    }
   ],
   "source": [
    "a = 'test' # here, a is a string\n",
    "print('The variable a has type:', type(a))"
   ]
  },
  {
   "cell_type": "code",
   "execution_count": null,
   "metadata": {
    "colab": {
     "base_uri": "https://localhost:8080/"
    },
    "executionInfo": {
     "elapsed": 19,
     "status": "ok",
     "timestamp": 1669826640529,
     "user": {
      "displayName": "Rodrigo Costa",
      "userId": "15201424764589684325"
     },
     "user_tz": 480
    },
    "id": "uSyTU_-TdCmF",
    "outputId": "bb4fee7b-e7a6-486e-fc5f-f952b07170b2"
   },
   "outputs": [
    {
     "name": "stdout",
     "output_type": "stream",
     "text": [
      "The variable a has type: <class 'bool'>\n"
     ]
    }
   ],
   "source": [
    "a = True # here, a is a boolean (True or False variable)\n",
    "print('The variable a has type:', type(a))"
   ]
  },
  {
   "cell_type": "markdown",
   "metadata": {
    "id": "hfxfoUOqqHG3"
   },
   "source": [
    "\n",
    "\n",
    "---\n",
    "\n",
    "\n",
    "\n",
    "---\n",
    "\n"
   ]
  },
  {
   "cell_type": "markdown",
   "metadata": {
    "id": "VdYPJN3Qdxqo"
   },
   "source": [
    "### <font color='orange'> Data structures </font>\n"
   ]
  },
  {
   "cell_type": "markdown",
   "metadata": {
    "id": "lRutbdrgeJOH"
   },
   "source": [
    "#### <font color='orange'> Lists (squared brackets)</font>"
   ]
  },
  {
   "cell_type": "code",
   "execution_count": null,
   "metadata": {
    "colab": {
     "base_uri": "https://localhost:8080/"
    },
    "executionInfo": {
     "elapsed": 18,
     "status": "ok",
     "timestamp": 1669826640529,
     "user": {
      "displayName": "Rodrigo Costa",
      "userId": "15201424764589684325"
     },
     "user_tz": 480
    },
    "id": "wHNjW-nTdMiy",
    "outputId": "c2148de9-eb70-4b6f-94b1-c03cca2ae697"
   },
   "outputs": [
    {
     "name": "stdout",
     "output_type": "stream",
     "text": [
      "The variable a has type: <class 'list'>\n"
     ]
    }
   ],
   "source": [
    "a = [1,2] # here, a is a list.\n",
    "print('The variable a has type:', type(a))"
   ]
  },
  {
   "cell_type": "code",
   "execution_count": null,
   "metadata": {
    "colab": {
     "base_uri": "https://localhost:8080/"
    },
    "executionInfo": {
     "elapsed": 16,
     "status": "ok",
     "timestamp": 1669826640529,
     "user": {
      "displayName": "Rodrigo Costa",
      "userId": "15201424764589684325"
     },
     "user_tz": 480
    },
    "id": "3Hn4zKZUeM74",
    "outputId": "92f501ca-d13b-47c0-b5e5-9ca3ad942e9e"
   },
   "outputs": [
    {
     "name": "stdout",
     "output_type": "stream",
     "text": [
      "[1, False, 34.5]\n"
     ]
    }
   ],
   "source": [
    "# As the name suggests, a list holds a list of variables (e.g., integers, floating points, booleans)\n",
    "a = [1, False, 34.5]\n",
    "print(a)"
   ]
  },
  {
   "cell_type": "code",
   "execution_count": null,
   "metadata": {
    "colab": {
     "base_uri": "https://localhost:8080/"
    },
    "executionInfo": {
     "elapsed": 15,
     "status": "ok",
     "timestamp": 1669826640529,
     "user": {
      "displayName": "Rodrigo Costa",
      "userId": "15201424764589684325"
     },
     "user_tz": 480
    },
    "id": "PQJNnPtLejG_",
    "outputId": "412c7226-866c-4a62-fbe2-414da30e4042"
   },
   "outputs": [
    {
     "data": {
      "text/plain": [
       "False"
      ]
     },
     "execution_count": 8,
     "metadata": {},
     "output_type": "execute_result"
    }
   ],
   "source": [
    "# To access an element in a list you can use square brackets - this is called *indexing*\n",
    "a[1] # note that the indexes start at zero, so a[1] returns the second element"
   ]
  },
  {
   "cell_type": "code",
   "execution_count": null,
   "metadata": {
    "colab": {
     "base_uri": "https://localhost:8080/"
    },
    "executionInfo": {
     "elapsed": 13,
     "status": "ok",
     "timestamp": 1669826640529,
     "user": {
      "displayName": "Rodrigo Costa",
      "userId": "15201424764589684325"
     },
     "user_tz": 480
    },
    "id": "WZxVm6xMezkt",
    "outputId": "4e5048a0-eb6a-4cc7-9b78-9dd0bf1c7f22"
   },
   "outputs": [
    {
     "name": "stdout",
     "output_type": "stream",
     "text": [
      "Before modifying a[1], a is [1, False, 34.5]\n",
      "After modifying a[1], a is [1, True, 34.5]\n"
     ]
    }
   ],
   "source": [
    "# You can modify individual elements in a list\n",
    "print('Before modifying a[1], a is',a)\n",
    "a[1] = True\n",
    "print('After modifying a[1], a is',a)"
   ]
  },
  {
   "cell_type": "code",
   "execution_count": null,
   "metadata": {
    "colab": {
     "base_uri": "https://localhost:8080/"
    },
    "executionInfo": {
     "elapsed": 13,
     "status": "ok",
     "timestamp": 1669826640530,
     "user": {
      "displayName": "Rodrigo Costa",
      "userId": "15201424764589684325"
     },
     "user_tz": 480
    },
    "id": "56VuwpoveeJP",
    "outputId": "1aaaf848-6a0f-4058-afce-29039c98eab7"
   },
   "outputs": [
    {
     "name": "stdout",
     "output_type": "stream",
     "text": [
      "[1, True, 34.5]\n",
      "[1, True, 34.5, 'new element']\n",
      "[1, True, 34.5, 'new element', 55]\n"
     ]
    }
   ],
   "source": [
    "# Lists are *mutable* which means you can add elements to it making it longer\n",
    "# To add an element to a list we use *append*\n",
    "print(a)\n",
    "a.append('new element')\n",
    "print(a)\n",
    "a.append(55)\n",
    "print(a)"
   ]
  },
  {
   "cell_type": "code",
   "execution_count": null,
   "metadata": {
    "colab": {
     "base_uri": "https://localhost:8080/"
    },
    "executionInfo": {
     "elapsed": 11,
     "status": "ok",
     "timestamp": 1669826640530,
     "user": {
      "displayName": "Rodrigo Costa",
      "userId": "15201424764589684325"
     },
     "user_tz": 480
    },
    "id": "nw3TuKbGfeRg",
    "outputId": "cf917cf5-dbe4-4249-bd4b-cfc2ae9422ec"
   },
   "outputs": [
    {
     "name": "stdout",
     "output_type": "stream",
     "text": [
      "['first', 1, True, 'another element', 34.5, 'new element', 55]\n"
     ]
    }
   ],
   "source": [
    "# If you want more versatility, you can use 'insert' to add a value to any position in a list\n",
    "a.insert(0,'first') # insert the string 'first' at position 0, i.e., the first element\n",
    "a.insert(3,'another element')\n",
    "print(a)"
   ]
  },
  {
   "cell_type": "markdown",
   "metadata": {
    "id": "7y7KIwTtg8hz"
   },
   "source": [
    "#### <font color='orange'> Tuples (parenthesis) </font>\n"
   ]
  },
  {
   "cell_type": "code",
   "execution_count": null,
   "metadata": {
    "colab": {
     "base_uri": "https://localhost:8080/"
    },
    "executionInfo": {
     "elapsed": 10,
     "status": "ok",
     "timestamp": 1669826640530,
     "user": {
      "displayName": "Rodrigo Costa",
      "userId": "15201424764589684325"
     },
     "user_tz": 480
    },
    "id": "7EA3Yo9tg8pw",
    "outputId": "66e43753-a036-44a3-f17d-b2e4be9ea999"
   },
   "outputs": [
    {
     "name": "stdout",
     "output_type": "stream",
     "text": [
      "(3, 45, 65.6, False, 3)\n",
      "The variable a has type: <class 'tuple'>\n"
     ]
    }
   ],
   "source": [
    "# Tuples are very similar to lists, but they are created with parenthesis\n",
    "# The key differences is that sets are ordered (the order you enter the items will be kept)\n",
    "t = (3,45,65.6,False,3)\n",
    "print(t)\n",
    "print('The variable a has type:', type(t))"
   ]
  },
  {
   "cell_type": "code",
   "execution_count": null,
   "metadata": {
    "colab": {
     "base_uri": "https://localhost:8080/"
    },
    "executionInfo": {
     "elapsed": 9,
     "status": "ok",
     "timestamp": 1669826640530,
     "user": {
      "displayName": "Rodrigo Costa",
      "userId": "15201424764589684325"
     },
     "user_tz": 480
    },
    "id": "09N6DQKtigAD",
    "outputId": "1476e240-aac8-410b-daad-4627a41fe011"
   },
   "outputs": [
    {
     "data": {
      "text/plain": [
       "45"
      ]
     },
     "execution_count": 13,
     "metadata": {},
     "output_type": "execute_result"
    }
   ],
   "source": [
    "# A key diferrence is that tuples are *immutable*\n",
    "# That, although you can access items using indexes\n",
    "t[1]\n",
    "# You cannot change individual elements in a tuple\n",
    "# t[1] = 14 # leads to an error\n",
    "# Nor can you append or insert to a tuple\n",
    "# t.append(1) # leads to an error"
   ]
  },
  {
   "cell_type": "markdown",
   "metadata": {
    "id": "mSenODfZedXt"
   },
   "source": [
    "#### <font color='orange'> Sets (curly brackets) </font>"
   ]
  },
  {
   "cell_type": "code",
   "execution_count": null,
   "metadata": {
    "colab": {
     "base_uri": "https://localhost:8080/"
    },
    "executionInfo": {
     "elapsed": 8,
     "status": "ok",
     "timestamp": 1669826640530,
     "user": {
      "displayName": "Rodrigo Costa",
      "userId": "15201424764589684325"
     },
     "user_tz": 480
    },
    "id": "OcH7VAG0gKMp",
    "outputId": "192af82e-ad1f-489f-dbeb-e7346a434ad9"
   },
   "outputs": [
    {
     "name": "stdout",
     "output_type": "stream",
     "text": [
      "{False, 65.6, 3, 45}\n",
      "The variable a has type: <class 'set'>\n"
     ]
    }
   ],
   "source": [
    "# Sets are very similar to lists, but they are created with curly brackets\n",
    "# The key differences is that sets are unordered (the order you enter the items will be revised) and automatically eliminate duplicates\n",
    "s = {3,45,65.6,False,3} # notes how '3' appears only once when the set is printed\n",
    "print(s)\n",
    "print('The variable a has type:', type(s))"
   ]
  },
  {
   "cell_type": "code",
   "execution_count": null,
   "metadata": {
    "id": "TncV6Y_gjhxM"
   },
   "outputs": [],
   "source": [
    "# Sets do not allow indexing\n",
    "#s[1] # leads to an error"
   ]
  },
  {
   "cell_type": "code",
   "execution_count": null,
   "metadata": {
    "colab": {
     "base_uri": "https://localhost:8080/"
    },
    "executionInfo": {
     "elapsed": 8,
     "status": "ok",
     "timestamp": 1669826640531,
     "user": {
      "displayName": "Rodrigo Costa",
      "userId": "15201424764589684325"
     },
     "user_tz": 480
    },
    "id": "YX1Iop7LjrV0",
    "outputId": "7f92617d-1e0c-4a69-eb81-7260b6d2f71f"
   },
   "outputs": [
    {
     "name": "stdout",
     "output_type": "stream",
     "text": [
      "{False, 65.6, 3, 45, 'another item'}\n"
     ]
    }
   ],
   "source": [
    "# Sets are mutable, i.e., they can be extended\n",
    "# However, because they are unordered, you do not *append* an item at a certain position, you simply *add* an item to the set\n",
    "s.add('another item')\n",
    "print(s)"
   ]
  },
  {
   "cell_type": "markdown",
   "metadata": {
    "id": "7H_isY2chOmf"
   },
   "source": [
    "![image.png](data:image/png;base64,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)"
   ]
  },
  {
   "cell_type": "markdown",
   "metadata": {
    "id": "ZwC6YQYie1GU"
   },
   "source": [
    "#### <font color='orange'> Dictionaries (curly brackets) </font>"
   ]
  },
  {
   "cell_type": "code",
   "execution_count": 4,
   "metadata": {
    "colab": {
     "base_uri": "https://localhost:8080/",
     "height": 35
    },
    "executionInfo": {
     "elapsed": 7,
     "status": "ok",
     "timestamp": 1671639711861,
     "user": {
      "displayName": "Rodrigo Costa",
      "userId": "15201424764589684325"
     },
     "user_tz": 300
    },
    "id": "Zu2ZIAffe5Ts",
    "outputId": "2fa0801d-d35e-4062-93f1-0e9ae13230b7"
   },
   "outputs": [
    {
     "data": {
      "application/vnd.google.colaboratory.intrinsic+json": {
       "type": "string"
      },
      "text/plain": [
       "'orange'"
      ]
     },
     "execution_count": 4,
     "metadata": {},
     "output_type": "execute_result"
    }
   ],
   "source": [
    "# Dictionaries are defined by pairs of *keys* and *values*:\n",
    "\n",
    "d = {1:'red',\n",
    "     2:'blue',\n",
    "     15:'orange'}\n",
    "\n",
    "d[15] # here, the number in brackets (i.e., 2) is a key and the returned value is the value at that key (i.e., 'blue')"
   ]
  },
  {
   "cell_type": "markdown",
   "metadata": {
    "id": "EPGndjTCqFaY"
   },
   "source": [
    "\n",
    "\n",
    "---\n",
    "\n",
    "\n",
    "\n",
    "---\n",
    "\n"
   ]
  },
  {
   "cell_type": "markdown",
   "metadata": {
    "id": "M5eKz6vPkBO7"
   },
   "source": [
    "### <font color='orange'> Dataframes </font>"
   ]
  },
  {
   "cell_type": "markdown",
   "metadata": {
    "id": "Qf-gujVBNn3p"
   },
   "source": [
    "Pandas (from PANel DAta) is a library for data manipulation. Pandas makes extensive use of dataframe, a data structure that is comparable to an excel spreadsheet. An [extensive tutorial of Pandas is found here](https://colab.research.google.com/notebooks/snippets/pandas.ipynb#scrollTo=qQ5S72eoaiuA). In the following, I provide some basic introductory concepts.\n"
   ]
  },
  {
   "cell_type": "code",
   "execution_count": null,
   "metadata": {
    "id": "QEnwwknykM5X"
   },
   "outputs": [],
   "source": [
    "# Dataframes are an incredibly helpful data structure\n",
    "# To work with dataframes, I like to use Pandas: https://pandas.pydata.org/\n",
    "\n",
    "# To import pandas we use this command\n",
    "import pandas as pd"
   ]
  },
  {
   "cell_type": "code",
   "execution_count": null,
   "metadata": {
    "colab": {
     "base_uri": "https://localhost:8080/"
    },
    "executionInfo": {
     "elapsed": 4,
     "status": "ok",
     "timestamp": 1670444219229,
     "user": {
      "displayName": "Rodrigo Costa",
      "userId": "15201424764589684325"
     },
     "user_tz": 300
    },
    "id": "IXBfav9_kd0f",
    "outputId": "922cfa02-a438-4318-a0ba-ccc0d6dfd633"
   },
   "outputs": [
    {
     "name": "stdout",
     "output_type": "stream",
     "text": [
      "The variable a has type: <class 'pandas.core.frame.DataFrame'>\n"
     ]
    }
   ],
   "source": [
    "# To create a dataframe we call the command DataFrame() that is available through pandas\n",
    "# In the line above, we 'nicknames' Pandas as 'pd'\n",
    "\n",
    "df = pd.DataFrame()\n",
    "print('The variable a has type:', type(df))"
   ]
  },
  {
   "cell_type": "code",
   "execution_count": null,
   "metadata": {
    "colab": {
     "base_uri": "https://localhost:8080/",
     "height": 206
    },
    "executionInfo": {
     "elapsed": 5,
     "status": "ok",
     "timestamp": 1669826640851,
     "user": {
      "displayName": "Rodrigo Costa",
      "userId": "15201424764589684325"
     },
     "user_tz": 480
    },
    "id": "Uoa4xN5daOv7",
    "outputId": "f4dabf92-468b-4b65-adc7-e0cf997ed837"
   },
   "outputs": [
    {
     "data": {
      "text/html": [
       "\n",
       "  <div id=\"df-3e7834ee-90e6-42f8-a6c9-24ff0e2fab39\">\n",
       "    <div class=\"colab-df-container\">\n",
       "      <div>\n",
       "<style scoped>\n",
       "    .dataframe tbody tr th:only-of-type {\n",
       "        vertical-align: middle;\n",
       "    }\n",
       "\n",
       "    .dataframe tbody tr th {\n",
       "        vertical-align: top;\n",
       "    }\n",
       "\n",
       "    .dataframe thead th {\n",
       "        text-align: right;\n",
       "    }\n",
       "</style>\n",
       "<table border=\"1\" class=\"dataframe\">\n",
       "  <thead>\n",
       "    <tr style=\"text-align: right;\">\n",
       "      <th></th>\n",
       "      <th>Column1</th>\n",
       "      <th>Column2</th>\n",
       "    </tr>\n",
       "  </thead>\n",
       "  <tbody>\n",
       "    <tr>\n",
       "      <th>0</th>\n",
       "      <td>1</td>\n",
       "      <td>a</td>\n",
       "    </tr>\n",
       "    <tr>\n",
       "      <th>1</th>\n",
       "      <td>2</td>\n",
       "      <td>b</td>\n",
       "    </tr>\n",
       "    <tr>\n",
       "      <th>2</th>\n",
       "      <td>3</td>\n",
       "      <td>c</td>\n",
       "    </tr>\n",
       "    <tr>\n",
       "      <th>3</th>\n",
       "      <td>4</td>\n",
       "      <td>d</td>\n",
       "    </tr>\n",
       "    <tr>\n",
       "      <th>4</th>\n",
       "      <td>5</td>\n",
       "      <td>e</td>\n",
       "    </tr>\n",
       "  </tbody>\n",
       "</table>\n",
       "</div>\n",
       "      <button class=\"colab-df-convert\" onclick=\"convertToInteractive('df-3e7834ee-90e6-42f8-a6c9-24ff0e2fab39')\"\n",
       "              title=\"Convert this dataframe to an interactive table.\"\n",
       "              style=\"display:none;\">\n",
       "        \n",
       "  <svg xmlns=\"http://www.w3.org/2000/svg\" height=\"24px\"viewBox=\"0 0 24 24\"\n",
       "       width=\"24px\">\n",
       "    <path d=\"M0 0h24v24H0V0z\" fill=\"none\"/>\n",
       "    <path d=\"M18.56 5.44l.94 2.06.94-2.06 2.06-.94-2.06-.94-.94-2.06-.94 2.06-2.06.94zm-11 1L8.5 8.5l.94-2.06 2.06-.94-2.06-.94L8.5 2.5l-.94 2.06-2.06.94zm10 10l.94 2.06.94-2.06 2.06-.94-2.06-.94-.94-2.06-.94 2.06-2.06.94z\"/><path d=\"M17.41 7.96l-1.37-1.37c-.4-.4-.92-.59-1.43-.59-.52 0-1.04.2-1.43.59L10.3 9.45l-7.72 7.72c-.78.78-.78 2.05 0 2.83L4 21.41c.39.39.9.59 1.41.59.51 0 1.02-.2 1.41-.59l7.78-7.78 2.81-2.81c.8-.78.8-2.07 0-2.86zM5.41 20L4 18.59l7.72-7.72 1.47 1.35L5.41 20z\"/>\n",
       "  </svg>\n",
       "      </button>\n",
       "      \n",
       "  <style>\n",
       "    .colab-df-container {\n",
       "      display:flex;\n",
       "      flex-wrap:wrap;\n",
       "      gap: 12px;\n",
       "    }\n",
       "\n",
       "    .colab-df-convert {\n",
       "      background-color: #E8F0FE;\n",
       "      border: none;\n",
       "      border-radius: 50%;\n",
       "      cursor: pointer;\n",
       "      display: none;\n",
       "      fill: #1967D2;\n",
       "      height: 32px;\n",
       "      padding: 0 0 0 0;\n",
       "      width: 32px;\n",
       "    }\n",
       "\n",
       "    .colab-df-convert:hover {\n",
       "      background-color: #E2EBFA;\n",
       "      box-shadow: 0px 1px 2px rgba(60, 64, 67, 0.3), 0px 1px 3px 1px rgba(60, 64, 67, 0.15);\n",
       "      fill: #174EA6;\n",
       "    }\n",
       "\n",
       "    [theme=dark] .colab-df-convert {\n",
       "      background-color: #3B4455;\n",
       "      fill: #D2E3FC;\n",
       "    }\n",
       "\n",
       "    [theme=dark] .colab-df-convert:hover {\n",
       "      background-color: #434B5C;\n",
       "      box-shadow: 0px 1px 3px 1px rgba(0, 0, 0, 0.15);\n",
       "      filter: drop-shadow(0px 1px 2px rgba(0, 0, 0, 0.3));\n",
       "      fill: #FFFFFF;\n",
       "    }\n",
       "  </style>\n",
       "\n",
       "      <script>\n",
       "        const buttonEl =\n",
       "          document.querySelector('#df-3e7834ee-90e6-42f8-a6c9-24ff0e2fab39 button.colab-df-convert');\n",
       "        buttonEl.style.display =\n",
       "          google.colab.kernel.accessAllowed ? 'block' : 'none';\n",
       "\n",
       "        async function convertToInteractive(key) {\n",
       "          const element = document.querySelector('#df-3e7834ee-90e6-42f8-a6c9-24ff0e2fab39');\n",
       "          const dataTable =\n",
       "            await google.colab.kernel.invokeFunction('convertToInteractive',\n",
       "                                                     [key], {});\n",
       "          if (!dataTable) return;\n",
       "\n",
       "          const docLinkHtml = 'Like what you see? Visit the ' +\n",
       "            '<a target=\"_blank\" href=https://colab.research.google.com/notebooks/data_table.ipynb>data table notebook</a>'\n",
       "            + ' to learn more about interactive tables.';\n",
       "          element.innerHTML = '';\n",
       "          dataTable['output_type'] = 'display_data';\n",
       "          await google.colab.output.renderOutput(dataTable, element);\n",
       "          const docLink = document.createElement('div');\n",
       "          docLink.innerHTML = docLinkHtml;\n",
       "          element.appendChild(docLink);\n",
       "        }\n",
       "      </script>\n",
       "    </div>\n",
       "  </div>\n",
       "  "
      ],
      "text/plain": [
       "   Column1 Column2\n",
       "0        1       a\n",
       "1        2       b\n",
       "2        3       c\n",
       "3        4       d\n",
       "4        5       e"
      ]
     },
     "execution_count": 19,
     "metadata": {},
     "output_type": "execute_result"
    }
   ],
   "source": [
    "# You can create an empty dataframe (as above) and add lists as columns\n",
    "mylist = [1,2,3,4,5]\n",
    "myOtherList = ['a','b','c','d','e']\n",
    "\n",
    "df['Column1'] = mylist\n",
    "df['Column2'] = myOtherList\n",
    "\n",
    "df"
   ]
  },
  {
   "cell_type": "code",
   "execution_count": null,
   "metadata": {
    "colab": {
     "base_uri": "https://localhost:8080/"
    },
    "executionInfo": {
     "elapsed": 3,
     "status": "ok",
     "timestamp": 1669826673575,
     "user": {
      "displayName": "Rodrigo Costa",
      "userId": "15201424764589684325"
     },
     "user_tz": 480
    },
    "id": "WEqxNdIjbLRR",
    "outputId": "7e992d04-eb09-4129-f21d-549502977d8b"
   },
   "outputs": [
    {
     "data": {
      "text/plain": [
       "RangeIndex(start=0, stop=5, step=1)"
      ]
     },
     "execution_count": 20,
     "metadata": {},
     "output_type": "execute_result"
    }
   ],
   "source": [
    "# The indexes of our dataframe can be accessed by\n",
    "df.index # this is a list"
   ]
  },
  {
   "cell_type": "code",
   "execution_count": null,
   "metadata": {
    "colab": {
     "base_uri": "https://localhost:8080/"
    },
    "executionInfo": {
     "elapsed": 3,
     "status": "ok",
     "timestamp": 1669826689376,
     "user": {
      "displayName": "Rodrigo Costa",
      "userId": "15201424764589684325"
     },
     "user_tz": 480
    },
    "id": "RiYOzMLmbP9M",
    "outputId": "6e5f6b98-c0e3-4a9f-a2de-0f61e914d0f5"
   },
   "outputs": [
    {
     "data": {
      "text/plain": [
       "Index(['Column1', 'Column2'], dtype='object')"
      ]
     },
     "execution_count": 21,
     "metadata": {},
     "output_type": "execute_result"
    }
   ],
   "source": [
    "# The column names of our dataframe can be accessed by\n",
    "df.columns # this is a list"
   ]
  },
  {
   "cell_type": "code",
   "execution_count": null,
   "metadata": {
    "colab": {
     "base_uri": "https://localhost:8080/"
    },
    "executionInfo": {
     "elapsed": 471,
     "status": "ok",
     "timestamp": 1669826732822,
     "user": {
      "displayName": "Rodrigo Costa",
      "userId": "15201424764589684325"
     },
     "user_tz": 480
    },
    "id": "jfqRJ86UbX-f",
    "outputId": "698b5115-c91e-48ac-99f1-09f7d56c06f3"
   },
   "outputs": [
    {
     "data": {
      "text/plain": [
       "0    1\n",
       "1    2\n",
       "2    3\n",
       "3    4\n",
       "4    5\n",
       "Name: Column1, dtype: int64"
      ]
     },
     "execution_count": 22,
     "metadata": {},
     "output_type": "execute_result"
    }
   ],
   "source": [
    "# Each column can be accessed by\n",
    "df['Column1']"
   ]
  },
  {
   "cell_type": "markdown",
   "metadata": {
    "id": "zzouXBMRg37R"
   },
   "source": [
    "#### <font color='orange'> Indexes </font>"
   ]
  },
  {
   "cell_type": "code",
   "execution_count": null,
   "metadata": {
    "colab": {
     "base_uri": "https://localhost:8080/",
     "height": 35
    },
    "executionInfo": {
     "elapsed": 14,
     "status": "ok",
     "timestamp": 1669826816100,
     "user": {
      "displayName": "Rodrigo Costa",
      "userId": "15201424764589684325"
     },
     "user_tz": 480
    },
    "id": "Ee8wf6LUbrPW",
    "outputId": "0b45a987-b843-4da0-d8c7-c81d7c23a40f"
   },
   "outputs": [
    {
     "data": {
      "application/vnd.google.colaboratory.intrinsic+json": {
       "type": "string"
      },
      "text/plain": [
       "'a'"
      ]
     },
     "execution_count": 23,
     "metadata": {},
     "output_type": "execute_result"
    }
   ],
   "source": [
    "# A specific element of the dataframe can be access using its *index location*\n",
    "df.iloc[0,1] # first row, second column"
   ]
  },
  {
   "cell_type": "code",
   "execution_count": null,
   "metadata": {
    "colab": {
     "base_uri": "https://localhost:8080/",
     "height": 35
    },
    "executionInfo": {
     "elapsed": 406,
     "status": "ok",
     "timestamp": 1669826985895,
     "user": {
      "displayName": "Rodrigo Costa",
      "userId": "15201424764589684325"
     },
     "user_tz": 480
    },
    "id": "8pki9qtTb3rG",
    "outputId": "1cec4f67-0018-4f35-c5a7-69f9dd948cfc"
   },
   "outputs": [
    {
     "data": {
      "application/vnd.google.colaboratory.intrinsic+json": {
       "type": "string"
      },
      "text/plain": [
       "'a'"
      ]
     },
     "execution_count": 24,
     "metadata": {},
     "output_type": "execute_result"
    }
   ],
   "source": [
    "# However, if you add new columns you may lose track of the exact column index\n",
    "# For this reason, in most cases it is better to use label-based locations\n",
    "\n",
    "df.loc[0,'Column2'] # equivalent to df.iloc[0,1] but more robust"
   ]
  },
  {
   "cell_type": "code",
   "execution_count": null,
   "metadata": {
    "colab": {
     "base_uri": "https://localhost:8080/",
     "height": 112
    },
    "executionInfo": {
     "elapsed": 14,
     "status": "ok",
     "timestamp": 1669827138378,
     "user": {
      "displayName": "Rodrigo Costa",
      "userId": "15201424764589684325"
     },
     "user_tz": 480
    },
    "id": "mzTFj-nwcddl",
    "outputId": "b66bea2c-0ff0-4707-8642-5ab728c0a689"
   },
   "outputs": [
    {
     "data": {
      "text/html": [
       "\n",
       "  <div id=\"df-a91f0580-d8da-477e-acb4-693fcc64acae\">\n",
       "    <div class=\"colab-df-container\">\n",
       "      <div>\n",
       "<style scoped>\n",
       "    .dataframe tbody tr th:only-of-type {\n",
       "        vertical-align: middle;\n",
       "    }\n",
       "\n",
       "    .dataframe tbody tr th {\n",
       "        vertical-align: top;\n",
       "    }\n",
       "\n",
       "    .dataframe thead th {\n",
       "        text-align: right;\n",
       "    }\n",
       "</style>\n",
       "<table border=\"1\" class=\"dataframe\">\n",
       "  <thead>\n",
       "    <tr style=\"text-align: right;\">\n",
       "      <th></th>\n",
       "      <th>Column1</th>\n",
       "      <th>Column2</th>\n",
       "    </tr>\n",
       "  </thead>\n",
       "  <tbody>\n",
       "    <tr>\n",
       "      <th>0</th>\n",
       "      <td>1</td>\n",
       "      <td>a</td>\n",
       "    </tr>\n",
       "    <tr>\n",
       "      <th>1</th>\n",
       "      <td>2</td>\n",
       "      <td>b</td>\n",
       "    </tr>\n",
       "  </tbody>\n",
       "</table>\n",
       "</div>\n",
       "      <button class=\"colab-df-convert\" onclick=\"convertToInteractive('df-a91f0580-d8da-477e-acb4-693fcc64acae')\"\n",
       "              title=\"Convert this dataframe to an interactive table.\"\n",
       "              style=\"display:none;\">\n",
       "        \n",
       "  <svg xmlns=\"http://www.w3.org/2000/svg\" height=\"24px\"viewBox=\"0 0 24 24\"\n",
       "       width=\"24px\">\n",
       "    <path d=\"M0 0h24v24H0V0z\" fill=\"none\"/>\n",
       "    <path d=\"M18.56 5.44l.94 2.06.94-2.06 2.06-.94-2.06-.94-.94-2.06-.94 2.06-2.06.94zm-11 1L8.5 8.5l.94-2.06 2.06-.94-2.06-.94L8.5 2.5l-.94 2.06-2.06.94zm10 10l.94 2.06.94-2.06 2.06-.94-2.06-.94-.94-2.06-.94 2.06-2.06.94z\"/><path d=\"M17.41 7.96l-1.37-1.37c-.4-.4-.92-.59-1.43-.59-.52 0-1.04.2-1.43.59L10.3 9.45l-7.72 7.72c-.78.78-.78 2.05 0 2.83L4 21.41c.39.39.9.59 1.41.59.51 0 1.02-.2 1.41-.59l7.78-7.78 2.81-2.81c.8-.78.8-2.07 0-2.86zM5.41 20L4 18.59l7.72-7.72 1.47 1.35L5.41 20z\"/>\n",
       "  </svg>\n",
       "      </button>\n",
       "      \n",
       "  <style>\n",
       "    .colab-df-container {\n",
       "      display:flex;\n",
       "      flex-wrap:wrap;\n",
       "      gap: 12px;\n",
       "    }\n",
       "\n",
       "    .colab-df-convert {\n",
       "      background-color: #E8F0FE;\n",
       "      border: none;\n",
       "      border-radius: 50%;\n",
       "      cursor: pointer;\n",
       "      display: none;\n",
       "      fill: #1967D2;\n",
       "      height: 32px;\n",
       "      padding: 0 0 0 0;\n",
       "      width: 32px;\n",
       "    }\n",
       "\n",
       "    .colab-df-convert:hover {\n",
       "      background-color: #E2EBFA;\n",
       "      box-shadow: 0px 1px 2px rgba(60, 64, 67, 0.3), 0px 1px 3px 1px rgba(60, 64, 67, 0.15);\n",
       "      fill: #174EA6;\n",
       "    }\n",
       "\n",
       "    [theme=dark] .colab-df-convert {\n",
       "      background-color: #3B4455;\n",
       "      fill: #D2E3FC;\n",
       "    }\n",
       "\n",
       "    [theme=dark] .colab-df-convert:hover {\n",
       "      background-color: #434B5C;\n",
       "      box-shadow: 0px 1px 3px 1px rgba(0, 0, 0, 0.15);\n",
       "      filter: drop-shadow(0px 1px 2px rgba(0, 0, 0, 0.3));\n",
       "      fill: #FFFFFF;\n",
       "    }\n",
       "  </style>\n",
       "\n",
       "      <script>\n",
       "        const buttonEl =\n",
       "          document.querySelector('#df-a91f0580-d8da-477e-acb4-693fcc64acae button.colab-df-convert');\n",
       "        buttonEl.style.display =\n",
       "          google.colab.kernel.accessAllowed ? 'block' : 'none';\n",
       "\n",
       "        async function convertToInteractive(key) {\n",
       "          const element = document.querySelector('#df-a91f0580-d8da-477e-acb4-693fcc64acae');\n",
       "          const dataTable =\n",
       "            await google.colab.kernel.invokeFunction('convertToInteractive',\n",
       "                                                     [key], {});\n",
       "          if (!dataTable) return;\n",
       "\n",
       "          const docLinkHtml = 'Like what you see? Visit the ' +\n",
       "            '<a target=\"_blank\" href=https://colab.research.google.com/notebooks/data_table.ipynb>data table notebook</a>'\n",
       "            + ' to learn more about interactive tables.';\n",
       "          element.innerHTML = '';\n",
       "          dataTable['output_type'] = 'display_data';\n",
       "          await google.colab.output.renderOutput(dataTable, element);\n",
       "          const docLink = document.createElement('div');\n",
       "          docLink.innerHTML = docLinkHtml;\n",
       "          element.appendChild(docLink);\n",
       "        }\n",
       "      </script>\n",
       "    </div>\n",
       "  </div>\n",
       "  "
      ],
      "text/plain": [
       "   Column1 Column2\n",
       "0        1       a\n",
       "1        2       b"
      ]
     },
     "execution_count": 25,
     "metadata": {},
     "output_type": "execute_result"
    }
   ],
   "source": [
    "# Slicing\n",
    "# Slicing is an important concept for working with dataframes\n",
    "# It is used to 'slice' the dataframe and only extract the values we are interested in\n",
    "\n",
    "# Say we want to 'slice' from df all rows where 'Column1' < 3\n",
    "df[df['Column1'] < 3] # read as: we want df, where the values of df['Column1'] are smaller than 3"
   ]
  },
  {
   "cell_type": "code",
   "execution_count": null,
   "metadata": {
    "colab": {
     "base_uri": "https://localhost:8080/",
     "height": 112
    },
    "executionInfo": {
     "elapsed": 6,
     "status": "ok",
     "timestamp": 1669827727980,
     "user": {
      "displayName": "Rodrigo Costa",
      "userId": "15201424764589684325"
     },
     "user_tz": 480
    },
    "id": "s99znx-vdD0N",
    "outputId": "fc073edf-2bf0-4f18-c4bf-9dc437c66e36"
   },
   "outputs": [
    {
     "data": {
      "text/html": [
       "\n",
       "  <div id=\"df-b492675d-744d-471b-95f3-8afb2be73764\">\n",
       "    <div class=\"colab-df-container\">\n",
       "      <div>\n",
       "<style scoped>\n",
       "    .dataframe tbody tr th:only-of-type {\n",
       "        vertical-align: middle;\n",
       "    }\n",
       "\n",
       "    .dataframe tbody tr th {\n",
       "        vertical-align: top;\n",
       "    }\n",
       "\n",
       "    .dataframe thead th {\n",
       "        text-align: right;\n",
       "    }\n",
       "</style>\n",
       "<table border=\"1\" class=\"dataframe\">\n",
       "  <thead>\n",
       "    <tr style=\"text-align: right;\">\n",
       "      <th></th>\n",
       "      <th>Column1</th>\n",
       "      <th>Column2</th>\n",
       "    </tr>\n",
       "  </thead>\n",
       "  <tbody>\n",
       "    <tr>\n",
       "      <th>2</th>\n",
       "      <td>3</td>\n",
       "      <td>c</td>\n",
       "    </tr>\n",
       "    <tr>\n",
       "      <th>3</th>\n",
       "      <td>4</td>\n",
       "      <td>d</td>\n",
       "    </tr>\n",
       "  </tbody>\n",
       "</table>\n",
       "</div>\n",
       "      <button class=\"colab-df-convert\" onclick=\"convertToInteractive('df-b492675d-744d-471b-95f3-8afb2be73764')\"\n",
       "              title=\"Convert this dataframe to an interactive table.\"\n",
       "              style=\"display:none;\">\n",
       "        \n",
       "  <svg xmlns=\"http://www.w3.org/2000/svg\" height=\"24px\"viewBox=\"0 0 24 24\"\n",
       "       width=\"24px\">\n",
       "    <path d=\"M0 0h24v24H0V0z\" fill=\"none\"/>\n",
       "    <path d=\"M18.56 5.44l.94 2.06.94-2.06 2.06-.94-2.06-.94-.94-2.06-.94 2.06-2.06.94zm-11 1L8.5 8.5l.94-2.06 2.06-.94-2.06-.94L8.5 2.5l-.94 2.06-2.06.94zm10 10l.94 2.06.94-2.06 2.06-.94-2.06-.94-.94-2.06-.94 2.06-2.06.94z\"/><path d=\"M17.41 7.96l-1.37-1.37c-.4-.4-.92-.59-1.43-.59-.52 0-1.04.2-1.43.59L10.3 9.45l-7.72 7.72c-.78.78-.78 2.05 0 2.83L4 21.41c.39.39.9.59 1.41.59.51 0 1.02-.2 1.41-.59l7.78-7.78 2.81-2.81c.8-.78.8-2.07 0-2.86zM5.41 20L4 18.59l7.72-7.72 1.47 1.35L5.41 20z\"/>\n",
       "  </svg>\n",
       "      </button>\n",
       "      \n",
       "  <style>\n",
       "    .colab-df-container {\n",
       "      display:flex;\n",
       "      flex-wrap:wrap;\n",
       "      gap: 12px;\n",
       "    }\n",
       "\n",
       "    .colab-df-convert {\n",
       "      background-color: #E8F0FE;\n",
       "      border: none;\n",
       "      border-radius: 50%;\n",
       "      cursor: pointer;\n",
       "      display: none;\n",
       "      fill: #1967D2;\n",
       "      height: 32px;\n",
       "      padding: 0 0 0 0;\n",
       "      width: 32px;\n",
       "    }\n",
       "\n",
       "    .colab-df-convert:hover {\n",
       "      background-color: #E2EBFA;\n",
       "      box-shadow: 0px 1px 2px rgba(60, 64, 67, 0.3), 0px 1px 3px 1px rgba(60, 64, 67, 0.15);\n",
       "      fill: #174EA6;\n",
       "    }\n",
       "\n",
       "    [theme=dark] .colab-df-convert {\n",
       "      background-color: #3B4455;\n",
       "      fill: #D2E3FC;\n",
       "    }\n",
       "\n",
       "    [theme=dark] .colab-df-convert:hover {\n",
       "      background-color: #434B5C;\n",
       "      box-shadow: 0px 1px 3px 1px rgba(0, 0, 0, 0.15);\n",
       "      filter: drop-shadow(0px 1px 2px rgba(0, 0, 0, 0.3));\n",
       "      fill: #FFFFFF;\n",
       "    }\n",
       "  </style>\n",
       "\n",
       "      <script>\n",
       "        const buttonEl =\n",
       "          document.querySelector('#df-b492675d-744d-471b-95f3-8afb2be73764 button.colab-df-convert');\n",
       "        buttonEl.style.display =\n",
       "          google.colab.kernel.accessAllowed ? 'block' : 'none';\n",
       "\n",
       "        async function convertToInteractive(key) {\n",
       "          const element = document.querySelector('#df-b492675d-744d-471b-95f3-8afb2be73764');\n",
       "          const dataTable =\n",
       "            await google.colab.kernel.invokeFunction('convertToInteractive',\n",
       "                                                     [key], {});\n",
       "          if (!dataTable) return;\n",
       "\n",
       "          const docLinkHtml = 'Like what you see? Visit the ' +\n",
       "            '<a target=\"_blank\" href=https://colab.research.google.com/notebooks/data_table.ipynb>data table notebook</a>'\n",
       "            + ' to learn more about interactive tables.';\n",
       "          element.innerHTML = '';\n",
       "          dataTable['output_type'] = 'display_data';\n",
       "          await google.colab.output.renderOutput(dataTable, element);\n",
       "          const docLink = document.createElement('div');\n",
       "          docLink.innerHTML = docLinkHtml;\n",
       "          element.appendChild(docLink);\n",
       "        }\n",
       "      </script>\n",
       "    </div>\n",
       "  </div>\n",
       "  "
      ],
      "text/plain": [
       "   Column1 Column2\n",
       "2        3       c\n",
       "3        4       d"
      ]
     },
     "execution_count": 29,
     "metadata": {},
     "output_type": "execute_result"
    }
   ],
   "source": [
    "# You can also slice based on multiple criteria\n",
    "df[(df['Column1'] < 5) & (df['Column1']>1) & (df['Column2'] != 'b')] # Note: use '&' (not 'and') \n",
    "\n",
    "# Check https://stackoverflow.com/questions/22646463/and-boolean-vs-bitwise-why-difference-in-behavior-with-lists-vs-nump for a more detail explanation."
   ]
  },
  {
   "cell_type": "code",
   "execution_count": null,
   "metadata": {
    "colab": {
     "base_uri": "https://localhost:8080/"
    },
    "executionInfo": {
     "elapsed": 2,
     "status": "ok",
     "timestamp": 1669827877115,
     "user": {
      "displayName": "Rodrigo Costa",
      "userId": "15201424764589684325"
     },
     "user_tz": 480
    },
    "id": "qFyah5oKeZE7",
    "outputId": "c70a5240-35d4-4deb-e345-d4ef1b54e9ac"
   },
   "outputs": [
    {
     "name": "stdout",
     "output_type": "stream",
     "text": [
      "Note how the indexes start at zero now.\n",
      "   Column1 Column2\n",
      "0        3       c\n",
      "1        4       d\n"
     ]
    }
   ],
   "source": [
    "# Note how above the *indexes* of the sliced dataframe start from 2 (i.e., [2,3])\n",
    "# In *most* cases you do NOT want this. If this is your case, you can 'reset indexes'\n",
    "\n",
    "# Lets again slice the dataframe df but now save it as a new dataframe df2\n",
    "df2 = df[(df['Column1'] < 5) & (df['Column1']>1) & (df['Column2'] != 'b')].reset_index(drop=True)\n",
    "\n",
    "print('Note how the indexes start at 0 now.')\n",
    "print(df2)"
   ]
  },
  {
   "cell_type": "markdown",
   "metadata": {
    "id": "sQWzaLzhg7tl"
   },
   "source": [
    "#### <font color='orange'> Operations with columns </font>"
   ]
  },
  {
   "cell_type": "code",
   "execution_count": null,
   "metadata": {
    "colab": {
     "base_uri": "https://localhost:8080/",
     "height": 206
    },
    "executionInfo": {
     "elapsed": 18,
     "status": "ok",
     "timestamp": 1669827966530,
     "user": {
      "displayName": "Rodrigo Costa",
      "userId": "15201424764589684325"
     },
     "user_tz": 480
    },
    "id": "ZfQhRj6ef6JF",
    "outputId": "de797e90-bef4-4684-ed2e-ab06de9893d8"
   },
   "outputs": [
    {
     "data": {
      "text/html": [
       "\n",
       "  <div id=\"df-5e848816-2cae-4231-8492-70fc87098ce8\">\n",
       "    <div class=\"colab-df-container\">\n",
       "      <div>\n",
       "<style scoped>\n",
       "    .dataframe tbody tr th:only-of-type {\n",
       "        vertical-align: middle;\n",
       "    }\n",
       "\n",
       "    .dataframe tbody tr th {\n",
       "        vertical-align: top;\n",
       "    }\n",
       "\n",
       "    .dataframe thead th {\n",
       "        text-align: right;\n",
       "    }\n",
       "</style>\n",
       "<table border=\"1\" class=\"dataframe\">\n",
       "  <thead>\n",
       "    <tr style=\"text-align: right;\">\n",
       "      <th></th>\n",
       "      <th>Column1</th>\n",
       "      <th>Column2</th>\n",
       "      <th>NewColumn</th>\n",
       "    </tr>\n",
       "  </thead>\n",
       "  <tbody>\n",
       "    <tr>\n",
       "      <th>0</th>\n",
       "      <td>1</td>\n",
       "      <td>a</td>\n",
       "      <td>2</td>\n",
       "    </tr>\n",
       "    <tr>\n",
       "      <th>1</th>\n",
       "      <td>2</td>\n",
       "      <td>b</td>\n",
       "      <td>4</td>\n",
       "    </tr>\n",
       "    <tr>\n",
       "      <th>2</th>\n",
       "      <td>3</td>\n",
       "      <td>c</td>\n",
       "      <td>6</td>\n",
       "    </tr>\n",
       "    <tr>\n",
       "      <th>3</th>\n",
       "      <td>4</td>\n",
       "      <td>d</td>\n",
       "      <td>8</td>\n",
       "    </tr>\n",
       "    <tr>\n",
       "      <th>4</th>\n",
       "      <td>5</td>\n",
       "      <td>e</td>\n",
       "      <td>10</td>\n",
       "    </tr>\n",
       "  </tbody>\n",
       "</table>\n",
       "</div>\n",
       "      <button class=\"colab-df-convert\" onclick=\"convertToInteractive('df-5e848816-2cae-4231-8492-70fc87098ce8')\"\n",
       "              title=\"Convert this dataframe to an interactive table.\"\n",
       "              style=\"display:none;\">\n",
       "        \n",
       "  <svg xmlns=\"http://www.w3.org/2000/svg\" height=\"24px\"viewBox=\"0 0 24 24\"\n",
       "       width=\"24px\">\n",
       "    <path d=\"M0 0h24v24H0V0z\" fill=\"none\"/>\n",
       "    <path d=\"M18.56 5.44l.94 2.06.94-2.06 2.06-.94-2.06-.94-.94-2.06-.94 2.06-2.06.94zm-11 1L8.5 8.5l.94-2.06 2.06-.94-2.06-.94L8.5 2.5l-.94 2.06-2.06.94zm10 10l.94 2.06.94-2.06 2.06-.94-2.06-.94-.94-2.06-.94 2.06-2.06.94z\"/><path d=\"M17.41 7.96l-1.37-1.37c-.4-.4-.92-.59-1.43-.59-.52 0-1.04.2-1.43.59L10.3 9.45l-7.72 7.72c-.78.78-.78 2.05 0 2.83L4 21.41c.39.39.9.59 1.41.59.51 0 1.02-.2 1.41-.59l7.78-7.78 2.81-2.81c.8-.78.8-2.07 0-2.86zM5.41 20L4 18.59l7.72-7.72 1.47 1.35L5.41 20z\"/>\n",
       "  </svg>\n",
       "      </button>\n",
       "      \n",
       "  <style>\n",
       "    .colab-df-container {\n",
       "      display:flex;\n",
       "      flex-wrap:wrap;\n",
       "      gap: 12px;\n",
       "    }\n",
       "\n",
       "    .colab-df-convert {\n",
       "      background-color: #E8F0FE;\n",
       "      border: none;\n",
       "      border-radius: 50%;\n",
       "      cursor: pointer;\n",
       "      display: none;\n",
       "      fill: #1967D2;\n",
       "      height: 32px;\n",
       "      padding: 0 0 0 0;\n",
       "      width: 32px;\n",
       "    }\n",
       "\n",
       "    .colab-df-convert:hover {\n",
       "      background-color: #E2EBFA;\n",
       "      box-shadow: 0px 1px 2px rgba(60, 64, 67, 0.3), 0px 1px 3px 1px rgba(60, 64, 67, 0.15);\n",
       "      fill: #174EA6;\n",
       "    }\n",
       "\n",
       "    [theme=dark] .colab-df-convert {\n",
       "      background-color: #3B4455;\n",
       "      fill: #D2E3FC;\n",
       "    }\n",
       "\n",
       "    [theme=dark] .colab-df-convert:hover {\n",
       "      background-color: #434B5C;\n",
       "      box-shadow: 0px 1px 3px 1px rgba(0, 0, 0, 0.15);\n",
       "      filter: drop-shadow(0px 1px 2px rgba(0, 0, 0, 0.3));\n",
       "      fill: #FFFFFF;\n",
       "    }\n",
       "  </style>\n",
       "\n",
       "      <script>\n",
       "        const buttonEl =\n",
       "          document.querySelector('#df-5e848816-2cae-4231-8492-70fc87098ce8 button.colab-df-convert');\n",
       "        buttonEl.style.display =\n",
       "          google.colab.kernel.accessAllowed ? 'block' : 'none';\n",
       "\n",
       "        async function convertToInteractive(key) {\n",
       "          const element = document.querySelector('#df-5e848816-2cae-4231-8492-70fc87098ce8');\n",
       "          const dataTable =\n",
       "            await google.colab.kernel.invokeFunction('convertToInteractive',\n",
       "                                                     [key], {});\n",
       "          if (!dataTable) return;\n",
       "\n",
       "          const docLinkHtml = 'Like what you see? Visit the ' +\n",
       "            '<a target=\"_blank\" href=https://colab.research.google.com/notebooks/data_table.ipynb>data table notebook</a>'\n",
       "            + ' to learn more about interactive tables.';\n",
       "          element.innerHTML = '';\n",
       "          dataTable['output_type'] = 'display_data';\n",
       "          await google.colab.output.renderOutput(dataTable, element);\n",
       "          const docLink = document.createElement('div');\n",
       "          docLink.innerHTML = docLinkHtml;\n",
       "          element.appendChild(docLink);\n",
       "        }\n",
       "      </script>\n",
       "    </div>\n",
       "  </div>\n",
       "  "
      ],
      "text/plain": [
       "   Column1 Column2  NewColumn\n",
       "0        1       a          2\n",
       "1        2       b          4\n",
       "2        3       c          6\n",
       "3        4       d          8\n",
       "4        5       e         10"
      ]
     },
     "execution_count": 33,
     "metadata": {},
     "output_type": "execute_result"
    }
   ],
   "source": [
    "# You can create new dataframes using operations on existing columns\n",
    "df['NewColumn'] = df['Column1'] + df['Column1'] # The operations have to be possible, i.e., you cannot add numbers to booleans\n",
    "df"
   ]
  },
  {
   "cell_type": "code",
   "execution_count": null,
   "metadata": {
    "id": "zA9sriYigNjd"
   },
   "outputs": [],
   "source": [
    "df['NewColumn'] = df['Column1'].add(4) # multiply each number by a constant\n",
    "df['NewColumn'] = df['Column1'].subtract(4) # multiply each number by a constant\n",
    "df['NewColumn'] = df['Column1'].multiply(4) # multiply each number by a constant\n",
    "df['NewColumn'] = df['Column1'].divide(4) # multiply each number by a constant\n",
    "df['NewColumn'] = df['Column1'] * df['Column1'] # multiple by column\n",
    "df['NewColumn'] = df['Column1'] / df['Column1'] # divide by column"
   ]
  },
  {
   "cell_type": "markdown",
   "metadata": {
    "id": "aqz5z7QVhNJu"
   },
   "source": [
    "#### <font color='orange'> Apply functions to columns </font>"
   ]
  },
  {
   "cell_type": "code",
   "execution_count": null,
   "metadata": {
    "colab": {
     "base_uri": "https://localhost:8080/",
     "height": 206
    },
    "executionInfo": {
     "elapsed": 325,
     "status": "ok",
     "timestamp": 1669828404389,
     "user": {
      "displayName": "Rodrigo Costa",
      "userId": "15201424764589684325"
     },
     "user_tz": 480
    },
    "id": "sTqcTfMXgofi",
    "outputId": "dc02341e-2932-4cdc-9399-b3310e2d1b4b"
   },
   "outputs": [
    {
     "data": {
      "text/html": [
       "\n",
       "  <div id=\"df-48425c59-8dc7-466d-aa97-fd1e0ca34d00\">\n",
       "    <div class=\"colab-df-container\">\n",
       "      <div>\n",
       "<style scoped>\n",
       "    .dataframe tbody tr th:only-of-type {\n",
       "        vertical-align: middle;\n",
       "    }\n",
       "\n",
       "    .dataframe tbody tr th {\n",
       "        vertical-align: top;\n",
       "    }\n",
       "\n",
       "    .dataframe thead th {\n",
       "        text-align: right;\n",
       "    }\n",
       "</style>\n",
       "<table border=\"1\" class=\"dataframe\">\n",
       "  <thead>\n",
       "    <tr style=\"text-align: right;\">\n",
       "      <th></th>\n",
       "      <th>Column1</th>\n",
       "      <th>Column2</th>\n",
       "      <th>NewColumn</th>\n",
       "    </tr>\n",
       "  </thead>\n",
       "  <tbody>\n",
       "    <tr>\n",
       "      <th>0</th>\n",
       "      <td>1</td>\n",
       "      <td>a</td>\n",
       "      <td>2</td>\n",
       "    </tr>\n",
       "    <tr>\n",
       "      <th>1</th>\n",
       "      <td>2</td>\n",
       "      <td>b</td>\n",
       "      <td>4</td>\n",
       "    </tr>\n",
       "    <tr>\n",
       "      <th>2</th>\n",
       "      <td>3</td>\n",
       "      <td>c</td>\n",
       "      <td>6</td>\n",
       "    </tr>\n",
       "    <tr>\n",
       "      <th>3</th>\n",
       "      <td>4</td>\n",
       "      <td>d</td>\n",
       "      <td>8</td>\n",
       "    </tr>\n",
       "    <tr>\n",
       "      <th>4</th>\n",
       "      <td>5</td>\n",
       "      <td>e</td>\n",
       "      <td>10</td>\n",
       "    </tr>\n",
       "  </tbody>\n",
       "</table>\n",
       "</div>\n",
       "      <button class=\"colab-df-convert\" onclick=\"convertToInteractive('df-48425c59-8dc7-466d-aa97-fd1e0ca34d00')\"\n",
       "              title=\"Convert this dataframe to an interactive table.\"\n",
       "              style=\"display:none;\">\n",
       "        \n",
       "  <svg xmlns=\"http://www.w3.org/2000/svg\" height=\"24px\"viewBox=\"0 0 24 24\"\n",
       "       width=\"24px\">\n",
       "    <path d=\"M0 0h24v24H0V0z\" fill=\"none\"/>\n",
       "    <path d=\"M18.56 5.44l.94 2.06.94-2.06 2.06-.94-2.06-.94-.94-2.06-.94 2.06-2.06.94zm-11 1L8.5 8.5l.94-2.06 2.06-.94-2.06-.94L8.5 2.5l-.94 2.06-2.06.94zm10 10l.94 2.06.94-2.06 2.06-.94-2.06-.94-.94-2.06-.94 2.06-2.06.94z\"/><path d=\"M17.41 7.96l-1.37-1.37c-.4-.4-.92-.59-1.43-.59-.52 0-1.04.2-1.43.59L10.3 9.45l-7.72 7.72c-.78.78-.78 2.05 0 2.83L4 21.41c.39.39.9.59 1.41.59.51 0 1.02-.2 1.41-.59l7.78-7.78 2.81-2.81c.8-.78.8-2.07 0-2.86zM5.41 20L4 18.59l7.72-7.72 1.47 1.35L5.41 20z\"/>\n",
       "  </svg>\n",
       "      </button>\n",
       "      \n",
       "  <style>\n",
       "    .colab-df-container {\n",
       "      display:flex;\n",
       "      flex-wrap:wrap;\n",
       "      gap: 12px;\n",
       "    }\n",
       "\n",
       "    .colab-df-convert {\n",
       "      background-color: #E8F0FE;\n",
       "      border: none;\n",
       "      border-radius: 50%;\n",
       "      cursor: pointer;\n",
       "      display: none;\n",
       "      fill: #1967D2;\n",
       "      height: 32px;\n",
       "      padding: 0 0 0 0;\n",
       "      width: 32px;\n",
       "    }\n",
       "\n",
       "    .colab-df-convert:hover {\n",
       "      background-color: #E2EBFA;\n",
       "      box-shadow: 0px 1px 2px rgba(60, 64, 67, 0.3), 0px 1px 3px 1px rgba(60, 64, 67, 0.15);\n",
       "      fill: #174EA6;\n",
       "    }\n",
       "\n",
       "    [theme=dark] .colab-df-convert {\n",
       "      background-color: #3B4455;\n",
       "      fill: #D2E3FC;\n",
       "    }\n",
       "\n",
       "    [theme=dark] .colab-df-convert:hover {\n",
       "      background-color: #434B5C;\n",
       "      box-shadow: 0px 1px 3px 1px rgba(0, 0, 0, 0.15);\n",
       "      filter: drop-shadow(0px 1px 2px rgba(0, 0, 0, 0.3));\n",
       "      fill: #FFFFFF;\n",
       "    }\n",
       "  </style>\n",
       "\n",
       "      <script>\n",
       "        const buttonEl =\n",
       "          document.querySelector('#df-48425c59-8dc7-466d-aa97-fd1e0ca34d00 button.colab-df-convert');\n",
       "        buttonEl.style.display =\n",
       "          google.colab.kernel.accessAllowed ? 'block' : 'none';\n",
       "\n",
       "        async function convertToInteractive(key) {\n",
       "          const element = document.querySelector('#df-48425c59-8dc7-466d-aa97-fd1e0ca34d00');\n",
       "          const dataTable =\n",
       "            await google.colab.kernel.invokeFunction('convertToInteractive',\n",
       "                                                     [key], {});\n",
       "          if (!dataTable) return;\n",
       "\n",
       "          const docLinkHtml = 'Like what you see? Visit the ' +\n",
       "            '<a target=\"_blank\" href=https://colab.research.google.com/notebooks/data_table.ipynb>data table notebook</a>'\n",
       "            + ' to learn more about interactive tables.';\n",
       "          element.innerHTML = '';\n",
       "          dataTable['output_type'] = 'display_data';\n",
       "          await google.colab.output.renderOutput(dataTable, element);\n",
       "          const docLink = document.createElement('div');\n",
       "          docLink.innerHTML = docLinkHtml;\n",
       "          element.appendChild(docLink);\n",
       "        }\n",
       "      </script>\n",
       "    </div>\n",
       "  </div>\n",
       "  "
      ],
      "text/plain": [
       "   Column1 Column2  NewColumn\n",
       "0        1       a          2\n",
       "1        2       b          4\n",
       "2        3       c          6\n",
       "3        4       d          8\n",
       "4        5       e         10"
      ]
     },
     "execution_count": 37,
     "metadata": {},
     "output_type": "execute_result"
    }
   ],
   "source": [
    "# You can create new columns by applying a function to an existing column\n",
    "df['NewColumn'] = df['Column1'].apply(lambda x: x * 2) # applying a lambda function of type x*2 to Column1 values - this equivalent to '.multiply(2)\n",
    "df"
   ]
  },
  {
   "cell_type": "code",
   "execution_count": null,
   "metadata": {
    "colab": {
     "base_uri": "https://localhost:8080/",
     "height": 206
    },
    "executionInfo": {
     "elapsed": 3,
     "status": "ok",
     "timestamp": 1669828404664,
     "user": {
      "displayName": "Rodrigo Costa",
      "userId": "15201424764589684325"
     },
     "user_tz": 480
    },
    "id": "yoPxtS3dhp4H",
    "outputId": "d417bf2a-1fdb-4aaa-a7e8-19e5311be288"
   },
   "outputs": [
    {
     "data": {
      "text/html": [
       "\n",
       "  <div id=\"df-028a42ab-c3ab-41ff-965f-6edc374b683d\">\n",
       "    <div class=\"colab-df-container\">\n",
       "      <div>\n",
       "<style scoped>\n",
       "    .dataframe tbody tr th:only-of-type {\n",
       "        vertical-align: middle;\n",
       "    }\n",
       "\n",
       "    .dataframe tbody tr th {\n",
       "        vertical-align: top;\n",
       "    }\n",
       "\n",
       "    .dataframe thead th {\n",
       "        text-align: right;\n",
       "    }\n",
       "</style>\n",
       "<table border=\"1\" class=\"dataframe\">\n",
       "  <thead>\n",
       "    <tr style=\"text-align: right;\">\n",
       "      <th></th>\n",
       "      <th>Column1</th>\n",
       "      <th>Column2</th>\n",
       "      <th>NewColumn</th>\n",
       "    </tr>\n",
       "  </thead>\n",
       "  <tbody>\n",
       "    <tr>\n",
       "      <th>0</th>\n",
       "      <td>1</td>\n",
       "      <td>a</td>\n",
       "      <td>Small</td>\n",
       "    </tr>\n",
       "    <tr>\n",
       "      <th>1</th>\n",
       "      <td>2</td>\n",
       "      <td>b</td>\n",
       "      <td>Small</td>\n",
       "    </tr>\n",
       "    <tr>\n",
       "      <th>2</th>\n",
       "      <td>3</td>\n",
       "      <td>c</td>\n",
       "      <td>Small</td>\n",
       "    </tr>\n",
       "    <tr>\n",
       "      <th>3</th>\n",
       "      <td>4</td>\n",
       "      <td>d</td>\n",
       "      <td>Large</td>\n",
       "    </tr>\n",
       "    <tr>\n",
       "      <th>4</th>\n",
       "      <td>5</td>\n",
       "      <td>e</td>\n",
       "      <td>Large</td>\n",
       "    </tr>\n",
       "  </tbody>\n",
       "</table>\n",
       "</div>\n",
       "      <button class=\"colab-df-convert\" onclick=\"convertToInteractive('df-028a42ab-c3ab-41ff-965f-6edc374b683d')\"\n",
       "              title=\"Convert this dataframe to an interactive table.\"\n",
       "              style=\"display:none;\">\n",
       "        \n",
       "  <svg xmlns=\"http://www.w3.org/2000/svg\" height=\"24px\"viewBox=\"0 0 24 24\"\n",
       "       width=\"24px\">\n",
       "    <path d=\"M0 0h24v24H0V0z\" fill=\"none\"/>\n",
       "    <path d=\"M18.56 5.44l.94 2.06.94-2.06 2.06-.94-2.06-.94-.94-2.06-.94 2.06-2.06.94zm-11 1L8.5 8.5l.94-2.06 2.06-.94-2.06-.94L8.5 2.5l-.94 2.06-2.06.94zm10 10l.94 2.06.94-2.06 2.06-.94-2.06-.94-.94-2.06-.94 2.06-2.06.94z\"/><path d=\"M17.41 7.96l-1.37-1.37c-.4-.4-.92-.59-1.43-.59-.52 0-1.04.2-1.43.59L10.3 9.45l-7.72 7.72c-.78.78-.78 2.05 0 2.83L4 21.41c.39.39.9.59 1.41.59.51 0 1.02-.2 1.41-.59l7.78-7.78 2.81-2.81c.8-.78.8-2.07 0-2.86zM5.41 20L4 18.59l7.72-7.72 1.47 1.35L5.41 20z\"/>\n",
       "  </svg>\n",
       "      </button>\n",
       "      \n",
       "  <style>\n",
       "    .colab-df-container {\n",
       "      display:flex;\n",
       "      flex-wrap:wrap;\n",
       "      gap: 12px;\n",
       "    }\n",
       "\n",
       "    .colab-df-convert {\n",
       "      background-color: #E8F0FE;\n",
       "      border: none;\n",
       "      border-radius: 50%;\n",
       "      cursor: pointer;\n",
       "      display: none;\n",
       "      fill: #1967D2;\n",
       "      height: 32px;\n",
       "      padding: 0 0 0 0;\n",
       "      width: 32px;\n",
       "    }\n",
       "\n",
       "    .colab-df-convert:hover {\n",
       "      background-color: #E2EBFA;\n",
       "      box-shadow: 0px 1px 2px rgba(60, 64, 67, 0.3), 0px 1px 3px 1px rgba(60, 64, 67, 0.15);\n",
       "      fill: #174EA6;\n",
       "    }\n",
       "\n",
       "    [theme=dark] .colab-df-convert {\n",
       "      background-color: #3B4455;\n",
       "      fill: #D2E3FC;\n",
       "    }\n",
       "\n",
       "    [theme=dark] .colab-df-convert:hover {\n",
       "      background-color: #434B5C;\n",
       "      box-shadow: 0px 1px 3px 1px rgba(0, 0, 0, 0.15);\n",
       "      filter: drop-shadow(0px 1px 2px rgba(0, 0, 0, 0.3));\n",
       "      fill: #FFFFFF;\n",
       "    }\n",
       "  </style>\n",
       "\n",
       "      <script>\n",
       "        const buttonEl =\n",
       "          document.querySelector('#df-028a42ab-c3ab-41ff-965f-6edc374b683d button.colab-df-convert');\n",
       "        buttonEl.style.display =\n",
       "          google.colab.kernel.accessAllowed ? 'block' : 'none';\n",
       "\n",
       "        async function convertToInteractive(key) {\n",
       "          const element = document.querySelector('#df-028a42ab-c3ab-41ff-965f-6edc374b683d');\n",
       "          const dataTable =\n",
       "            await google.colab.kernel.invokeFunction('convertToInteractive',\n",
       "                                                     [key], {});\n",
       "          if (!dataTable) return;\n",
       "\n",
       "          const docLinkHtml = 'Like what you see? Visit the ' +\n",
       "            '<a target=\"_blank\" href=https://colab.research.google.com/notebooks/data_table.ipynb>data table notebook</a>'\n",
       "            + ' to learn more about interactive tables.';\n",
       "          element.innerHTML = '';\n",
       "          dataTable['output_type'] = 'display_data';\n",
       "          await google.colab.output.renderOutput(dataTable, element);\n",
       "          const docLink = document.createElement('div');\n",
       "          docLink.innerHTML = docLinkHtml;\n",
       "          element.appendChild(docLink);\n",
       "        }\n",
       "      </script>\n",
       "    </div>\n",
       "  </div>\n",
       "  "
      ],
      "text/plain": [
       "   Column1 Column2 NewColumn\n",
       "0        1       a     Small\n",
       "1        2       b     Small\n",
       "2        3       c     Small\n",
       "3        4       d     Large\n",
       "4        5       e     Large"
      ]
     },
     "execution_count": 38,
     "metadata": {},
     "output_type": "execute_result"
    }
   ],
   "source": [
    "# Another examples\n",
    "df['NewColumn'] = df['Column1'].apply(lambda x: 'Large' if x > 3 else 'Small') # applying a lambda function of type x*2 to Column1 values - this equivalent to '.multiply(2)\n",
    "df"
   ]
  },
  {
   "cell_type": "code",
   "execution_count": null,
   "metadata": {
    "colab": {
     "base_uri": "https://localhost:8080/",
     "height": 206
    },
    "executionInfo": {
     "elapsed": 5,
     "status": "ok",
     "timestamp": 1669828460230,
     "user": {
      "displayName": "Rodrigo Costa",
      "userId": "15201424764589684325"
     },
     "user_tz": 480
    },
    "id": "UgLrGmDHh8LO",
    "outputId": "55503f15-ab52-4fb2-8e9e-bd25c339e4ff"
   },
   "outputs": [
    {
     "data": {
      "text/html": [
       "\n",
       "  <div id=\"df-c034ea87-278d-4c48-8242-96b610c4f5cc\">\n",
       "    <div class=\"colab-df-container\">\n",
       "      <div>\n",
       "<style scoped>\n",
       "    .dataframe tbody tr th:only-of-type {\n",
       "        vertical-align: middle;\n",
       "    }\n",
       "\n",
       "    .dataframe tbody tr th {\n",
       "        vertical-align: top;\n",
       "    }\n",
       "\n",
       "    .dataframe thead th {\n",
       "        text-align: right;\n",
       "    }\n",
       "</style>\n",
       "<table border=\"1\" class=\"dataframe\">\n",
       "  <thead>\n",
       "    <tr style=\"text-align: right;\">\n",
       "      <th></th>\n",
       "      <th>Column1</th>\n",
       "      <th>Column2</th>\n",
       "      <th>NewColumn</th>\n",
       "      <th>Equals_c</th>\n",
       "    </tr>\n",
       "  </thead>\n",
       "  <tbody>\n",
       "    <tr>\n",
       "      <th>0</th>\n",
       "      <td>1</td>\n",
       "      <td>a</td>\n",
       "      <td>Small</td>\n",
       "      <td>False</td>\n",
       "    </tr>\n",
       "    <tr>\n",
       "      <th>1</th>\n",
       "      <td>2</td>\n",
       "      <td>b</td>\n",
       "      <td>Small</td>\n",
       "      <td>False</td>\n",
       "    </tr>\n",
       "    <tr>\n",
       "      <th>2</th>\n",
       "      <td>3</td>\n",
       "      <td>c</td>\n",
       "      <td>Small</td>\n",
       "      <td>True</td>\n",
       "    </tr>\n",
       "    <tr>\n",
       "      <th>3</th>\n",
       "      <td>4</td>\n",
       "      <td>d</td>\n",
       "      <td>Large</td>\n",
       "      <td>False</td>\n",
       "    </tr>\n",
       "    <tr>\n",
       "      <th>4</th>\n",
       "      <td>5</td>\n",
       "      <td>e</td>\n",
       "      <td>Large</td>\n",
       "      <td>False</td>\n",
       "    </tr>\n",
       "  </tbody>\n",
       "</table>\n",
       "</div>\n",
       "      <button class=\"colab-df-convert\" onclick=\"convertToInteractive('df-c034ea87-278d-4c48-8242-96b610c4f5cc')\"\n",
       "              title=\"Convert this dataframe to an interactive table.\"\n",
       "              style=\"display:none;\">\n",
       "        \n",
       "  <svg xmlns=\"http://www.w3.org/2000/svg\" height=\"24px\"viewBox=\"0 0 24 24\"\n",
       "       width=\"24px\">\n",
       "    <path d=\"M0 0h24v24H0V0z\" fill=\"none\"/>\n",
       "    <path d=\"M18.56 5.44l.94 2.06.94-2.06 2.06-.94-2.06-.94-.94-2.06-.94 2.06-2.06.94zm-11 1L8.5 8.5l.94-2.06 2.06-.94-2.06-.94L8.5 2.5l-.94 2.06-2.06.94zm10 10l.94 2.06.94-2.06 2.06-.94-2.06-.94-.94-2.06-.94 2.06-2.06.94z\"/><path d=\"M17.41 7.96l-1.37-1.37c-.4-.4-.92-.59-1.43-.59-.52 0-1.04.2-1.43.59L10.3 9.45l-7.72 7.72c-.78.78-.78 2.05 0 2.83L4 21.41c.39.39.9.59 1.41.59.51 0 1.02-.2 1.41-.59l7.78-7.78 2.81-2.81c.8-.78.8-2.07 0-2.86zM5.41 20L4 18.59l7.72-7.72 1.47 1.35L5.41 20z\"/>\n",
       "  </svg>\n",
       "      </button>\n",
       "      \n",
       "  <style>\n",
       "    .colab-df-container {\n",
       "      display:flex;\n",
       "      flex-wrap:wrap;\n",
       "      gap: 12px;\n",
       "    }\n",
       "\n",
       "    .colab-df-convert {\n",
       "      background-color: #E8F0FE;\n",
       "      border: none;\n",
       "      border-radius: 50%;\n",
       "      cursor: pointer;\n",
       "      display: none;\n",
       "      fill: #1967D2;\n",
       "      height: 32px;\n",
       "      padding: 0 0 0 0;\n",
       "      width: 32px;\n",
       "    }\n",
       "\n",
       "    .colab-df-convert:hover {\n",
       "      background-color: #E2EBFA;\n",
       "      box-shadow: 0px 1px 2px rgba(60, 64, 67, 0.3), 0px 1px 3px 1px rgba(60, 64, 67, 0.15);\n",
       "      fill: #174EA6;\n",
       "    }\n",
       "\n",
       "    [theme=dark] .colab-df-convert {\n",
       "      background-color: #3B4455;\n",
       "      fill: #D2E3FC;\n",
       "    }\n",
       "\n",
       "    [theme=dark] .colab-df-convert:hover {\n",
       "      background-color: #434B5C;\n",
       "      box-shadow: 0px 1px 3px 1px rgba(0, 0, 0, 0.15);\n",
       "      filter: drop-shadow(0px 1px 2px rgba(0, 0, 0, 0.3));\n",
       "      fill: #FFFFFF;\n",
       "    }\n",
       "  </style>\n",
       "\n",
       "      <script>\n",
       "        const buttonEl =\n",
       "          document.querySelector('#df-c034ea87-278d-4c48-8242-96b610c4f5cc button.colab-df-convert');\n",
       "        buttonEl.style.display =\n",
       "          google.colab.kernel.accessAllowed ? 'block' : 'none';\n",
       "\n",
       "        async function convertToInteractive(key) {\n",
       "          const element = document.querySelector('#df-c034ea87-278d-4c48-8242-96b610c4f5cc');\n",
       "          const dataTable =\n",
       "            await google.colab.kernel.invokeFunction('convertToInteractive',\n",
       "                                                     [key], {});\n",
       "          if (!dataTable) return;\n",
       "\n",
       "          const docLinkHtml = 'Like what you see? Visit the ' +\n",
       "            '<a target=\"_blank\" href=https://colab.research.google.com/notebooks/data_table.ipynb>data table notebook</a>'\n",
       "            + ' to learn more about interactive tables.';\n",
       "          element.innerHTML = '';\n",
       "          dataTable['output_type'] = 'display_data';\n",
       "          await google.colab.output.renderOutput(dataTable, element);\n",
       "          const docLink = document.createElement('div');\n",
       "          docLink.innerHTML = docLinkHtml;\n",
       "          element.appendChild(docLink);\n",
       "        }\n",
       "      </script>\n",
       "    </div>\n",
       "  </div>\n",
       "  "
      ],
      "text/plain": [
       "   Column1 Column2 NewColumn  Equals_c\n",
       "0        1       a     Small     False\n",
       "1        2       b     Small     False\n",
       "2        3       c     Small      True\n",
       "3        4       d     Large     False\n",
       "4        5       e     Large     False"
      ]
     },
     "execution_count": 39,
     "metadata": {},
     "output_type": "execute_result"
    }
   ],
   "source": [
    "# Another examples\n",
    "df['Equals_c'] = df['Column2'].apply(lambda x: True if x == 'c' else False) # applying a lambda function of type x*2 to Column1 values - this equivalent to '.multiply(2)\n",
    "df"
   ]
  },
  {
   "cell_type": "markdown",
   "metadata": {
    "id": "KaoFXOdln33q"
   },
   "source": [
    "#### <font color='orange'> Read from file </font>"
   ]
  },
  {
   "cell_type": "code",
   "execution_count": null,
   "metadata": {
    "colab": {
     "base_uri": "https://localhost:8080/",
     "height": 161
    },
    "executionInfo": {
     "elapsed": 3637,
     "status": "ok",
     "timestamp": 1671112183103,
     "user": {
      "displayName": "Rodrigo Costa",
      "userId": "15201424764589684325"
     },
     "user_tz": 300
    },
    "id": "9gjxAhUlp_yp",
    "outputId": "2e9958b4-dac9-4133-fdbc-50d38ca3a859"
   },
   "outputs": [
    {
     "name": "stdout",
     "output_type": "stream",
     "text": [
      "Mounted at /content/drive/\n"
     ]
    },
    {
     "data": {
      "text/html": [
       "\n",
       "  <div id=\"df-975f8403-a2ef-41a4-bc7e-aa3d15237287\">\n",
       "    <div class=\"colab-df-container\">\n",
       "      <div>\n",
       "<style scoped>\n",
       "    .dataframe tbody tr th:only-of-type {\n",
       "        vertical-align: middle;\n",
       "    }\n",
       "\n",
       "    .dataframe tbody tr th {\n",
       "        vertical-align: top;\n",
       "    }\n",
       "\n",
       "    .dataframe thead th {\n",
       "        text-align: right;\n",
       "    }\n",
       "</style>\n",
       "<table border=\"1\" class=\"dataframe\">\n",
       "  <thead>\n",
       "    <tr style=\"text-align: right;\">\n",
       "      <th></th>\n",
       "      <th>SitusAddress</th>\n",
       "      <th>SitusStreet</th>\n",
       "      <th>Latitude</th>\n",
       "      <th>Longitude</th>\n",
       "      <th>UseCategory</th>\n",
       "      <th>Buildings</th>\n",
       "      <th>Units</th>\n",
       "      <th>Stories</th>\n",
       "      <th>Rooms</th>\n",
       "      <th>Beds</th>\n",
       "      <th>YearBuilt</th>\n",
       "      <th>Baths</th>\n",
       "      <th>Area</th>\n",
       "      <th>LandValue</th>\n",
       "      <th>ImprovementValue</th>\n",
       "      <th>HomeValue</th>\n",
       "      <th>LatestDocument</th>\n",
       "    </tr>\n",
       "  </thead>\n",
       "  <tbody>\n",
       "    <tr>\n",
       "      <th>0</th>\n",
       "      <td>2849 SAN JOSE AVE ALAMEDA 94501</td>\n",
       "      <td>SAN JOSE AVE</td>\n",
       "      <td>37.756951</td>\n",
       "      <td>-122.237670</td>\n",
       "      <td>Single-family Detached</td>\n",
       "      <td>1</td>\n",
       "      <td>1</td>\n",
       "      <td>1</td>\n",
       "      <td>6</td>\n",
       "      <td>3</td>\n",
       "      <td>1900</td>\n",
       "      <td>1.0</td>\n",
       "      <td>1134</td>\n",
       "      <td>54029</td>\n",
       "      <td>12106</td>\n",
       "      <td>66135</td>\n",
       "      <td>1969</td>\n",
       "    </tr>\n",
       "    <tr>\n",
       "      <th>1</th>\n",
       "      <td>1015 BEGONIA DR ALAMEDA 94502</td>\n",
       "      <td>BEGONIA DR</td>\n",
       "      <td>37.734668</td>\n",
       "      <td>-122.239088</td>\n",
       "      <td>Single-family Detached</td>\n",
       "      <td>1</td>\n",
       "      <td>1</td>\n",
       "      <td>1</td>\n",
       "      <td>6</td>\n",
       "      <td>4</td>\n",
       "      <td>1957</td>\n",
       "      <td>2.0</td>\n",
       "      <td>1196</td>\n",
       "      <td>34300</td>\n",
       "      <td>40577</td>\n",
       "      <td>74877</td>\n",
       "      <td>1969</td>\n",
       "    </tr>\n",
       "    <tr>\n",
       "      <th>2</th>\n",
       "      <td>243 BEACH RD ALAMEDA 94502</td>\n",
       "      <td>BEACH RD</td>\n",
       "      <td>37.734820</td>\n",
       "      <td>-122.233459</td>\n",
       "      <td>Single-family Detached</td>\n",
       "      <td>1</td>\n",
       "      <td>1</td>\n",
       "      <td>1</td>\n",
       "      <td>4</td>\n",
       "      <td>2</td>\n",
       "      <td>1952</td>\n",
       "      <td>1.0</td>\n",
       "      <td>1223</td>\n",
       "      <td>40353</td>\n",
       "      <td>40802</td>\n",
       "      <td>81155</td>\n",
       "      <td>1969</td>\n",
       "    </tr>\n",
       "  </tbody>\n",
       "</table>\n",
       "</div>\n",
       "      <button class=\"colab-df-convert\" onclick=\"convertToInteractive('df-975f8403-a2ef-41a4-bc7e-aa3d15237287')\"\n",
       "              title=\"Convert this dataframe to an interactive table.\"\n",
       "              style=\"display:none;\">\n",
       "        \n",
       "  <svg xmlns=\"http://www.w3.org/2000/svg\" height=\"24px\"viewBox=\"0 0 24 24\"\n",
       "       width=\"24px\">\n",
       "    <path d=\"M0 0h24v24H0V0z\" fill=\"none\"/>\n",
       "    <path d=\"M18.56 5.44l.94 2.06.94-2.06 2.06-.94-2.06-.94-.94-2.06-.94 2.06-2.06.94zm-11 1L8.5 8.5l.94-2.06 2.06-.94-2.06-.94L8.5 2.5l-.94 2.06-2.06.94zm10 10l.94 2.06.94-2.06 2.06-.94-2.06-.94-.94-2.06-.94 2.06-2.06.94z\"/><path d=\"M17.41 7.96l-1.37-1.37c-.4-.4-.92-.59-1.43-.59-.52 0-1.04.2-1.43.59L10.3 9.45l-7.72 7.72c-.78.78-.78 2.05 0 2.83L4 21.41c.39.39.9.59 1.41.59.51 0 1.02-.2 1.41-.59l7.78-7.78 2.81-2.81c.8-.78.8-2.07 0-2.86zM5.41 20L4 18.59l7.72-7.72 1.47 1.35L5.41 20z\"/>\n",
       "  </svg>\n",
       "      </button>\n",
       "      \n",
       "  <style>\n",
       "    .colab-df-container {\n",
       "      display:flex;\n",
       "      flex-wrap:wrap;\n",
       "      gap: 12px;\n",
       "    }\n",
       "\n",
       "    .colab-df-convert {\n",
       "      background-color: #E8F0FE;\n",
       "      border: none;\n",
       "      border-radius: 50%;\n",
       "      cursor: pointer;\n",
       "      display: none;\n",
       "      fill: #1967D2;\n",
       "      height: 32px;\n",
       "      padding: 0 0 0 0;\n",
       "      width: 32px;\n",
       "    }\n",
       "\n",
       "    .colab-df-convert:hover {\n",
       "      background-color: #E2EBFA;\n",
       "      box-shadow: 0px 1px 2px rgba(60, 64, 67, 0.3), 0px 1px 3px 1px rgba(60, 64, 67, 0.15);\n",
       "      fill: #174EA6;\n",
       "    }\n",
       "\n",
       "    [theme=dark] .colab-df-convert {\n",
       "      background-color: #3B4455;\n",
       "      fill: #D2E3FC;\n",
       "    }\n",
       "\n",
       "    [theme=dark] .colab-df-convert:hover {\n",
       "      background-color: #434B5C;\n",
       "      box-shadow: 0px 1px 3px 1px rgba(0, 0, 0, 0.15);\n",
       "      filter: drop-shadow(0px 1px 2px rgba(0, 0, 0, 0.3));\n",
       "      fill: #FFFFFF;\n",
       "    }\n",
       "  </style>\n",
       "\n",
       "      <script>\n",
       "        const buttonEl =\n",
       "          document.querySelector('#df-975f8403-a2ef-41a4-bc7e-aa3d15237287 button.colab-df-convert');\n",
       "        buttonEl.style.display =\n",
       "          google.colab.kernel.accessAllowed ? 'block' : 'none';\n",
       "\n",
       "        async function convertToInteractive(key) {\n",
       "          const element = document.querySelector('#df-975f8403-a2ef-41a4-bc7e-aa3d15237287');\n",
       "          const dataTable =\n",
       "            await google.colab.kernel.invokeFunction('convertToInteractive',\n",
       "                                                     [key], {});\n",
       "          if (!dataTable) return;\n",
       "\n",
       "          const docLinkHtml = 'Like what you see? Visit the ' +\n",
       "            '<a target=\"_blank\" href=https://colab.research.google.com/notebooks/data_table.ipynb>data table notebook</a>'\n",
       "            + ' to learn more about interactive tables.';\n",
       "          element.innerHTML = '';\n",
       "          dataTable['output_type'] = 'display_data';\n",
       "          await google.colab.output.renderOutput(dataTable, element);\n",
       "          const docLink = document.createElement('div');\n",
       "          docLink.innerHTML = docLinkHtml;\n",
       "          element.appendChild(docLink);\n",
       "        }\n",
       "      </script>\n",
       "    </div>\n",
       "  </div>\n",
       "  "
      ],
      "text/plain": [
       "                      SitusAddress   SitusStreet   Latitude   Longitude  \\\n",
       "0  2849 SAN JOSE AVE ALAMEDA 94501  SAN JOSE AVE  37.756951 -122.237670   \n",
       "1    1015 BEGONIA DR ALAMEDA 94502    BEGONIA DR  37.734668 -122.239088   \n",
       "2       243 BEACH RD ALAMEDA 94502      BEACH RD  37.734820 -122.233459   \n",
       "\n",
       "              UseCategory  Buildings  Units  Stories  Rooms  Beds  YearBuilt  \\\n",
       "0  Single-family Detached          1      1        1      6     3       1900   \n",
       "1  Single-family Detached          1      1        1      6     4       1957   \n",
       "2  Single-family Detached          1      1        1      4     2       1952   \n",
       "\n",
       "   Baths  Area  LandValue  ImprovementValue  HomeValue  LatestDocument  \n",
       "0    1.0  1134      54029             12106      66135            1969  \n",
       "1    2.0  1196      34300             40577      74877            1969  \n",
       "2    1.0  1223      40353             40802      81155            1969  "
      ]
     },
     "execution_count": 3,
     "metadata": {},
     "output_type": "execute_result"
    }
   ],
   "source": [
    "# Mount YOUR google drive. You'll need to \"Add shortcut to Drive\" for our shared folder for it to show up here.\n",
    "# Use the URL shown below in the output to authorize this Colab session to access you GDrive\n",
    "from google.colab import drive\n",
    "drive.mount('/content/drive/',force_remount=True)\n",
    "\n",
    "# Modify this according to the path in your computer\n",
    "main_dir = '/content/drive/MyDrive/Courses/SYDE_599/'\n",
    "\n",
    "\n",
    "# On my computer, in the directory above, I have a file called 'ExampleData.csv'\n",
    "# Let's read this file. The only mandatory argument in this function is the location of the file.\n",
    "# For us, the location is 'main_dir' + the name of the file.\n",
    "df_DataReadFromFile = pd.read_csv(main_dir + 'ExampleData.csv', header=0) # Header = 0 tells Pandas that the first row (i.e., row 0) contain the column names\n",
    "df_DataReadFromFile.head(3)"
   ]
  },
  {
   "cell_type": "markdown",
   "metadata": {
    "id": "LjQmT-PfqArF"
   },
   "source": [
    "#### <font color='orange'> Save to file </font>"
   ]
  },
  {
   "cell_type": "code",
   "execution_count": null,
   "metadata": {
    "colab": {
     "base_uri": "https://localhost:8080/",
     "height": 143
    },
    "executionInfo": {
     "elapsed": 163,
     "status": "ok",
     "timestamp": 1671112341676,
     "user": {
      "displayName": "Rodrigo Costa",
      "userId": "15201424764589684325"
     },
     "user_tz": 300
    },
    "id": "uuCKGTVJDXPj",
    "outputId": "08916cdb-1bce-4a17-cbf4-7bfee417eea2"
   },
   "outputs": [
    {
     "data": {
      "text/html": [
       "\n",
       "  <div id=\"df-001ff8b8-aefe-4ccc-bbc6-3cad6fbce1a3\">\n",
       "    <div class=\"colab-df-container\">\n",
       "      <div>\n",
       "<style scoped>\n",
       "    .dataframe tbody tr th:only-of-type {\n",
       "        vertical-align: middle;\n",
       "    }\n",
       "\n",
       "    .dataframe tbody tr th {\n",
       "        vertical-align: top;\n",
       "    }\n",
       "\n",
       "    .dataframe thead th {\n",
       "        text-align: right;\n",
       "    }\n",
       "</style>\n",
       "<table border=\"1\" class=\"dataframe\">\n",
       "  <thead>\n",
       "    <tr style=\"text-align: right;\">\n",
       "      <th></th>\n",
       "      <th>SitusAddress</th>\n",
       "      <th>SitusStreet</th>\n",
       "      <th>Latitude</th>\n",
       "      <th>Longitude</th>\n",
       "      <th>UseCategory</th>\n",
       "      <th>Buildings</th>\n",
       "      <th>Units</th>\n",
       "      <th>Stories</th>\n",
       "      <th>Rooms</th>\n",
       "      <th>Beds</th>\n",
       "      <th>YearBuilt</th>\n",
       "      <th>Baths</th>\n",
       "      <th>Area</th>\n",
       "      <th>LandValue</th>\n",
       "      <th>ImprovementValue</th>\n",
       "      <th>HomeValue</th>\n",
       "      <th>LatestDocument</th>\n",
       "      <th>HomeValueInMillions</th>\n",
       "    </tr>\n",
       "  </thead>\n",
       "  <tbody>\n",
       "    <tr>\n",
       "      <th>0</th>\n",
       "      <td>2849 SAN JOSE AVE ALAMEDA 94501</td>\n",
       "      <td>SAN JOSE AVE</td>\n",
       "      <td>37.756951</td>\n",
       "      <td>-122.237670</td>\n",
       "      <td>Single-family Detached</td>\n",
       "      <td>1</td>\n",
       "      <td>1</td>\n",
       "      <td>1</td>\n",
       "      <td>6</td>\n",
       "      <td>3</td>\n",
       "      <td>1900</td>\n",
       "      <td>1.0</td>\n",
       "      <td>1134</td>\n",
       "      <td>54029</td>\n",
       "      <td>12106</td>\n",
       "      <td>66135</td>\n",
       "      <td>1969</td>\n",
       "      <td>0.066135</td>\n",
       "    </tr>\n",
       "    <tr>\n",
       "      <th>1</th>\n",
       "      <td>1015 BEGONIA DR ALAMEDA 94502</td>\n",
       "      <td>BEGONIA DR</td>\n",
       "      <td>37.734668</td>\n",
       "      <td>-122.239088</td>\n",
       "      <td>Single-family Detached</td>\n",
       "      <td>1</td>\n",
       "      <td>1</td>\n",
       "      <td>1</td>\n",
       "      <td>6</td>\n",
       "      <td>4</td>\n",
       "      <td>1957</td>\n",
       "      <td>2.0</td>\n",
       "      <td>1196</td>\n",
       "      <td>34300</td>\n",
       "      <td>40577</td>\n",
       "      <td>74877</td>\n",
       "      <td>1969</td>\n",
       "      <td>0.074877</td>\n",
       "    </tr>\n",
       "    <tr>\n",
       "      <th>2</th>\n",
       "      <td>243 BEACH RD ALAMEDA 94502</td>\n",
       "      <td>BEACH RD</td>\n",
       "      <td>37.734820</td>\n",
       "      <td>-122.233459</td>\n",
       "      <td>Single-family Detached</td>\n",
       "      <td>1</td>\n",
       "      <td>1</td>\n",
       "      <td>1</td>\n",
       "      <td>4</td>\n",
       "      <td>2</td>\n",
       "      <td>1952</td>\n",
       "      <td>1.0</td>\n",
       "      <td>1223</td>\n",
       "      <td>40353</td>\n",
       "      <td>40802</td>\n",
       "      <td>81155</td>\n",
       "      <td>1969</td>\n",
       "      <td>0.081155</td>\n",
       "    </tr>\n",
       "  </tbody>\n",
       "</table>\n",
       "</div>\n",
       "      <button class=\"colab-df-convert\" onclick=\"convertToInteractive('df-001ff8b8-aefe-4ccc-bbc6-3cad6fbce1a3')\"\n",
       "              title=\"Convert this dataframe to an interactive table.\"\n",
       "              style=\"display:none;\">\n",
       "        \n",
       "  <svg xmlns=\"http://www.w3.org/2000/svg\" height=\"24px\"viewBox=\"0 0 24 24\"\n",
       "       width=\"24px\">\n",
       "    <path d=\"M0 0h24v24H0V0z\" fill=\"none\"/>\n",
       "    <path d=\"M18.56 5.44l.94 2.06.94-2.06 2.06-.94-2.06-.94-.94-2.06-.94 2.06-2.06.94zm-11 1L8.5 8.5l.94-2.06 2.06-.94-2.06-.94L8.5 2.5l-.94 2.06-2.06.94zm10 10l.94 2.06.94-2.06 2.06-.94-2.06-.94-.94-2.06-.94 2.06-2.06.94z\"/><path d=\"M17.41 7.96l-1.37-1.37c-.4-.4-.92-.59-1.43-.59-.52 0-1.04.2-1.43.59L10.3 9.45l-7.72 7.72c-.78.78-.78 2.05 0 2.83L4 21.41c.39.39.9.59 1.41.59.51 0 1.02-.2 1.41-.59l7.78-7.78 2.81-2.81c.8-.78.8-2.07 0-2.86zM5.41 20L4 18.59l7.72-7.72 1.47 1.35L5.41 20z\"/>\n",
       "  </svg>\n",
       "      </button>\n",
       "      \n",
       "  <style>\n",
       "    .colab-df-container {\n",
       "      display:flex;\n",
       "      flex-wrap:wrap;\n",
       "      gap: 12px;\n",
       "    }\n",
       "\n",
       "    .colab-df-convert {\n",
       "      background-color: #E8F0FE;\n",
       "      border: none;\n",
       "      border-radius: 50%;\n",
       "      cursor: pointer;\n",
       "      display: none;\n",
       "      fill: #1967D2;\n",
       "      height: 32px;\n",
       "      padding: 0 0 0 0;\n",
       "      width: 32px;\n",
       "    }\n",
       "\n",
       "    .colab-df-convert:hover {\n",
       "      background-color: #E2EBFA;\n",
       "      box-shadow: 0px 1px 2px rgba(60, 64, 67, 0.3), 0px 1px 3px 1px rgba(60, 64, 67, 0.15);\n",
       "      fill: #174EA6;\n",
       "    }\n",
       "\n",
       "    [theme=dark] .colab-df-convert {\n",
       "      background-color: #3B4455;\n",
       "      fill: #D2E3FC;\n",
       "    }\n",
       "\n",
       "    [theme=dark] .colab-df-convert:hover {\n",
       "      background-color: #434B5C;\n",
       "      box-shadow: 0px 1px 3px 1px rgba(0, 0, 0, 0.15);\n",
       "      filter: drop-shadow(0px 1px 2px rgba(0, 0, 0, 0.3));\n",
       "      fill: #FFFFFF;\n",
       "    }\n",
       "  </style>\n",
       "\n",
       "      <script>\n",
       "        const buttonEl =\n",
       "          document.querySelector('#df-001ff8b8-aefe-4ccc-bbc6-3cad6fbce1a3 button.colab-df-convert');\n",
       "        buttonEl.style.display =\n",
       "          google.colab.kernel.accessAllowed ? 'block' : 'none';\n",
       "\n",
       "        async function convertToInteractive(key) {\n",
       "          const element = document.querySelector('#df-001ff8b8-aefe-4ccc-bbc6-3cad6fbce1a3');\n",
       "          const dataTable =\n",
       "            await google.colab.kernel.invokeFunction('convertToInteractive',\n",
       "                                                     [key], {});\n",
       "          if (!dataTable) return;\n",
       "\n",
       "          const docLinkHtml = 'Like what you see? Visit the ' +\n",
       "            '<a target=\"_blank\" href=https://colab.research.google.com/notebooks/data_table.ipynb>data table notebook</a>'\n",
       "            + ' to learn more about interactive tables.';\n",
       "          element.innerHTML = '';\n",
       "          dataTable['output_type'] = 'display_data';\n",
       "          await google.colab.output.renderOutput(dataTable, element);\n",
       "          const docLink = document.createElement('div');\n",
       "          docLink.innerHTML = docLinkHtml;\n",
       "          element.appendChild(docLink);\n",
       "        }\n",
       "      </script>\n",
       "    </div>\n",
       "  </div>\n",
       "  "
      ],
      "text/plain": [
       "                      SitusAddress   SitusStreet   Latitude   Longitude  \\\n",
       "0  2849 SAN JOSE AVE ALAMEDA 94501  SAN JOSE AVE  37.756951 -122.237670   \n",
       "1    1015 BEGONIA DR ALAMEDA 94502    BEGONIA DR  37.734668 -122.239088   \n",
       "2       243 BEACH RD ALAMEDA 94502      BEACH RD  37.734820 -122.233459   \n",
       "\n",
       "              UseCategory  Buildings  Units  Stories  Rooms  Beds  YearBuilt  \\\n",
       "0  Single-family Detached          1      1        1      6     3       1900   \n",
       "1  Single-family Detached          1      1        1      6     4       1957   \n",
       "2  Single-family Detached          1      1        1      4     2       1952   \n",
       "\n",
       "   Baths  Area  LandValue  ImprovementValue  HomeValue  LatestDocument  \\\n",
       "0    1.0  1134      54029             12106      66135            1969   \n",
       "1    2.0  1196      34300             40577      74877            1969   \n",
       "2    1.0  1223      40353             40802      81155            1969   \n",
       "\n",
       "   HomeValueInMillions  \n",
       "0             0.066135  \n",
       "1             0.074877  \n",
       "2             0.081155  "
      ]
     },
     "execution_count": 4,
     "metadata": {},
     "output_type": "execute_result"
    }
   ],
   "source": [
    "# Let's create a new column in our data frame\n",
    "# This column will contain the HomeValue in millions of dollars\n",
    "\n",
    "df_DataReadFromFile['HomeValueInMillions'] = df_DataReadFromFile['HomeValue'].divide(10**6) \n",
    "df_DataReadFromFile.head(3)"
   ]
  },
  {
   "cell_type": "code",
   "execution_count": null,
   "metadata": {
    "id": "IdhOBCzlDtCq"
   },
   "outputs": [],
   "source": [
    "# Now, we can save this new data frame to a file.\n",
    "# We can save to the directory of our preference. For simplicity, lets save to the same directory.\n",
    "# However, we do not want to overwrite the original file, so we must give the new file a new name.\n",
    "# Note - by default, Pandas will add the data frame indexes as a new column when saving. In most cases that is unncessary. In some cases, it is problematic. \n",
    "# Thus, lets use 'index=False' to tell Pandas not to add the indexes as a column\n",
    "df_DataReadFromFile.to_csv(main_dir + 'ExampleDataModified.csv',index=False)"
   ]
  },
  {
   "cell_type": "markdown",
   "metadata": {
    "id": "SB4v-qT6qDKy"
   },
   "source": [
    "\n",
    "\n",
    "---\n",
    "\n",
    "\n",
    "\n",
    "---\n",
    "\n"
   ]
  },
  {
   "cell_type": "markdown",
   "metadata": {
    "id": "WkcWd8Dvn_SB"
   },
   "source": [
    "### <font color='orange'> Conditional Statements </font>"
   ]
  },
  {
   "cell_type": "code",
   "execution_count": null,
   "metadata": {
    "id": "ior-I38zE6Y3"
   },
   "outputs": [],
   "source": [
    "myPetsSound = 'Woof'\n",
    "\n",
    "# Note that we use the comparison symbol here (i.e., == and not =)\n",
    "if myPetsSound == 'Woof':\n",
    "    print('Your pet is a dog') # The identation is how Python knows what is 'inside' the if state\n",
    "\n",
    "elif myPetsSound == 'Meow':\n",
    "    print('Your pet is a cat')\n",
    "\n",
    "else:\n",
    "    print('I do not know what type of animal your pet is.')"
   ]
  },
  {
   "cell_type": "code",
   "execution_count": null,
   "metadata": {
    "id": "lbCjk23CFidb"
   },
   "outputs": [],
   "source": [
    "myPetsSound = 'Woof'\n",
    "myPetSize = 'Large'\n",
    "\n",
    "#-------------------------------------------------\n",
    "# This \n",
    "if myPetsSound == 'Woof' and myPetSize == 'Small':\n",
    "    print('Your pet is a Chihuahua')\n",
    "\n",
    "elif myPetsSound == 'Woof' and myPetSize == 'Large':\n",
    "    print('Your pet is a Saint Bernard')\n",
    "\n",
    "else:\n",
    "    print('Your pet is not a dog.')\n",
    "\n",
    "#-------------------------------------------------\n",
    "# is equivalent to this\n",
    "if myPetsSound == 'Woof' and myPetSize == 'Small':\n",
    "    print('Your pet is a Chihuahua')\n",
    "\n",
    "elif myPetsSound == 'Woof' and myPetSize != 'Small':\n",
    "    print('Your pet is a Saint Bernard')\n",
    "\n",
    "else:\n",
    "    print('Your pet is not a dog.')\n",
    "\n",
    "\n",
    "#-------------------------------------------------\n",
    "# and this\n",
    "if myPetsSound == 'Woof': # PetSound nest\n",
    "\n",
    "    if myPetSize == 'Small': # PetSize nest\n",
    "        print('Your pet is a Chihuahua')\n",
    "\n",
    "    else:\n",
    "        print('Your pet is a Saint Bernard')\n",
    "\n",
    "else:\n",
    "    print('Your pet is not a dog.')"
   ]
  },
  {
   "cell_type": "markdown",
   "metadata": {
    "id": "Vfq51pADqL2q"
   },
   "source": [
    "\n",
    "\n",
    "---\n",
    "\n",
    "\n",
    "\n",
    "---\n",
    "\n"
   ]
  },
  {
   "cell_type": "markdown",
   "metadata": {
    "id": "E6PBu5gXoEyd"
   },
   "source": [
    "### <font color='orange'> Loops </font>"
   ]
  },
  {
   "cell_type": "code",
   "execution_count": null,
   "metadata": {
    "colab": {
     "base_uri": "https://localhost:8080/"
    },
    "executionInfo": {
     "elapsed": 5,
     "status": "ok",
     "timestamp": 1671114070281,
     "user": {
      "displayName": "Rodrigo Costa",
      "userId": "15201424764589684325"
     },
     "user_tz": 300
    },
    "id": "yTvK1oE2ob_s",
    "outputId": "70164388-56ad-48d5-cb95-d69b20cda4ed"
   },
   "outputs": [
    {
     "data": {
      "text/plain": [
       "10"
      ]
     },
     "execution_count": 10,
     "metadata": {},
     "output_type": "execute_result"
    }
   ],
   "source": [
    "# In Python, we create loops by iterating over range objects\n",
    "# A range is defined by a start, an end, and a step size\n",
    "\n",
    "# A range from 0, to 10, with a step of 1 has 10 elements\n",
    "len(range(0,10,1))"
   ]
  },
  {
   "cell_type": "code",
   "execution_count": null,
   "metadata": {
    "colab": {
     "base_uri": "https://localhost:8080/"
    },
    "executionInfo": {
     "elapsed": 2,
     "status": "ok",
     "timestamp": 1671114082650,
     "user": {
      "displayName": "Rodrigo Costa",
      "userId": "15201424764589684325"
     },
     "user_tz": 300
    },
    "id": "0iq2AvpsKHb0",
    "outputId": "5d208ee6-0ebe-4d4b-b243-6adc1fc94672"
   },
   "outputs": [
    {
     "data": {
      "text/plain": [
       "5"
      ]
     },
     "execution_count": 11,
     "metadata": {},
     "output_type": "execute_result"
    }
   ],
   "source": [
    "# A range from 10, to 0, with a step of -2 has five elements\n",
    "len(range(10,0,-2))"
   ]
  },
  {
   "cell_type": "code",
   "execution_count": null,
   "metadata": {
    "colab": {
     "base_uri": "https://localhost:8080/"
    },
    "executionInfo": {
     "elapsed": 127,
     "status": "ok",
     "timestamp": 1671114097906,
     "user": {
      "displayName": "Rodrigo Costa",
      "userId": "15201424764589684325"
     },
     "user_tz": 300
    },
    "id": "oeCoG8pqKBbP",
    "outputId": "ca115393-a672-4bba-d93b-f9392602de85"
   },
   "outputs": [
    {
     "name": "stdout",
     "output_type": "stream",
     "text": [
      "0\n",
      "1\n",
      "2\n",
      "3\n",
      "4\n",
      "5\n",
      "6\n",
      "7\n",
      "8\n",
      "9\n"
     ]
    }
   ],
   "source": [
    "# To create a loop we simply iterate over the range\n",
    "for i in range(0,10,1):\n",
    "  print(i)"
   ]
  },
  {
   "cell_type": "code",
   "execution_count": null,
   "metadata": {
    "colab": {
     "base_uri": "https://localhost:8080/"
    },
    "executionInfo": {
     "elapsed": 4,
     "status": "ok",
     "timestamp": 1671114112630,
     "user": {
      "displayName": "Rodrigo Costa",
      "userId": "15201424764589684325"
     },
     "user_tz": 300
    },
    "id": "EJ1PX6xzKZHK",
    "outputId": "250e9451-0fab-4a58-c25c-fd31ed4b8bb4"
   },
   "outputs": [
    {
     "name": "stdout",
     "output_type": "stream",
     "text": [
      "10\n",
      "8\n",
      "6\n",
      "4\n",
      "2\n"
     ]
    }
   ],
   "source": [
    "# To create a loop we simply iterate over the range\n",
    "for i in range(10,0,-2):\n",
    "  print(i)"
   ]
  },
  {
   "cell_type": "code",
   "execution_count": null,
   "metadata": {
    "colab": {
     "base_uri": "https://localhost:8080/"
    },
    "executionInfo": {
     "elapsed": 110,
     "status": "ok",
     "timestamp": 1671114172890,
     "user": {
      "displayName": "Rodrigo Costa",
      "userId": "15201424764589684325"
     },
     "user_tz": 300
    },
    "id": "b1eNivp9otnt",
    "outputId": "5c7a2462-010f-4846-cd2e-8876204303f3"
   },
   "outputs": [
    {
     "name": "stdout",
     "output_type": "stream",
     "text": [
      "0\n",
      "1\n",
      "2\n",
      "3\n",
      "4\n",
      "5\n",
      "6\n",
      "7\n",
      "8\n",
      "9\n"
     ]
    }
   ],
   "source": [
    "# If you range starts at 0, and has a step size of 1, you can simply give the end value\n",
    "for i in range(10): # equivalent to \"for i in range(0,10,1):\"\n",
    "  print(i)"
   ]
  },
  {
   "cell_type": "code",
   "execution_count": null,
   "metadata": {
    "colab": {
     "base_uri": "https://localhost:8080/"
    },
    "executionInfo": {
     "elapsed": 5,
     "status": "ok",
     "timestamp": 1669830244178,
     "user": {
      "displayName": "Rodrigo Costa",
      "userId": "15201424764589684325"
     },
     "user_tz": 480
    },
    "id": "pR70K79co0RM",
    "outputId": "24a1ae84-04a2-4711-ca3d-24903e4c3eb8"
   },
   "outputs": [
    {
     "name": "stdout",
     "output_type": "stream",
     "text": [
      "20\n",
      "30\n",
      "40\n",
      "50\n",
      "60\n",
      "70\n",
      "80\n",
      "90\n"
     ]
    }
   ],
   "source": [
    "for i in range(20,100,10):\n",
    "  print(i)"
   ]
  },
  {
   "cell_type": "markdown",
   "metadata": {
    "id": "RF4nqVfwo6dY"
   },
   "source": [
    "#### <font color='orange'> Loops and dataframes </font>"
   ]
  },
  {
   "cell_type": "code",
   "execution_count": null,
   "metadata": {
    "colab": {
     "base_uri": "https://localhost:8080/",
     "height": 143
    },
    "executionInfo": {
     "elapsed": 133,
     "status": "ok",
     "timestamp": 1671114668163,
     "user": {
      "displayName": "Rodrigo Costa",
      "userId": "15201424764589684325"
     },
     "user_tz": 300
    },
    "id": "XqJN9ltmK1ue",
    "outputId": "9a47edde-a03d-4bb8-d518-37e1da1e7aba"
   },
   "outputs": [
    {
     "data": {
      "text/html": [
       "\n",
       "  <div id=\"df-79b544f9-550f-44aa-83a2-95f7448dcd93\">\n",
       "    <div class=\"colab-df-container\">\n",
       "      <div>\n",
       "<style scoped>\n",
       "    .dataframe tbody tr th:only-of-type {\n",
       "        vertical-align: middle;\n",
       "    }\n",
       "\n",
       "    .dataframe tbody tr th {\n",
       "        vertical-align: top;\n",
       "    }\n",
       "\n",
       "    .dataframe thead th {\n",
       "        text-align: right;\n",
       "    }\n",
       "</style>\n",
       "<table border=\"1\" class=\"dataframe\">\n",
       "  <thead>\n",
       "    <tr style=\"text-align: right;\">\n",
       "      <th></th>\n",
       "      <th>YearBuilt</th>\n",
       "      <th>HomeValue</th>\n",
       "    </tr>\n",
       "  </thead>\n",
       "  <tbody>\n",
       "    <tr>\n",
       "      <th>0</th>\n",
       "      <td>1900</td>\n",
       "      <td>66135</td>\n",
       "    </tr>\n",
       "    <tr>\n",
       "      <th>1</th>\n",
       "      <td>1957</td>\n",
       "      <td>74877</td>\n",
       "    </tr>\n",
       "    <tr>\n",
       "      <th>2</th>\n",
       "      <td>1952</td>\n",
       "      <td>81155</td>\n",
       "    </tr>\n",
       "  </tbody>\n",
       "</table>\n",
       "</div>\n",
       "      <button class=\"colab-df-convert\" onclick=\"convertToInteractive('df-79b544f9-550f-44aa-83a2-95f7448dcd93')\"\n",
       "              title=\"Convert this dataframe to an interactive table.\"\n",
       "              style=\"display:none;\">\n",
       "        \n",
       "  <svg xmlns=\"http://www.w3.org/2000/svg\" height=\"24px\"viewBox=\"0 0 24 24\"\n",
       "       width=\"24px\">\n",
       "    <path d=\"M0 0h24v24H0V0z\" fill=\"none\"/>\n",
       "    <path d=\"M18.56 5.44l.94 2.06.94-2.06 2.06-.94-2.06-.94-.94-2.06-.94 2.06-2.06.94zm-11 1L8.5 8.5l.94-2.06 2.06-.94-2.06-.94L8.5 2.5l-.94 2.06-2.06.94zm10 10l.94 2.06.94-2.06 2.06-.94-2.06-.94-.94-2.06-.94 2.06-2.06.94z\"/><path d=\"M17.41 7.96l-1.37-1.37c-.4-.4-.92-.59-1.43-.59-.52 0-1.04.2-1.43.59L10.3 9.45l-7.72 7.72c-.78.78-.78 2.05 0 2.83L4 21.41c.39.39.9.59 1.41.59.51 0 1.02-.2 1.41-.59l7.78-7.78 2.81-2.81c.8-.78.8-2.07 0-2.86zM5.41 20L4 18.59l7.72-7.72 1.47 1.35L5.41 20z\"/>\n",
       "  </svg>\n",
       "      </button>\n",
       "      \n",
       "  <style>\n",
       "    .colab-df-container {\n",
       "      display:flex;\n",
       "      flex-wrap:wrap;\n",
       "      gap: 12px;\n",
       "    }\n",
       "\n",
       "    .colab-df-convert {\n",
       "      background-color: #E8F0FE;\n",
       "      border: none;\n",
       "      border-radius: 50%;\n",
       "      cursor: pointer;\n",
       "      display: none;\n",
       "      fill: #1967D2;\n",
       "      height: 32px;\n",
       "      padding: 0 0 0 0;\n",
       "      width: 32px;\n",
       "    }\n",
       "\n",
       "    .colab-df-convert:hover {\n",
       "      background-color: #E2EBFA;\n",
       "      box-shadow: 0px 1px 2px rgba(60, 64, 67, 0.3), 0px 1px 3px 1px rgba(60, 64, 67, 0.15);\n",
       "      fill: #174EA6;\n",
       "    }\n",
       "\n",
       "    [theme=dark] .colab-df-convert {\n",
       "      background-color: #3B4455;\n",
       "      fill: #D2E3FC;\n",
       "    }\n",
       "\n",
       "    [theme=dark] .colab-df-convert:hover {\n",
       "      background-color: #434B5C;\n",
       "      box-shadow: 0px 1px 3px 1px rgba(0, 0, 0, 0.15);\n",
       "      filter: drop-shadow(0px 1px 2px rgba(0, 0, 0, 0.3));\n",
       "      fill: #FFFFFF;\n",
       "    }\n",
       "  </style>\n",
       "\n",
       "      <script>\n",
       "        const buttonEl =\n",
       "          document.querySelector('#df-79b544f9-550f-44aa-83a2-95f7448dcd93 button.colab-df-convert');\n",
       "        buttonEl.style.display =\n",
       "          google.colab.kernel.accessAllowed ? 'block' : 'none';\n",
       "\n",
       "        async function convertToInteractive(key) {\n",
       "          const element = document.querySelector('#df-79b544f9-550f-44aa-83a2-95f7448dcd93');\n",
       "          const dataTable =\n",
       "            await google.colab.kernel.invokeFunction('convertToInteractive',\n",
       "                                                     [key], {});\n",
       "          if (!dataTable) return;\n",
       "\n",
       "          const docLinkHtml = 'Like what you see? Visit the ' +\n",
       "            '<a target=\"_blank\" href=https://colab.research.google.com/notebooks/data_table.ipynb>data table notebook</a>'\n",
       "            + ' to learn more about interactive tables.';\n",
       "          element.innerHTML = '';\n",
       "          dataTable['output_type'] = 'display_data';\n",
       "          await google.colab.output.renderOutput(dataTable, element);\n",
       "          const docLink = document.createElement('div');\n",
       "          docLink.innerHTML = docLinkHtml;\n",
       "          element.appendChild(docLink);\n",
       "        }\n",
       "      </script>\n",
       "    </div>\n",
       "  </div>\n",
       "  "
      ],
      "text/plain": [
       "   YearBuilt  HomeValue\n",
       "0       1900      66135\n",
       "1       1957      74877\n",
       "2       1952      81155"
      ]
     },
     "execution_count": 29,
     "metadata": {},
     "output_type": "execute_result"
    }
   ],
   "source": [
    "# Let's create a new data frame containing two columns from the dataframe we read from file\n",
    "df = df_DataReadFromFile[['YearBuilt', 'HomeValue']]\n",
    "df.head(3)"
   ]
  },
  {
   "cell_type": "code",
   "execution_count": null,
   "metadata": {
    "colab": {
     "base_uri": "https://localhost:8080/"
    },
    "executionInfo": {
     "elapsed": 110,
     "status": "ok",
     "timestamp": 1671114657636,
     "user": {
      "displayName": "Rodrigo Costa",
      "userId": "15201424764589684325"
     },
     "user_tz": 300
    },
    "id": "evA6CkGIpAXC",
    "outputId": "dcf280ee-7d2e-40f1-e764-b168f615913d"
   },
   "outputs": [
    {
     "name": "stdout",
     "output_type": "stream",
     "text": [
      "The dataframe df at row 0 has the value MyNewValue in column NewColumn\n",
      "The dataframe df at row 1 has the value MyNewValue in column NewColumn\n",
      "The dataframe df at row 2 has the value MyNewValue in column NewColumn\n",
      "The dataframe df at row 3 has the value MyNewValue in column NewColumn\n",
      "The dataframe df at row 4 has the value MyNewValue in column NewColumn\n",
      "The dataframe df at row 5 has the value MyNewValue in column NewColumn\n",
      "The dataframe df at row 6 has the value MyNewValue in column NewColumn\n",
      "The dataframe df at row 7 has the value MyNewValue in column NewColumn\n",
      "The dataframe df at row 8 has the value MyNewValue in column NewColumn\n",
      "The dataframe df at row 9 has the value MyNewValue in column NewColumn\n"
     ]
    }
   ],
   "source": [
    "# We can loop over the rows of a dataframe and access individual elements using the function 'loc' and 'iloc'\n",
    "# The function 'iloc' (index location) requires you indicate indexes (i.e., integer numbers) of the position you want to access\n",
    "# That is, you must provide a row number and a column number of the location you want to access.\n",
    "\n",
    "# Say we want to plot the first 10 values in the first column (index = 0) of df\n",
    "for i in range(10): # note, if you want to loop over all items in a dataframe you can use range(len(df.index))\n",
    "  print('The dataframe df at row', i, 'has the value', df.iloc[i,0], 'in column', df.columns[0]) # df.columns returns a list of column names"
   ]
  },
  {
   "cell_type": "code",
   "execution_count": null,
   "metadata": {
    "colab": {
     "base_uri": "https://localhost:8080/",
     "height": 363
    },
    "executionInfo": {
     "elapsed": 136,
     "status": "ok",
     "timestamp": 1671114670542,
     "user": {
      "displayName": "Rodrigo Costa",
      "userId": "15201424764589684325"
     },
     "user_tz": 300
    },
    "id": "wYxR266hLfiK",
    "outputId": "03daa6ee-2ba8-4adc-9623-1b0dde3222d9"
   },
   "outputs": [
    {
     "data": {
      "text/html": [
       "\n",
       "  <div id=\"df-3b6f7c12-838b-427d-879c-90d402c892ce\">\n",
       "    <div class=\"colab-df-container\">\n",
       "      <div>\n",
       "<style scoped>\n",
       "    .dataframe tbody tr th:only-of-type {\n",
       "        vertical-align: middle;\n",
       "    }\n",
       "\n",
       "    .dataframe tbody tr th {\n",
       "        vertical-align: top;\n",
       "    }\n",
       "\n",
       "    .dataframe thead th {\n",
       "        text-align: right;\n",
       "    }\n",
       "</style>\n",
       "<table border=\"1\" class=\"dataframe\">\n",
       "  <thead>\n",
       "    <tr style=\"text-align: right;\">\n",
       "      <th></th>\n",
       "      <th>NewColumn</th>\n",
       "      <th>YearBuilt</th>\n",
       "      <th>HomeValue</th>\n",
       "    </tr>\n",
       "  </thead>\n",
       "  <tbody>\n",
       "    <tr>\n",
       "      <th>0</th>\n",
       "      <td>MyNewValue</td>\n",
       "      <td>1900</td>\n",
       "      <td>66135</td>\n",
       "    </tr>\n",
       "    <tr>\n",
       "      <th>1</th>\n",
       "      <td>MyNewValue</td>\n",
       "      <td>1957</td>\n",
       "      <td>74877</td>\n",
       "    </tr>\n",
       "    <tr>\n",
       "      <th>2</th>\n",
       "      <td>MyNewValue</td>\n",
       "      <td>1952</td>\n",
       "      <td>81155</td>\n",
       "    </tr>\n",
       "    <tr>\n",
       "      <th>3</th>\n",
       "      <td>MyNewValue</td>\n",
       "      <td>1900</td>\n",
       "      <td>115615</td>\n",
       "    </tr>\n",
       "    <tr>\n",
       "      <th>4</th>\n",
       "      <td>MyNewValue</td>\n",
       "      <td>1910</td>\n",
       "      <td>142856</td>\n",
       "    </tr>\n",
       "    <tr>\n",
       "      <th>5</th>\n",
       "      <td>MyNewValue</td>\n",
       "      <td>1907</td>\n",
       "      <td>65013</td>\n",
       "    </tr>\n",
       "    <tr>\n",
       "      <th>6</th>\n",
       "      <td>MyNewValue</td>\n",
       "      <td>1927</td>\n",
       "      <td>72043</td>\n",
       "    </tr>\n",
       "    <tr>\n",
       "      <th>7</th>\n",
       "      <td>MyNewValue</td>\n",
       "      <td>1919</td>\n",
       "      <td>83334</td>\n",
       "    </tr>\n",
       "    <tr>\n",
       "      <th>8</th>\n",
       "      <td>MyNewValue</td>\n",
       "      <td>1905</td>\n",
       "      <td>63668</td>\n",
       "    </tr>\n",
       "    <tr>\n",
       "      <th>9</th>\n",
       "      <td>MyNewValue</td>\n",
       "      <td>1963</td>\n",
       "      <td>92140</td>\n",
       "    </tr>\n",
       "  </tbody>\n",
       "</table>\n",
       "</div>\n",
       "      <button class=\"colab-df-convert\" onclick=\"convertToInteractive('df-3b6f7c12-838b-427d-879c-90d402c892ce')\"\n",
       "              title=\"Convert this dataframe to an interactive table.\"\n",
       "              style=\"display:none;\">\n",
       "        \n",
       "  <svg xmlns=\"http://www.w3.org/2000/svg\" height=\"24px\"viewBox=\"0 0 24 24\"\n",
       "       width=\"24px\">\n",
       "    <path d=\"M0 0h24v24H0V0z\" fill=\"none\"/>\n",
       "    <path d=\"M18.56 5.44l.94 2.06.94-2.06 2.06-.94-2.06-.94-.94-2.06-.94 2.06-2.06.94zm-11 1L8.5 8.5l.94-2.06 2.06-.94-2.06-.94L8.5 2.5l-.94 2.06-2.06.94zm10 10l.94 2.06.94-2.06 2.06-.94-2.06-.94-.94-2.06-.94 2.06-2.06.94z\"/><path d=\"M17.41 7.96l-1.37-1.37c-.4-.4-.92-.59-1.43-.59-.52 0-1.04.2-1.43.59L10.3 9.45l-7.72 7.72c-.78.78-.78 2.05 0 2.83L4 21.41c.39.39.9.59 1.41.59.51 0 1.02-.2 1.41-.59l7.78-7.78 2.81-2.81c.8-.78.8-2.07 0-2.86zM5.41 20L4 18.59l7.72-7.72 1.47 1.35L5.41 20z\"/>\n",
       "  </svg>\n",
       "      </button>\n",
       "      \n",
       "  <style>\n",
       "    .colab-df-container {\n",
       "      display:flex;\n",
       "      flex-wrap:wrap;\n",
       "      gap: 12px;\n",
       "    }\n",
       "\n",
       "    .colab-df-convert {\n",
       "      background-color: #E8F0FE;\n",
       "      border: none;\n",
       "      border-radius: 50%;\n",
       "      cursor: pointer;\n",
       "      display: none;\n",
       "      fill: #1967D2;\n",
       "      height: 32px;\n",
       "      padding: 0 0 0 0;\n",
       "      width: 32px;\n",
       "    }\n",
       "\n",
       "    .colab-df-convert:hover {\n",
       "      background-color: #E2EBFA;\n",
       "      box-shadow: 0px 1px 2px rgba(60, 64, 67, 0.3), 0px 1px 3px 1px rgba(60, 64, 67, 0.15);\n",
       "      fill: #174EA6;\n",
       "    }\n",
       "\n",
       "    [theme=dark] .colab-df-convert {\n",
       "      background-color: #3B4455;\n",
       "      fill: #D2E3FC;\n",
       "    }\n",
       "\n",
       "    [theme=dark] .colab-df-convert:hover {\n",
       "      background-color: #434B5C;\n",
       "      box-shadow: 0px 1px 3px 1px rgba(0, 0, 0, 0.15);\n",
       "      filter: drop-shadow(0px 1px 2px rgba(0, 0, 0, 0.3));\n",
       "      fill: #FFFFFF;\n",
       "    }\n",
       "  </style>\n",
       "\n",
       "      <script>\n",
       "        const buttonEl =\n",
       "          document.querySelector('#df-3b6f7c12-838b-427d-879c-90d402c892ce button.colab-df-convert');\n",
       "        buttonEl.style.display =\n",
       "          google.colab.kernel.accessAllowed ? 'block' : 'none';\n",
       "\n",
       "        async function convertToInteractive(key) {\n",
       "          const element = document.querySelector('#df-3b6f7c12-838b-427d-879c-90d402c892ce');\n",
       "          const dataTable =\n",
       "            await google.colab.kernel.invokeFunction('convertToInteractive',\n",
       "                                                     [key], {});\n",
       "          if (!dataTable) return;\n",
       "\n",
       "          const docLinkHtml = 'Like what you see? Visit the ' +\n",
       "            '<a target=\"_blank\" href=https://colab.research.google.com/notebooks/data_table.ipynb>data table notebook</a>'\n",
       "            + ' to learn more about interactive tables.';\n",
       "          element.innerHTML = '';\n",
       "          dataTable['output_type'] = 'display_data';\n",
       "          await google.colab.output.renderOutput(dataTable, element);\n",
       "          const docLink = document.createElement('div');\n",
       "          docLink.innerHTML = docLinkHtml;\n",
       "          element.appendChild(docLink);\n",
       "        }\n",
       "      </script>\n",
       "    </div>\n",
       "  </div>\n",
       "  "
      ],
      "text/plain": [
       "    NewColumn  YearBuilt  HomeValue\n",
       "0  MyNewValue       1900      66135\n",
       "1  MyNewValue       1957      74877\n",
       "2  MyNewValue       1952      81155\n",
       "3  MyNewValue       1900     115615\n",
       "4  MyNewValue       1910     142856\n",
       "5  MyNewValue       1907      65013\n",
       "6  MyNewValue       1927      72043\n",
       "7  MyNewValue       1919      83334\n",
       "8  MyNewValue       1905      63668\n",
       "9  MyNewValue       1963      92140"
      ]
     },
     "execution_count": 30,
     "metadata": {},
     "output_type": "execute_result"
    }
   ],
   "source": [
    "# However, index locations become a problem if, for example, you add new columns at the beginning of your dataframe\n",
    "df.insert(0, 'NewColumn', ['MyNewValue']*len(df.index))\n",
    "df.head(10)"
   ]
  },
  {
   "cell_type": "code",
   "execution_count": null,
   "metadata": {
    "colab": {
     "base_uri": "https://localhost:8080/"
    },
    "executionInfo": {
     "elapsed": 131,
     "status": "ok",
     "timestamp": 1671114702412,
     "user": {
      "displayName": "Rodrigo Costa",
      "userId": "15201424764589684325"
     },
     "user_tz": 300
    },
    "id": "wpQjcv6nMlMs",
    "outputId": "3ec5f97d-0726-4d02-fdfb-a5a75a684966"
   },
   "outputs": [
    {
     "name": "stdout",
     "output_type": "stream",
     "text": [
      "The dataframe df at row 0 has the value MyNewValue in column NewColumn\n",
      "The dataframe df at row 1 has the value MyNewValue in column NewColumn\n",
      "The dataframe df at row 2 has the value MyNewValue in column NewColumn\n",
      "The dataframe df at row 3 has the value MyNewValue in column NewColumn\n",
      "The dataframe df at row 4 has the value MyNewValue in column NewColumn\n",
      "The dataframe df at row 5 has the value MyNewValue in column NewColumn\n",
      "The dataframe df at row 6 has the value MyNewValue in column NewColumn\n",
      "The dataframe df at row 7 has the value MyNewValue in column NewColumn\n",
      "The dataframe df at row 8 has the value MyNewValue in column NewColumn\n",
      "The dataframe df at row 9 has the value MyNewValue in column NewColumn\n"
     ]
    }
   ],
   "source": [
    "# If we repeat the code above, we have a problem!\n",
    "for i in range(10): # len(df.index) is equal to the number of rows in a dataframe (i.e., len() is the length function)\n",
    "  print('The dataframe df at row', i, 'has the value', df.iloc[i,0], 'in column', df.columns[0]) # df.columns returns a list of column names"
   ]
  },
  {
   "cell_type": "code",
   "execution_count": null,
   "metadata": {
    "colab": {
     "base_uri": "https://localhost:8080/"
    },
    "executionInfo": {
     "elapsed": 414,
     "status": "ok",
     "timestamp": 1671114886896,
     "user": {
      "displayName": "Rodrigo Costa",
      "userId": "15201424764589684325"
     },
     "user_tz": 300
    },
    "id": "nrk5l86qMSqm",
    "outputId": "c0bc767a-04c6-4879-d9c5-2a94949117ce"
   },
   "outputs": [
    {
     "name": "stdout",
     "output_type": "stream",
     "text": [
      "The dataframe df at row 0 has the value 1900 in column YearBuilt.\n",
      "The dataframe df at row 1 has the value 1957 in column YearBuilt.\n",
      "The dataframe df at row 2 has the value 1952 in column YearBuilt.\n",
      "The dataframe df at row 3 has the value 1900 in column YearBuilt.\n",
      "The dataframe df at row 4 has the value 1910 in column YearBuilt.\n",
      "The dataframe df at row 5 has the value 1907 in column YearBuilt.\n",
      "The dataframe df at row 6 has the value 1927 in column YearBuilt.\n",
      "The dataframe df at row 7 has the value 1919 in column YearBuilt.\n",
      "The dataframe df at row 8 has the value 1905 in column YearBuilt.\n",
      "The dataframe df at row 9 has the value 1963 in column YearBuilt.\n"
     ]
    }
   ],
   "source": [
    "# For this reason, in most cases we should use the function 'loc' to access values in a dataframe\n",
    "# The function 'loc' requires the row index to be an integer but the column to be given by its header (i.e., name)\n",
    "for i in range(10): \n",
    "  print('The dataframe df at row', i, 'has the value', df.loc[i,'YearBuilt'], 'in column YearBuilt.')"
   ]
  },
  {
   "cell_type": "code",
   "execution_count": null,
   "metadata": {
    "colab": {
     "base_uri": "https://localhost:8080/"
    },
    "executionInfo": {
     "elapsed": 468,
     "status": "ok",
     "timestamp": 1671114920828,
     "user": {
      "displayName": "Rodrigo Costa",
      "userId": "15201424764589684325"
     },
     "user_tz": 300
    },
    "id": "6isqVrCnpdz6",
    "outputId": "ae0392ce-3754-4eb8-8dfd-f9b060f34e9d"
   },
   "outputs": [
    {
     "name": "stdout",
     "output_type": "stream",
     "text": [
      "In dataframe df, the 0 th column is NewColumn\n",
      "In dataframe df, the 1 th column is YearBuilt\n",
      "In dataframe df, the 2 th column is HomeValue\n"
     ]
    }
   ],
   "source": [
    "# Loop over the rows of a dataframe\n",
    "for i in range(len(df.columns)): # len(df.index) is equal to the number of rows in a dataframe (i.e., len() is the length function)\n",
    "  print('In dataframe df, the',i,'th column is',df.columns[i])"
   ]
  },
  {
   "cell_type": "markdown",
   "metadata": {
    "id": "ibFPO7BzNkG6"
   },
   "source": [
    "#### <font color='orange'> Loops and conditional statements </font>"
   ]
  },
  {
   "cell_type": "code",
   "execution_count": null,
   "metadata": {
    "colab": {
     "base_uri": "https://localhost:8080/"
    },
    "executionInfo": {
     "elapsed": 128,
     "status": "ok",
     "timestamp": 1671115244148,
     "user": {
      "displayName": "Rodrigo Costa",
      "userId": "15201424764589684325"
     },
     "user_tz": 300
    },
    "id": "cywqx6AuOXYZ",
    "outputId": "5aba19b6-2ecf-4ebf-913f-cf11e9530e0e"
   },
   "outputs": [
    {
     "name": "stdout",
     "output_type": "stream",
     "text": [
      "Home 0 was built before 1950!\n",
      "Home 3 was built before 1950!\n",
      "Home 4 was built before 1950!\n",
      "Home 5 was built before 1950!\n",
      "Home 6 was built before 1950!\n",
      "Home 7 was built before 1950!\n",
      "Home 8 was built before 1950!\n",
      "Home 11 was built before 1950!\n",
      "Home 12 was built before 1950!\n",
      "Home 13 was built before 1950!\n",
      "Home 15 was built before 1950!\n",
      "Home 16 was built before 1950!\n",
      "Home 17 was built before 1950!\n",
      "Home 20 was built before 1950!\n",
      "Home 21 was built before 1950!\n",
      "Home 22 was built before 1950!\n",
      "Home 23 was built before 1950!\n",
      "Home 24 was built before 1950!\n",
      "Home 25 was built before 1950!\n",
      "Home 26 was built before 1950!\n",
      "Home 27 was built before 1950!\n",
      "Home 28 was built before 1950!\n",
      "Home 29 was built before 1950!\n",
      "Home 30 was built before 1950!\n",
      "Home 32 was built before 1950!\n",
      "Home 33 was built before 1950!\n",
      "Home 36 was built before 1950!\n",
      "Home 40 was built before 1950!\n",
      "Home 41 was built before 1950!\n",
      "Home 42 was built before 1950!\n",
      "Home 46 was built before 1950!\n",
      "Home 47 was built before 1950!\n",
      "Home 48 was built before 1950!\n"
     ]
    }
   ],
   "source": [
    "# Loops can be combined with if statements.\n",
    "# Say you want to check which homes were build before 1950\n",
    "for i in range(len(df.index)):\n",
    "\n",
    "    if df.loc[i,'YearBuilt'] < 1950:\n",
    "        print('Home', i, 'was built before 1950!')"
   ]
  },
  {
   "cell_type": "code",
   "execution_count": null,
   "metadata": {
    "colab": {
     "base_uri": "https://localhost:8080/"
    },
    "executionInfo": {
     "elapsed": 131,
     "status": "ok",
     "timestamp": 1671115821328,
     "user": {
      "displayName": "Rodrigo Costa",
      "userId": "15201424764589684325"
     },
     "user_tz": 300
    },
    "id": "SEihAle3JbUY",
    "outputId": "b58b5d2b-fa0a-49dc-9a87-8345f5a48c42"
   },
   "outputs": [
    {
     "name": "stdout",
     "output_type": "stream",
     "text": [
      "Home 22 was built before 1950 and its value is below $50,000!\n",
      "Home 23 was built before 1950 and its value is below $50,000!\n"
     ]
    }
   ],
   "source": [
    "# Lets say we want to identify homes that were built before 1950 which have a home value above $50,000\n",
    "for i in range(len(df.index)):\n",
    "\n",
    "    if df.loc[i,'YearBuilt'] < 1950 and df.loc[i,'HomeValue'] < 50000:\n",
    "        print('Home', i, 'was built before 1950 and its value is below $50,000!')"
   ]
  },
  {
   "cell_type": "markdown",
   "metadata": {
    "id": "UXJG4hpQqNja"
   },
   "source": [
    "\n",
    "\n",
    "---\n",
    "\n",
    "\n",
    "\n",
    "---\n",
    "\n"
   ]
  },
  {
   "cell_type": "markdown",
   "metadata": {
    "id": "IVqie9Avp0tE"
   },
   "source": [
    "### <font color='orange'> Random Numbers </font>"
   ]
  },
  {
   "cell_type": "code",
   "execution_count": null,
   "metadata": {
    "id": "WDgCPJDMqaUt"
   },
   "outputs": [],
   "source": [
    "# NumPy is a very useful package to help with everything that numeric\n",
    "import numpy as np # to import numpy"
   ]
  },
  {
   "cell_type": "code",
   "execution_count": null,
   "metadata": {
    "id": "bmzGj7yNrAIK"
   },
   "outputs": [],
   "source": [
    "# Here, we will use numpy to help us with generating random numbers from multiple distributions\n",
    "# We will import numpy's *random number generator' (rng) using\n",
    "from numpy.random import default_rng \n",
    "\n",
    "# To create a random number generators we call the function 'default_rng()' and provide a seed number for replicability\n",
    "rng = default_rng(13)"
   ]
  },
  {
   "cell_type": "markdown",
   "metadata": {
    "id": "2-xcQi-ArUqo"
   },
   "source": [
    "#### <font color='orange'> Uniformly distributed random number </font>"
   ]
  },
  {
   "cell_type": "code",
   "execution_count": null,
   "metadata": {
    "colab": {
     "base_uri": "https://localhost:8080/"
    },
    "executionInfo": {
     "elapsed": 2,
     "status": "ok",
     "timestamp": 1669830960861,
     "user": {
      "displayName": "Rodrigo Costa",
      "userId": "15201424764589684325"
     },
     "user_tz": 480
    },
    "id": "YtwyUXvcrU01",
    "outputId": "45cfe610-3c70-40fa-8424-59b17af215c5"
   },
   "outputs": [
    {
     "data": {
      "text/plain": [
       "0.8647975870165865"
      ]
     },
     "execution_count": 49,
     "metadata": {},
     "output_type": "execute_result"
    }
   ],
   "source": [
    "# This is how we generate numbers between 0 and 1\n",
    "# We call the function 'random' from our rng\n",
    "rng.random()"
   ]
  },
  {
   "cell_type": "code",
   "execution_count": null,
   "metadata": {
    "colab": {
     "base_uri": "https://localhost:8080/"
    },
    "executionInfo": {
     "elapsed": 467,
     "status": "ok",
     "timestamp": 1669831041576,
     "user": {
      "displayName": "Rodrigo Costa",
      "userId": "15201424764589684325"
     },
     "user_tz": 480
    },
    "id": "DUEMY8iVroka",
    "outputId": "d0c35ec4-2a32-4312-9a15-90443b670449"
   },
   "outputs": [
    {
     "name": "stdout",
     "output_type": "stream",
     "text": [
      "4.276512574660295\n",
      "13.055116993921711\n"
     ]
    }
   ],
   "source": [
    "# If we want uniformly distributed random numbers between another range, there are simple solutions\n",
    "print(rng.random() * 5) # generates uniformily distributed numbers between 0 and 5\n",
    "print(9 + rng.random() * 5) # generates uniformily distributed numbers between 9 and 14"
   ]
  },
  {
   "cell_type": "code",
   "execution_count": null,
   "metadata": {
    "colab": {
     "base_uri": "https://localhost:8080/"
    },
    "executionInfo": {
     "elapsed": 281,
     "status": "ok",
     "timestamp": 1669831268155,
     "user": {
      "displayName": "Rodrigo Costa",
      "userId": "15201424764589684325"
     },
     "user_tz": 480
    },
    "id": "spZ2P3Ihr-px",
    "outputId": "79ad342c-ef82-421b-a001-5667ce06dea0"
   },
   "outputs": [
    {
     "name": "stdout",
     "output_type": "stream",
     "text": [
      "10 random numbers uniformly distributed between 0 and 1:\n",
      "[0.41964226 0.25784019 0.03161801 0.29120039 0.92838689 0.53071376\n",
      " 0.27385348 0.11396803 0.89781595 0.09149888] \n",
      "\n",
      "10 random numbers uniformly distributed between 0 and 5:\n",
      "[0.19154159 0.56059763 3.7631365  4.67044278 0.47843909 3.18909697\n",
      " 3.2600572  2.63168848 0.01927689 3.46158134] \n",
      "\n",
      "10 random numbers uniformly distributed between 9 and 14:\n",
      "[11.15064071 13.65834848 13.98560328 12.18286568  9.5799798  10.58696728\n",
      " 12.14878794 13.35605539 11.10603018 10.8046677 ] \n",
      "\n"
     ]
    }
   ],
   "source": [
    "# If we want multiple (i.e., 10) uniformly distribtued random numbers we can\n",
    "print('10 random numbers uniformly distributed between 0 and 1:')\n",
    "print(rng.random(10),'\\n')\n",
    "print('10 random numbers uniformly distributed between 0 and 5:')\n",
    "print(rng.random(10) * 5,'\\n')\n",
    "print('10 random numbers uniformly distributed between 9 and 14:')\n",
    "print(9 + rng.random(10) * 5,'\\n')"
   ]
  },
  {
   "cell_type": "markdown",
   "metadata": {
    "id": "xSVx1g-RszkS"
   },
   "source": [
    "#### <font color='orange'> Normally distributed random number ([documentation](https://numpy.org/doc/stable/reference/random/generated/numpy.random.normal.html)) </font>"
   ]
  },
  {
   "cell_type": "code",
   "execution_count": null,
   "metadata": {
    "colab": {
     "base_uri": "https://localhost:8080/"
    },
    "executionInfo": {
     "elapsed": 6,
     "status": "ok",
     "timestamp": 1669831474576,
     "user": {
      "displayName": "Rodrigo Costa",
      "userId": "15201424764589684325"
     },
     "user_tz": 480
    },
    "id": "oVoF5x-as6Zf",
    "outputId": "522c0295-887f-4fa7-8cbb-7a30a927c813"
   },
   "outputs": [
    {
     "data": {
      "text/plain": [
       "7.829809761331112"
      ]
     },
     "execution_count": 61,
     "metadata": {},
     "output_type": "execute_result"
    }
   ],
   "source": [
    "# To generate standard (i.e., mean=0, stdev=1) you use\n",
    "rng.normal()"
   ]
  },
  {
   "cell_type": "code",
   "execution_count": null,
   "metadata": {
    "colab": {
     "base_uri": "https://localhost:8080/"
    },
    "executionInfo": {
     "elapsed": 5,
     "status": "ok",
     "timestamp": 1669831654125,
     "user": {
      "displayName": "Rodrigo Costa",
      "userId": "15201424764589684325"
     },
     "user_tz": 480
    },
    "id": "gVJBZQaXuI9M",
    "outputId": "ecbe452c-581a-4e86-e3d4-45fb94b35a04"
   },
   "outputs": [
    {
     "data": {
      "text/plain": [
       "12.234487441872846"
      ]
     },
     "execution_count": 62,
     "metadata": {},
     "output_type": "execute_result"
    }
   ],
   "source": [
    "# To generate non-standard (i.e., mean=loc, stdev=scale) you use\n",
    "rng.normal(loc=10,scale=2)"
   ]
  },
  {
   "cell_type": "code",
   "execution_count": null,
   "metadata": {
    "colab": {
     "base_uri": "https://localhost:8080/"
    },
    "executionInfo": {
     "elapsed": 5,
     "status": "ok",
     "timestamp": 1669831858371,
     "user": {
      "displayName": "Rodrigo Costa",
      "userId": "15201424764589684325"
     },
     "user_tz": 480
    },
    "id": "fDMDqU4Gs_Zj",
    "outputId": "73301b8c-b5bb-4c4c-aeb3-efb2d189f093"
   },
   "outputs": [
    {
     "name": "stdout",
     "output_type": "stream",
     "text": [
      "10 random numbers normally distributed with mean=0 and stdev=1:\n",
      "[-0.3328749   0.3448294   1.8823816   0.3348342  -1.11551868 -0.43144972\n",
      "  1.38511062 -1.08996106 -2.58142946 -2.29395519] \n",
      "\n",
      "10 random numbers normally distributed with mean=10 and stdev=2:\n",
      "[ 7.32212208 11.59878706 10.1769264   8.48544575  7.42972694  9.77202138\n",
      "  9.68080873  8.87214611  9.50949171  8.47363645] \n",
      "\n"
     ]
    }
   ],
   "source": [
    "# To generate multiple normally distributed random numbers you use\n",
    "print('10 random numbers normally distributed with mean=0 and stdev=1:')\n",
    "print(rng.normal(size=10),'\\n')\n",
    "print('10 random numbers normally distributed with mean=10 and stdev=2:')\n",
    "print(rng.normal(loc=10,scale=2,size=10),'\\n')"
   ]
  },
  {
   "cell_type": "markdown",
   "metadata": {
    "id": "P3pWYiRqvEL-"
   },
   "source": [
    "#### <font color='orange'> Lognormally distributed random number ([documentation](https://numpy.org/doc/stable/reference/random/generated/numpy.random.lognormal.html)) </font>"
   ]
  },
  {
   "cell_type": "markdown",
   "metadata": {
    "id": "hix9mVnavYjz"
   },
   "source": [
    "A random variable is said to be lognormally distributed when if\n",
    "\n",
    "$Y = exp(X)$ \n",
    "\n",
    "where **X** is a normally distributed. That is, \n",
    "\n",
    "$ log(Y) = log(exp(X)) \\rightarrow log(Y) = X$\n",
    "\n",
    "which means that the logarithm of **Y** is normally distributed (hence the name lognormal). The distribution **X** is called the 'underlying (normal) distribution'. **X** has mean and a standard deviation. Often, the lognormal distribution is defined in terms of the mean and standard deviation of the underlying normal distribution **X**."
   ]
  },
  {
   "cell_type": "markdown",
   "metadata": {
    "id": "4in0OgggywmC"
   },
   "source": [
    "<font color='orange'> 'Proof' </font>"
   ]
  },
  {
   "cell_type": "code",
   "execution_count": null,
   "metadata": {
    "colab": {
     "base_uri": "https://localhost:8080/",
     "height": 335
    },
    "executionInfo": {
     "elapsed": 955,
     "status": "ok",
     "timestamp": 1669833186630,
     "user": {
      "displayName": "Rodrigo Costa",
      "userId": "15201424764589684325"
     },
     "user_tz": 480
    },
    "id": "v1-_UWSAxlIV",
    "outputId": "38cb10f9-6857-44ca-b7db-0e549cfc23e3"
   },
   "outputs": [
    {
     "data": {
      "text/plain": [
       "array([[<matplotlib.axes._subplots.AxesSubplot object at 0x7f1a9fe88210>,\n",
       "        <matplotlib.axes._subplots.AxesSubplot object at 0x7f1a9fe32490>]],\n",
       "      dtype=object)"
      ]
     },
     "execution_count": 97,
     "metadata": {},
     "output_type": "execute_result"
    },
    {
     "data": {
      "image/png": "[encoded data removed]",
      "text/plain": [
       "<Figure size 432x288 with 2 Axes>"
      ]
     },
     "metadata": {
      "needs_background": "light"
     },
     "output_type": "display_data"
    }
   ],
   "source": [
    "# 10,000 normally distibuted random number, i.e., X\n",
    "xs = rng.normal(loc=10,scale=0.5,size=10000)\n",
    "\n",
    "# The exponential of the numbers above, i.e., Y\n",
    "ys = np.exp(xs)\n",
    "\n",
    "# Store them in a dataframe to use Pandas plotting features\n",
    "df_plot = pd.DataFrame({'X':xs, 'Y':ys})\n",
    "\n",
    "# Histograms\n",
    "df_plot.hist(['X','Y'],bins=20)"
   ]
  },
  {
   "cell_type": "code",
   "execution_count": null,
   "metadata": {
    "colab": {
     "base_uri": "https://localhost:8080/"
    },
    "executionInfo": {
     "elapsed": 6,
     "status": "ok",
     "timestamp": 1669831930687,
     "user": {
      "displayName": "Rodrigo Costa",
      "userId": "15201424764589684325"
     },
     "user_tz": 480
    },
    "id": "1vBW5ykFvDih",
    "outputId": "2cec3c9f-f19d-4efb-aeb5-a8b979616f45"
   },
   "outputs": [
    {
     "data": {
      "text/plain": [
       "1.1299674827298574"
      ]
     },
     "execution_count": 67,
     "metadata": {},
     "output_type": "execute_result"
    }
   ],
   "source": [
    "# To generate standard (i.e., mean=0, stdev=1) you use\n",
    "rng.lognormal() "
   ]
  },
  {
   "cell_type": "code",
   "execution_count": null,
   "metadata": {
    "colab": {
     "base_uri": "https://localhost:8080/"
    },
    "executionInfo": {
     "elapsed": 4,
     "status": "ok",
     "timestamp": 1669832370094,
     "user": {
      "displayName": "Rodrigo Costa",
      "userId": "15201424764589684325"
     },
     "user_tz": 480
    },
    "id": "K0E66wdvwKJE",
    "outputId": "d036e6b2-d072-4313-e114-350779ce3129"
   },
   "outputs": [
    {
     "data": {
      "text/plain": [
       "2.0269180521395693"
      ]
     },
     "execution_count": 70,
     "metadata": {},
     "output_type": "execute_result"
    }
   ],
   "source": [
    "X_m = 0 # mean of the underlying distribution X\n",
    "X_std = 1 # stdev of the underlying distribution X\n",
    "\n",
    "# Lognormal random number\n",
    "rng.lognormal(mean=X_m,sigma=X_std) "
   ]
  },
  {
   "cell_type": "code",
   "execution_count": null,
   "metadata": {
    "colab": {
     "base_uri": "https://localhost:8080/"
    },
    "executionInfo": {
     "elapsed": 5,
     "status": "ok",
     "timestamp": 1669832506724,
     "user": {
      "displayName": "Rodrigo Costa",
      "userId": "15201424764589684325"
     },
     "user_tz": 480
    },
    "id": "WZurId-GxNt5",
    "outputId": "b28bfb55-0adf-4953-a998-47a40143604a"
   },
   "outputs": [
    {
     "name": "stdout",
     "output_type": "stream",
     "text": [
      "10 random numbers lognormally distributed with X_mean=0 and X_stdev=1:\n",
      "[1.57429325 1.90655987 1.06969802 0.90437938 1.15206672 0.22301557\n",
      " 1.13486354 0.38025581 1.48226463 1.53605426] \n",
      "\n",
      "10 random numbers lognormally distributed with X_mean=10 and X_stdev=2:\n",
      "[  3693.80903132  75007.41754417  44874.49438377  20247.92152542\n",
      "  94052.97291446  11782.92356522  12477.52163852  25734.10307946\n",
      "  19566.11245095 216280.99469108] \n",
      "\n"
     ]
    }
   ],
   "source": [
    "# To generate multiple normally distributed random numbers you use\n",
    "print('10 random numbers lognormally distributed with X_mean=0 and X_stdev=1:')\n",
    "print(rng.lognormal(size=10),'\\n')\n",
    "print('10 random numbers lognormally distributed with X_mean=10 and X_stdev=2:')\n",
    "print(rng.lognormal(mean=10,sigma=2,size=10),'\\n')"
   ]
  },
  {
   "cell_type": "markdown",
   "metadata": {
    "id": "yxAszdcc1DKk"
   },
   "source": [
    "#### <font color='orange'> Random numbers following a multinomial distribution ([documentation](https://numpy.org/doc/stable/reference/random/generated/numpy.random.Generator.choice.html)) </font>"
   ]
  },
  {
   "cell_type": "markdown",
   "metadata": {
    "id": "ABWuXybT1S_B"
   },
   "source": [
    "Imagine you want to generate numbers following an arbitrary or discountinuous distribution. For example, you collected data on peoples preference for ice cream flavor a obtained the following data:"
   ]
  },
  {
   "cell_type": "code",
   "execution_count": null,
   "metadata": {
    "colab": {
     "base_uri": "https://localhost:8080/",
     "height": 342
    },
    "executionInfo": {
     "elapsed": 363,
     "status": "ok",
     "timestamp": 1669834987181,
     "user": {
      "displayName": "Rodrigo Costa",
      "userId": "15201424764589684325"
     },
     "user_tz": 480
    },
    "id": "JAttT3bb1gIo",
    "outputId": "7ea37a93-8c0e-4216-da2b-38e8683fc000"
   },
   "outputs": [
    {
     "data": {
      "text/plain": [
       "<matplotlib.axes._subplots.AxesSubplot at 0x7f1a9fc12350>"
      ]
     },
     "execution_count": 130,
     "metadata": {},
     "output_type": "execute_result"
    },
    {
     "data": {
      "image/png": "[encoded data removed]",
      "text/plain": [
       "<Figure size 432x288 with 1 Axes>"
      ]
     },
     "metadata": {
      "needs_background": "light"
     },
     "output_type": "display_data"
    }
   ],
   "source": [
    "df_ice_cream = pd.DataFrame({'Flavour':['Chocolate','Strawberry','Vanilla'],\n",
    "                             'Preference':[5,20,10]})\n",
    "\n",
    "df_ice_cream.plot.bar(x='Flavour',y='Preference')"
   ]
  },
  {
   "cell_type": "code",
   "execution_count": null,
   "metadata": {
    "id": "Jhxashvz5Opd"
   },
   "outputs": [],
   "source": [
    "# The potential alternatives of our multinomial distribution are the ice cream flavours\n",
    "alternatives = df_ice_cream['Flavour']"
   ]
  },
  {
   "cell_type": "code",
   "execution_count": null,
   "metadata": {
    "colab": {
     "base_uri": "https://localhost:8080/"
    },
    "executionInfo": {
     "elapsed": 1,
     "status": "ok",
     "timestamp": 1669834988338,
     "user": {
      "displayName": "Rodrigo Costa",
      "userId": "15201424764589684325"
     },
     "user_tz": 480
    },
    "id": "ds32R61o2ffK",
    "outputId": "c059962e-fbb5-4b52-d606-721cfbe067be"
   },
   "outputs": [
    {
     "data": {
      "text/plain": [
       "[0.14285714285714285, 0.5714285714285714, 0.2857142857142857]"
      ]
     },
     "execution_count": 132,
     "metadata": {},
     "output_type": "execute_result"
    }
   ],
   "source": [
    "# The potential 'states' of our multinomial variable are\n",
    "total_responses = df_ice_cream['Preference'].sum() # pandas sum\n",
    "\n",
    "# Now, we create a list that in which the probability that any ice cream flavour is prefered is: \n",
    "# number of persons indicating the preference for flavor [i] / total responses\n",
    "\n",
    "# You can do this in an 'in-line' for loop as\n",
    "prob = [i/total_responses for i in df_ice_cream['Preference']] # for each flavour [i] we calculate preference[i]/total responses\n",
    "prob"
   ]
  },
  {
   "cell_type": "markdown",
   "metadata": {
    "id": "x-dFPMpb3uyu"
   },
   "source": [
    "It is very important that the probability associated with each state (i.e., prob) is normalized by the total sum. That is, <font color='red'> do NOT manually build the list with the probabilities </font> because they must add up to 1 at very high precision. "
   ]
  },
  {
   "cell_type": "code",
   "execution_count": null,
   "metadata": {
    "colab": {
     "base_uri": "https://localhost:8080/"
    },
    "executionInfo": {
     "elapsed": 1,
     "status": "ok",
     "timestamp": 1669834989802,
     "user": {
      "displayName": "Rodrigo Costa",
      "userId": "15201424764589684325"
     },
     "user_tz": 480
    },
    "id": "Rn_DZoyt4Usc",
    "outputId": "06497166-c206-4b91-d720-3fd30a19dfab"
   },
   "outputs": [
    {
     "data": {
      "text/plain": [
       "0.9999999999999999"
      ]
     },
     "execution_count": 133,
     "metadata": {},
     "output_type": "execute_result"
    }
   ],
   "source": [
    "np.sum(prob) # this is virtually 1"
   ]
  },
  {
   "cell_type": "code",
   "execution_count": null,
   "metadata": {
    "colab": {
     "base_uri": "https://localhost:8080/",
     "height": 35
    },
    "executionInfo": {
     "elapsed": 3,
     "status": "ok",
     "timestamp": 1669834990169,
     "user": {
      "displayName": "Rodrigo Costa",
      "userId": "15201424764589684325"
     },
     "user_tz": 480
    },
    "id": "zkbblYc7257d",
    "outputId": "1ab08025-37fb-462a-f59a-db577f1b6de6"
   },
   "outputs": [
    {
     "data": {
      "application/vnd.google.colaboratory.intrinsic+json": {
       "type": "string"
      },
      "text/plain": [
       "'Vanilla'"
      ]
     },
     "execution_count": 134,
     "metadata": {},
     "output_type": "execute_result"
    }
   ],
   "source": [
    "# Now, we can use the following method to simulate a persons ice cream flavour 'choice'. \n",
    "rng.choice(a=alternatives,p=prob)"
   ]
  },
  {
   "cell_type": "code",
   "execution_count": null,
   "metadata": {
    "colab": {
     "base_uri": "https://localhost:8080/"
    },
    "executionInfo": {
     "elapsed": 3,
     "status": "ok",
     "timestamp": 1669834991883,
     "user": {
      "displayName": "Rodrigo Costa",
      "userId": "15201424764589684325"
     },
     "user_tz": 480
    },
    "id": "NRrzlhxD59BC",
    "outputId": "9776ce0a-11de-4aba-b4cf-8ba1f0ff70f0"
   },
   "outputs": [
    {
     "data": {
      "text/plain": [
       "array(['Vanilla', 'Vanilla', 'Strawberry', 'Strawberry', 'Vanilla',\n",
       "       'Strawberry', 'Vanilla', 'Strawberry', 'Strawberry', 'Strawberry'],\n",
       "      dtype=object)"
      ]
     },
     "execution_count": 135,
     "metadata": {},
     "output_type": "execute_result"
    }
   ],
   "source": [
    "# To simulate multiple choices you simply use\n",
    "rng.choice(a=alternatives,p=prob,size=10)"
   ]
  },
  {
   "cell_type": "code",
   "execution_count": null,
   "metadata": {
    "colab": {
     "base_uri": "https://localhost:8080/"
    },
    "executionInfo": {
     "elapsed": 1,
     "status": "ok",
     "timestamp": 1669834994174,
     "user": {
      "displayName": "Rodrigo Costa",
      "userId": "15201424764589684325"
     },
     "user_tz": 480
    },
    "id": "zogAIZSB6KZA",
    "outputId": "b7b64be7-7626-4116-b9ac-98670a9166e7"
   },
   "outputs": [
    {
     "name": "stdout",
     "output_type": "stream",
     "text": [
      "(array(['Chocolate', 'Strawberry', 'Vanilla'], dtype=object), array([140, 578, 282]))\n",
      "[142.85714285714286, 571.4285714285714, 285.7142857142857]\n"
     ]
    }
   ],
   "source": [
    "# As a sanity check, if we generate a large portion of the choices we should see them at the frequency given by 'prob'\n",
    "print(np.unique(rng.choice(a=alternatives,p=prob,size=1000), return_counts=True))\n",
    "print([i*1000 for i in prob])"
   ]
  },
  {
   "cell_type": "markdown",
   "metadata": {
    "id": "EFTNlioc0i-w"
   },
   "source": [
    "#### <font color='orange'> Other distributions </font>\n",
    "To generate random number following other distributions you can apply the concepts above with the syntaxes as defined here:\n",
    "[documentation](https://numpy.org/doc/stable/reference/random/generator.html#distributions)\n"
   ]
  },
  {
   "cell_type": "markdown",
   "metadata": {
    "id": "yKUtmxzxqOuf"
   },
   "source": [
    "\n",
    "\n",
    "---\n",
    "\n",
    "\n",
    "\n",
    "---\n",
    "\n"
   ]
  },
  {
   "cell_type": "markdown",
   "metadata": {
    "id": "7DlFVS2ppuyC"
   },
   "source": [
    "### <font color='orange'> Probability Distributions </font>"
   ]
  },
  {
   "cell_type": "code",
   "execution_count": null,
   "metadata": {
    "id": "Sz0dPCAW_of9"
   },
   "outputs": [],
   "source": [
    "import scipy \n",
    "from scipy import stats as sts\n",
    "from scipy.stats import norm\n",
    "from scipy.stats import lognorm"
   ]
  },
  {
   "cell_type": "code",
   "execution_count": null,
   "metadata": {
    "colab": {
     "base_uri": "https://localhost:8080/",
     "height": 577
    },
    "executionInfo": {
     "elapsed": 1833,
     "status": "ok",
     "timestamp": 1669836473473,
     "user": {
      "displayName": "Rodrigo Costa",
      "userId": "15201424764589684325"
     },
     "user_tz": 480
    },
    "id": "41X66iz6-9Wf",
    "outputId": "b464824c-375f-40fb-f666-04d54302d0fa"
   },
   "outputs": [
    {
     "name": "stdout",
     "output_type": "stream",
     "text": [
      "AxesSubplot(0.125,0.125;0.775x0.755)\n",
      "AxesSubplot(0.125,0.125;0.775x0.755)\n"
     ]
    },
    {
     "data": {
      "image/png": "[encoded data removed]",
      "text/plain": [
       "<Figure size 432x288 with 1 Axes>"
      ]
     },
     "metadata": {
      "needs_background": "light"
     },
     "output_type": "display_data"
    },
    {
     "data": {
      "image/png": "[encoded data removed]",
      "text/plain": [
       "<Figure size 432x288 with 1 Axes>"
      ]
     },
     "metadata": {
      "needs_background": "light"
     },
     "output_type": "display_data"
    }
   ],
   "source": [
    "df_dists = pd.DataFrame()\n",
    "\n",
    "mu = 50\n",
    "stdev = 20\n",
    "\n",
    "df_dists['x'] = range(100)\n",
    "df_dists['NormalCDF'] = df_dists['x'].apply(lambda x: norm.cdf(x,loc=mu,scale=stdev))\n",
    "df_dists['NormalPDF'] = df_dists['x'].apply(lambda x: norm.pdf(x,loc=mu,scale=stdev))\n",
    "print(df_dists.plot.scatter(x='x',y='NormalCDF'))\n",
    "print(df_dists.plot.scatter(x='x',y='NormalPDF'))"
   ]
  },
  {
   "cell_type": "markdown",
   "metadata": {
    "id": "j0RRt6FPqP5C"
   },
   "source": [
    "\n",
    "\n",
    "---\n",
    "\n",
    "\n",
    "\n",
    "---\n",
    "\n"
   ]
  },
  {
   "cell_type": "markdown",
   "metadata": {
    "id": "YbSonbVup4f9"
   },
   "source": [
    "### <font color='orange'> Plots </font>\n",
    "\n",
    "There are multiple plotting packages for scientific plotting. Personally, I find that the Grammar of Graphics (a.k.a., ggplot) developed for R is the best one out there. Matlab enthusiasts may disagree :)\n",
    "\n",
    "[Plotnine](https://plotnine.readthedocs.io/en/stable/index.html) is a Python implementation of ggplot. If you have a preferred package (e.g., matplotlib), you are not required to move away from it. However, all class examples will use Plotnine and some may not have an equivalent in other libraries (e.g., creting animations, for example). I will not offer support with libraries other than Plotnine."
   ]
  },
  {
   "cell_type": "code",
   "execution_count": null,
   "metadata": {
    "colab": {
     "base_uri": "https://localhost:8080/",
     "height": 424
    },
    "executionInfo": {
     "elapsed": 219,
     "status": "ok",
     "timestamp": 1670444429313,
     "user": {
      "displayName": "Rodrigo Costa",
      "userId": "15201424764589684325"
     },
     "user_tz": 300
    },
    "id": "A-b8CNbCptqo",
    "outputId": "88ead5c3-484c-4835-c0a0-4c1b2439251a"
   },
   "outputs": [
    {
     "data": {
      "text/html": [
       "\n",
       "  <div id=\"df-37fa89a6-f68d-4734-b753-70d34f161800\">\n",
       "    <div class=\"colab-df-container\">\n",
       "      <div>\n",
       "<style scoped>\n",
       "    .dataframe tbody tr th:only-of-type {\n",
       "        vertical-align: middle;\n",
       "    }\n",
       "\n",
       "    .dataframe tbody tr th {\n",
       "        vertical-align: top;\n",
       "    }\n",
       "\n",
       "    .dataframe thead th {\n",
       "        text-align: right;\n",
       "    }\n",
       "</style>\n",
       "<table border=\"1\" class=\"dataframe\">\n",
       "  <thead>\n",
       "    <tr style=\"text-align: right;\">\n",
       "      <th></th>\n",
       "      <th>X</th>\n",
       "      <th>Y</th>\n",
       "      <th>W</th>\n",
       "      <th>Z</th>\n",
       "      <th>S</th>\n",
       "    </tr>\n",
       "  </thead>\n",
       "  <tbody>\n",
       "    <tr>\n",
       "      <th>0</th>\n",
       "      <td>0</td>\n",
       "      <td>59.391519</td>\n",
       "      <td>0.297271</td>\n",
       "      <td>0.352267</td>\n",
       "      <td>6</td>\n",
       "    </tr>\n",
       "    <tr>\n",
       "      <th>1</th>\n",
       "      <td>1</td>\n",
       "      <td>66.372906</td>\n",
       "      <td>-0.724275</td>\n",
       "      <td>0.561238</td>\n",
       "      <td>6</td>\n",
       "    </tr>\n",
       "    <tr>\n",
       "      <th>2</th>\n",
       "      <td>2</td>\n",
       "      <td>84.208531</td>\n",
       "      <td>0.328446</td>\n",
       "      <td>1.074793</td>\n",
       "      <td>7</td>\n",
       "    </tr>\n",
       "    <tr>\n",
       "      <th>3</th>\n",
       "      <td>3</td>\n",
       "      <td>7.090760</td>\n",
       "      <td>0.557377</td>\n",
       "      <td>2.161239</td>\n",
       "      <td>5</td>\n",
       "    </tr>\n",
       "    <tr>\n",
       "      <th>4</th>\n",
       "      <td>4</td>\n",
       "      <td>0.014427</td>\n",
       "      <td>2.498046</td>\n",
       "      <td>0.722000</td>\n",
       "      <td>5</td>\n",
       "    </tr>\n",
       "    <tr>\n",
       "      <th>...</th>\n",
       "      <td>...</td>\n",
       "      <td>...</td>\n",
       "      <td>...</td>\n",
       "      <td>...</td>\n",
       "      <td>...</td>\n",
       "    </tr>\n",
       "    <tr>\n",
       "      <th>95</th>\n",
       "      <td>95</td>\n",
       "      <td>93.376715</td>\n",
       "      <td>-0.775539</td>\n",
       "      <td>0.573436</td>\n",
       "      <td>7</td>\n",
       "    </tr>\n",
       "    <tr>\n",
       "      <th>96</th>\n",
       "      <td>96</td>\n",
       "      <td>68.479348</td>\n",
       "      <td>0.360035</td>\n",
       "      <td>1.572364</td>\n",
       "      <td>5</td>\n",
       "    </tr>\n",
       "    <tr>\n",
       "      <th>97</th>\n",
       "      <td>97</td>\n",
       "      <td>16.170379</td>\n",
       "      <td>1.675178</td>\n",
       "      <td>1.073173</td>\n",
       "      <td>4</td>\n",
       "    </tr>\n",
       "    <tr>\n",
       "      <th>98</th>\n",
       "      <td>98</td>\n",
       "      <td>54.880019</td>\n",
       "      <td>-0.122980</td>\n",
       "      <td>0.305799</td>\n",
       "      <td>6</td>\n",
       "    </tr>\n",
       "    <tr>\n",
       "      <th>99</th>\n",
       "      <td>99</td>\n",
       "      <td>88.990455</td>\n",
       "      <td>2.477046</td>\n",
       "      <td>0.677707</td>\n",
       "      <td>7</td>\n",
       "    </tr>\n",
       "  </tbody>\n",
       "</table>\n",
       "<p>100 rows × 5 columns</p>\n",
       "</div>\n",
       "      <button class=\"colab-df-convert\" onclick=\"convertToInteractive('df-37fa89a6-f68d-4734-b753-70d34f161800')\"\n",
       "              title=\"Convert this dataframe to an interactive table.\"\n",
       "              style=\"display:none;\">\n",
       "        \n",
       "  <svg xmlns=\"http://www.w3.org/2000/svg\" height=\"24px\"viewBox=\"0 0 24 24\"\n",
       "       width=\"24px\">\n",
       "    <path d=\"M0 0h24v24H0V0z\" fill=\"none\"/>\n",
       "    <path d=\"M18.56 5.44l.94 2.06.94-2.06 2.06-.94-2.06-.94-.94-2.06-.94 2.06-2.06.94zm-11 1L8.5 8.5l.94-2.06 2.06-.94-2.06-.94L8.5 2.5l-.94 2.06-2.06.94zm10 10l.94 2.06.94-2.06 2.06-.94-2.06-.94-.94-2.06-.94 2.06-2.06.94z\"/><path d=\"M17.41 7.96l-1.37-1.37c-.4-.4-.92-.59-1.43-.59-.52 0-1.04.2-1.43.59L10.3 9.45l-7.72 7.72c-.78.78-.78 2.05 0 2.83L4 21.41c.39.39.9.59 1.41.59.51 0 1.02-.2 1.41-.59l7.78-7.78 2.81-2.81c.8-.78.8-2.07 0-2.86zM5.41 20L4 18.59l7.72-7.72 1.47 1.35L5.41 20z\"/>\n",
       "  </svg>\n",
       "      </button>\n",
       "      \n",
       "  <style>\n",
       "    .colab-df-container {\n",
       "      display:flex;\n",
       "      flex-wrap:wrap;\n",
       "      gap: 12px;\n",
       "    }\n",
       "\n",
       "    .colab-df-convert {\n",
       "      background-color: #E8F0FE;\n",
       "      border: none;\n",
       "      border-radius: 50%;\n",
       "      cursor: pointer;\n",
       "      display: none;\n",
       "      fill: #1967D2;\n",
       "      height: 32px;\n",
       "      padding: 0 0 0 0;\n",
       "      width: 32px;\n",
       "    }\n",
       "\n",
       "    .colab-df-convert:hover {\n",
       "      background-color: #E2EBFA;\n",
       "      box-shadow: 0px 1px 2px rgba(60, 64, 67, 0.3), 0px 1px 3px 1px rgba(60, 64, 67, 0.15);\n",
       "      fill: #174EA6;\n",
       "    }\n",
       "\n",
       "    [theme=dark] .colab-df-convert {\n",
       "      background-color: #3B4455;\n",
       "      fill: #D2E3FC;\n",
       "    }\n",
       "\n",
       "    [theme=dark] .colab-df-convert:hover {\n",
       "      background-color: #434B5C;\n",
       "      box-shadow: 0px 1px 3px 1px rgba(0, 0, 0, 0.15);\n",
       "      filter: drop-shadow(0px 1px 2px rgba(0, 0, 0, 0.3));\n",
       "      fill: #FFFFFF;\n",
       "    }\n",
       "  </style>\n",
       "\n",
       "      <script>\n",
       "        const buttonEl =\n",
       "          document.querySelector('#df-37fa89a6-f68d-4734-b753-70d34f161800 button.colab-df-convert');\n",
       "        buttonEl.style.display =\n",
       "          google.colab.kernel.accessAllowed ? 'block' : 'none';\n",
       "\n",
       "        async function convertToInteractive(key) {\n",
       "          const element = document.querySelector('#df-37fa89a6-f68d-4734-b753-70d34f161800');\n",
       "          const dataTable =\n",
       "            await google.colab.kernel.invokeFunction('convertToInteractive',\n",
       "                                                     [key], {});\n",
       "          if (!dataTable) return;\n",
       "\n",
       "          const docLinkHtml = 'Like what you see? Visit the ' +\n",
       "            '<a target=\"_blank\" href=https://colab.research.google.com/notebooks/data_table.ipynb>data table notebook</a>'\n",
       "            + ' to learn more about interactive tables.';\n",
       "          element.innerHTML = '';\n",
       "          dataTable['output_type'] = 'display_data';\n",
       "          await google.colab.output.renderOutput(dataTable, element);\n",
       "          const docLink = document.createElement('div');\n",
       "          docLink.innerHTML = docLinkHtml;\n",
       "          element.appendChild(docLink);\n",
       "        }\n",
       "      </script>\n",
       "    </div>\n",
       "  </div>\n",
       "  "
      ],
      "text/plain": [
       "     X          Y         W         Z  S\n",
       "0    0  59.391519  0.297271  0.352267  6\n",
       "1    1  66.372906 -0.724275  0.561238  6\n",
       "2    2  84.208531  0.328446  1.074793  7\n",
       "3    3   7.090760  0.557377  2.161239  5\n",
       "4    4   0.014427  2.498046  0.722000  5\n",
       "..  ..        ...       ...       ... ..\n",
       "95  95  93.376715 -0.775539  0.573436  7\n",
       "96  96  68.479348  0.360035  1.572364  5\n",
       "97  97  16.170379  1.675178  1.073173  4\n",
       "98  98  54.880019 -0.122980  0.305799  6\n",
       "99  99  88.990455  2.477046  0.677707  7\n",
       "\n",
       "[100 rows x 5 columns]"
      ]
     },
     "execution_count": 21,
     "metadata": {},
     "output_type": "execute_result"
    }
   ],
   "source": [
    "# Let's create a simple dataframe with some data to plot\n",
    "df_plot = pd.DataFrame({'X':range(100),'Y':rng.random(100)*100, 'W':rng.normal(size=100), 'Z':rng.lognormal(size=100), 'S':rng.integers(low=4,high=8,size=100)})\n",
    "df_plot"
   ]
  },
  {
   "cell_type": "code",
   "execution_count": null,
   "metadata": {
    "colab": {
     "base_uri": "https://localhost:8080/",
     "height": 464
    },
    "executionInfo": {
     "elapsed": 655,
     "status": "ok",
     "timestamp": 1670444432035,
     "user": {
      "displayName": "Rodrigo Costa",
      "userId": "15201424764589684325"
     },
     "user_tz": 300
    },
    "id": "yEeB1y5gCZX-",
    "outputId": "8f82664d-e722-49ab-aa8a-0628564ba88b"
   },
   "outputs": [
    {
     "data": {
      "image/png": "[encoded data removed]",
      "text/plain": [
       "<Figure size 640x480 with 1 Axes>"
      ]
     },
     "metadata": {},
     "output_type": "display_data"
    },
    {
     "data": {
      "text/plain": [
       "<ggplot: (8765625605449)>"
      ]
     },
     "execution_count": 22,
     "metadata": {},
     "output_type": "execute_result"
    }
   ],
   "source": [
    "# Let's import Plotnine\n",
    "from plotnine import *\n",
    "\n",
    "# First, let's create a simple plot\n",
    "plot_base = ggplot(df_plot, aes(x='X', y='Y',color='W',size='Z',shape='S')) + geom_point() # geom_point = create a scatter plot\n",
    "plot_base"
   ]
  },
  {
   "cell_type": "code",
   "execution_count": null,
   "metadata": {
    "colab": {
     "base_uri": "https://localhost:8080/",
     "height": 487
    },
    "executionInfo": {
     "elapsed": 573,
     "status": "ok",
     "timestamp": 1670444476625,
     "user": {
      "displayName": "Rodrigo Costa",
      "userId": "15201424764589684325"
     },
     "user_tz": 300
    },
    "id": "UN4WttA2C_MZ",
    "outputId": "52526cd4-f3db-4e1d-e270-8c379d7e85ad"
   },
   "outputs": [
    {
     "data": {
      "image/png": "[encoded data removed]",
      "text/plain": [
       "<Figure size 640x480 with 1 Axes>"
      ]
     },
     "metadata": {},
     "output_type": "display_data"
    },
    {
     "data": {
      "text/plain": [
       "<ggplot: (8765625483051)>"
      ]
     },
     "execution_count": 23,
     "metadata": {},
     "output_type": "execute_result"
    }
   ],
   "source": [
    "# Now, lets add a few elements to our plot\n",
    "# The code below only makes the plots look better but do not transform the data\n",
    "plot_clean = plot_base + theme_bw() + theme(\n",
    "    axis_line=element_line(size=1),\n",
    "    axis_text=element_text(size=10),\n",
    "    axis_title=element_text(size=11,face=\"bold\"),\n",
    "    axis_text_x = element_text(angle = 45, hjust=1)\n",
    ") +\\\n",
    "scale_x_continuous(name = 'X-axis title', limits=[0,100], expand=[0,0]) +\\\n",
    "scale_y_continuous(name = 'Y-axis title', limits=[0,100], expand=[0,0]) +\\\n",
    "labs(color='Color legend title', size='Size legend title')\n",
    "\n",
    "plot_clean"
   ]
  },
  {
   "cell_type": "code",
   "execution_count": null,
   "metadata": {
    "colab": {
     "base_uri": "https://localhost:8080/",
     "height": 850
    },
    "executionInfo": {
     "elapsed": 22846,
     "status": "error",
     "timestamp": 1671116775558,
     "user": {
      "displayName": "Rodrigo Costa",
      "userId": "15201424764589684325"
     },
     "user_tz": 300
    },
    "id": "W8a-I3JxQySh",
    "outputId": "1a544162-26c5-43b9-c562-fbb76ddd7fd6"
   },
   "outputs": [
    {
     "name": "stdout",
     "output_type": "stream",
     "text": [
      "Looking in indexes: https://pypi.org/simple, https://us-python.pkg.dev/colab-wheels/public/simple/\n",
      "Requirement already satisfied: geopandas in /usr/local/lib/python3.8/dist-packages (0.12.2)\n",
      "Requirement already satisfied: pandas>=1.0.0 in /usr/local/lib/python3.8/dist-packages (from geopandas) (1.3.5)\n",
      "Requirement already satisfied: shapely>=1.7 in /usr/local/lib/python3.8/dist-packages (from geopandas) (1.8.5.post1)\n",
      "Requirement already satisfied: pyproj>=2.6.1.post1 in /usr/local/lib/python3.8/dist-packages (from geopandas) (3.4.1)\n",
      "Requirement already satisfied: packaging in /usr/local/lib/python3.8/dist-packages (from geopandas) (21.3)\n",
      "Requirement already satisfied: fiona>=1.8 in /usr/local/lib/python3.8/dist-packages (from geopandas) (1.8.22)\n",
      "Requirement already satisfied: click-plugins>=1.0 in /usr/local/lib/python3.8/dist-packages (from fiona>=1.8->geopandas) (1.1.1)\n",
      "Requirement already satisfied: cligj>=0.5 in /usr/local/lib/python3.8/dist-packages (from fiona>=1.8->geopandas) (0.7.2)\n",
      "Requirement already satisfied: six>=1.7 in /usr/local/lib/python3.8/dist-packages (from fiona>=1.8->geopandas) (1.15.0)\n",
      "Requirement already satisfied: setuptools in /usr/local/lib/python3.8/dist-packages (from fiona>=1.8->geopandas) (57.4.0)\n",
      "Requirement already satisfied: munch in /usr/local/lib/python3.8/dist-packages (from fiona>=1.8->geopandas) (2.5.0)\n",
      "Requirement already satisfied: click>=4.0 in /usr/local/lib/python3.8/dist-packages (from fiona>=1.8->geopandas) (7.1.2)\n",
      "Requirement already satisfied: attrs>=17 in /usr/local/lib/python3.8/dist-packages (from fiona>=1.8->geopandas) (22.1.0)\n",
      "Requirement already satisfied: certifi in /usr/local/lib/python3.8/dist-packages (from fiona>=1.8->geopandas) (2022.9.24)\n",
      "Requirement already satisfied: pytz>=2017.3 in /usr/local/lib/python3.8/dist-packages (from pandas>=1.0.0->geopandas) (2022.6)\n",
      "Requirement already satisfied: python-dateutil>=2.7.3 in /usr/local/lib/python3.8/dist-packages (from pandas>=1.0.0->geopandas) (2.8.2)\n",
      "Requirement already satisfied: numpy>=1.17.3 in /usr/local/lib/python3.8/dist-packages (from pandas>=1.0.0->geopandas) (1.21.6)\n",
      "Requirement already satisfied: pyparsing!=3.0.5,>=2.0.2 in /usr/local/lib/python3.8/dist-packages (from packaging->geopandas) (3.0.9)\n",
      "Looking in indexes: https://pypi.org/simple, https://us-python.pkg.dev/colab-wheels/public/simple/\n",
      "Requirement already satisfied: geopy in /usr/local/lib/python3.8/dist-packages (1.17.0)\n",
      "Requirement already satisfied: geographiclib<2,>=1.49 in /usr/local/lib/python3.8/dist-packages (from geopy) (1.52)\n",
      "Looking in indexes: https://pypi.org/simple, https://us-python.pkg.dev/colab-wheels/public/simple/\n",
      "Requirement already satisfied: plotly in /usr/local/lib/python3.8/dist-packages (5.5.0)\n",
      "Requirement already satisfied: six in /usr/local/lib/python3.8/dist-packages (from plotly) (1.15.0)\n",
      "Requirement already satisfied: tenacity>=6.2.0 in /usr/local/lib/python3.8/dist-packages (from plotly) (8.1.0)\n",
      "This is a subset of all buildings. Some a worth more than $500,000!!!\n"
     ]
    },
    {
     "ename": "ValueError",
     "evalue": "ignored",
     "output_type": "error",
     "traceback": [
      "\u001b[0;31m---------------------------------------------------------------------------\u001b[0m",
      "\u001b[0;31mValueError\u001b[0m                                Traceback (most recent call last)",
      "\u001b[0;32m<ipython-input-51-63084686bcf0>\u001b[0m in \u001b[0;36m<module>\u001b[0;34m\u001b[0m\n\u001b[1;32m     25\u001b[0m \u001b[0;34m\u001b[0m\u001b[0m\n\u001b[1;32m     26\u001b[0m \u001b[0mprint\u001b[0m\u001b[0;34m(\u001b[0m\u001b[0;34m'This is a subset of all buildings. Some a worth more than $500,000!!!'\u001b[0m\u001b[0;34m)\u001b[0m\u001b[0;34m\u001b[0m\u001b[0;34m\u001b[0m\u001b[0m\n\u001b[0;32m---> 27\u001b[0;31m fig = px.scatter_mapbox(gdf_plt, \n\u001b[0m\u001b[1;32m     28\u001b[0m                         \u001b[0mlat\u001b[0m \u001b[0;34m=\u001b[0m \u001b[0mgdf_plt\u001b[0m\u001b[0;34m[\u001b[0m\u001b[0;34m'Latitude'\u001b[0m\u001b[0;34m]\u001b[0m\u001b[0;34m,\u001b[0m\u001b[0;34m\u001b[0m\u001b[0;34m\u001b[0m\u001b[0m\n\u001b[1;32m     29\u001b[0m                         \u001b[0mlon\u001b[0m \u001b[0;34m=\u001b[0m \u001b[0mgdf_plt\u001b[0m\u001b[0;34m[\u001b[0m\u001b[0;34m'Longitude'\u001b[0m\u001b[0;34m]\u001b[0m\u001b[0;34m,\u001b[0m\u001b[0;34m\u001b[0m\u001b[0;34m\u001b[0m\u001b[0m\n",
      "\u001b[0;32m/usr/local/lib/python3.8/dist-packages/plotly/express/_chart_types.py\u001b[0m in \u001b[0;36mscatter_mapbox\u001b[0;34m(data_frame, lat, lon, color, text, hover_name, hover_data, custom_data, size, animation_frame, animation_group, category_orders, labels, color_discrete_sequence, color_discrete_map, color_continuous_scale, range_color, color_continuous_midpoint, opacity, size_max, zoom, center, mapbox_style, title, template, width, height)\u001b[0m\n\u001b[1;32m   1231\u001b[0m     \u001b[0msymbol\u001b[0m \u001b[0mmark\u001b[0m \u001b[0mon\u001b[0m \u001b[0ma\u001b[0m \u001b[0mMapbox\u001b[0m \u001b[0mmap\u001b[0m\u001b[0;34m.\u001b[0m\u001b[0;34m\u001b[0m\u001b[0;34m\u001b[0m\u001b[0m\n\u001b[1;32m   1232\u001b[0m     \"\"\"\n\u001b[0;32m-> 1233\u001b[0;31m     \u001b[0;32mreturn\u001b[0m \u001b[0mmake_figure\u001b[0m\u001b[0;34m(\u001b[0m\u001b[0margs\u001b[0m\u001b[0;34m=\u001b[0m\u001b[0mlocals\u001b[0m\u001b[0;34m(\u001b[0m\u001b[0;34m)\u001b[0m\u001b[0;34m,\u001b[0m \u001b[0mconstructor\u001b[0m\u001b[0;34m=\u001b[0m\u001b[0mgo\u001b[0m\u001b[0;34m.\u001b[0m\u001b[0mScattermapbox\u001b[0m\u001b[0;34m)\u001b[0m\u001b[0;34m\u001b[0m\u001b[0;34m\u001b[0m\u001b[0m\n\u001b[0m\u001b[1;32m   1234\u001b[0m \u001b[0;34m\u001b[0m\u001b[0m\n\u001b[1;32m   1235\u001b[0m \u001b[0;34m\u001b[0m\u001b[0m\n",
      "\u001b[0;32m/usr/local/lib/python3.8/dist-packages/plotly/express/_core.py\u001b[0m in \u001b[0;36mmake_figure\u001b[0;34m(args, constructor, trace_patch, layout_patch)\u001b[0m\n\u001b[1;32m   1943\u001b[0m     \u001b[0mapply_default_cascade\u001b[0m\u001b[0;34m(\u001b[0m\u001b[0margs\u001b[0m\u001b[0;34m)\u001b[0m\u001b[0;34m\u001b[0m\u001b[0;34m\u001b[0m\u001b[0m\n\u001b[1;32m   1944\u001b[0m \u001b[0;34m\u001b[0m\u001b[0m\n\u001b[0;32m-> 1945\u001b[0;31m     \u001b[0margs\u001b[0m \u001b[0;34m=\u001b[0m \u001b[0mbuild_dataframe\u001b[0m\u001b[0;34m(\u001b[0m\u001b[0margs\u001b[0m\u001b[0;34m,\u001b[0m \u001b[0mconstructor\u001b[0m\u001b[0;34m)\u001b[0m\u001b[0;34m\u001b[0m\u001b[0;34m\u001b[0m\u001b[0m\n\u001b[0m\u001b[1;32m   1946\u001b[0m     \u001b[0;32mif\u001b[0m \u001b[0mconstructor\u001b[0m \u001b[0;32min\u001b[0m \u001b[0;34m[\u001b[0m\u001b[0mgo\u001b[0m\u001b[0;34m.\u001b[0m\u001b[0mTreemap\u001b[0m\u001b[0;34m,\u001b[0m \u001b[0mgo\u001b[0m\u001b[0;34m.\u001b[0m\u001b[0mSunburst\u001b[0m\u001b[0;34m,\u001b[0m \u001b[0mgo\u001b[0m\u001b[0;34m.\u001b[0m\u001b[0mIcicle\u001b[0m\u001b[0;34m]\u001b[0m \u001b[0;32mand\u001b[0m \u001b[0margs\u001b[0m\u001b[0;34m[\u001b[0m\u001b[0;34m\"path\"\u001b[0m\u001b[0;34m]\u001b[0m \u001b[0;32mis\u001b[0m \u001b[0;32mnot\u001b[0m \u001b[0;32mNone\u001b[0m\u001b[0;34m:\u001b[0m\u001b[0;34m\u001b[0m\u001b[0;34m\u001b[0m\u001b[0m\n\u001b[1;32m   1947\u001b[0m         \u001b[0margs\u001b[0m \u001b[0;34m=\u001b[0m \u001b[0mprocess_dataframe_hierarchy\u001b[0m\u001b[0;34m(\u001b[0m\u001b[0margs\u001b[0m\u001b[0;34m)\u001b[0m\u001b[0;34m\u001b[0m\u001b[0;34m\u001b[0m\u001b[0m\n",
      "\u001b[0;32m/usr/local/lib/python3.8/dist-packages/plotly/express/_core.py\u001b[0m in \u001b[0;36mbuild_dataframe\u001b[0;34m(args, constructor)\u001b[0m\n\u001b[1;32m   1403\u001b[0m     \u001b[0;31m# now that things have been prepped, we do the systematic rewriting of `args`\u001b[0m\u001b[0;34m\u001b[0m\u001b[0;34m\u001b[0m\u001b[0;34m\u001b[0m\u001b[0m\n\u001b[1;32m   1404\u001b[0m \u001b[0;34m\u001b[0m\u001b[0m\n\u001b[0;32m-> 1405\u001b[0;31m     df_output, wide_id_vars = process_args_into_dataframe(\n\u001b[0m\u001b[1;32m   1406\u001b[0m         \u001b[0margs\u001b[0m\u001b[0;34m,\u001b[0m \u001b[0mwide_mode\u001b[0m\u001b[0;34m,\u001b[0m \u001b[0mvar_name\u001b[0m\u001b[0;34m,\u001b[0m \u001b[0mvalue_name\u001b[0m\u001b[0;34m\u001b[0m\u001b[0;34m\u001b[0m\u001b[0m\n\u001b[1;32m   1407\u001b[0m     )\n",
      "\u001b[0;32m/usr/local/lib/python3.8/dist-packages/plotly/express/_core.py\u001b[0m in \u001b[0;36mprocess_args_into_dataframe\u001b[0;34m(args, wide_mode, var_name, value_name)\u001b[0m\n\u001b[1;32m   1243\u001b[0m \u001b[0;34m\u001b[0m\u001b[0m\n\u001b[1;32m   1244\u001b[0m                 \u001b[0;32mif\u001b[0m \u001b[0mlength\u001b[0m \u001b[0;32mand\u001b[0m \u001b[0mlen\u001b[0m\u001b[0;34m(\u001b[0m\u001b[0margument\u001b[0m\u001b[0;34m)\u001b[0m \u001b[0;34m!=\u001b[0m \u001b[0mlength\u001b[0m\u001b[0;34m:\u001b[0m\u001b[0;34m\u001b[0m\u001b[0;34m\u001b[0m\u001b[0m\n\u001b[0;32m-> 1245\u001b[0;31m                     raise ValueError(\n\u001b[0m\u001b[1;32m   1246\u001b[0m                         \u001b[0;34m\"All arguments should have the same length. \"\u001b[0m\u001b[0;34m\u001b[0m\u001b[0;34m\u001b[0m\u001b[0m\n\u001b[1;32m   1247\u001b[0m                         \u001b[0;34m\"The length of argument `%s` is %d, whereas the \"\u001b[0m\u001b[0;34m\u001b[0m\u001b[0;34m\u001b[0m\u001b[0m\n",
      "\u001b[0;31mValueError\u001b[0m: All arguments should have the same length. The length of argument `lat` is 100, whereas the length of  previously-processed arguments ['size'] is 1"
     ]
    }
   ],
   "source": [
    "# Another type of plot we will use are maps.\n",
    "# The Geopandas and Plotly packages are great to work with maps in Python.\n",
    "\n",
    "! pip install geopandas\n",
    "! pip install geopy\n",
    "! pip install plotly\n",
    "\n",
    "import geopandas as gpd\n",
    "import geopy\n",
    "from geopy.geocoders import Nominatim\n",
    "from geopy.extra.rate_limiter import RateLimiter\n",
    "import geopy.distance\n",
    "from shapely.geometry import Point, Polygon\n",
    "import plotly.express as px"
   ]
  },
  {
   "cell_type": "code",
   "execution_count": null,
   "metadata": {
    "colab": {
     "base_uri": "https://localhost:8080/",
     "height": 734
    },
    "executionInfo": {
     "elapsed": 123,
     "status": "ok",
     "timestamp": 1671116973186,
     "user": {
      "displayName": "Rodrigo Costa",
      "userId": "15201424764589684325"
     },
     "user_tz": 300
    },
    "id": "HgOlCjA2UkLL",
    "outputId": "a2546f5a-df3b-4050-8c8f-2ac3453d93a0"
   },
   "outputs": [
    {
     "name": "stdout",
     "output_type": "stream",
     "text": [
      "This is a subset of all buildings. Some a worth more than $500,000!!!\n"
     ]
    },
    {
     "data": {
      "text/html": [
       "<html>\n",
       "<head><meta charset=\"utf-8\" /></head>\n",
       "<body>\n",
       "    <div>            <script src=\"https://cdnjs.cloudflare.com/ajax/libs/mathjax/2.7.5/MathJax.js?config=TeX-AMS-MML_SVG\"></script><script type=\"text/javascript\">if (window.MathJax) {MathJax.Hub.Config({SVG: {font: \"STIX-Web\"}});}</script>                <script type=\"text/javascript\">window.PlotlyConfig = {MathJaxConfig: 'local'};</script>\n",
       "        <script src=\"https://cdn.plot.ly/plotly-2.8.3.min.js\"></script>                <div id=\"aeb49432-6bbe-47cc-a4b0-5d89314d03b7\" class=\"plotly-graph-div\" style=\"height:700px; width:800px;\"></div>            <script type=\"text/javascript\">                                    window.PLOTLYENV=window.PLOTLYENV || {};                                    if (document.getElementById(\"aeb49432-6bbe-47cc-a4b0-5d89314d03b7\")) {                    Plotly.newPlot(                        \"aeb49432-6bbe-47cc-a4b0-5d89314d03b7\",                        [{\"hovertemplate\":\"size=%{marker.size}<br>Latitude=%{lat}<br>Longitude=%{lon}<br>ValueToPlot=%{marker.color}<extra></extra>\",\"lat\":[43.47159902437623,43.47004174445637,43.47086275485371,43.469681884354976,43.47197500365089,43.470318416058,43.470502829571274,43.469645164539266,43.471198693658536,43.47135941957867,43.47187496631115,43.469997265581654,43.47104969946381,43.4686439452312,43.46908775209466,43.47170305442962,43.471734703824495,43.47052668137789,43.47062199131575,43.47288854512242,43.47123123741643,43.4716393017641,43.47111923897027,43.47050399672773,43.46933808799296,43.47097423887232,43.4705815748097,43.47060265853961,43.47102707110561,43.47051394808747,43.472032093639804,43.46932914608424,43.47107092402409,43.469602399758706,43.47025680186869,43.46928851777353,43.470463614280355,43.47153106426757,43.47105149396492,43.470374911998675,43.47219049617145,43.469567191273036,43.47222743586864,43.47025935704829,43.47178419629302,43.47059563750454,43.47016534788251,43.47217365209715,43.46982253516579,43.47096868066123,43.471310062856034,43.471648229423536,43.46953019394977,43.471541957905565,43.46926194253339,43.47076371398236,43.47118855002802,43.47112947055152,43.47068587031784,43.47058342013405,43.470935904575335,43.46993678449745,43.4717886079207,43.47163009824804,43.47047788261225,43.471375467694614,43.470264658816106,43.471036355554844,43.470044166824046,43.471079631156584,43.471184642542376,43.47033927922907,43.46894296736287,43.47207829421324,43.47142310636954,43.471247515151944,43.47148964917589,43.47072025058112,43.47131909291226,43.47104814776009,43.469284367792724,43.469610450732496,43.46894678865965,43.469573625963996,43.46985784332573,43.46969997181285,43.46817651157305,43.470299379941466,43.46942232504388,43.46903671826953,43.47071609329622,43.47154270364477,43.47172625262868,43.47114598907798,43.47136789866622,43.47293967435785,43.46953803450208,43.47149887331153,43.469950434969384,43.47108682185578],\"legendgroup\":\"\",\"lon\":[-80.54477315826188,-80.54448035120868,-80.5448538582576,-80.54511919596791,-80.54552631577322,-80.54358084199978,-80.54381189228853,-80.5439298822287,-80.54476964048945,-80.54612844989272,-80.54477417451182,-80.54361495239922,-80.54615492484619,-80.54359486424954,-80.54403974479207,-80.54466991745586,-80.54562058351978,-80.54344261618085,-80.54616180726221,-80.54501920089614,-80.54540059147635,-80.5446364374202,-80.54436842892616,-80.54456188013958,-80.54557476339879,-80.5453723317054,-80.54452726198537,-80.54430567037966,-80.54251619567732,-80.54309079531913,-80.54469530994693,-80.54437227680523,-80.54369722322548,-80.54388838234883,-80.54468200464352,-80.54372675906158,-80.54443520881387,-80.54570850525569,-80.54706253223421,-80.54655595967328,-80.54571253011383,-80.54533020433853,-80.54501964638874,-80.54369994269945,-80.54601469386066,-80.5463468630557,-80.54448482563228,-80.54490987738133,-80.54533670612302,-80.54523765213234,-80.54752807309883,-80.54583303966372,-80.54421766974372,-80.54422463162645,-80.5431038501249,-80.54364088693698,-80.54494594957596,-80.54604601090172,-80.54508312009757,-80.5439113330863,-80.54341409728009,-80.54170482567957,-80.54232228174986,-80.54355350078106,-80.54471935728954,-80.5451730526816,-80.5450606202423,-80.54671198792649,-80.54435553807555,-80.54503815295585,-80.54551403362805,-80.54477809328642,-80.54493260168456,-80.54574352900248,-80.54411098780398,-80.54431939693134,-80.54458079022005,-80.54319796936166,-80.54345819486545,-80.54459158645295,-80.54565397613503,-80.5460175625275,-80.54424981955233,-80.54474437857775,-80.54335491434426,-80.54509309676192,-80.5440536527609,-80.54510540236106,-80.54488449690795,-80.5431662091833,-80.54491728637659,-80.54506952968525,-80.54437215533521,-80.54212870894345,-80.54576106196826,-80.54405521036205,-80.5463497805341,-80.54497256344672,-80.54431891881185,-80.5441840686345],\"marker\":{\"color\":[1.4149963476277407,-1.2307601025877526,-1.003333681333207,-0.09598446167704143,0.1411219202790082,-0.17902575642566648,-0.3207784798480716,-0.6755789479596263,0.35607744517900997,-0.37905870712294726,-0.49127197112410886,1.243498518687821,1.1302579190149529,0.5928386336228552,0.6062266353322484,0.8706445903190461,2.1594852157940974,0.3388097012009747,-0.1648079674469314,-0.02371233567903637,0.37718730287446073,-0.8234540632487019,-0.04548486475790129,-1.0268181481442586,-0.31958873680137617,0.29128458547338437,0.05275470966468056,-1.371399287869191,-1.2163720691112931,-0.6352855937083957,0.11636954444865259,-1.3655940480233113,-2.079634480155489,-0.25366433553648027,0.6421227190721716,1.2026107546206282,0.6180893758687703,0.4228753115717659,0.2403882019638908,1.0554164748014772,-0.22807210571663405,-0.39587560448139714,-1.1145749122369824,-0.8730965280320088,-0.7012988431911146,-1.267882445386185,0.15266807883575131,0.5376710134991227,-0.8723023586603734,0.5831720363379082,-0.3009359616387571,1.6660369574830713,-0.513240932278586,0.05136486112388543,0.35991735123096313,0.694447712149241,1.3476865157195685,0.1996555016260073,2.471950543007221,-0.37019459589498005,-0.17555885599256527,2.0035539456645193,-0.08876825110568108,-0.19892651880536547,0.5691561621288335,-0.9232899567031935,1.1330902588232337,-0.841180163642225,-1.4667533573261906,-0.9000263530298601,0.28638247120809324,0.9973633656017078,0.7245398771426068,1.0884309017652358,-0.20088386940480996,-0.5300279397712523,0.9864057124601844,-1.516984433918091,0.1810701220700464,-0.2561492180645397,0.2333032445062725,-2.2003553350031337,-1.009594360202066,-0.08072855163668993,0.05688370122387023,-2.212542995383866,0.5215395231283062,0.4326442244689856,-0.029161811749527124,-0.67754007569624,-0.5382023783853714,2.0777829979147198,-0.10058239040286629,0.11494950956724927,1.5324167454822473,0.5151961128685675,0.061590692084849755,-1.6303778189012732,0.6737787753072184,-1.2563815395644826],\"coloraxis\":\"coloraxis\",\"size\":[1,1,1,1,1,1,1,1,1,1,1,1,1,1,1,1,1,1,1,1,1,1,1,1,1,1,1,1,1,1,1,1,1,1,1,1,1,1,1,1,1,1,1,1,1,1,1,1,1,1,1,1,1,1,1,1,1,1,1,1,1,1,1,1,1,1,1,1,1,1,1,1,1,1,1,1,1,1,1,1,1,1,1,1,1,1,1,1,1,1,1,1,1,1,1,1,1,1,1,1],\"sizemode\":\"area\",\"sizeref\":0.0025},\"mode\":\"markers\",\"name\":\"\",\"showlegend\":false,\"subplot\":\"mapbox\",\"type\":\"scattermapbox\"}],                        {\"template\":{\"data\":{\"bar\":[{\"error_x\":{\"color\":\"#2a3f5f\"},\"error_y\":{\"color\":\"#2a3f5f\"},\"marker\":{\"line\":{\"color\":\"#E5ECF6\",\"width\":0.5},\"pattern\":{\"fillmode\":\"overlay\",\"size\":10,\"solidity\":0.2}},\"type\":\"bar\"}],\"barpolar\":[{\"marker\":{\"line\":{\"color\":\"#E5ECF6\",\"width\":0.5},\"pattern\":{\"fillmode\":\"overlay\",\"size\":10,\"solidity\":0.2}},\"type\":\"barpolar\"}],\"carpet\":[{\"aaxis\":{\"endlinecolor\":\"#2a3f5f\",\"gridcolor\":\"white\",\"linecolor\":\"white\",\"minorgridcolor\":\"white\",\"startlinecolor\":\"#2a3f5f\"},\"baxis\":{\"endlinecolor\":\"#2a3f5f\",\"gridcolor\":\"white\",\"linecolor\":\"white\",\"minorgridcolor\":\"white\",\"startlinecolor\":\"#2a3f5f\"},\"type\":\"carpet\"}],\"choropleth\":[{\"colorbar\":{\"outlinewidth\":0,\"ticks\":\"\"},\"type\":\"choropleth\"}],\"contour\":[{\"colorbar\":{\"outlinewidth\":0,\"ticks\":\"\"},\"colorscale\":[[0.0,\"#0d0887\"],[0.1111111111111111,\"#46039f\"],[0.2222222222222222,\"#7201a8\"],[0.3333333333333333,\"#9c179e\"],[0.4444444444444444,\"#bd3786\"],[0.5555555555555556,\"#d8576b\"],[0.6666666666666666,\"#ed7953\"],[0.7777777777777778,\"#fb9f3a\"],[0.8888888888888888,\"#fdca26\"],[1.0,\"#f0f921\"]],\"type\":\"contour\"}],\"contourcarpet\":[{\"colorbar\":{\"outlinewidth\":0,\"ticks\":\"\"},\"type\":\"contourcarpet\"}],\"heatmap\":[{\"colorbar\":{\"outlinewidth\":0,\"ticks\":\"\"},\"colorscale\":[[0.0,\"#0d0887\"],[0.1111111111111111,\"#46039f\"],[0.2222222222222222,\"#7201a8\"],[0.3333333333333333,\"#9c179e\"],[0.4444444444444444,\"#bd3786\"],[0.5555555555555556,\"#d8576b\"],[0.6666666666666666,\"#ed7953\"],[0.7777777777777778,\"#fb9f3a\"],[0.8888888888888888,\"#fdca26\"],[1.0,\"#f0f921\"]],\"type\":\"heatmap\"}],\"heatmapgl\":[{\"colorbar\":{\"outlinewidth\":0,\"ticks\":\"\"},\"colorscale\":[[0.0,\"#0d0887\"],[0.1111111111111111,\"#46039f\"],[0.2222222222222222,\"#7201a8\"],[0.3333333333333333,\"#9c179e\"],[0.4444444444444444,\"#bd3786\"],[0.5555555555555556,\"#d8576b\"],[0.6666666666666666,\"#ed7953\"],[0.7777777777777778,\"#fb9f3a\"],[0.8888888888888888,\"#fdca26\"],[1.0,\"#f0f921\"]],\"type\":\"heatmapgl\"}],\"histogram\":[{\"marker\":{\"pattern\":{\"fillmode\":\"overlay\",\"size\":10,\"solidity\":0.2}},\"type\":\"histogram\"}],\"histogram2d\":[{\"colorbar\":{\"outlinewidth\":0,\"ticks\":\"\"},\"colorscale\":[[0.0,\"#0d0887\"],[0.1111111111111111,\"#46039f\"],[0.2222222222222222,\"#7201a8\"],[0.3333333333333333,\"#9c179e\"],[0.4444444444444444,\"#bd3786\"],[0.5555555555555556,\"#d8576b\"],[0.6666666666666666,\"#ed7953\"],[0.7777777777777778,\"#fb9f3a\"],[0.8888888888888888,\"#fdca26\"],[1.0,\"#f0f921\"]],\"type\":\"histogram2d\"}],\"histogram2dcontour\":[{\"colorbar\":{\"outlinewidth\":0,\"ticks\":\"\"},\"colorscale\":[[0.0,\"#0d0887\"],[0.1111111111111111,\"#46039f\"],[0.2222222222222222,\"#7201a8\"],[0.3333333333333333,\"#9c179e\"],[0.4444444444444444,\"#bd3786\"],[0.5555555555555556,\"#d8576b\"],[0.6666666666666666,\"#ed7953\"],[0.7777777777777778,\"#fb9f3a\"],[0.8888888888888888,\"#fdca26\"],[1.0,\"#f0f921\"]],\"type\":\"histogram2dcontour\"}],\"mesh3d\":[{\"colorbar\":{\"outlinewidth\":0,\"ticks\":\"\"},\"type\":\"mesh3d\"}],\"parcoords\":[{\"line\":{\"colorbar\":{\"outlinewidth\":0,\"ticks\":\"\"}},\"type\":\"parcoords\"}],\"pie\":[{\"automargin\":true,\"type\":\"pie\"}],\"scatter\":[{\"marker\":{\"colorbar\":{\"outlinewidth\":0,\"ticks\":\"\"}},\"type\":\"scatter\"}],\"scatter3d\":[{\"line\":{\"colorbar\":{\"outlinewidth\":0,\"ticks\":\"\"}},\"marker\":{\"colorbar\":{\"outlinewidth\":0,\"ticks\":\"\"}},\"type\":\"scatter3d\"}],\"scattercarpet\":[{\"marker\":{\"colorbar\":{\"outlinewidth\":0,\"ticks\":\"\"}},\"type\":\"scattercarpet\"}],\"scattergeo\":[{\"marker\":{\"colorbar\":{\"outlinewidth\":0,\"ticks\":\"\"}},\"type\":\"scattergeo\"}],\"scattergl\":[{\"marker\":{\"colorbar\":{\"outlinewidth\":0,\"ticks\":\"\"}},\"type\":\"scattergl\"}],\"scattermapbox\":[{\"marker\":{\"colorbar\":{\"outlinewidth\":0,\"ticks\":\"\"}},\"type\":\"scattermapbox\"}],\"scatterpolar\":[{\"marker\":{\"colorbar\":{\"outlinewidth\":0,\"ticks\":\"\"}},\"type\":\"scatterpolar\"}],\"scatterpolargl\":[{\"marker\":{\"colorbar\":{\"outlinewidth\":0,\"ticks\":\"\"}},\"type\":\"scatterpolargl\"}],\"scatterternary\":[{\"marker\":{\"colorbar\":{\"outlinewidth\":0,\"ticks\":\"\"}},\"type\":\"scatterternary\"}],\"surface\":[{\"colorbar\":{\"outlinewidth\":0,\"ticks\":\"\"},\"colorscale\":[[0.0,\"#0d0887\"],[0.1111111111111111,\"#46039f\"],[0.2222222222222222,\"#7201a8\"],[0.3333333333333333,\"#9c179e\"],[0.4444444444444444,\"#bd3786\"],[0.5555555555555556,\"#d8576b\"],[0.6666666666666666,\"#ed7953\"],[0.7777777777777778,\"#fb9f3a\"],[0.8888888888888888,\"#fdca26\"],[1.0,\"#f0f921\"]],\"type\":\"surface\"}],\"table\":[{\"cells\":{\"fill\":{\"color\":\"#EBF0F8\"},\"line\":{\"color\":\"white\"}},\"header\":{\"fill\":{\"color\":\"#C8D4E3\"},\"line\":{\"color\":\"white\"}},\"type\":\"table\"}]},\"layout\":{\"annotationdefaults\":{\"arrowcolor\":\"#2a3f5f\",\"arrowhead\":0,\"arrowwidth\":1},\"autotypenumbers\":\"strict\",\"coloraxis\":{\"colorbar\":{\"outlinewidth\":0,\"ticks\":\"\"}},\"colorscale\":{\"diverging\":[[0,\"#8e0152\"],[0.1,\"#c51b7d\"],[0.2,\"#de77ae\"],[0.3,\"#f1b6da\"],[0.4,\"#fde0ef\"],[0.5,\"#f7f7f7\"],[0.6,\"#e6f5d0\"],[0.7,\"#b8e186\"],[0.8,\"#7fbc41\"],[0.9,\"#4d9221\"],[1,\"#276419\"]],\"sequential\":[[0.0,\"#0d0887\"],[0.1111111111111111,\"#46039f\"],[0.2222222222222222,\"#7201a8\"],[0.3333333333333333,\"#9c179e\"],[0.4444444444444444,\"#bd3786\"],[0.5555555555555556,\"#d8576b\"],[0.6666666666666666,\"#ed7953\"],[0.7777777777777778,\"#fb9f3a\"],[0.8888888888888888,\"#fdca26\"],[1.0,\"#f0f921\"]],\"sequentialminus\":[[0.0,\"#0d0887\"],[0.1111111111111111,\"#46039f\"],[0.2222222222222222,\"#7201a8\"],[0.3333333333333333,\"#9c179e\"],[0.4444444444444444,\"#bd3786\"],[0.5555555555555556,\"#d8576b\"],[0.6666666666666666,\"#ed7953\"],[0.7777777777777778,\"#fb9f3a\"],[0.8888888888888888,\"#fdca26\"],[1.0,\"#f0f921\"]]},\"colorway\":[\"#636efa\",\"#EF553B\",\"#00cc96\",\"#ab63fa\",\"#FFA15A\",\"#19d3f3\",\"#FF6692\",\"#B6E880\",\"#FF97FF\",\"#FECB52\"],\"font\":{\"color\":\"#2a3f5f\"},\"geo\":{\"bgcolor\":\"white\",\"lakecolor\":\"white\",\"landcolor\":\"#E5ECF6\",\"showlakes\":true,\"showland\":true,\"subunitcolor\":\"white\"},\"hoverlabel\":{\"align\":\"left\"},\"hovermode\":\"closest\",\"mapbox\":{\"style\":\"light\"},\"paper_bgcolor\":\"white\",\"plot_bgcolor\":\"#E5ECF6\",\"polar\":{\"angularaxis\":{\"gridcolor\":\"white\",\"linecolor\":\"white\",\"ticks\":\"\"},\"bgcolor\":\"#E5ECF6\",\"radialaxis\":{\"gridcolor\":\"white\",\"linecolor\":\"white\",\"ticks\":\"\"}},\"scene\":{\"xaxis\":{\"backgroundcolor\":\"#E5ECF6\",\"gridcolor\":\"white\",\"gridwidth\":2,\"linecolor\":\"white\",\"showbackground\":true,\"ticks\":\"\",\"zerolinecolor\":\"white\"},\"yaxis\":{\"backgroundcolor\":\"#E5ECF6\",\"gridcolor\":\"white\",\"gridwidth\":2,\"linecolor\":\"white\",\"showbackground\":true,\"ticks\":\"\",\"zerolinecolor\":\"white\"},\"zaxis\":{\"backgroundcolor\":\"#E5ECF6\",\"gridcolor\":\"white\",\"gridwidth\":2,\"linecolor\":\"white\",\"showbackground\":true,\"ticks\":\"\",\"zerolinecolor\":\"white\"}},\"shapedefaults\":{\"line\":{\"color\":\"#2a3f5f\"}},\"ternary\":{\"aaxis\":{\"gridcolor\":\"white\",\"linecolor\":\"white\",\"ticks\":\"\"},\"baxis\":{\"gridcolor\":\"white\",\"linecolor\":\"white\",\"ticks\":\"\"},\"bgcolor\":\"#E5ECF6\",\"caxis\":{\"gridcolor\":\"white\",\"linecolor\":\"white\",\"ticks\":\"\"}},\"title\":{\"x\":0.05},\"xaxis\":{\"automargin\":true,\"gridcolor\":\"white\",\"linecolor\":\"white\",\"ticks\":\"\",\"title\":{\"standoff\":15},\"zerolinecolor\":\"white\",\"zerolinewidth\":2},\"yaxis\":{\"automargin\":true,\"gridcolor\":\"white\",\"linecolor\":\"white\",\"ticks\":\"\",\"title\":{\"standoff\":15},\"zerolinecolor\":\"white\",\"zerolinewidth\":2}}},\"mapbox\":{\"domain\":{\"x\":[0.0,1.0],\"y\":[0.0,1.0]},\"center\":{\"lat\":43.470489040532044,\"lon\":-80.54473091810068},\"zoom\":13.5,\"style\":\"carto-positron\"},\"coloraxis\":{\"colorbar\":{\"title\":{\"text\":\"ValueToPlot\"}},\"colorscale\":[[0.0,\"#440154\"],[0.1111111111111111,\"#482878\"],[0.2222222222222222,\"#3e4989\"],[0.3333333333333333,\"#31688e\"],[0.4444444444444444,\"#26828e\"],[0.5555555555555556,\"#1f9e89\"],[0.6666666666666666,\"#35b779\"],[0.7777777777777778,\"#6ece58\"],[0.8888888888888888,\"#b5de2b\"],[1.0,\"#fde725\"]]},\"legend\":{\"tracegroupgap\":0,\"itemsizing\":\"constant\"},\"margin\":{\"t\":60},\"height\":700,\"width\":800},                        {\"responsive\": true}                    ).then(function(){\n",
       "                            \n",
       "var gd = document.getElementById('aeb49432-6bbe-47cc-a4b0-5d89314d03b7');\n",
       "var x = new MutationObserver(function (mutations, observer) {{\n",
       "        var display = window.getComputedStyle(gd).display;\n",
       "        if (!display || display === 'none') {{\n",
       "            console.log([gd, 'removed!']);\n",
       "            Plotly.purge(gd);\n",
       "            observer.disconnect();\n",
       "        }}\n",
       "}});\n",
       "\n",
       "// Listen for the removal of the full notebook cells\n",
       "var notebookContainer = gd.closest('#notebook-container');\n",
       "if (notebookContainer) {{\n",
       "    x.observe(notebookContainer, {childList: true});\n",
       "}}\n",
       "\n",
       "// Listen for the clearing of the current output cell\n",
       "var outputEl = gd.closest('.output');\n",
       "if (outputEl) {{\n",
       "    x.observe(outputEl, {childList: true});\n",
       "}}\n",
       "\n",
       "                        })                };                            </script>        </div>\n",
       "</body>\n",
       "</html>"
      ]
     },
     "metadata": {},
     "output_type": "display_data"
    }
   ],
   "source": [
    "# Create a dataframe with lats and longitudes\n",
    "df_geo_plot = pd.DataFrame()\n",
    "df_geo_plot['Latitude'] = 43.470489040532044 + rng.normal(size=100)*0.001 # create some random points\n",
    "df_geo_plot['Longitude'] = -80.54473091810068 + rng.normal(size=100)*0.001\n",
    "df_geo_plot['ValueToPlot'] = rng.normal(size=100) # create some data to represent colours we wnat to plot\n",
    "\n",
    "# Create geo_dataframe with teh data to be plotted\n",
    "gdf_plt = gpd.GeoDataFrame(df_geo_plot, geometry=gpd.points_from_xy(df_geo_plot['Longitude'], df_geo_plot['Latitude']), crs='epsg:4326')\n",
    "\n",
    "print('This is a subset of all buildings. Some a worth more than $500,000!!!')\n",
    "fig = px.scatter_mapbox(gdf_plt, \n",
    "                        lat = gdf_plt['Latitude'],\n",
    "                        lon = gdf_plt['Longitude'],\n",
    "                        color=\"ValueToPlot\", # the colour of the dots on the map\n",
    "                        center={\"lat\": 43.470489040532044, \"lon\": -80.54473091810068}, # the centre of the map\n",
    "                        mapbox_style=\"carto-positron\",\n",
    "                        color_continuous_scale='Viridis', # the colour scale\n",
    "                        size = [1]*len(df_geo_plot.index),\n",
    "                        zoom=13.5, # amount of zoom\n",
    "                        height=700, # height of map box\n",
    "                        width=800 # width of map box\n",
    "                      )\n",
    "fig.show()"
   ]
  }
 ],
 "metadata": {
  "colab": {
   "authorship_tag": "ABX9TyOv9DLSm2oQlgZXiwWRmV7n",
   "provenance": [],
   "toc_visible": true
  },
  "kernelspec": {
   "display_name": "Python 3 (ipykernel)",
   "language": "python",
   "name": "python3"
  },
  "language_info": {
   "codemirror_mode": {
    "name": "ipython",
    "version": 3
   },
   "file_extension": ".py",
   "mimetype": "text/x-python",
   "name": "python",
   "nbconvert_exporter": "python",
   "pygments_lexer": "ipython3",
   "version": "3.9.5"
  }
 },
 "nbformat": 4,
 "nbformat_minor": 1
}

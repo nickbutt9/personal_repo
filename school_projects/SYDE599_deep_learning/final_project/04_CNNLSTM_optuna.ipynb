{
  "cells": [
    {
      "cell_type": "code",
      "execution_count": null,
      "metadata": {
        "id": "iw3SN6Yy8HBQ"
      },
      "outputs": [],
      "source": [
        "import glob\n",
        "import torch\n",
        "import torch.nn as nn\n",
        "import torch.nn.functional as F\n",
        "import torch.optim as optim\n",
        "import torchvision\n",
        "import numpy as np\n",
        "import pandas as pd\n",
        "from torch.utils.data import Dataset\n",
        "from tqdm import tqdm\n",
        "from matplotlib import pyplot as plt\n",
        "from scipy import signal"
      ]
    },
    {
      "cell_type": "code",
      "source": [
        "from google.colab import drive\n",
        "drive.mount('/content/drive')"
      ],
      "metadata": {
        "colab": {
          "base_uri": "https://localhost:8080/"
        },
        "id": "libUhYK68Q-l",
        "outputId": "f99d9929-2e49-40f1-b8c6-49e3f41c01a1"
      },
      "execution_count": null,
      "outputs": [
        {
          "output_type": "stream",
          "name": "stdout",
          "text": [
            "Mounted at /content/drive\n"
          ]
        }
      ]
    },
    {
      "cell_type": "code",
      "execution_count": null,
      "metadata": {
        "colab": {
          "base_uri": "https://localhost:8080/"
        },
        "id": "I4mWvazJ8HBU",
        "outputId": "c56cc149-bd2f-4f15-fe8a-8c3716475eeb"
      },
      "outputs": [
        {
          "output_type": "execute_result",
          "data": {
            "text/plain": [
              "56"
            ]
          },
          "metadata": {},
          "execution_count": 4
        }
      ],
      "source": [
        "# data_dir = \"/Users/trevoryu/Code/syde_599/data/norm_fog_data/\"\n",
        "data_dir = 'drive/MyDrive/599_project_data/norm_fog_data/'\n",
        "\n",
        "data_files = glob.glob(data_dir + \"*.csv\")\n",
        "len(data_files)"
      ]
    },
    {
      "cell_type": "markdown",
      "metadata": {
        "id": "qIHQM1ol8HBV"
      },
      "source": [
        "# Load the data"
      ]
    },
    {
      "cell_type": "code",
      "execution_count": null,
      "metadata": {
        "colab": {
          "base_uri": "https://localhost:8080/"
        },
        "id": "fflwLKvN8HBW",
        "outputId": "a3f33aa8-f1e4-4e2e-cb36-cf0ab4ce6678"
      },
      "outputs": [
        {
          "output_type": "stream",
          "name": "stdout",
          "text": [
            "drive/MyDrive/599_project_data/norm_fog_data/001_task_1.csv\n",
            "65500.0\n",
            "drive/MyDrive/599_project_data/norm_fog_data/001_task_3.csv\n",
            "0.0\n",
            "drive/MyDrive/599_project_data/norm_fog_data/001_task_2.csv\n",
            "64500.0\n",
            "drive/MyDrive/599_project_data/norm_fog_data/001_task_4.csv\n",
            "0.0\n",
            "drive/MyDrive/599_project_data/norm_fog_data/002_task_1.csv\n",
            "0.0\n",
            "drive/MyDrive/599_project_data/norm_fog_data/002_task_2.csv\n",
            "0.0\n",
            "drive/MyDrive/599_project_data/norm_fog_data/002_task_3.csv\n",
            "0.0\n",
            "drive/MyDrive/599_project_data/norm_fog_data/002_task_4.csv\n",
            "1500.0\n",
            "drive/MyDrive/599_project_data/norm_fog_data/003_task_1.csv\n",
            "588000.0\n",
            "drive/MyDrive/599_project_data/norm_fog_data/003_task_2.csv\n",
            "237000.0\n",
            "drive/MyDrive/599_project_data/norm_fog_data/003_task_3.csv\n",
            "26500.0\n",
            "drive/MyDrive/599_project_data/norm_fog_data/003_task_4.csv\n",
            "26500.0\n",
            "drive/MyDrive/599_project_data/norm_fog_data/004_task_1.csv\n",
            "0.0\n",
            "drive/MyDrive/599_project_data/norm_fog_data/004_task_2.csv\n",
            "60000.0\n",
            "drive/MyDrive/599_project_data/norm_fog_data/004_task_3.csv\n",
            "0.0\n",
            "drive/MyDrive/599_project_data/norm_fog_data/004_task_4.csv\n",
            "2500.0\n",
            "drive/MyDrive/599_project_data/norm_fog_data/004_task_5.csv\n",
            "4500.0\n",
            "drive/MyDrive/599_project_data/norm_fog_data/005_task_1.csv\n",
            "0.0\n",
            "drive/MyDrive/599_project_data/norm_fog_data/005_task_2.csv\n",
            "0.0\n",
            "drive/MyDrive/599_project_data/norm_fog_data/005_task_3.csv\n",
            "0.0\n",
            "drive/MyDrive/599_project_data/norm_fog_data/005_task_4.csv\n",
            "0.0\n",
            "drive/MyDrive/599_project_data/norm_fog_data/006_task_1.csv\n",
            "67000.0\n",
            "drive/MyDrive/599_project_data/norm_fog_data/006_task_2.csv\n",
            "77500.0\n",
            "drive/MyDrive/599_project_data/norm_fog_data/006_task_3.csv\n",
            "17000.0\n",
            "drive/MyDrive/599_project_data/norm_fog_data/006_task_4.csv\n",
            "16500.0\n",
            "drive/MyDrive/599_project_data/norm_fog_data/007_task_1.csv\n",
            "70500.0\n",
            "drive/MyDrive/599_project_data/norm_fog_data/007_task_2.csv\n",
            "62000.0\n",
            "drive/MyDrive/599_project_data/norm_fog_data/007_task_3.csv\n",
            "16000.0\n",
            "drive/MyDrive/599_project_data/norm_fog_data/007_task_4.csv\n",
            "18000.0\n",
            "drive/MyDrive/599_project_data/norm_fog_data/008_task_1.csv\n",
            "102500.0\n",
            "drive/MyDrive/599_project_data/norm_fog_data/008_task_2.csv\n",
            "92500.0\n",
            "drive/MyDrive/599_project_data/norm_fog_data/008_task_4.csv\n",
            "2500.0\n",
            "drive/MyDrive/599_project_data/norm_fog_data/008_task_3.csv\n",
            "11000.0\n",
            "drive/MyDrive/599_project_data/norm_fog_data/008_task_5.csv\n",
            "2000.0\n",
            "drive/MyDrive/599_project_data/norm_fog_data/008_task_6.csv\n",
            "101500.0\n",
            "drive/MyDrive/599_project_data/norm_fog_data/008_task_7.csv\n",
            "92000.0\n",
            "drive/MyDrive/599_project_data/norm_fog_data/008_task_8.csv\n",
            "22000.0\n",
            "drive/MyDrive/599_project_data/norm_fog_data/008_task_9.csv\n",
            "10000.0\n",
            "drive/MyDrive/599_project_data/norm_fog_data/009_task_1.csv\n",
            "6500.0\n",
            "drive/MyDrive/599_project_data/norm_fog_data/009_task_2.csv\n",
            "14000.0\n",
            "drive/MyDrive/599_project_data/norm_fog_data/009_task_3.csv\n",
            "25500.0\n",
            "drive/MyDrive/599_project_data/norm_fog_data/009_task_4.csv\n",
            "4500.0\n",
            "drive/MyDrive/599_project_data/norm_fog_data/009_task_6.csv\n",
            "4000.0\n",
            "drive/MyDrive/599_project_data/norm_fog_data/009_task_5.csv\n",
            "4000.0\n",
            "drive/MyDrive/599_project_data/norm_fog_data/010_task_1.csv\n",
            "195500.0\n",
            "drive/MyDrive/599_project_data/norm_fog_data/010_task_2.csv\n",
            "162500.0\n",
            "drive/MyDrive/599_project_data/norm_fog_data/010_task_3.csv\n",
            "15000.0\n",
            "drive/MyDrive/599_project_data/norm_fog_data/010_task_4.csv\n",
            "10000.0\n",
            "drive/MyDrive/599_project_data/norm_fog_data/011_task_1.csv\n",
            "127500.0\n",
            "drive/MyDrive/599_project_data/norm_fog_data/011_task_2.csv\n",
            "75500.0\n",
            "drive/MyDrive/599_project_data/norm_fog_data/011_task_3.csv\n",
            "20500.0\n",
            "drive/MyDrive/599_project_data/norm_fog_data/011_task_4.csv\n",
            "13000.0\n",
            "drive/MyDrive/599_project_data/norm_fog_data/012_task_1.csv\n",
            "46500.0\n",
            "drive/MyDrive/599_project_data/norm_fog_data/012_task_2.csv\n",
            "0.0\n",
            "drive/MyDrive/599_project_data/norm_fog_data/012_task_3.csv\n",
            "0.0\n",
            "drive/MyDrive/599_project_data/norm_fog_data/012_task_4.csv\n",
            "76500.0\n"
          ]
        }
      ],
      "source": [
        "WINDOW_SIZE = 650\n",
        "WINDOW_STEP = 200\n",
        "\n",
        "train_X = []\n",
        "train_Y = []\n",
        "test_X = []\n",
        "test_Y = []\n",
        "\n",
        "for file in data_files:\n",
        "    print(file)\n",
        "    path_parts = file.split('/')\n",
        "    patient_num = path_parts[-1].split('_')[0]\n",
        "    \n",
        "    data = np.loadtxt(file, delimiter=\",\", skiprows=1)\n",
        "    # Timestamp is in col 0, labels are in col 1\n",
        "    # Data is in cols 2 to end\n",
        "    y = data[:, 1]\n",
        "    x = data[:, 2:]\n",
        "    y[y<0] = 0\n",
        "    y[y>0] = 1\n",
        "    print(y.sum())\n",
        "    # Remove both waist and right shank columns since test data is missing there\n",
        "    #channels_to_remove = [11, 12, 13, 14, 15, 16, 17, 18, 19, 20, 21, 22]  # These are channel inds AFTER removing timestamp and labels\n",
        "    #x = np.delete(x, channels_to_remove, axis=1)\n",
        "\n",
        "\n",
        "    # Split into non-overlapping windows\n",
        "    # Don't use the last bit of data that doesn't fill a whole window\n",
        "    n_windows = y.size // WINDOW_SIZE\n",
        "    end = WINDOW_SIZE * n_windows\n",
        "    x = x[:end, :]  # (n_samples, d)\n",
        "    y = y[:end]\n",
        "\n",
        "    # Reshape into (n_windows, window_size, d)\n",
        "    #x = x.reshape(n_windows, WINDOW_SIZE, -1)\n",
        "    #y = y.reshape(n_windows, WINDOW_SIZE)\n",
        "    # Split into overlapping windows\n",
        "    x = np.lib.stride_tricks.sliding_window_view(x, WINDOW_SIZE, axis=0)[::WINDOW_STEP]\n",
        "    y = np.lib.stride_tricks.sliding_window_view(y, WINDOW_SIZE, axis=0)[::WINDOW_STEP]\n",
        "\n",
        "    x = x.transpose(0,2,1)\n",
        "    \n",
        "    \n",
        "    if patient_num in ('001', '009', '010'):\n",
        "        test_X.append(x)\n",
        "        test_Y.append(y)\n",
        "    else:\n",
        "        train_X.append(x)\n",
        "        train_Y.append(y)"
      ]
    },
    {
      "cell_type": "code",
      "execution_count": null,
      "metadata": {
        "id": "xL59JW_M8HBX"
      },
      "outputs": [],
      "source": [
        "train_X = np.concatenate(train_X, axis=0)\n",
        "train_Y = np.concatenate(train_Y, axis=0)\n",
        "\n",
        "test_X = np.concatenate(test_X, axis=0)\n",
        "test_Y = np.concatenate(test_Y, axis=0)"
      ]
    },
    {
      "cell_type": "markdown",
      "metadata": {
        "id": "XGgM1ZVy8HBY"
      },
      "source": [
        "# Example of augmentation applied"
      ]
    },
    {
      "cell_type": "code",
      "execution_count": null,
      "metadata": {
        "colab": {
          "base_uri": "https://localhost:8080/"
        },
        "id": "yHIKbB1s8HBY",
        "outputId": "ab5a647a-6354-4c67-c719-20e4dc9c71e2"
      },
      "outputs": [
        {
          "output_type": "execute_result",
          "data": {
            "text/plain": [
              "(22994, 650, 30)"
            ]
          },
          "metadata": {},
          "execution_count": 7
        }
      ],
      "source": [
        "train_X.shape"
      ]
    },
    {
      "cell_type": "code",
      "source": [
        "train_X.shape"
      ],
      "metadata": {
        "colab": {
          "base_uri": "https://localhost:8080/"
        },
        "id": "ar-bqtNxWLi9",
        "outputId": "4db9d76c-543b-451f-b870-2dc100bf4c74"
      },
      "execution_count": null,
      "outputs": [
        {
          "output_type": "execute_result",
          "data": {
            "text/plain": [
              "(22994, 650, 30)"
            ]
          },
          "metadata": {},
          "execution_count": 8
        }
      ]
    },
    {
      "cell_type": "code",
      "execution_count": null,
      "metadata": {
        "id": "BYBIPtAj8HBZ"
      },
      "outputs": [],
      "source": [
        "y = train_X[0, :, 0]"
      ]
    },
    {
      "cell_type": "code",
      "execution_count": null,
      "metadata": {
        "id": "X9h5L8qt8HBZ"
      },
      "outputs": [],
      "source": [
        "y_stretch = signal.resample(y, int(len(y) * 1.1))\n",
        "y_squeeze = signal.resample(y, int(len(y) * 0.9))\n",
        "y_shrink = y * 0.8\n",
        "y_scaled = y * 1.2"
      ]
    },
    {
      "cell_type": "code",
      "execution_count": null,
      "metadata": {
        "colab": {
          "base_uri": "https://localhost:8080/",
          "height": 265
        },
        "id": "EYw8MCoY8HBa",
        "outputId": "0cebb274-7cca-409c-beb1-2058dca02328"
      },
      "outputs": [
        {
          "output_type": "display_data",
          "data": {
            "text/plain": [
              "<Figure size 432x288 with 1 Axes>"
            ],
            "image/png": "[encoded data removed]"
          },
          "metadata": {
            "needs_background": "light"
          }
        }
      ],
      "source": [
        "plt.plot(y, label=\"original\", zorder=4, c='k')\n",
        "plt.plot(y_stretch, label=\"stretch\", alpha=0.4)\n",
        "plt.plot(y_squeeze, label=\"squeeze\", alpha=0.4)\n",
        "plt.plot(y_shrink, label=\"shrink\", alpha=0.4)\n",
        "plt.plot(y_scaled, label=\"amplified\", alpha=0.4)\n",
        "plt.legend()\n",
        "plt.show()"
      ]
    },
    {
      "cell_type": "code",
      "execution_count": null,
      "metadata": {
        "id": "aKRhkcIU8HBa"
      },
      "outputs": [],
      "source": [
        "# Build dataset, dataloader, collate function"
      ]
    },
    {
      "cell_type": "code",
      "execution_count": null,
      "metadata": {
        "id": "4G0cW0st8HBb"
      },
      "outputs": [],
      "source": [
        "class FoGDataset(torch.utils.data.Dataset):\n",
        "    def __init__(self, data_x, data_y):\n",
        "        \"\"\"\n",
        "        Parameters:\n",
        "        -----------\n",
        "        data_x: np.ndarray of shape (num_samples, window_size, num_features) which contains data features for FoG\n",
        "        data_y: np.ndarray of shape (num_samples, window_size) which contains binary labels for FoG\n",
        "        \"\"\"\n",
        "        super().__init__()\n",
        "        self.data_x = data_x\n",
        "        self.data_y = data_y\n",
        "\n",
        "    def __len__(self):\n",
        "        return self.data_x.shape[0]\n",
        "\n",
        "    def __getitem__(self, index):\n",
        "        \"\"\"Returns tuple of (data, label) at index\"\"\"\n",
        "        inputs = self.data_x[index, :, :]\n",
        "        labels = self.data_y[index, :]\n",
        "        return inputs, labels\n",
        "\n",
        "\n",
        "class FoGDataAugment:\n",
        "    \"\"\"\n",
        "    Collate function to apply random time stretch/squeeze and signal shrink/scale\n",
        "    Apply stretch/squeeze to the time dimension by resampling and truncating to out_samples\n",
        "        The lower bound of stretch must satisfy (lb * len(input)) > out_samples\n",
        "    \"\"\"\n",
        "    def __init__(self, out_samples=512, p=0.5, stretch=(0.8, 1.2), scale=(0.8, 1.2)):\n",
        "        \"\"\"\n",
        "        Parameters:\n",
        "        -----------\n",
        "        p: float between [0, 1], probability of applying each the stretch and scale transform independently\n",
        "        strech: tuple of float, upper and lower bound on time stretch factor\n",
        "        scale: tuple of float, upper and lower bound on signal scale factor\n",
        "        \"\"\"\n",
        "        self.p = p\n",
        "        self.stretch = stretch\n",
        "        self.scale = scale\n",
        "        self.out_samples = out_samples\n",
        "    \n",
        "    def _reduce_labels(self, y):\n",
        "        \"\"\"If there is a 1 in the label, then return 1\"\"\"\n",
        "        return np.any(y == 1, axis=-1).astype(int)\n",
        "\n",
        "    def _random_crop(self, inputs, labels):\n",
        "        \"\"\"Apply a random crop of the signal of length self.out_samples to both inputs and labels\"\"\"\n",
        "        n, d = inputs.shape\n",
        "        max_offset = n - self.out_samples\n",
        "        offset = np.random.choice(max_offset)\n",
        "        inds = slice(offset, offset + self.out_samples)\n",
        "        return inputs[inds, :], labels[inds]\n",
        "\n",
        "    def __call__(self, data):\n",
        "        \"\"\"\n",
        "        Parameters:\n",
        "        -----------\n",
        "        data: list of tuple of (inputs, labels) of length batch_size\n",
        "            inputs: np.ndarray, dimensions (n_samples, n_channels), signal data\n",
        "            labels: np.ndarray, dimensions (n_samples,), binary label vector for the signal data\n",
        "\n",
        "        Returns:\n",
        "        --------\n",
        "        (inputs, labels): augmented signal data, reduced labels\n",
        "        \"\"\"\n",
        "        x = []\n",
        "        y = []\n",
        "        for (inputs, labels) in data:\n",
        "            n, d = inputs.shape\n",
        "            assert (self.stretch[0] * n) >= self.out_samples, f\"input size {n} must be greater than {int(self.out_samples / self.stretch[0])} to apply augmentation\"\n",
        "\n",
        "            # Randomly apply time stretch\n",
        "            if np.random.binomial(1, self.p) != 0:\n",
        "                lb, ub = self.stretch\n",
        "                stretch = np.random.uniform(lb, ub)\n",
        "                inputs = signal.resample(inputs, int(n * stretch), axis=0)  # Resample the time (n_samples) axis\n",
        "            if np.random.binomial(1, self.p) != 0:\n",
        "                lb, ub = self.scale\n",
        "                scale = np.random.uniform(lb, ub)\n",
        "                inputs = scale * inputs  # Scale all channels equally\n",
        "            \n",
        "            # Apply random crop to self.out_size on both inputs and labels\n",
        "            inputs, labels = self._random_crop(inputs, labels)\n",
        "\n",
        "            labels = self._reduce_labels(labels)\n",
        "            x.append(inputs)\n",
        "            y.append(labels)\n",
        "        collated_inputs = torch.tensor(x, dtype=torch.float32)\n",
        "        collated_labels = torch.tensor(y, dtype=torch.float32)\n",
        "        return collated_inputs, collated_labels"
      ]
    },
    {
      "cell_type": "code",
      "execution_count": null,
      "metadata": {
        "id": "zeseExtI8HBc"
      },
      "outputs": [],
      "source": [
        "train_dataset = FoGDataset(train_X, train_Y)\n",
        "test_dataset = FoGDataset(test_X, test_Y)\n",
        "\n",
        "augment_fn = FoGDataAugment(out_samples=512)\n",
        "test_augment = FoGDataAugment(out_samples=512, p=0)\n",
        "\n",
        "BATCH_SIZE = 64\n",
        "train_loader = torch.utils.data.DataLoader(train_dataset, batch_size=BATCH_SIZE, collate_fn=augment_fn, shuffle=True)\n",
        "test_loader = torch.utils.data.DataLoader(test_dataset, batch_size=BATCH_SIZE, collate_fn=test_augment)"
      ]
    },
    {
      "cell_type": "code",
      "source": [
        "del train_X, train_Y, test_X, test_Y, train_dataset, test_dataset"
      ],
      "metadata": {
        "id": "9Vzlee9fYXc4"
      },
      "execution_count": null,
      "outputs": []
    },
    {
      "cell_type": "markdown",
      "metadata": {
        "id": "wsOYqn5e8HBc"
      },
      "source": [
        "# Define model"
      ]
    },
    {
      "cell_type": "code",
      "execution_count": null,
      "metadata": {
        "id": "bUa0MmBn8HBc"
      },
      "outputs": [],
      "source": [
        "class TransformerModel(nn.Module):\n",
        "    def __init__(self, n_layers=3, in_features=30, d_model=128, n_heads=8, dropout=0.1):\n",
        "        super().__init__()\n",
        "        self.d_model = d_model\n",
        "\n",
        "        self.input_transform = nn.Linear(in_features, d_model)\n",
        "        self.encoder_layer = nn.TransformerEncoderLayer(\n",
        "            d_model=d_model,\n",
        "            nhead=n_heads,\n",
        "            dropout=dropout,\n",
        "            dim_feedforward=4*d_model,\n",
        "            activation=\"gelu\",\n",
        "            batch_first=True,\n",
        "            norm_first=True)\n",
        "\n",
        "        self.encoder = nn.TransformerEncoder(self.encoder_layer, num_layers=n_layers)\n",
        "        self.layer_norm = nn.LayerNorm(d_model)\n",
        "\n",
        "        # We'll just make a prediction on the features of the first and last sequence point\n",
        "        self.classifier = nn.Linear(d_model * 2, 1)\n",
        "    \n",
        "    def forward(self, x):\n",
        "        x = self.input_transform(x)\n",
        "        x = self.encoder(x)\n",
        "        x = self.layer_norm(x)\n",
        "\n",
        "        x = x[:, [0, -1], :].reshape(-1, 2 * self.d_model)\n",
        "        x = self.classifier(x)\n",
        "        return x"
      ]
    },
    {
      "cell_type": "code",
      "source": [
        "class LSTMModel(nn.Module):\n",
        "    def __init__(self, input_dim, hidden_dim, layer_dim, output_dim, dropout_prob, fc_dim, bidirectional):\n",
        "        super(LSTMModel, self).__init__()\n",
        "\n",
        "        # LSTM layers\n",
        "        self.lstm = nn.LSTM(\n",
        "            input_dim, hidden_dim, layer_dim, batch_first=True, dropout=dropout_prob, bidirectional=bidirection\n",
        "        )\n",
        "\n",
        "        # Fully connected layer\n",
        "        self.fc = nn.Linear(fc_dim, output_dim)\n",
        "\n",
        "    def forward(self, x):\n",
        "\n",
        "        # We need to detach as we are doing truncated backpropagation through time (BPTT)\n",
        "        # If we don't, we'll backprop all the way to the start even after going through another batch\n",
        "        out, (hn, cn) = self.lstm(x)\n",
        "        \n",
        "        # Convert the final state to our desired output shape (batch_size, output_dim)\n",
        "        out = self.fc(out.flatten(start_dim=-2))\n",
        "\n",
        "        return out"
      ],
      "metadata": {
        "id": "9UULvV82-4uL"
      },
      "execution_count": null,
      "outputs": []
    },
    {
      "cell_type": "code",
      "source": [
        "class CNNLSTMModel(nn.Module):\n",
        "    def __init__(self, input_dim, hidden_dim, layer_dim, output_dim, dropout_prob, fc_dim, bidirection):\n",
        "        super(CNNLSTMModel, self).__init__()\n",
        "        # Convolutional layers\n",
        "        self.conv1 = nn.Conv1d(in_channels=30, out_channels=64, kernel_size=4)\n",
        "        self.mp = nn.MaxPool1d(kernel_size=2, stride=2)\n",
        "        self.conv2 = nn.Conv1d(in_channels=64,out_channels=32,kernel_size=4)\n",
        "\n",
        "\n",
        "          # LSTM layers\n",
        "        self.lstm = nn.LSTM(\n",
        "            input_dim, hidden_dim, layer_dim, batch_first=True, dropout=dropout_prob, bidirectional=bidirection\n",
        "        )\n",
        "\n",
        "        # Fully connected layer\n",
        "        self.fc1 = nn.Linear(fc_dim, 128)\n",
        "        self.fc2 = nn.Linear(128, 1)\n",
        "        self.fc3 = nn.Linear(64, output_dim)\n",
        "\n",
        "    def forward(self, x):\n",
        "       \n",
        "        out = self.conv1(x.transpose(1,2))\n",
        "        out = self.mp(out)\n",
        "        #out = self.conv2(out)\n",
        "        #out = self.mp(out)\n",
        "        \n",
        "        #out = self.conv2(out)\n",
        "        #out = self.mp(out)\n",
        "        # We need to detach as we are doing truncated backpropagation through time (BPTT)\n",
        "        # If we don't, we'll backprop all the way to the start even after going through another batch\n",
        "        out, (hn, cn) = self.lstm(out.transpose(1,2))\n",
        "        \n",
        "        # Convert the final state to our desired output shape (batch_size, output_dim)\n",
        "        out = self.fc1(out.flatten(start_dim=-2))\n",
        "        out = self.fc2(out)\n",
        "        #out = self.fc3(out)\n",
        "\n",
        "        return out"
      ],
      "metadata": {
        "id": "hFCG70UBFqpQ"
      },
      "execution_count": null,
      "outputs": []
    },
    {
      "cell_type": "code",
      "source": [
        "class CNNLSTM(nn.Module):\n",
        "    def __init__(self, input_features=30, dropout_prob=0.5, padding = 'valid', mp=2, pool='max', input_dim=1, hidden_dim=1, layer_dim=1, output_dim=1, fc_dim=1, bidirection=True):\n",
        "        super(CNNLSTM, self).__init__()\n",
        "\n",
        "        self.conv1 = nn.Conv1d(input_features, 32, kernel_size=32, stride=2)\n",
        "        self.mp = nn.MaxPool1d(mp, stride=mp)\n",
        "\n",
        "        self.conv2 = nn.Conv1d(32, 64, kernel_size=16)\n",
        "\n",
        "        self.conv3 = nn.Conv1d(64, 128, kernel_size=8)\n",
        "\n",
        "        self.conv4 = nn.Conv1d(128, 1, kernel_size=4)\n",
        "        self.dropout = nn.Dropout(dropout_prob)\n",
        "\n",
        "        self.lstm = nn.LSTM(\n",
        "            input_dim, hidden_dim, layer_dim, batch_first=True, dropout=dropout_prob, bidirectional=bidirection\n",
        "        )\n",
        "\n",
        "        # Fully connected layer\n",
        "        self.fc = nn.Linear(fc_dim, output_dim)\n",
        "\n",
        "\n",
        "    def forward(self, x):\n",
        "        x = self.conv1(x.transpose(1,2))\n",
        "        # print(x.shape)\n",
        "        x = F.relu(x)\n",
        "        x = self.mp(x)\n",
        "        #print(x.shape)\n",
        "        x = self.conv2(x)\n",
        "        # print(x.shape)\n",
        "        x = F.relu(x)\n",
        "        x = self.mp(x)\n",
        "\n",
        "        x = self.conv3(x)\n",
        "        # print(x.shape)\n",
        "        x = F.relu(x)\n",
        "        \n",
        "        x = self.conv4(x)\n",
        "        # print(x.shape)\n",
        "        x = torch.flatten(x, 1)\n",
        "        x = self.dropout(x)\n",
        "        \n",
        "        x, _ = self.lstm(x)\n",
        "        \n",
        "        x = self.fc(x)\n",
        "        return x"
      ],
      "metadata": {
        "id": "Zjpc6VrGvS25"
      },
      "execution_count": null,
      "outputs": []
    },
    {
      "cell_type": "markdown",
      "metadata": {
        "id": "BsnWUiSa8HBd"
      },
      "source": [
        "# Training"
      ]
    },
    {
      "cell_type": "code",
      "execution_count": null,
      "metadata": {
        "id": "gJ1RAtvS8HBd"
      },
      "outputs": [],
      "source": [
        "def train(model, dataloader, optimizer, criterion, epoch, logging_steps=20, device=None):\n",
        "    if device is None:\n",
        "        device = \"cuda\" if torch.cuda.is_available() else \"cpu\"\n",
        "    model = model.to(device)\n",
        "    model.train()\n",
        "    total_loss = 0\n",
        "    correct = 0\n",
        "    loss_history = []\n",
        "    for i, (inputs, targets) in tqdm(enumerate(dataloader)):\n",
        "        optimizer.zero_grad()\n",
        "        inputs = inputs.to(device)\n",
        "        targets = targets.to(device)\n",
        "        outputs = model(inputs)\n",
        "        outputs = outputs.flatten()\n",
        "        loss = criterion(outputs, targets)\n",
        "        loss.backward()\n",
        "        optimizer.step()\n",
        "\n",
        "        total_loss += loss\n",
        "        loss_history.append(loss.item())\n",
        "        preds = torch.round(torch.sigmoid(outputs))\n",
        "        correct += torch.sum(preds == targets).detach().cpu()\n",
        "\n",
        "        if i % logging_steps == 0:\n",
        "            print(f'Epoch: {epoch} ({i}/{len(dataloader)}) Training loss: {loss}')\n",
        "\n",
        "    accuracy = correct / (dataloader.batch_size * len(dataloader))\n",
        "    print(f'Epoch {epoch} done. Training loss: {total_loss/len(dataloader)} Training accuracy: {accuracy}')\n",
        "    return accuracy, total_loss/len(dataloader), loss_history"
      ]
    },
    {
      "cell_type": "code",
      "execution_count": null,
      "metadata": {
        "id": "VhIEJffo8HBd"
      },
      "outputs": [],
      "source": [
        "def evaluate(model, dataloader, criterion, epoch, device=None):\n",
        "    if device is None:\n",
        "        device = \"cuda\" if torch.cuda.is_available() else \"cpu\"\n",
        "    model.eval()\n",
        "    total_loss = 0\n",
        "    correct = 0\n",
        "    with torch.no_grad():\n",
        "        for i, (inputs, targets) in tqdm(enumerate(dataloader)):\n",
        "            inputs = inputs.to(device)\n",
        "            targets = targets.to(device)\n",
        "            outputs = model(inputs)\n",
        "            outputs = outputs.flatten()\n",
        "            loss = criterion(outputs, targets)\n",
        "\n",
        "            total_loss += loss\n",
        "            preds = torch.round(torch.sigmoid(outputs))\n",
        "            \n",
        "            correct += torch.sum(preds == targets).detach().cpu()\n",
        "\n",
        "        accuracy = correct / (dataloader.batch_size * len(dataloader))\n",
        "        print(f'Epoch {epoch} done. Eval loss: {total_loss/len(dataloader)} Eval accuracy: {accuracy}')\n",
        "    return accuracy, total_loss/len(dataloader)"
      ]
    },
    {
      "cell_type": "code",
      "execution_count": null,
      "metadata": {
        "id": "pcoq8uOp8HBd"
      },
      "outputs": [],
      "source": [
        "# input_dim = 42\n",
        "# hidden_dim = 4 \n",
        "# layer_dim = 1\n",
        "# output_dim = 1 \n",
        "# dropout_prob = 0.5\n",
        "# fc_dim = 8\n",
        "# bidirection = True\n",
        "# model = CNNLSTM(input_features=30, dropout_prob=0.5, padding = 'valid', mp=2, pool='max', input_dim=input_dim, hidden_dim=hidden_dim, layer_dim=layer_dim, output_dim=output_dim, fc_dim=fc_dim, bidirection=bidirection)\n",
        "# optimizer = torch.optim.Adam(model.parameters(), lr=1e-3, weight_decay=0)\n",
        "# criterion = nn.BCEWithLogitsLoss()\n",
        "# EPOCHS = 10\n",
        "\n",
        "# loss_history = []\n",
        "# train_acc_history = []\n",
        "# eval_acc_history = []\n",
        "# eval_loss_history = []\n",
        "# for epoch in range(EPOCHS):\n",
        "#     train_acc, train_loss, history = train(model, train_loader, optimizer, criterion, epoch)\n",
        "#     eval_acc, eval_loss = evaluate(model, test_loader, criterion, epoch)\n",
        "    \n",
        "#     loss_history.extend(history)\n",
        "#     eval_loss_history.append(eval_loss)\n",
        "#     train_acc_history.append(train_acc)\n",
        "#     eval_acc_history.append(eval_acc)\n",
        "    "
      ]
    },
    {
      "cell_type": "code",
      "source": [
        "# made running the model a function to work with optuna\n",
        "\n",
        "def run(params=None):\n",
        "    if params['pool_size'] == 1:\n",
        "        input_dim = 216\n",
        "    elif params['pool_size'] == 2:\n",
        "        input_dim = 42\n",
        "    else:\n",
        "        input_dim = 11\n",
        "    if params['bidirectional'] == 'True':\n",
        "        bidirection = True\n",
        "    else:\n",
        "        bidirection = False\n",
        "    hidden_dim = 4 \n",
        "    layer_dim = 1\n",
        "    output_dim = 1 \n",
        "    dropout_prob = 0.5\n",
        "    fc_dim = 8\n",
        "    model = CNNLSTM(input_features=30, dropout_prob=params['dropout'], padding=params['padding'], mp=params['pool_size'], pool=params['pooling'], input_dim=input_dim, hidden_dim=hidden_dim, layer_dim=layer_dim, output_dim=output_dim, fc_dim=fc_dim, bidirection=bidirection)\n",
        "    if params:\n",
        "        print(params)\n",
        "        optimizer = getattr(optim, params['optimizer'])(model.parameters(), lr= params['learning_rate'], weight_decay=params['weight_decay'])\n",
        "    else:\n",
        "        optimizer = torch.optim.Adam(model.parameters(), lr=1e-3, weight_decay=0)\n",
        "    criterion = nn.BCEWithLogitsLoss()\n",
        "    EPOCHS = params['epochs']\n",
        "\n",
        "    loss_history = []\n",
        "    train_acc_history = []\n",
        "    eval_acc_history = []\n",
        "    eval_loss_history = []\n",
        "    for epoch in range(EPOCHS):\n",
        "        train_acc, train_loss, history = train(model, train_loader, optimizer, criterion, epoch)\n",
        "        eval_acc, eval_loss = evaluate(model, test_loader, criterion, epoch)\n",
        "        \n",
        "        loss_history.extend(history)\n",
        "        eval_loss_history.append(eval_loss)\n",
        "        train_acc_history.append(train_acc)\n",
        "        eval_acc_history.append(eval_acc)\n",
        "    \n",
        "    return eval_acc_history[-1]\n",
        "\n",
        "# run()"
      ],
      "metadata": {
        "id": "2jUzY5-iBc1m"
      },
      "execution_count": null,
      "outputs": []
    },
    {
      "cell_type": "code",
      "source": [
        "# included this as google colab doesn't have optuna by default\n",
        "!pip install optuna"
      ],
      "metadata": {
        "id": "7546bCZED7JV"
      },
      "execution_count": null,
      "outputs": []
    },
    {
      "cell_type": "code",
      "source": [
        "# hyperparameter optimization using optuna\n",
        "\n",
        "import optuna\n",
        "from optuna import trial\n",
        "\n",
        "def objective(trial):\n",
        "\n",
        "    params = {\n",
        "              'learning_rate': trial.suggest_loguniform('learning_rate', 1e-4, 1e-2),\n",
        "              'optimizer': trial.suggest_categorical(\"optimizer\", [\"Adam\", \"RMSprop\", \"SGD\"]),\n",
        "              'padding': trial.suggest_categorical(\"padding\", [\"valid\", \"same\"]),\n",
        "              'pooling': trial.suggest_categorical(\"pooling\", [\"max\", \"avg\"]),\n",
        "              'pool_size': trial.suggest_int(\"pool_size\", 1, 3),\n",
        "              'dropout': trial.suggest_float(\"dropout\", 0.2, 0.8),\n",
        "              'weight_decay': trial.suggest_loguniform('weight_decay', 1e-4, 1e-2),\n",
        "              'epochs': trial.suggest_int(\"epochs\", 3, 15),\n",
        "              'bidirectional': trial.suggest_categorical(\"bidirectional\", [\"True\", \"False\"]),\n",
        "              # 'batch_size': trial.suggest_int(\"batch_size\", 1, 101, step=10), \n",
        "              # 'num_channel': trial.suggest_int(\"num_channel\", 10, 100),\n",
        "              # 'kernel_size': trial.suggest_int(\"kernel_size\", 1, 3),\n",
        "              }\n",
        "    # batch_size excluded so we don't need to process data every time\n",
        "    # num_channel and kernel_size excluded to make data sizes easier to deal with/nicer in the\n",
        "    # convolution channels. Can definitely be added, just let me know if we want this.\n",
        "\n",
        "    accuracy = run(params)\n",
        "\n",
        "    return accuracy\n",
        "\n",
        "study = optuna.create_study(direction=\"maximize\", sampler=optuna.samplers.TPESampler())\n",
        "study.optimize(objective, n_trials=30)\n",
        "print(\"Number of finished trials: {}\".format(len(study.trials)))\n",
        "\n",
        "print(\"Best trial:\")\n",
        "best_trial = study.best_trial\n",
        "\n",
        "print(\"  Value: {}\".format(trial.value))\n",
        "\n",
        "print(\"  Params: \")\n",
        "for key, value in trial.params.items():\n",
        "    print(\"    {}: {}\".format(key, value))"
      ],
      "metadata": {
        "colab": {
          "base_uri": "https://localhost:8080/",
          "height": 1000
        },
        "id": "SmQo8hB4A7Qd",
        "outputId": "d66a6d83-50cd-4d66-e386-bcb2c42a6165"
      },
      "execution_count": null,
      "outputs": [
        {
          "output_type": "stream",
          "name": "stderr",
          "text": [
            "\u001b[32m[I 2022-12-01 19:39:16,695]\u001b[0m A new study created in memory with name: no-name-3a94424a-a2bf-49f5-8015-1b9d943c6b86\u001b[0m\n",
            "<ipython-input-74-df2d14e0ce98>:9: FutureWarning: suggest_loguniform has been deprecated in v3.0.0. This feature will be removed in v6.0.0. See https://github.com/optuna/optuna/releases/tag/v3.0.0. Use :func:`~optuna.trial.Trial.suggest_float` instead.\n",
            "  'learning_rate': trial.suggest_loguniform('learning_rate', 1e-4, 1e-2),\n",
            "<ipython-input-74-df2d14e0ce98>:19: FutureWarning: suggest_loguniform has been deprecated in v3.0.0. This feature will be removed in v6.0.0. See https://github.com/optuna/optuna/releases/tag/v3.0.0. Use :func:`~optuna.trial.Trial.suggest_float` instead.\n",
            "  'weight_decay': trial.suggest_loguniform('weight_decay', 1e-4, 1e-2),\n",
            "/usr/local/lib/python3.8/dist-packages/torch/nn/modules/rnn.py:62: UserWarning: dropout option adds dropout after all but last recurrent layer, so non-zero dropout expects num_layers greater than 1, but got dropout=0.3725746278610358 and num_layers=1\n",
            "  warnings.warn(\"dropout option adds dropout after all but last \"\n"
          ]
        },
        {
          "output_type": "stream",
          "name": "stdout",
          "text": [
            "{'learning_rate': 0.009037022028642632, 'optimizer': 'SGD', 'padding': 'valid', 'pooling': 'max', 'pool_size': 1, 'dropout': 0.3725746278610358, 'weight_decay': 0.00026964639785669113, 'epochs': 3}\n"
          ]
        },
        {
          "output_type": "stream",
          "name": "stderr",
          "text": [
            "1it [00:00,  8.31it/s]"
          ]
        },
        {
          "output_type": "stream",
          "name": "stdout",
          "text": [
            "Epoch: 0 (0/360) Training loss: 0.6985577940940857\n"
          ]
        },
        {
          "output_type": "stream",
          "name": "stderr",
          "text": [
            "22it [00:02,  8.49it/s]"
          ]
        },
        {
          "output_type": "stream",
          "name": "stdout",
          "text": [
            "Epoch: 0 (20/360) Training loss: 0.6934260725975037\n"
          ]
        },
        {
          "output_type": "stream",
          "name": "stderr",
          "text": [
            "42it [00:05,  8.13it/s]"
          ]
        },
        {
          "output_type": "stream",
          "name": "stdout",
          "text": [
            "Epoch: 0 (40/360) Training loss: 0.6947288513183594\n"
          ]
        },
        {
          "output_type": "stream",
          "name": "stderr",
          "text": [
            "62it [00:07,  8.32it/s]"
          ]
        },
        {
          "output_type": "stream",
          "name": "stdout",
          "text": [
            "Epoch: 0 (60/360) Training loss: 0.6867790222167969\n"
          ]
        },
        {
          "output_type": "stream",
          "name": "stderr",
          "text": [
            "82it [00:09,  8.20it/s]"
          ]
        },
        {
          "output_type": "stream",
          "name": "stdout",
          "text": [
            "Epoch: 0 (80/360) Training loss: 0.693064272403717\n"
          ]
        },
        {
          "output_type": "stream",
          "name": "stderr",
          "text": [
            "102it [00:12,  8.51it/s]"
          ]
        },
        {
          "output_type": "stream",
          "name": "stdout",
          "text": [
            "Epoch: 0 (100/360) Training loss: 0.6959656476974487\n"
          ]
        },
        {
          "output_type": "stream",
          "name": "stderr",
          "text": [
            "122it [00:14,  8.36it/s]"
          ]
        },
        {
          "output_type": "stream",
          "name": "stdout",
          "text": [
            "Epoch: 0 (120/360) Training loss: 0.6938598155975342\n"
          ]
        },
        {
          "output_type": "stream",
          "name": "stderr",
          "text": [
            "142it [00:17,  8.15it/s]"
          ]
        },
        {
          "output_type": "stream",
          "name": "stdout",
          "text": [
            "Epoch: 0 (140/360) Training loss: 0.6944568753242493\n"
          ]
        },
        {
          "output_type": "stream",
          "name": "stderr",
          "text": [
            "162it [00:19,  7.85it/s]"
          ]
        },
        {
          "output_type": "stream",
          "name": "stdout",
          "text": [
            "Epoch: 0 (160/360) Training loss: 0.6948206424713135\n"
          ]
        },
        {
          "output_type": "stream",
          "name": "stderr",
          "text": [
            "182it [00:22,  7.89it/s]"
          ]
        },
        {
          "output_type": "stream",
          "name": "stdout",
          "text": [
            "Epoch: 0 (180/360) Training loss: 0.6939487457275391\n"
          ]
        },
        {
          "output_type": "stream",
          "name": "stderr",
          "text": [
            "202it [00:24,  8.23it/s]"
          ]
        },
        {
          "output_type": "stream",
          "name": "stdout",
          "text": [
            "Epoch: 0 (200/360) Training loss: 0.6971970796585083\n"
          ]
        },
        {
          "output_type": "stream",
          "name": "stderr",
          "text": [
            "222it [00:26,  8.41it/s]"
          ]
        },
        {
          "output_type": "stream",
          "name": "stdout",
          "text": [
            "Epoch: 0 (220/360) Training loss: 0.6926255226135254\n"
          ]
        },
        {
          "output_type": "stream",
          "name": "stderr",
          "text": [
            "242it [00:29,  8.14it/s]"
          ]
        },
        {
          "output_type": "stream",
          "name": "stdout",
          "text": [
            "Epoch: 0 (240/360) Training loss: 0.6901466250419617\n"
          ]
        },
        {
          "output_type": "stream",
          "name": "stderr",
          "text": [
            "262it [00:31,  8.38it/s]"
          ]
        },
        {
          "output_type": "stream",
          "name": "stdout",
          "text": [
            "Epoch: 0 (260/360) Training loss: 0.6976877450942993\n"
          ]
        },
        {
          "output_type": "stream",
          "name": "stderr",
          "text": [
            "282it [00:34,  8.36it/s]"
          ]
        },
        {
          "output_type": "stream",
          "name": "stdout",
          "text": [
            "Epoch: 0 (280/360) Training loss: 0.6895184516906738\n"
          ]
        },
        {
          "output_type": "stream",
          "name": "stderr",
          "text": [
            "302it [00:36,  7.96it/s]"
          ]
        },
        {
          "output_type": "stream",
          "name": "stdout",
          "text": [
            "Epoch: 0 (300/360) Training loss: 0.6985476613044739\n"
          ]
        },
        {
          "output_type": "stream",
          "name": "stderr",
          "text": [
            "322it [00:39,  8.36it/s]"
          ]
        },
        {
          "output_type": "stream",
          "name": "stdout",
          "text": [
            "Epoch: 0 (320/360) Training loss: 0.691952109336853\n"
          ]
        },
        {
          "output_type": "stream",
          "name": "stderr",
          "text": [
            "342it [00:41,  8.44it/s]"
          ]
        },
        {
          "output_type": "stream",
          "name": "stdout",
          "text": [
            "Epoch: 0 (340/360) Training loss: 0.6885769367218018\n"
          ]
        },
        {
          "output_type": "stream",
          "name": "stderr",
          "text": [
            "360it [00:43,  8.23it/s]\n"
          ]
        },
        {
          "output_type": "stream",
          "name": "stdout",
          "text": [
            "Epoch 0 done. Training loss: 0.6931660175323486 Training accuracy: 0.5092447996139526\n"
          ]
        },
        {
          "output_type": "stream",
          "name": "stderr",
          "text": [
            "123it [00:13,  9.13it/s]\n"
          ]
        },
        {
          "output_type": "stream",
          "name": "stdout",
          "text": [
            "Epoch 0 done. Eval loss: 0.6838470697402954 Eval accuracy: 0.6006097793579102\n"
          ]
        },
        {
          "output_type": "stream",
          "name": "stderr",
          "text": [
            "1it [00:00,  8.30it/s]"
          ]
        },
        {
          "output_type": "stream",
          "name": "stdout",
          "text": [
            "Epoch: 1 (0/360) Training loss: 0.6964852213859558\n"
          ]
        },
        {
          "output_type": "stream",
          "name": "stderr",
          "text": [
            "22it [00:02,  8.18it/s]"
          ]
        },
        {
          "output_type": "stream",
          "name": "stdout",
          "text": [
            "Epoch: 1 (20/360) Training loss: 0.6942739486694336\n"
          ]
        },
        {
          "output_type": "stream",
          "name": "stderr",
          "text": [
            "42it [00:05,  8.12it/s]"
          ]
        },
        {
          "output_type": "stream",
          "name": "stdout",
          "text": [
            "Epoch: 1 (40/360) Training loss: 0.6960006356239319\n"
          ]
        },
        {
          "output_type": "stream",
          "name": "stderr",
          "text": [
            "62it [00:07,  8.08it/s]"
          ]
        },
        {
          "output_type": "stream",
          "name": "stdout",
          "text": [
            "Epoch: 1 (60/360) Training loss: 0.6872739791870117\n"
          ]
        },
        {
          "output_type": "stream",
          "name": "stderr",
          "text": [
            "82it [00:10,  8.05it/s]"
          ]
        },
        {
          "output_type": "stream",
          "name": "stdout",
          "text": [
            "Epoch: 1 (80/360) Training loss: 0.692438006401062\n"
          ]
        },
        {
          "output_type": "stream",
          "name": "stderr",
          "text": [
            "102it [00:12,  8.35it/s]"
          ]
        },
        {
          "output_type": "stream",
          "name": "stdout",
          "text": [
            "Epoch: 1 (100/360) Training loss: 0.6898894309997559\n"
          ]
        },
        {
          "output_type": "stream",
          "name": "stderr",
          "text": [
            "122it [00:14,  8.11it/s]"
          ]
        },
        {
          "output_type": "stream",
          "name": "stdout",
          "text": [
            "Epoch: 1 (120/360) Training loss: 0.6902922987937927\n"
          ]
        },
        {
          "output_type": "stream",
          "name": "stderr",
          "text": [
            "142it [00:17,  7.95it/s]"
          ]
        },
        {
          "output_type": "stream",
          "name": "stdout",
          "text": [
            "Epoch: 1 (140/360) Training loss: 0.6931681632995605\n"
          ]
        },
        {
          "output_type": "stream",
          "name": "stderr",
          "text": [
            "162it [00:19,  8.30it/s]"
          ]
        },
        {
          "output_type": "stream",
          "name": "stdout",
          "text": [
            "Epoch: 1 (160/360) Training loss: 0.6875749826431274\n"
          ]
        },
        {
          "output_type": "stream",
          "name": "stderr",
          "text": [
            "182it [00:22,  8.56it/s]"
          ]
        },
        {
          "output_type": "stream",
          "name": "stdout",
          "text": [
            "Epoch: 1 (180/360) Training loss: 0.6843239068984985\n"
          ]
        },
        {
          "output_type": "stream",
          "name": "stderr",
          "text": [
            "202it [00:24,  8.20it/s]"
          ]
        },
        {
          "output_type": "stream",
          "name": "stdout",
          "text": [
            "Epoch: 1 (200/360) Training loss: 0.6933963298797607\n"
          ]
        },
        {
          "output_type": "stream",
          "name": "stderr",
          "text": [
            "222it [00:26,  8.36it/s]"
          ]
        },
        {
          "output_type": "stream",
          "name": "stdout",
          "text": [
            "Epoch: 1 (220/360) Training loss: 0.6934818625450134\n"
          ]
        },
        {
          "output_type": "stream",
          "name": "stderr",
          "text": [
            "242it [00:29,  8.31it/s]"
          ]
        },
        {
          "output_type": "stream",
          "name": "stdout",
          "text": [
            "Epoch: 1 (240/360) Training loss: 0.6942613124847412\n"
          ]
        },
        {
          "output_type": "stream",
          "name": "stderr",
          "text": [
            "262it [00:31,  8.41it/s]"
          ]
        },
        {
          "output_type": "stream",
          "name": "stdout",
          "text": [
            "Epoch: 1 (260/360) Training loss: 0.6954702138900757\n"
          ]
        },
        {
          "output_type": "stream",
          "name": "stderr",
          "text": [
            "282it [00:34,  8.07it/s]"
          ]
        },
        {
          "output_type": "stream",
          "name": "stdout",
          "text": [
            "Epoch: 1 (280/360) Training loss: 0.6946307420730591\n"
          ]
        },
        {
          "output_type": "stream",
          "name": "stderr",
          "text": [
            "302it [00:36,  8.38it/s]"
          ]
        },
        {
          "output_type": "stream",
          "name": "stdout",
          "text": [
            "Epoch: 1 (300/360) Training loss: 0.6882839202880859\n"
          ]
        },
        {
          "output_type": "stream",
          "name": "stderr",
          "text": [
            "322it [00:38,  7.82it/s]"
          ]
        },
        {
          "output_type": "stream",
          "name": "stdout",
          "text": [
            "Epoch: 1 (320/360) Training loss: 0.6900674700737\n"
          ]
        },
        {
          "output_type": "stream",
          "name": "stderr",
          "text": [
            "342it [00:41,  8.32it/s]"
          ]
        },
        {
          "output_type": "stream",
          "name": "stdout",
          "text": [
            "Epoch: 1 (340/360) Training loss: 0.6833179593086243\n"
          ]
        },
        {
          "output_type": "stream",
          "name": "stderr",
          "text": [
            "360it [00:43,  8.27it/s]\n"
          ]
        },
        {
          "output_type": "stream",
          "name": "stdout",
          "text": [
            "Epoch 1 done. Training loss: 0.6914480328559875 Training accuracy: 0.5202257037162781\n"
          ]
        },
        {
          "output_type": "stream",
          "name": "stderr",
          "text": [
            "123it [00:13,  9.38it/s]\n"
          ]
        },
        {
          "output_type": "stream",
          "name": "stdout",
          "text": [
            "Epoch 1 done. Eval loss: 0.6814886331558228 Eval accuracy: 0.5987042784690857\n"
          ]
        },
        {
          "output_type": "stream",
          "name": "stderr",
          "text": [
            "1it [00:00,  8.18it/s]"
          ]
        },
        {
          "output_type": "stream",
          "name": "stdout",
          "text": [
            "Epoch: 2 (0/360) Training loss: 0.6836997270584106\n"
          ]
        },
        {
          "output_type": "stream",
          "name": "stderr",
          "text": [
            "22it [00:02,  8.14it/s]"
          ]
        },
        {
          "output_type": "stream",
          "name": "stdout",
          "text": [
            "Epoch: 2 (20/360) Training loss: 0.6934586763381958\n"
          ]
        },
        {
          "output_type": "stream",
          "name": "stderr",
          "text": [
            "42it [00:05,  8.13it/s]"
          ]
        },
        {
          "output_type": "stream",
          "name": "stdout",
          "text": [
            "Epoch: 2 (40/360) Training loss: 0.6905581951141357\n"
          ]
        },
        {
          "output_type": "stream",
          "name": "stderr",
          "text": [
            "62it [00:07,  8.00it/s]"
          ]
        },
        {
          "output_type": "stream",
          "name": "stdout",
          "text": [
            "Epoch: 2 (60/360) Training loss: 0.6856139898300171\n"
          ]
        },
        {
          "output_type": "stream",
          "name": "stderr",
          "text": [
            "82it [00:10,  8.38it/s]"
          ]
        },
        {
          "output_type": "stream",
          "name": "stdout",
          "text": [
            "Epoch: 2 (80/360) Training loss: 0.6892718076705933\n"
          ]
        },
        {
          "output_type": "stream",
          "name": "stderr",
          "text": [
            "101it [00:13,  4.71it/s]"
          ]
        },
        {
          "output_type": "stream",
          "name": "stdout",
          "text": [
            "Epoch: 2 (100/360) Training loss: 0.6916237473487854\n"
          ]
        },
        {
          "output_type": "stream",
          "name": "stderr",
          "text": [
            "122it [00:16,  8.17it/s]"
          ]
        },
        {
          "output_type": "stream",
          "name": "stdout",
          "text": [
            "Epoch: 2 (120/360) Training loss: 0.6910070776939392\n"
          ]
        },
        {
          "output_type": "stream",
          "name": "stderr",
          "text": [
            "142it [00:19,  8.22it/s]"
          ]
        },
        {
          "output_type": "stream",
          "name": "stdout",
          "text": [
            "Epoch: 2 (140/360) Training loss: 0.6984221935272217\n"
          ]
        },
        {
          "output_type": "stream",
          "name": "stderr",
          "text": [
            "162it [00:21,  8.22it/s]"
          ]
        },
        {
          "output_type": "stream",
          "name": "stdout",
          "text": [
            "Epoch: 2 (160/360) Training loss: 0.6910521388053894\n"
          ]
        },
        {
          "output_type": "stream",
          "name": "stderr",
          "text": [
            "182it [00:24,  8.05it/s]"
          ]
        },
        {
          "output_type": "stream",
          "name": "stdout",
          "text": [
            "Epoch: 2 (180/360) Training loss: 0.6900341510772705\n"
          ]
        },
        {
          "output_type": "stream",
          "name": "stderr",
          "text": [
            "202it [00:26,  8.51it/s]"
          ]
        },
        {
          "output_type": "stream",
          "name": "stdout",
          "text": [
            "Epoch: 2 (200/360) Training loss: 0.6863399744033813\n"
          ]
        },
        {
          "output_type": "stream",
          "name": "stderr",
          "text": [
            "222it [00:28,  8.16it/s]"
          ]
        },
        {
          "output_type": "stream",
          "name": "stdout",
          "text": [
            "Epoch: 2 (220/360) Training loss: 0.6934178471565247\n"
          ]
        },
        {
          "output_type": "stream",
          "name": "stderr",
          "text": [
            "242it [00:31,  8.47it/s]"
          ]
        },
        {
          "output_type": "stream",
          "name": "stdout",
          "text": [
            "Epoch: 2 (240/360) Training loss: 0.6931523084640503\n"
          ]
        },
        {
          "output_type": "stream",
          "name": "stderr",
          "text": [
            "262it [00:33,  8.78it/s]"
          ]
        },
        {
          "output_type": "stream",
          "name": "stdout",
          "text": [
            "Epoch: 2 (260/360) Training loss: 0.6943604946136475\n"
          ]
        },
        {
          "output_type": "stream",
          "name": "stderr",
          "text": [
            "282it [00:36,  8.47it/s]"
          ]
        },
        {
          "output_type": "stream",
          "name": "stdout",
          "text": [
            "Epoch: 2 (280/360) Training loss: 0.6863268613815308\n"
          ]
        },
        {
          "output_type": "stream",
          "name": "stderr",
          "text": [
            "302it [00:38,  8.50it/s]"
          ]
        },
        {
          "output_type": "stream",
          "name": "stdout",
          "text": [
            "Epoch: 2 (300/360) Training loss: 0.6854089498519897\n"
          ]
        },
        {
          "output_type": "stream",
          "name": "stderr",
          "text": [
            "322it [00:40,  8.49it/s]"
          ]
        },
        {
          "output_type": "stream",
          "name": "stdout",
          "text": [
            "Epoch: 2 (320/360) Training loss: 0.6930750608444214\n"
          ]
        },
        {
          "output_type": "stream",
          "name": "stderr",
          "text": [
            "342it [00:43,  8.14it/s]"
          ]
        },
        {
          "output_type": "stream",
          "name": "stdout",
          "text": [
            "Epoch: 2 (340/360) Training loss: 0.6939533948898315\n"
          ]
        },
        {
          "output_type": "stream",
          "name": "stderr",
          "text": [
            "360it [00:45,  7.93it/s]\n"
          ]
        },
        {
          "output_type": "stream",
          "name": "stdout",
          "text": [
            "Epoch 2 done. Training loss: 0.690241277217865 Training accuracy: 0.5211805701255798\n"
          ]
        },
        {
          "output_type": "stream",
          "name": "stderr",
          "text": [
            "123it [00:11, 11.11it/s]\n",
            "\u001b[32m[I 2022-12-01 19:42:07,100]\u001b[0m Trial 0 finished with value: 0.6014989614486694 and parameters: {'learning_rate': 0.009037022028642632, 'optimizer': 'SGD', 'padding': 'valid', 'pooling': 'max', 'pool_size': 1, 'dropout': 0.3725746278610358, 'weight_decay': 0.00026964639785669113, 'epochs': 3}. Best is trial 0 with value: 0.6014989614486694.\u001b[0m\n",
            "/usr/local/lib/python3.8/dist-packages/torch/nn/modules/rnn.py:62: UserWarning: dropout option adds dropout after all but last recurrent layer, so non-zero dropout expects num_layers greater than 1, but got dropout=0.20865251883985214 and num_layers=1\n",
            "  warnings.warn(\"dropout option adds dropout after all but last \"\n"
          ]
        },
        {
          "output_type": "stream",
          "name": "stdout",
          "text": [
            "Epoch 2 done. Eval loss: 0.6796198487281799 Eval accuracy: 0.6014989614486694\n",
            "{'learning_rate': 0.004343315588698036, 'optimizer': 'SGD', 'padding': 'same', 'pooling': 'avg', 'pool_size': 2, 'dropout': 0.20865251883985214, 'weight_decay': 0.0008579740163119302, 'epochs': 6}\n"
          ]
        },
        {
          "output_type": "stream",
          "name": "stderr",
          "text": [
            "1it [00:00,  8.47it/s]"
          ]
        },
        {
          "output_type": "stream",
          "name": "stdout",
          "text": [
            "Epoch: 0 (0/360) Training loss: 0.6923648118972778\n"
          ]
        },
        {
          "output_type": "stream",
          "name": "stderr",
          "text": [
            "22it [00:02,  8.55it/s]"
          ]
        },
        {
          "output_type": "stream",
          "name": "stdout",
          "text": [
            "Epoch: 0 (20/360) Training loss: 0.7007015347480774\n"
          ]
        },
        {
          "output_type": "stream",
          "name": "stderr",
          "text": [
            "42it [00:04,  8.86it/s]"
          ]
        },
        {
          "output_type": "stream",
          "name": "stdout",
          "text": [
            "Epoch: 0 (40/360) Training loss: 0.6943395733833313\n"
          ]
        },
        {
          "output_type": "stream",
          "name": "stderr",
          "text": [
            "62it [00:07,  8.31it/s]"
          ]
        },
        {
          "output_type": "stream",
          "name": "stdout",
          "text": [
            "Epoch: 0 (60/360) Training loss: 0.6898657083511353\n"
          ]
        },
        {
          "output_type": "stream",
          "name": "stderr",
          "text": [
            "82it [00:09,  8.38it/s]"
          ]
        },
        {
          "output_type": "stream",
          "name": "stdout",
          "text": [
            "Epoch: 0 (80/360) Training loss: 0.6938289403915405\n"
          ]
        },
        {
          "output_type": "stream",
          "name": "stderr",
          "text": [
            "102it [00:12,  8.70it/s]"
          ]
        },
        {
          "output_type": "stream",
          "name": "stdout",
          "text": [
            "Epoch: 0 (100/360) Training loss: 0.6933950185775757\n"
          ]
        },
        {
          "output_type": "stream",
          "name": "stderr",
          "text": [
            "122it [00:14,  8.50it/s]"
          ]
        },
        {
          "output_type": "stream",
          "name": "stdout",
          "text": [
            "Epoch: 0 (120/360) Training loss: 0.6922356486320496\n"
          ]
        },
        {
          "output_type": "stream",
          "name": "stderr",
          "text": [
            "142it [00:16,  8.95it/s]"
          ]
        },
        {
          "output_type": "stream",
          "name": "stdout",
          "text": [
            "Epoch: 0 (140/360) Training loss: 0.6966919898986816\n"
          ]
        },
        {
          "output_type": "stream",
          "name": "stderr",
          "text": [
            "162it [00:19,  8.28it/s]"
          ]
        },
        {
          "output_type": "stream",
          "name": "stdout",
          "text": [
            "Epoch: 0 (160/360) Training loss: 0.6940172910690308\n"
          ]
        },
        {
          "output_type": "stream",
          "name": "stderr",
          "text": [
            "182it [00:21,  8.42it/s]"
          ]
        },
        {
          "output_type": "stream",
          "name": "stdout",
          "text": [
            "Epoch: 0 (180/360) Training loss: 0.6974426507949829\n"
          ]
        },
        {
          "output_type": "stream",
          "name": "stderr",
          "text": [
            "202it [00:23,  8.17it/s]"
          ]
        },
        {
          "output_type": "stream",
          "name": "stdout",
          "text": [
            "Epoch: 0 (200/360) Training loss: 0.6965546607971191\n"
          ]
        },
        {
          "output_type": "stream",
          "name": "stderr",
          "text": [
            "222it [00:26,  8.46it/s]"
          ]
        },
        {
          "output_type": "stream",
          "name": "stdout",
          "text": [
            "Epoch: 0 (220/360) Training loss: 0.6906048059463501\n"
          ]
        },
        {
          "output_type": "stream",
          "name": "stderr",
          "text": [
            "242it [00:28,  8.73it/s]"
          ]
        },
        {
          "output_type": "stream",
          "name": "stdout",
          "text": [
            "Epoch: 0 (240/360) Training loss: 0.6936497092247009\n"
          ]
        },
        {
          "output_type": "stream",
          "name": "stderr",
          "text": [
            "262it [00:30,  8.42it/s]"
          ]
        },
        {
          "output_type": "stream",
          "name": "stdout",
          "text": [
            "Epoch: 0 (260/360) Training loss: 0.6972677707672119\n"
          ]
        },
        {
          "output_type": "stream",
          "name": "stderr",
          "text": [
            "282it [00:33,  8.48it/s]"
          ]
        },
        {
          "output_type": "stream",
          "name": "stdout",
          "text": [
            "Epoch: 0 (280/360) Training loss: 0.6888182163238525\n"
          ]
        },
        {
          "output_type": "stream",
          "name": "stderr",
          "text": [
            "302it [00:35,  8.56it/s]"
          ]
        },
        {
          "output_type": "stream",
          "name": "stdout",
          "text": [
            "Epoch: 0 (300/360) Training loss: 0.6855226755142212\n"
          ]
        },
        {
          "output_type": "stream",
          "name": "stderr",
          "text": [
            "322it [00:37,  8.55it/s]"
          ]
        },
        {
          "output_type": "stream",
          "name": "stdout",
          "text": [
            "Epoch: 0 (320/360) Training loss: 0.6913051605224609\n"
          ]
        },
        {
          "output_type": "stream",
          "name": "stderr",
          "text": [
            "342it [00:40,  8.70it/s]"
          ]
        },
        {
          "output_type": "stream",
          "name": "stdout",
          "text": [
            "Epoch: 0 (340/360) Training loss: 0.7005390524864197\n"
          ]
        },
        {
          "output_type": "stream",
          "name": "stderr",
          "text": [
            "360it [00:42,  8.49it/s]\n"
          ]
        },
        {
          "output_type": "stream",
          "name": "stdout",
          "text": [
            "Epoch 0 done. Training loss: 0.6923820972442627 Training accuracy: 0.5205295085906982\n"
          ]
        },
        {
          "output_type": "stream",
          "name": "stderr",
          "text": [
            "97it [00:08, 11.02it/s]\n",
            "\u001b[33m[W 2022-12-01 19:42:58,347]\u001b[0m Trial 1 failed because of the following error: KeyboardInterrupt()\u001b[0m\n",
            "Traceback (most recent call last):\n",
            "  File \"/usr/local/lib/python3.8/dist-packages/optuna/study/_optimize.py\", line 196, in _run_trial\n",
            "    value_or_values = func(trial)\n",
            "  File \"<ipython-input-74-df2d14e0ce98>\", line 24, in objective\n",
            "    accuracy = run(params)\n",
            "  File \"<ipython-input-71-61495a790d62>\", line 29, in run\n",
            "    eval_acc, eval_loss = evaluate(model, test_loader, criterion, epoch)\n",
            "  File \"<ipython-input-20-c86b3308a2bb>\", line 8, in evaluate\n",
            "    for i, (inputs, targets) in tqdm(enumerate(dataloader)):\n",
            "  File \"/usr/local/lib/python3.8/dist-packages/tqdm/std.py\", line 1195, in __iter__\n",
            "    for obj in iterable:\n",
            "  File \"/usr/local/lib/python3.8/dist-packages/torch/utils/data/dataloader.py\", line 681, in __next__\n",
            "    data = self._next_data()\n",
            "  File \"/usr/local/lib/python3.8/dist-packages/torch/utils/data/dataloader.py\", line 721, in _next_data\n",
            "    data = self._dataset_fetcher.fetch(index)  # may raise StopIteration\n",
            "  File \"/usr/local/lib/python3.8/dist-packages/torch/utils/data/_utils/fetch.py\", line 52, in fetch\n",
            "    return self.collate_fn(data)\n",
            "  File \"<ipython-input-12-c4d649ba5ee5>\", line 88, in __call__\n",
            "    collated_inputs = torch.tensor(x, dtype=torch.float32)\n",
            "KeyboardInterrupt\n"
          ]
        },
        {
          "output_type": "error",
          "ename": "KeyboardInterrupt",
          "evalue": "ignored",
          "traceback": [
            "\u001b[0;31m---------------------------------------------------------------------------\u001b[0m",
            "\u001b[0;31mKeyboardInterrupt\u001b[0m                         Traceback (most recent call last)",
            "\u001b[0;32m<ipython-input-74-df2d14e0ce98>\u001b[0m in \u001b[0;36m<module>\u001b[0;34m\u001b[0m\n\u001b[1;32m     27\u001b[0m \u001b[0;34m\u001b[0m\u001b[0m\n\u001b[1;32m     28\u001b[0m \u001b[0mstudy\u001b[0m \u001b[0;34m=\u001b[0m \u001b[0moptuna\u001b[0m\u001b[0;34m.\u001b[0m\u001b[0mcreate_study\u001b[0m\u001b[0;34m(\u001b[0m\u001b[0mdirection\u001b[0m\u001b[0;34m=\u001b[0m\u001b[0;34m\"maximize\"\u001b[0m\u001b[0;34m,\u001b[0m \u001b[0msampler\u001b[0m\u001b[0;34m=\u001b[0m\u001b[0moptuna\u001b[0m\u001b[0;34m.\u001b[0m\u001b[0msamplers\u001b[0m\u001b[0;34m.\u001b[0m\u001b[0mTPESampler\u001b[0m\u001b[0;34m(\u001b[0m\u001b[0;34m)\u001b[0m\u001b[0;34m)\u001b[0m\u001b[0;34m\u001b[0m\u001b[0;34m\u001b[0m\u001b[0m\n\u001b[0;32m---> 29\u001b[0;31m \u001b[0mstudy\u001b[0m\u001b[0;34m.\u001b[0m\u001b[0moptimize\u001b[0m\u001b[0;34m(\u001b[0m\u001b[0mobjective\u001b[0m\u001b[0;34m,\u001b[0m \u001b[0mn_trials\u001b[0m\u001b[0;34m=\u001b[0m\u001b[0;36m30\u001b[0m\u001b[0;34m)\u001b[0m\u001b[0;34m\u001b[0m\u001b[0;34m\u001b[0m\u001b[0m\n\u001b[0m\u001b[1;32m     30\u001b[0m \u001b[0mprint\u001b[0m\u001b[0;34m(\u001b[0m\u001b[0;34m\"Number of finished trials: {}\"\u001b[0m\u001b[0;34m.\u001b[0m\u001b[0mformat\u001b[0m\u001b[0;34m(\u001b[0m\u001b[0mlen\u001b[0m\u001b[0;34m(\u001b[0m\u001b[0mstudy\u001b[0m\u001b[0;34m.\u001b[0m\u001b[0mtrials\u001b[0m\u001b[0;34m)\u001b[0m\u001b[0;34m)\u001b[0m\u001b[0;34m)\u001b[0m\u001b[0;34m\u001b[0m\u001b[0;34m\u001b[0m\u001b[0m\n\u001b[1;32m     31\u001b[0m \u001b[0;34m\u001b[0m\u001b[0m\n",
            "\u001b[0;32m/usr/local/lib/python3.8/dist-packages/optuna/study/study.py\u001b[0m in \u001b[0;36moptimize\u001b[0;34m(self, func, n_trials, timeout, n_jobs, catch, callbacks, gc_after_trial, show_progress_bar)\u001b[0m\n\u001b[1;32m    417\u001b[0m         \"\"\"\n\u001b[1;32m    418\u001b[0m \u001b[0;34m\u001b[0m\u001b[0m\n\u001b[0;32m--> 419\u001b[0;31m         _optimize(\n\u001b[0m\u001b[1;32m    420\u001b[0m             \u001b[0mstudy\u001b[0m\u001b[0;34m=\u001b[0m\u001b[0mself\u001b[0m\u001b[0;34m,\u001b[0m\u001b[0;34m\u001b[0m\u001b[0;34m\u001b[0m\u001b[0m\n\u001b[1;32m    421\u001b[0m             \u001b[0mfunc\u001b[0m\u001b[0;34m=\u001b[0m\u001b[0mfunc\u001b[0m\u001b[0;34m,\u001b[0m\u001b[0;34m\u001b[0m\u001b[0;34m\u001b[0m\u001b[0m\n",
            "\u001b[0;32m/usr/local/lib/python3.8/dist-packages/optuna/study/_optimize.py\u001b[0m in \u001b[0;36m_optimize\u001b[0;34m(study, func, n_trials, timeout, n_jobs, catch, callbacks, gc_after_trial, show_progress_bar)\u001b[0m\n\u001b[1;32m     64\u001b[0m     \u001b[0;32mtry\u001b[0m\u001b[0;34m:\u001b[0m\u001b[0;34m\u001b[0m\u001b[0;34m\u001b[0m\u001b[0m\n\u001b[1;32m     65\u001b[0m         \u001b[0;32mif\u001b[0m \u001b[0mn_jobs\u001b[0m \u001b[0;34m==\u001b[0m \u001b[0;36m1\u001b[0m\u001b[0;34m:\u001b[0m\u001b[0;34m\u001b[0m\u001b[0;34m\u001b[0m\u001b[0m\n\u001b[0;32m---> 66\u001b[0;31m             _optimize_sequential(\n\u001b[0m\u001b[1;32m     67\u001b[0m                 \u001b[0mstudy\u001b[0m\u001b[0;34m,\u001b[0m\u001b[0;34m\u001b[0m\u001b[0;34m\u001b[0m\u001b[0m\n\u001b[1;32m     68\u001b[0m                 \u001b[0mfunc\u001b[0m\u001b[0;34m,\u001b[0m\u001b[0;34m\u001b[0m\u001b[0;34m\u001b[0m\u001b[0m\n",
            "\u001b[0;32m/usr/local/lib/python3.8/dist-packages/optuna/study/_optimize.py\u001b[0m in \u001b[0;36m_optimize_sequential\u001b[0;34m(study, func, n_trials, timeout, catch, callbacks, gc_after_trial, reseed_sampler_rng, time_start, progress_bar)\u001b[0m\n\u001b[1;32m    158\u001b[0m \u001b[0;34m\u001b[0m\u001b[0m\n\u001b[1;32m    159\u001b[0m         \u001b[0;32mtry\u001b[0m\u001b[0;34m:\u001b[0m\u001b[0;34m\u001b[0m\u001b[0;34m\u001b[0m\u001b[0m\n\u001b[0;32m--> 160\u001b[0;31m             \u001b[0mfrozen_trial\u001b[0m \u001b[0;34m=\u001b[0m \u001b[0m_run_trial\u001b[0m\u001b[0;34m(\u001b[0m\u001b[0mstudy\u001b[0m\u001b[0;34m,\u001b[0m \u001b[0mfunc\u001b[0m\u001b[0;34m,\u001b[0m \u001b[0mcatch\u001b[0m\u001b[0;34m)\u001b[0m\u001b[0;34m\u001b[0m\u001b[0;34m\u001b[0m\u001b[0m\n\u001b[0m\u001b[1;32m    161\u001b[0m         \u001b[0;32mfinally\u001b[0m\u001b[0;34m:\u001b[0m\u001b[0;34m\u001b[0m\u001b[0;34m\u001b[0m\u001b[0m\n\u001b[1;32m    162\u001b[0m             \u001b[0;31m# The following line mitigates memory problems that can be occurred in some\u001b[0m\u001b[0;34m\u001b[0m\u001b[0;34m\u001b[0m\u001b[0;34m\u001b[0m\u001b[0m\n",
            "\u001b[0;32m/usr/local/lib/python3.8/dist-packages/optuna/study/_optimize.py\u001b[0m in \u001b[0;36m_run_trial\u001b[0;34m(study, func, catch)\u001b[0m\n\u001b[1;32m    232\u001b[0m         \u001b[0;32mand\u001b[0m \u001b[0;32mnot\u001b[0m \u001b[0misinstance\u001b[0m\u001b[0;34m(\u001b[0m\u001b[0mfunc_err\u001b[0m\u001b[0;34m,\u001b[0m \u001b[0mcatch\u001b[0m\u001b[0;34m)\u001b[0m\u001b[0;34m\u001b[0m\u001b[0;34m\u001b[0m\u001b[0m\n\u001b[1;32m    233\u001b[0m     ):\n\u001b[0;32m--> 234\u001b[0;31m         \u001b[0;32mraise\u001b[0m \u001b[0mfunc_err\u001b[0m\u001b[0;34m\u001b[0m\u001b[0;34m\u001b[0m\u001b[0m\n\u001b[0m\u001b[1;32m    235\u001b[0m     \u001b[0;32mreturn\u001b[0m \u001b[0mfrozen_trial\u001b[0m\u001b[0;34m\u001b[0m\u001b[0;34m\u001b[0m\u001b[0m\n\u001b[1;32m    236\u001b[0m \u001b[0;34m\u001b[0m\u001b[0m\n",
            "\u001b[0;32m/usr/local/lib/python3.8/dist-packages/optuna/study/_optimize.py\u001b[0m in \u001b[0;36m_run_trial\u001b[0;34m(study, func, catch)\u001b[0m\n\u001b[1;32m    194\u001b[0m     \u001b[0;32mwith\u001b[0m \u001b[0mget_heartbeat_thread\u001b[0m\u001b[0;34m(\u001b[0m\u001b[0mtrial\u001b[0m\u001b[0;34m.\u001b[0m\u001b[0m_trial_id\u001b[0m\u001b[0;34m,\u001b[0m \u001b[0mstudy\u001b[0m\u001b[0;34m.\u001b[0m\u001b[0m_storage\u001b[0m\u001b[0;34m)\u001b[0m\u001b[0;34m:\u001b[0m\u001b[0;34m\u001b[0m\u001b[0;34m\u001b[0m\u001b[0m\n\u001b[1;32m    195\u001b[0m         \u001b[0;32mtry\u001b[0m\u001b[0;34m:\u001b[0m\u001b[0;34m\u001b[0m\u001b[0;34m\u001b[0m\u001b[0m\n\u001b[0;32m--> 196\u001b[0;31m             \u001b[0mvalue_or_values\u001b[0m \u001b[0;34m=\u001b[0m \u001b[0mfunc\u001b[0m\u001b[0;34m(\u001b[0m\u001b[0mtrial\u001b[0m\u001b[0;34m)\u001b[0m\u001b[0;34m\u001b[0m\u001b[0;34m\u001b[0m\u001b[0m\n\u001b[0m\u001b[1;32m    197\u001b[0m         \u001b[0;32mexcept\u001b[0m \u001b[0mexceptions\u001b[0m\u001b[0;34m.\u001b[0m\u001b[0mTrialPruned\u001b[0m \u001b[0;32mas\u001b[0m \u001b[0me\u001b[0m\u001b[0;34m:\u001b[0m\u001b[0;34m\u001b[0m\u001b[0;34m\u001b[0m\u001b[0m\n\u001b[1;32m    198\u001b[0m             \u001b[0;31m# TODO(mamu): Handle multi-objective cases.\u001b[0m\u001b[0;34m\u001b[0m\u001b[0;34m\u001b[0m\u001b[0;34m\u001b[0m\u001b[0m\n",
            "\u001b[0;32m<ipython-input-74-df2d14e0ce98>\u001b[0m in \u001b[0;36mobjective\u001b[0;34m(trial)\u001b[0m\n\u001b[1;32m     22\u001b[0m \u001b[0;34m\u001b[0m\u001b[0m\n\u001b[1;32m     23\u001b[0m \u001b[0;34m\u001b[0m\u001b[0m\n\u001b[0;32m---> 24\u001b[0;31m     \u001b[0maccuracy\u001b[0m \u001b[0;34m=\u001b[0m \u001b[0mrun\u001b[0m\u001b[0;34m(\u001b[0m\u001b[0mparams\u001b[0m\u001b[0;34m)\u001b[0m\u001b[0;34m\u001b[0m\u001b[0;34m\u001b[0m\u001b[0m\n\u001b[0m\u001b[1;32m     25\u001b[0m \u001b[0;34m\u001b[0m\u001b[0m\n\u001b[1;32m     26\u001b[0m     \u001b[0;32mreturn\u001b[0m \u001b[0maccuracy\u001b[0m\u001b[0;34m\u001b[0m\u001b[0;34m\u001b[0m\u001b[0m\n",
            "\u001b[0;32m<ipython-input-71-61495a790d62>\u001b[0m in \u001b[0;36mrun\u001b[0;34m(params)\u001b[0m\n\u001b[1;32m     27\u001b[0m     \u001b[0;32mfor\u001b[0m \u001b[0mepoch\u001b[0m \u001b[0;32min\u001b[0m \u001b[0mrange\u001b[0m\u001b[0;34m(\u001b[0m\u001b[0mEPOCHS\u001b[0m\u001b[0;34m)\u001b[0m\u001b[0;34m:\u001b[0m\u001b[0;34m\u001b[0m\u001b[0;34m\u001b[0m\u001b[0m\n\u001b[1;32m     28\u001b[0m         \u001b[0mtrain_acc\u001b[0m\u001b[0;34m,\u001b[0m \u001b[0mtrain_loss\u001b[0m\u001b[0;34m,\u001b[0m \u001b[0mhistory\u001b[0m \u001b[0;34m=\u001b[0m \u001b[0mtrain\u001b[0m\u001b[0;34m(\u001b[0m\u001b[0mmodel\u001b[0m\u001b[0;34m,\u001b[0m \u001b[0mtrain_loader\u001b[0m\u001b[0;34m,\u001b[0m \u001b[0moptimizer\u001b[0m\u001b[0;34m,\u001b[0m \u001b[0mcriterion\u001b[0m\u001b[0;34m,\u001b[0m \u001b[0mepoch\u001b[0m\u001b[0;34m)\u001b[0m\u001b[0;34m\u001b[0m\u001b[0;34m\u001b[0m\u001b[0m\n\u001b[0;32m---> 29\u001b[0;31m         \u001b[0meval_acc\u001b[0m\u001b[0;34m,\u001b[0m \u001b[0meval_loss\u001b[0m \u001b[0;34m=\u001b[0m \u001b[0mevaluate\u001b[0m\u001b[0;34m(\u001b[0m\u001b[0mmodel\u001b[0m\u001b[0;34m,\u001b[0m \u001b[0mtest_loader\u001b[0m\u001b[0;34m,\u001b[0m \u001b[0mcriterion\u001b[0m\u001b[0;34m,\u001b[0m \u001b[0mepoch\u001b[0m\u001b[0;34m)\u001b[0m\u001b[0;34m\u001b[0m\u001b[0;34m\u001b[0m\u001b[0m\n\u001b[0m\u001b[1;32m     30\u001b[0m \u001b[0;34m\u001b[0m\u001b[0m\n\u001b[1;32m     31\u001b[0m         \u001b[0mloss_history\u001b[0m\u001b[0;34m.\u001b[0m\u001b[0mextend\u001b[0m\u001b[0;34m(\u001b[0m\u001b[0mhistory\u001b[0m\u001b[0;34m)\u001b[0m\u001b[0;34m\u001b[0m\u001b[0;34m\u001b[0m\u001b[0m\n",
            "\u001b[0;32m<ipython-input-20-c86b3308a2bb>\u001b[0m in \u001b[0;36mevaluate\u001b[0;34m(model, dataloader, criterion, epoch, device)\u001b[0m\n\u001b[1;32m      6\u001b[0m     \u001b[0mcorrect\u001b[0m \u001b[0;34m=\u001b[0m \u001b[0;36m0\u001b[0m\u001b[0;34m\u001b[0m\u001b[0;34m\u001b[0m\u001b[0m\n\u001b[1;32m      7\u001b[0m     \u001b[0;32mwith\u001b[0m \u001b[0mtorch\u001b[0m\u001b[0;34m.\u001b[0m\u001b[0mno_grad\u001b[0m\u001b[0;34m(\u001b[0m\u001b[0;34m)\u001b[0m\u001b[0;34m:\u001b[0m\u001b[0;34m\u001b[0m\u001b[0;34m\u001b[0m\u001b[0m\n\u001b[0;32m----> 8\u001b[0;31m         \u001b[0;32mfor\u001b[0m \u001b[0mi\u001b[0m\u001b[0;34m,\u001b[0m \u001b[0;34m(\u001b[0m\u001b[0minputs\u001b[0m\u001b[0;34m,\u001b[0m \u001b[0mtargets\u001b[0m\u001b[0;34m)\u001b[0m \u001b[0;32min\u001b[0m \u001b[0mtqdm\u001b[0m\u001b[0;34m(\u001b[0m\u001b[0menumerate\u001b[0m\u001b[0;34m(\u001b[0m\u001b[0mdataloader\u001b[0m\u001b[0;34m)\u001b[0m\u001b[0;34m)\u001b[0m\u001b[0;34m:\u001b[0m\u001b[0;34m\u001b[0m\u001b[0;34m\u001b[0m\u001b[0m\n\u001b[0m\u001b[1;32m      9\u001b[0m             \u001b[0minputs\u001b[0m \u001b[0;34m=\u001b[0m \u001b[0minputs\u001b[0m\u001b[0;34m.\u001b[0m\u001b[0mto\u001b[0m\u001b[0;34m(\u001b[0m\u001b[0mdevice\u001b[0m\u001b[0;34m)\u001b[0m\u001b[0;34m\u001b[0m\u001b[0;34m\u001b[0m\u001b[0m\n\u001b[1;32m     10\u001b[0m             \u001b[0mtargets\u001b[0m \u001b[0;34m=\u001b[0m \u001b[0mtargets\u001b[0m\u001b[0;34m.\u001b[0m\u001b[0mto\u001b[0m\u001b[0;34m(\u001b[0m\u001b[0mdevice\u001b[0m\u001b[0;34m)\u001b[0m\u001b[0;34m\u001b[0m\u001b[0;34m\u001b[0m\u001b[0m\n",
            "\u001b[0;32m/usr/local/lib/python3.8/dist-packages/tqdm/std.py\u001b[0m in \u001b[0;36m__iter__\u001b[0;34m(self)\u001b[0m\n\u001b[1;32m   1193\u001b[0m \u001b[0;34m\u001b[0m\u001b[0m\n\u001b[1;32m   1194\u001b[0m         \u001b[0;32mtry\u001b[0m\u001b[0;34m:\u001b[0m\u001b[0;34m\u001b[0m\u001b[0;34m\u001b[0m\u001b[0m\n\u001b[0;32m-> 1195\u001b[0;31m             \u001b[0;32mfor\u001b[0m \u001b[0mobj\u001b[0m \u001b[0;32min\u001b[0m \u001b[0miterable\u001b[0m\u001b[0;34m:\u001b[0m\u001b[0;34m\u001b[0m\u001b[0;34m\u001b[0m\u001b[0m\n\u001b[0m\u001b[1;32m   1196\u001b[0m                 \u001b[0;32myield\u001b[0m \u001b[0mobj\u001b[0m\u001b[0;34m\u001b[0m\u001b[0;34m\u001b[0m\u001b[0m\n\u001b[1;32m   1197\u001b[0m                 \u001b[0;31m# Update and possibly print the progressbar.\u001b[0m\u001b[0;34m\u001b[0m\u001b[0;34m\u001b[0m\u001b[0;34m\u001b[0m\u001b[0m\n",
            "\u001b[0;32m/usr/local/lib/python3.8/dist-packages/torch/utils/data/dataloader.py\u001b[0m in \u001b[0;36m__next__\u001b[0;34m(self)\u001b[0m\n\u001b[1;32m    679\u001b[0m                 \u001b[0;31m# TODO(https://github.com/pytorch/pytorch/issues/76750)\u001b[0m\u001b[0;34m\u001b[0m\u001b[0;34m\u001b[0m\u001b[0;34m\u001b[0m\u001b[0m\n\u001b[1;32m    680\u001b[0m                 \u001b[0mself\u001b[0m\u001b[0;34m.\u001b[0m\u001b[0m_reset\u001b[0m\u001b[0;34m(\u001b[0m\u001b[0;34m)\u001b[0m  \u001b[0;31m# type: ignore[call-arg]\u001b[0m\u001b[0;34m\u001b[0m\u001b[0;34m\u001b[0m\u001b[0m\n\u001b[0;32m--> 681\u001b[0;31m             \u001b[0mdata\u001b[0m \u001b[0;34m=\u001b[0m \u001b[0mself\u001b[0m\u001b[0;34m.\u001b[0m\u001b[0m_next_data\u001b[0m\u001b[0;34m(\u001b[0m\u001b[0;34m)\u001b[0m\u001b[0;34m\u001b[0m\u001b[0;34m\u001b[0m\u001b[0m\n\u001b[0m\u001b[1;32m    682\u001b[0m             \u001b[0mself\u001b[0m\u001b[0;34m.\u001b[0m\u001b[0m_num_yielded\u001b[0m \u001b[0;34m+=\u001b[0m \u001b[0;36m1\u001b[0m\u001b[0;34m\u001b[0m\u001b[0;34m\u001b[0m\u001b[0m\n\u001b[1;32m    683\u001b[0m             \u001b[0;32mif\u001b[0m \u001b[0mself\u001b[0m\u001b[0;34m.\u001b[0m\u001b[0m_dataset_kind\u001b[0m \u001b[0;34m==\u001b[0m \u001b[0m_DatasetKind\u001b[0m\u001b[0;34m.\u001b[0m\u001b[0mIterable\u001b[0m \u001b[0;32mand\u001b[0m\u001b[0;31m \u001b[0m\u001b[0;31m\\\u001b[0m\u001b[0;34m\u001b[0m\u001b[0;34m\u001b[0m\u001b[0m\n",
            "\u001b[0;32m/usr/local/lib/python3.8/dist-packages/torch/utils/data/dataloader.py\u001b[0m in \u001b[0;36m_next_data\u001b[0;34m(self)\u001b[0m\n\u001b[1;32m    719\u001b[0m     \u001b[0;32mdef\u001b[0m \u001b[0m_next_data\u001b[0m\u001b[0;34m(\u001b[0m\u001b[0mself\u001b[0m\u001b[0;34m)\u001b[0m\u001b[0;34m:\u001b[0m\u001b[0;34m\u001b[0m\u001b[0;34m\u001b[0m\u001b[0m\n\u001b[1;32m    720\u001b[0m         \u001b[0mindex\u001b[0m \u001b[0;34m=\u001b[0m \u001b[0mself\u001b[0m\u001b[0;34m.\u001b[0m\u001b[0m_next_index\u001b[0m\u001b[0;34m(\u001b[0m\u001b[0;34m)\u001b[0m  \u001b[0;31m# may raise StopIteration\u001b[0m\u001b[0;34m\u001b[0m\u001b[0;34m\u001b[0m\u001b[0m\n\u001b[0;32m--> 721\u001b[0;31m         \u001b[0mdata\u001b[0m \u001b[0;34m=\u001b[0m \u001b[0mself\u001b[0m\u001b[0;34m.\u001b[0m\u001b[0m_dataset_fetcher\u001b[0m\u001b[0;34m.\u001b[0m\u001b[0mfetch\u001b[0m\u001b[0;34m(\u001b[0m\u001b[0mindex\u001b[0m\u001b[0;34m)\u001b[0m  \u001b[0;31m# may raise StopIteration\u001b[0m\u001b[0;34m\u001b[0m\u001b[0;34m\u001b[0m\u001b[0m\n\u001b[0m\u001b[1;32m    722\u001b[0m         \u001b[0;32mif\u001b[0m \u001b[0mself\u001b[0m\u001b[0;34m.\u001b[0m\u001b[0m_pin_memory\u001b[0m\u001b[0;34m:\u001b[0m\u001b[0;34m\u001b[0m\u001b[0;34m\u001b[0m\u001b[0m\n\u001b[1;32m    723\u001b[0m             \u001b[0mdata\u001b[0m \u001b[0;34m=\u001b[0m \u001b[0m_utils\u001b[0m\u001b[0;34m.\u001b[0m\u001b[0mpin_memory\u001b[0m\u001b[0;34m.\u001b[0m\u001b[0mpin_memory\u001b[0m\u001b[0;34m(\u001b[0m\u001b[0mdata\u001b[0m\u001b[0;34m,\u001b[0m \u001b[0mself\u001b[0m\u001b[0;34m.\u001b[0m\u001b[0m_pin_memory_device\u001b[0m\u001b[0;34m)\u001b[0m\u001b[0;34m\u001b[0m\u001b[0;34m\u001b[0m\u001b[0m\n",
            "\u001b[0;32m/usr/local/lib/python3.8/dist-packages/torch/utils/data/_utils/fetch.py\u001b[0m in \u001b[0;36mfetch\u001b[0;34m(self, possibly_batched_index)\u001b[0m\n\u001b[1;32m     50\u001b[0m         \u001b[0;32melse\u001b[0m\u001b[0;34m:\u001b[0m\u001b[0;34m\u001b[0m\u001b[0;34m\u001b[0m\u001b[0m\n\u001b[1;32m     51\u001b[0m             \u001b[0mdata\u001b[0m \u001b[0;34m=\u001b[0m \u001b[0mself\u001b[0m\u001b[0;34m.\u001b[0m\u001b[0mdataset\u001b[0m\u001b[0;34m[\u001b[0m\u001b[0mpossibly_batched_index\u001b[0m\u001b[0;34m]\u001b[0m\u001b[0;34m\u001b[0m\u001b[0;34m\u001b[0m\u001b[0m\n\u001b[0;32m---> 52\u001b[0;31m         \u001b[0;32mreturn\u001b[0m \u001b[0mself\u001b[0m\u001b[0;34m.\u001b[0m\u001b[0mcollate_fn\u001b[0m\u001b[0;34m(\u001b[0m\u001b[0mdata\u001b[0m\u001b[0;34m)\u001b[0m\u001b[0;34m\u001b[0m\u001b[0;34m\u001b[0m\u001b[0m\n\u001b[0m",
            "\u001b[0;32m<ipython-input-12-c4d649ba5ee5>\u001b[0m in \u001b[0;36m__call__\u001b[0;34m(self, data)\u001b[0m\n\u001b[1;32m     86\u001b[0m             \u001b[0mx\u001b[0m\u001b[0;34m.\u001b[0m\u001b[0mappend\u001b[0m\u001b[0;34m(\u001b[0m\u001b[0minputs\u001b[0m\u001b[0;34m)\u001b[0m\u001b[0;34m\u001b[0m\u001b[0;34m\u001b[0m\u001b[0m\n\u001b[1;32m     87\u001b[0m             \u001b[0my\u001b[0m\u001b[0;34m.\u001b[0m\u001b[0mappend\u001b[0m\u001b[0;34m(\u001b[0m\u001b[0mlabels\u001b[0m\u001b[0;34m)\u001b[0m\u001b[0;34m\u001b[0m\u001b[0;34m\u001b[0m\u001b[0m\n\u001b[0;32m---> 88\u001b[0;31m         \u001b[0mcollated_inputs\u001b[0m \u001b[0;34m=\u001b[0m \u001b[0mtorch\u001b[0m\u001b[0;34m.\u001b[0m\u001b[0mtensor\u001b[0m\u001b[0;34m(\u001b[0m\u001b[0mx\u001b[0m\u001b[0;34m,\u001b[0m \u001b[0mdtype\u001b[0m\u001b[0;34m=\u001b[0m\u001b[0mtorch\u001b[0m\u001b[0;34m.\u001b[0m\u001b[0mfloat32\u001b[0m\u001b[0;34m)\u001b[0m\u001b[0;34m\u001b[0m\u001b[0;34m\u001b[0m\u001b[0m\n\u001b[0m\u001b[1;32m     89\u001b[0m         \u001b[0mcollated_labels\u001b[0m \u001b[0;34m=\u001b[0m \u001b[0mtorch\u001b[0m\u001b[0;34m.\u001b[0m\u001b[0mtensor\u001b[0m\u001b[0;34m(\u001b[0m\u001b[0my\u001b[0m\u001b[0;34m,\u001b[0m \u001b[0mdtype\u001b[0m\u001b[0;34m=\u001b[0m\u001b[0mtorch\u001b[0m\u001b[0;34m.\u001b[0m\u001b[0mfloat32\u001b[0m\u001b[0;34m)\u001b[0m\u001b[0;34m\u001b[0m\u001b[0;34m\u001b[0m\u001b[0m\n\u001b[1;32m     90\u001b[0m         \u001b[0;32mreturn\u001b[0m \u001b[0mcollated_inputs\u001b[0m\u001b[0;34m,\u001b[0m \u001b[0mcollated_labels\u001b[0m\u001b[0;34m\u001b[0m\u001b[0;34m\u001b[0m\u001b[0m\n",
            "\u001b[0;31mKeyboardInterrupt\u001b[0m: "
          ]
        }
      ]
    },
    {
      "cell_type": "code",
      "source": [
        "# best_trial = study.best_trial\n",
        "\n",
        "# for key, value in best_trial.params.items():\n",
        "#     print(\"{}: {}\".format(key, value))"
      ],
      "metadata": {
        "id": "LYJ1uj8CBRYI"
      },
      "execution_count": null,
      "outputs": []
    },
    {
      "cell_type": "code",
      "execution_count": null,
      "metadata": {
        "id": "iKyYbLHz8HBe"
      },
      "outputs": [],
      "source": [
        "import matplotlib.pyplot as plt"
      ]
    },
    {
      "cell_type": "code",
      "execution_count": null,
      "metadata": {
        "colab": {
          "base_uri": "https://localhost:8080/",
          "height": 265
        },
        "id": "G-k1jzfv8HBe",
        "outputId": "2b97254a-1ee3-45c0-9d84-32f0c18af1b4"
      },
      "outputs": [
        {
          "output_type": "display_data",
          "data": {
            "text/plain": [
              "<Figure size 432x288 with 2 Axes>"
            ],
            "image/png": "[encoded data removed]"
          },
          "metadata": {
            "needs_background": "light"
          }
        }
      ],
      "source": [
        "xs = np.arange(len(train_loader), len(loss_history) + len(train_loader), len(train_loader))\n",
        "\n",
        "plt.plot(loss_history, label=\"loss\")\n",
        "plt.ylabel(\"BCE loss\")\n",
        "plt.legend()\n",
        "plt.twinx()\n",
        "plt.plot(xs, train_acc_history, label=\"accuracy\", c=\"C1\")\n",
        "plt.ylabel(\"accuracy\")\n",
        "plt.legend()\n",
        "plt.show()"
      ]
    },
    {
      "cell_type": "code",
      "execution_count": null,
      "metadata": {
        "colab": {
          "base_uri": "https://localhost:8080/",
          "height": 265
        },
        "id": "gDyyTTlN8HBe",
        "outputId": "9cc70792-40a2-46fb-84c1-1b15613a42fd"
      },
      "outputs": [
        {
          "output_type": "display_data",
          "data": {
            "text/plain": [
              "<Figure size 432x288 with 2 Axes>"
            ],
            "image/png": "[encoded data removed]"
          },
          "metadata": {
            "needs_background": "light"
          }
        }
      ],
      "source": [
        "eval_loss_history = [x.cpu() for x in eval_loss_history]\n",
        "plt.plot(eval_loss_history, label=\"loss\")\n",
        "plt.legend()\n",
        "plt.ylabel(\"BCE loss\")\n",
        "plt.twinx()\n",
        "plt.plot(eval_acc_history, c=\"C1\", label=\"accuracy\")\n",
        "plt.ylabel(\"accuracy\")\n",
        "plt.legend()\n",
        "plt.show()"
      ]
    }
  ],
  "metadata": {
    "kernelspec": {
      "display_name": "Python 3.8.10 64-bit",
      "language": "python",
      "name": "python3"
    },
    "language_info": {
      "codemirror_mode": {
        "name": "ipython",
        "version": 3
      },
      "file_extension": ".py",
      "mimetype": "text/x-python",
      "name": "python",
      "nbconvert_exporter": "python",
      "pygments_lexer": "ipython3",
      "version": "3.8.10"
    },
    "orig_nbformat": 4,
    "vscode": {
      "interpreter": {
        "hash": "916dbcbb3f70747c44a77c7bcd40155683ae19c65e1c03b4aa3499c5328201f1"
      }
    },
    "colab": {
      "provenance": []
    },
    "accelerator": "GPU",
    "gpuClass": "standard"
  },
  "nbformat": 4,
  "nbformat_minor": 0
}
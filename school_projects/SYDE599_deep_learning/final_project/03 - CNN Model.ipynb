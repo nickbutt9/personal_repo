{
 "cells": [
  {
   "cell_type": "code",
   "execution_count": 42,
   "metadata": {},
   "outputs": [],
   "source": [
    "import glob\n",
    "import torch\n",
    "import torch.nn as nn\n",
    "import torch.nn.functional as F\n",
    "import torch.optim as optim\n",
    "import torchvision\n",
    "import numpy as np\n",
    "import pandas as pd\n",
    "from torch.utils.data import Dataset\n",
    "# import torchinfo\n",
    "from tqdm import tqdm\n",
    "from scipy import signal"
   ]
  },
  {
   "cell_type": "markdown",
   "metadata": {},
   "source": [
    "## Loading Data"
   ]
  },
  {
   "cell_type": "code",
   "execution_count": 2,
   "metadata": {},
   "outputs": [
    {
     "data": {
      "text/plain": [
       "56"
      ]
     },
     "execution_count": 2,
     "metadata": {},
     "output_type": "execute_result"
    }
   ],
   "source": [
    "# data_dir = \"/Users/rmdim/Documents/MASc/Fall22/599Code/norm_fog_data_2/\"\n",
    "data_dir = \"/root/trevor/syde599/norm_fog_data/\"\n",
    "\n",
    "data_files = glob.glob(data_dir + \"*.csv\")\n",
    "len(data_files)"
   ]
  },
  {
   "cell_type": "code",
   "execution_count": 3,
   "metadata": {},
   "outputs": [
    {
     "data": {
      "text/plain": [
       "(37501, 32)"
      ]
     },
     "execution_count": 3,
     "metadata": {},
     "output_type": "execute_result"
    }
   ],
   "source": [
    "data = np.loadtxt(data_files[0], delimiter=\",\", skiprows=1)\n",
    "data.shape"
   ]
  },
  {
   "cell_type": "code",
   "execution_count": 4,
   "metadata": {},
   "outputs": [],
   "source": [
    "sample_df = pd.read_csv(data_files[15])\n",
    "\n",
    "window_size=250\n",
    "sample_data = np.array(sample_df)\n",
    "sample_data = sample_data[:sample_data.shape[0]-1, :]\n",
    "sample_data = sample_data.reshape((-1, window_size, 32))\n"
   ]
  },
  {
   "cell_type": "code",
   "execution_count": 33,
   "metadata": {},
   "outputs": [],
   "source": [
    "WINDOW_SIZE = 650\n",
    "WINDOW_STEP = 100\n",
    "\n",
    "train_X = []\n",
    "train_Y = []\n",
    "test_X = []\n",
    "test_Y = []\n",
    "\n",
    "for file in data_files:\n",
    "    path_parts = file.split('/')\n",
    "    patient_num = path_parts[-1].split('_')[0]\n",
    "    \n",
    "    data = np.loadtxt(file, delimiter=\",\", skiprows=1)\n",
    "    # Timestamp is in col 0, labels are in col 1\n",
    "    # Data is in cols 2 to end\n",
    "    y = data[:, 1]\n",
    "    x = data[:, 2:]\n",
    "\n",
    "    # # Split into non-overlapping windows\n",
    "    # # Don't use the last bit of data that doesn't fill a whole window\n",
    "    # n_windows = y.size // WINDOW_SIZE\n",
    "    # end = WINDOW_SIZE * n_windows\n",
    "    # x = x[:end, :]  # (n_samples, d)\n",
    "    # y = y[:end]\n",
    "\n",
    "    # # Reshape into (n_windows, window_size, d)\n",
    "    # x = x.reshape(n_windows, WINDOW_SIZE, -1)\n",
    "    # y = y.reshape(n_windows, WINDOW_SIZE)\n",
    "\n",
    "    # Split into overlapping windows\n",
    "    x = np.lib.stride_tricks.sliding_window_view(x, WINDOW_SIZE, axis=0)[::WINDOW_STEP]\n",
    "    y = np.lib.stride_tricks.sliding_window_view(y, WINDOW_SIZE, axis=0)[::WINDOW_STEP]\n",
    "\n",
    "    x = x.transpose(0,2,1)\n",
    "    \n",
    "    if patient_num in ('001', '005', '007'):\n",
    "        test_X.append(x)\n",
    "        test_Y.append(y)\n",
    "    else:\n",
    "        train_X.append(x)\n",
    "        train_Y.append(y)\n",
    "    "
   ]
  },
  {
   "cell_type": "code",
   "execution_count": 34,
   "metadata": {},
   "outputs": [
    {
     "data": {
      "text/plain": [
       "(324, 650, 30)"
      ]
     },
     "execution_count": 34,
     "metadata": {},
     "output_type": "execute_result"
    }
   ],
   "source": [
    "x.shape"
   ]
  },
  {
   "cell_type": "code",
   "execution_count": 35,
   "metadata": {},
   "outputs": [],
   "source": [
    "train_X = np.concatenate(train_X, axis=0)\n",
    "train_Y = np.concatenate(train_Y, axis=0)\n",
    "\n",
    "test_X = np.concatenate(test_X, axis=0)\n",
    "test_Y = np.concatenate(test_Y, axis=0)"
   ]
  },
  {
   "cell_type": "markdown",
   "metadata": {},
   "source": [
    "## Dataset and Augmentation"
   ]
  },
  {
   "cell_type": "code",
   "execution_count": 22,
   "metadata": {},
   "outputs": [],
   "source": [
    "# class FoGDataset(torch.utils.data.Dataset):\n",
    "#     def __init__(self, data_x, data_y):\n",
    "#         \"\"\"\n",
    "#         Parameters:\n",
    "#         -----------\n",
    "#         data_x: np.ndarray of shape (num_samples, window_size, num_features) which contains data features for FoG\n",
    "#         data_y: np.ndarray of shape (num_samples, window_size) which contains binary labels for FoG\n",
    "#         \"\"\"\n",
    "#         super().__init__()\n",
    "#         self.data_x = data_x\n",
    "#         self.data_y = data_y\n",
    "\n",
    "#     def _reduce_labels(self, y):\n",
    "#         \"\"\"If there is a 1 in the label, then return 1\"\"\"\n",
    "#         return np.any(y == 1, axis=-1).astype(int)\n",
    "\n",
    "#     def __len__(self):\n",
    "#         return self.data_x.shape[0]\n",
    "\n",
    "#     def __getitem__(self, index):\n",
    "#         \"\"\"Returns tuple of (data, label) at index\"\"\"\n",
    "#         inputs = self.data_x[index, :, :]\n",
    "#         labels = self.data_y[index, :]\n",
    "#         labels = self._reduce_labels(labels)\n",
    "#         return torch.tensor(inputs, dtype=torch.float32), torch.tensor(labels, dtype=torch.float32)\n",
    "\n",
    "\n",
    "\n"
   ]
  },
  {
   "cell_type": "code",
   "execution_count": 43,
   "metadata": {},
   "outputs": [],
   "source": [
    "class FoGDataset(torch.utils.data.Dataset):\n",
    "    def __init__(self, data_x, data_y):\n",
    "        \"\"\"\n",
    "        Parameters:\n",
    "        -----------\n",
    "        data_x: np.ndarray of shape (num_samples, window_size, num_features) which contains data features for FoG\n",
    "        data_y: np.ndarray of shape (num_samples, window_size) which contains binary labels for FoG\n",
    "        \"\"\"\n",
    "        super().__init__()\n",
    "        self.data_x = data_x\n",
    "        self.data_y = data_y\n",
    "\n",
    "    def __len__(self):\n",
    "        return self.data_x.shape[0]\n",
    "\n",
    "    def __getitem__(self, index):\n",
    "        \"\"\"Returns tuple of (data, label) at index\"\"\"\n",
    "        inputs = self.data_x[index, :, :]\n",
    "        labels = self.data_y[index, :]\n",
    "        return inputs, labels\n",
    "\n",
    "\n",
    "class FoGDataAugment:\n",
    "    \"\"\"\n",
    "    Collate function to apply random time stretch/squeeze and signal shrink/scale\n",
    "    Apply stretch/squeeze to the time dimension by resampling and truncating to out_samples\n",
    "        The lower bound of stretch must satisfy (lb * len(input)) > out_samples\n",
    "    \"\"\"\n",
    "    def __init__(self, out_samples=512, p=0.5, stretch=(0.8, 1.2), scale=(0.8, 1.2)):\n",
    "        \"\"\"\n",
    "        Parameters:\n",
    "        -----------\n",
    "        p: float between [0, 1], probability of applying each the stretch and scale transform independently\n",
    "        strech: tuple of float, upper and lower bound on time stretch factor\n",
    "        scale: tuple of float, upper and lower bound on signal scale factor\n",
    "        \"\"\"\n",
    "        self.p = p\n",
    "        self.stretch = stretch\n",
    "        self.scale = scale\n",
    "        self.out_samples = out_samples\n",
    "    \n",
    "    def _reduce_labels(self, y):\n",
    "        \"\"\"If there is a 1 in the label, then return 1\"\"\"\n",
    "        return np.any(y == 1, axis=-1).astype(int)\n",
    "\n",
    "    def _random_crop(self, inputs, labels):\n",
    "        \"\"\"Apply a random crop of the signal of length self.out_samples to both inputs and labels\"\"\"\n",
    "        n, d = inputs.shape\n",
    "        max_offset = n - self.out_samples\n",
    "        offset = np.random.choice(max_offset)\n",
    "        inds = slice(offset, offset + self.out_samples)\n",
    "        return inputs[inds, :], labels[inds]\n",
    "\n",
    "    def __call__(self, data):\n",
    "        \"\"\"\n",
    "        Parameters:\n",
    "        -----------\n",
    "        data: list of tuple of (inputs, labels) of length batch_size\n",
    "            inputs: np.ndarray, dimensions (n_samples, n_channels), signal data\n",
    "            labels: np.ndarray, dimensions (n_samples,), binary label vector for the signal data\n",
    "\n",
    "        Returns:\n",
    "        --------\n",
    "        (inputs, labels): augmented signal data, reduced labels\n",
    "        \"\"\"\n",
    "        x = []\n",
    "        y = []\n",
    "        for (inputs, labels) in data:\n",
    "            n, d = inputs.shape\n",
    "            assert (self.stretch[0] * n) >= self.out_samples, f\"input size {n} must be greater than {int(self.out_samples / self.stretch[0])} to apply augmentation\"\n",
    "\n",
    "            # Randomly apply time stretch\n",
    "            if np.random.binomial(1, self.p) != 0:\n",
    "                lb, ub = self.stretch\n",
    "                stretch = np.random.uniform(lb, ub)\n",
    "                inputs = signal.resample(inputs, int(n * stretch), axis=0)  # Resample the time (n_samples) axis\n",
    "            if np.random.binomial(1, self.p) != 0:\n",
    "                lb, ub = self.scale\n",
    "                scale = np.random.uniform(lb, ub)\n",
    "                inputs = scale * inputs  # Scale all channels equally\n",
    "            \n",
    "            # Apply random crop to self.out_size on both inputs and labels\n",
    "            inputs, labels = self._random_crop(inputs, labels)\n",
    "\n",
    "            labels = self._reduce_labels(labels)\n",
    "            x.append(inputs)\n",
    "            y.append(labels)\n",
    "        collated_inputs = torch.tensor(x, dtype=torch.float32)\n",
    "        collated_labels = torch.tensor(y, dtype=torch.float32)\n",
    "        return collated_inputs, collated_labels"
   ]
  },
  {
   "cell_type": "code",
   "execution_count": 37,
   "metadata": {},
   "outputs": [],
   "source": [
    "train_dataset = FoGDataset(train_X, train_Y)\n",
    "test_dataset = FoGDataset(test_X, test_Y)\n",
    "\n",
    "augment_fn = FoGDataAugment(out_samples=512)\n",
    "test_augment = FoGDataAugment(out_samples=512, p=0)\n",
    "\n",
    "\n",
    "BATCH_SIZE = 64\n",
    "train_loader = torch.utils.data.DataLoader(train_dataset, batch_size=BATCH_SIZE, collate_fn=augment_fn, shuffle=True)\n",
    "test_loader = torch.utils.data.DataLoader(test_dataset, batch_size=BATCH_SIZE, collate_fn=test_augment)"
   ]
  },
  {
   "cell_type": "markdown",
   "metadata": {},
   "source": [
    "## Models"
   ]
  },
  {
   "cell_type": "code",
   "execution_count": 25,
   "metadata": {},
   "outputs": [],
   "source": [
    "class CNNModel(nn.Module):\n",
    "    def __init__(self, input_features=30, dropout_prob=0.5, padding = 'valid', mp=2, pool='max', batch_size=32):\n",
    "        super(CNNModel, self).__init__()\n",
    "\n",
    "        self.conv1 = nn.Conv1d(input_features, 32, kernel_size=32, stride=2)\n",
    "        self.mp = nn.MaxPool1d(mp, stride=mp)\n",
    "\n",
    "        self.conv2 = nn.Conv1d(32, 64, kernel_size=16)\n",
    "\n",
    "        self.conv3 = nn.Conv1d(64, 128, kernel_size=8)\n",
    "\n",
    "        self.conv4 = nn.Conv1d(128, 1, kernel_size=4)\n",
    "        self.dropout = nn.Dropout(dropout_prob)\n",
    "        self.output = nn.Linear(41,1) # 41\n",
    "\n",
    "    def forward(self, x):\n",
    "        x = self.conv1(x)\n",
    "        # print(x.shape)\n",
    "        x = F.relu(x)\n",
    "        x = self.mp(x)\n",
    "\n",
    "        x = self.conv2(x)\n",
    "        # print(x.shape)\n",
    "        x = F.relu(x)\n",
    "        x = self.mp(x)\n",
    "\n",
    "        x = self.conv3(x)\n",
    "        # print(x.shape)\n",
    "        x = F.relu(x)\n",
    "        \n",
    "        x = self.conv4(x)\n",
    "        # print(x.shape)\n",
    "        x = torch.flatten(x, 1)\n",
    "        x = self.dropout(x)\n",
    "        x = self.output(x)\n",
    "        return torch.sigmoid(x)"
   ]
  },
  {
   "cell_type": "code",
   "execution_count": 26,
   "metadata": {},
   "outputs": [],
   "source": [
    "class ResNet1DLayer(nn.Module):\n",
    "   def __init__(self, in_channels, channels, stride=1):\n",
    "       super().__init__()\n",
    "       conv_kwargs = {\n",
    "           \"kernel_size\": (3,),\n",
    "           \"padding\": \"same\",  # To ensure 3x3 conv does not reduce image size. padding=1 also works\n",
    "           \"bias\": False\n",
    "       }\n",
    "       self.stride = stride\n",
    "       self.in_channels = in_channels\n",
    "       self.channels = channels\n",
    "       self.bn1 = nn.BatchNorm1d(in_channels)\n",
    "       self.relu = nn.ReLU()\n",
    "       # This conv is in_channels -> channels and applies stride\n",
    "       self.conv1 = nn.Conv1d(in_channels=in_channels, out_channels=channels, stride=stride,\n",
    "                           **conv_kwargs)\n",
    "       self.bn2 = nn.BatchNorm1d(channels)\n",
    "       # This conv is channels -> channels\n",
    "       self.conv2 = nn.Conv1d(in_channels=channels, out_channels=channels, **conv_kwargs)\n",
    "  \n",
    "   def strided_identity(self, x):\n",
    "       # Downsample with 'nearest' method (this is striding if dims are divisible by stride)\n",
    "       # Equivalently x = x[:, :, ::stride, ::stride].contiguous()\n",
    "       x = nn.functional.interpolate(x, mode='nearest', scale_factor=(1/self.stride))\n",
    "       # Create padding tensor for extra channels\n",
    "       (b, c, h) = x.shape\n",
    "       num_pad_channels = self.channels - self.in_channels\n",
    "       pad = torch.zeros((b, num_pad_channels, h))\n",
    "       # Append padding to the downsampled identity\n",
    "       x = torch.cat((x, pad), dim=1)\n",
    "       return x\n",
    "\n",
    "   def forward(self, x):\n",
    "       if self.stride > 1:\n",
    "           identity = self.strided_identity(x)\n",
    "       else:\n",
    "           identity = x\n",
    "       z = self.bn1(x)\n",
    "       z = self.relu(z)\n",
    "       z = self.conv1(z)\n",
    "       z = self.bn2(z)\n",
    "       z = self.relu(z)\n",
    "       z = self.conv2(z)\n",
    "       out = identity + z\n",
    "       return out"
   ]
  },
  {
   "cell_type": "code",
   "execution_count": 27,
   "metadata": {},
   "outputs": [],
   "source": [
    "class CNNModelRes(nn.Module):\n",
    "    def __init__(self, input_features=30, dropout_prob=0.5, n = 3, mp=2):\n",
    "        super().__init__()\n",
    "\n",
    "        self.n = n\n",
    "\n",
    "        self.conv1 = nn.Conv1d(input_features, 32, kernel_size=1)\n",
    "        self.mp = nn.MaxPool1d(mp, stride=mp)\n",
    "        \n",
    "        self.resBlock1 = ResNet1DLayer(in_channels=32, channels=32)\n",
    "        self.conv2 = nn.Conv1d(32, 64, kernel_size=3, stride=2)\n",
    "\n",
    "        self.resBlock2 = ResNet1DLayer(in_channels=64, channels=64)\n",
    "        self.conv3 = nn.Conv1d(64, 128, kernel_size=3, stride=2)\n",
    "        \n",
    "        self.resBlock3 = ResNet1DLayer(in_channels=128, channels=128)\n",
    "\n",
    "        self.batchLayer = nn.LayerNorm(1920)\n",
    "        self.dropout = nn.Dropout(dropout_prob)\n",
    "        self.linear = nn.Linear(1920,1)\n",
    "        \n",
    "     \n",
    "\n",
    "    def forward(self, x):\n",
    "        x = self.conv1(x)\n",
    "        x = F.relu(x)\n",
    "        x = self.mp(x)\n",
    "        for i in range(self.n):\n",
    "            x = self.resBlock1.forward(x)\n",
    "        \n",
    "        x = self.conv2(x)\n",
    "        x = F.relu(x)\n",
    "        x = self.mp(x)\n",
    "        for i in range(self.n):\n",
    "            x=self.resBlock2.forward(x)\n",
    "\n",
    "        x=self.conv3(x)\n",
    "        x = F.relu(x)\n",
    "        x = self.mp(x)\n",
    "        for i in range(self.n):\n",
    "            x=self.resBlock3.forward(x)\n",
    "\n",
    "        x = torch.flatten(x, 1)\n",
    "        x = self.batchLayer(x)\n",
    "        x= F.relu(x)\n",
    "        x = self.dropout(x)\n",
    "        x = self.linear(x)\n",
    "        \n",
    "        return x\n",
    "\n",
    "\n"
   ]
  },
  {
   "cell_type": "code",
   "execution_count": 28,
   "metadata": {},
   "outputs": [
    {
     "name": "stdout",
     "output_type": "stream",
     "text": [
      "CNNModelRes(\n",
      "  (conv1): Conv1d(30, 32, kernel_size=(1,), stride=(1,))\n",
      "  (mp): MaxPool1d(kernel_size=2, stride=2, padding=0, dilation=1, ceil_mode=False)\n",
      "  (resBlock1): ResNet1DLayer(\n",
      "    (bn1): BatchNorm1d(32, eps=1e-05, momentum=0.1, affine=True, track_running_stats=True)\n",
      "    (relu): ReLU()\n",
      "    (conv1): Conv1d(32, 32, kernel_size=(3,), stride=(1,), padding=same, bias=False)\n",
      "    (bn2): BatchNorm1d(32, eps=1e-05, momentum=0.1, affine=True, track_running_stats=True)\n",
      "    (conv2): Conv1d(32, 32, kernel_size=(3,), stride=(1,), padding=same, bias=False)\n",
      "  )\n",
      "  (conv2): Conv1d(32, 64, kernel_size=(3,), stride=(2,))\n",
      "  (resBlock2): ResNet1DLayer(\n",
      "    (bn1): BatchNorm1d(64, eps=1e-05, momentum=0.1, affine=True, track_running_stats=True)\n",
      "    (relu): ReLU()\n",
      "    (conv1): Conv1d(64, 64, kernel_size=(3,), stride=(1,), padding=same, bias=False)\n",
      "    (bn2): BatchNorm1d(64, eps=1e-05, momentum=0.1, affine=True, track_running_stats=True)\n",
      "    (conv2): Conv1d(64, 64, kernel_size=(3,), stride=(1,), padding=same, bias=False)\n",
      "  )\n",
      "  (conv3): Conv1d(64, 128, kernel_size=(3,), stride=(2,))\n",
      "  (resBlock3): ResNet1DLayer(\n",
      "    (bn1): BatchNorm1d(128, eps=1e-05, momentum=0.1, affine=True, track_running_stats=True)\n",
      "    (relu): ReLU()\n",
      "    (conv1): Conv1d(128, 128, kernel_size=(3,), stride=(1,), padding=same, bias=False)\n",
      "    (bn2): BatchNorm1d(128, eps=1e-05, momentum=0.1, affine=True, track_running_stats=True)\n",
      "    (conv2): Conv1d(128, 128, kernel_size=(3,), stride=(1,), padding=same, bias=False)\n",
      "  )\n",
      "  (batchLayer): LayerNorm((1920,), eps=1e-05, elementwise_affine=True)\n",
      "  (dropout): Dropout(p=0.5, inplace=False)\n",
      "  (linear): Linear(in_features=1920, out_features=1, bias=True)\n",
      ")\n"
     ]
    }
   ],
   "source": [
    "model = CNNModelRes()\n",
    "print(model)"
   ]
  },
  {
   "cell_type": "markdown",
   "metadata": {},
   "source": [
    "## Train and Test Functions"
   ]
  },
  {
   "cell_type": "code",
   "execution_count": 44,
   "metadata": {},
   "outputs": [],
   "source": [
    "def train(model, dataloader, optimizer, criterion, epoch, logging_steps=20, device=None):\n",
    "    if device is None:\n",
    "        device = \"cuda\" if torch.cuda.is_available() else \"cpu\"\n",
    "    model = model.to(device)\n",
    "    model.train()\n",
    "    total_loss = 0\n",
    "    correct = 0\n",
    "    loss_history = []\n",
    "    for i, (inputs, targets) in tqdm(enumerate(dataloader)):\n",
    "        optimizer.zero_grad()\n",
    "        inputs = inputs.permute(0,2,1)\n",
    "        inputs = inputs.to(device)\n",
    "        targets = targets.to(device)\n",
    "        outputs = model(inputs)\n",
    "        # print(f'input shape: {inputs.shape}')\n",
    "        # print(f'output shape: {outputs.shape}')\n",
    "        outputs = outputs.flatten()\n",
    "        \n",
    "        # print(f'output shape after flatten: {outputs.shape}')\n",
    "        # print(f'target shape: {targets.shape}')\n",
    "\n",
    "        loss = criterion(outputs, targets)\n",
    "        loss.backward()\n",
    "        optimizer.step()\n",
    "       \n",
    "\n",
    "\n",
    "        total_loss += loss\n",
    "        loss_history.append(loss.item())\n",
    "        preds = torch.round(torch.sigmoid(outputs))\n",
    "        correct += torch.sum(preds == targets).detach().cpu()\n",
    "\n",
    "        if i % logging_steps == 0:\n",
    "            print(f'Epoch: {epoch} ({i}/{len(dataloader)}) Training loss: {loss}')\n",
    "\n",
    "    accuracy = correct / (dataloader.batch_size * len(dataloader))\n",
    "    print(f'Epoch {epoch} done. Training loss: {total_loss/len(dataloader)} Training accuracy: {accuracy}')\n",
    "    return accuracy, total_loss/len(dataloader), loss_history"
   ]
  },
  {
   "cell_type": "code",
   "execution_count": 39,
   "metadata": {},
   "outputs": [],
   "source": [
    "def evaluate(model, dataloader, criterion, epoch, device=None):\n",
    "    if device is None:\n",
    "        device = \"cuda\" if torch.cuda.is_available() else \"cpu\"\n",
    "    model.eval()\n",
    "    total_loss = 0\n",
    "    correct = 0\n",
    "    with torch.no_grad():\n",
    "        for i, (inputs, targets) in tqdm(enumerate(dataloader)):\n",
    "            inputs = inputs.permute(0,2,1)\n",
    "            inputs = inputs.to(device)\n",
    "            targets = targets.to(device)\n",
    "            outputs = model(inputs)\n",
    "            outputs = outputs.flatten()\n",
    "            loss = criterion(outputs, targets)\n",
    "\n",
    "            total_loss += loss\n",
    "            preds = torch.round(torch.sigmoid(outputs))\n",
    "            correct += torch.sum(preds == targets).detach().cpu()\n",
    "\n",
    "        accuracy = correct / (dataloader.batch_size * len(dataloader))\n",
    "        print(f'Epoch {epoch} done. Eval loss: {total_loss/len(dataloader)} Eval accuracy: {accuracy}')\n",
    "    return accuracy, total_loss/len(dataloader)"
   ]
  },
  {
   "cell_type": "markdown",
   "metadata": {},
   "source": [
    "## Running the Model"
   ]
  },
  {
   "cell_type": "code",
   "execution_count": 45,
   "metadata": {},
   "outputs": [],
   "source": [
    "EPOCHS = 10\n",
    "\n",
    "model = CNNModelRes(30, n=3)\n",
    "optimizer = torch.optim.Adam(model.parameters(), lr=1e-3)\n",
    "criterion = nn.BCEWithLogitsLoss() \n"
   ]
  },
  {
   "cell_type": "code",
   "execution_count": 46,
   "metadata": {},
   "outputs": [
    {
     "name": "stderr",
     "output_type": "stream",
     "text": [
      "0it [00:00, ?it/s]/tmp/ipykernel_124870/2142566481.py:88: UserWarning: Creating a tensor from a list of numpy.ndarrays is extremely slow. Please consider converting the list to a single numpy.ndarray with numpy.array() before converting to a tensor. (Triggered internally at  ../torch/csrc/utils/tensor_new.cpp:201.)\n",
      "  collated_inputs = torch.tensor(x, dtype=torch.float32)\n",
      "1it [00:03,  3.13s/it]"
     ]
    },
    {
     "name": "stdout",
     "output_type": "stream",
     "text": [
      "Epoch: 0 (0/831) Training loss: 0.7022114992141724\n"
     ]
    },
    {
     "name": "stderr",
     "output_type": "stream",
     "text": [
      "102it [00:23,  5.08it/s]"
     ]
    },
    {
     "name": "stdout",
     "output_type": "stream",
     "text": [
      "Epoch: 0 (100/831) Training loss: 0.43307191133499146\n"
     ]
    },
    {
     "name": "stderr",
     "output_type": "stream",
     "text": [
      "201it [00:43,  5.03it/s]"
     ]
    },
    {
     "name": "stdout",
     "output_type": "stream",
     "text": [
      "Epoch: 0 (200/831) Training loss: 0.3359691798686981\n"
     ]
    },
    {
     "name": "stderr",
     "output_type": "stream",
     "text": [
      "302it [01:03,  5.04it/s]"
     ]
    },
    {
     "name": "stdout",
     "output_type": "stream",
     "text": [
      "Epoch: 0 (300/831) Training loss: 0.4322100877761841\n"
     ]
    },
    {
     "name": "stderr",
     "output_type": "stream",
     "text": [
      "401it [01:23,  4.87it/s]"
     ]
    },
    {
     "name": "stdout",
     "output_type": "stream",
     "text": [
      "Epoch: 0 (400/831) Training loss: 0.38128435611724854\n"
     ]
    },
    {
     "name": "stderr",
     "output_type": "stream",
     "text": [
      "502it [01:43,  5.07it/s]"
     ]
    },
    {
     "name": "stdout",
     "output_type": "stream",
     "text": [
      "Epoch: 0 (500/831) Training loss: 0.3954620361328125\n"
     ]
    },
    {
     "name": "stderr",
     "output_type": "stream",
     "text": [
      "601it [02:03,  4.97it/s]"
     ]
    },
    {
     "name": "stdout",
     "output_type": "stream",
     "text": [
      "Epoch: 0 (600/831) Training loss: 0.25376999378204346\n"
     ]
    },
    {
     "name": "stderr",
     "output_type": "stream",
     "text": [
      "701it [02:23,  4.97it/s]"
     ]
    },
    {
     "name": "stdout",
     "output_type": "stream",
     "text": [
      "Epoch: 0 (700/831) Training loss: 0.24432459473609924\n"
     ]
    },
    {
     "name": "stderr",
     "output_type": "stream",
     "text": [
      "801it [02:43,  4.92it/s]"
     ]
    },
    {
     "name": "stdout",
     "output_type": "stream",
     "text": [
      "Epoch: 0 (800/831) Training loss: 0.24225613474845886\n"
     ]
    },
    {
     "name": "stderr",
     "output_type": "stream",
     "text": [
      "831it [02:49,  4.91it/s]\n"
     ]
    },
    {
     "name": "stdout",
     "output_type": "stream",
     "text": [
      "Epoch 0 done. Training loss: 0.364945650100708 Training accuracy: 0.8415688872337341\n"
     ]
    },
    {
     "name": "stderr",
     "output_type": "stream",
     "text": [
      "136it [00:21,  6.41it/s]\n"
     ]
    },
    {
     "name": "stdout",
     "output_type": "stream",
     "text": [
      "Epoch 0 done. Eval loss: 0.6874187588691711 Eval accuracy: 0.6456801295280457\n"
     ]
    },
    {
     "name": "stderr",
     "output_type": "stream",
     "text": [
      "2it [00:00,  4.97it/s]"
     ]
    },
    {
     "name": "stdout",
     "output_type": "stream",
     "text": [
      "Epoch: 1 (0/831) Training loss: 0.2312813550233841\n"
     ]
    },
    {
     "name": "stderr",
     "output_type": "stream",
     "text": [
      "102it [00:20,  5.14it/s]"
     ]
    },
    {
     "name": "stdout",
     "output_type": "stream",
     "text": [
      "Epoch: 1 (100/831) Training loss: 0.23066911101341248\n"
     ]
    },
    {
     "name": "stderr",
     "output_type": "stream",
     "text": [
      "201it [00:39,  4.88it/s]"
     ]
    },
    {
     "name": "stdout",
     "output_type": "stream",
     "text": [
      "Epoch: 1 (200/831) Training loss: 0.27441176772117615\n"
     ]
    },
    {
     "name": "stderr",
     "output_type": "stream",
     "text": [
      "302it [01:00,  5.08it/s]"
     ]
    },
    {
     "name": "stdout",
     "output_type": "stream",
     "text": [
      "Epoch: 1 (300/831) Training loss: 0.4598763883113861\n"
     ]
    },
    {
     "name": "stderr",
     "output_type": "stream",
     "text": [
      "401it [01:19,  5.02it/s]"
     ]
    },
    {
     "name": "stdout",
     "output_type": "stream",
     "text": [
      "Epoch: 1 (400/831) Training loss: 0.3633812963962555\n"
     ]
    },
    {
     "name": "stderr",
     "output_type": "stream",
     "text": [
      "502it [01:39,  5.13it/s]"
     ]
    },
    {
     "name": "stdout",
     "output_type": "stream",
     "text": [
      "Epoch: 1 (500/831) Training loss: 0.2205388993024826\n"
     ]
    },
    {
     "name": "stderr",
     "output_type": "stream",
     "text": [
      "601it [01:59,  5.13it/s]"
     ]
    },
    {
     "name": "stdout",
     "output_type": "stream",
     "text": [
      "Epoch: 1 (600/831) Training loss: 0.2495383769273758\n"
     ]
    },
    {
     "name": "stderr",
     "output_type": "stream",
     "text": [
      "702it [02:19,  5.15it/s]"
     ]
    },
    {
     "name": "stdout",
     "output_type": "stream",
     "text": [
      "Epoch: 1 (700/831) Training loss: 0.3160955011844635\n"
     ]
    },
    {
     "name": "stderr",
     "output_type": "stream",
     "text": [
      "801it [02:39,  5.03it/s]"
     ]
    },
    {
     "name": "stdout",
     "output_type": "stream",
     "text": [
      "Epoch: 1 (800/831) Training loss: 0.2454945296049118\n"
     ]
    },
    {
     "name": "stderr",
     "output_type": "stream",
     "text": [
      "831it [02:49,  4.89it/s]\n"
     ]
    },
    {
     "name": "stdout",
     "output_type": "stream",
     "text": [
      "Epoch 1 done. Training loss: 0.2740548253059387 Training accuracy: 0.8855859041213989\n"
     ]
    },
    {
     "name": "stderr",
     "output_type": "stream",
     "text": [
      "136it [00:21,  6.40it/s]\n"
     ]
    },
    {
     "name": "stdout",
     "output_type": "stream",
     "text": [
      "Epoch 1 done. Eval loss: 0.689625084400177 Eval accuracy: 0.6729090213775635\n"
     ]
    },
    {
     "name": "stderr",
     "output_type": "stream",
     "text": [
      "1it [00:00,  2.15it/s]"
     ]
    },
    {
     "name": "stdout",
     "output_type": "stream",
     "text": [
      "Epoch: 2 (0/831) Training loss: 0.2889285087585449\n"
     ]
    },
    {
     "name": "stderr",
     "output_type": "stream",
     "text": [
      "101it [00:24,  4.97it/s]"
     ]
    },
    {
     "name": "stdout",
     "output_type": "stream",
     "text": [
      "Epoch: 2 (100/831) Training loss: 0.28505027294158936\n"
     ]
    },
    {
     "name": "stderr",
     "output_type": "stream",
     "text": [
      "201it [00:44,  4.99it/s]"
     ]
    },
    {
     "name": "stdout",
     "output_type": "stream",
     "text": [
      "Epoch: 2 (200/831) Training loss: 0.2972636818885803\n"
     ]
    },
    {
     "name": "stderr",
     "output_type": "stream",
     "text": [
      "302it [01:04,  5.09it/s]"
     ]
    },
    {
     "name": "stdout",
     "output_type": "stream",
     "text": [
      "Epoch: 2 (300/831) Training loss: 0.22318166494369507\n"
     ]
    },
    {
     "name": "stderr",
     "output_type": "stream",
     "text": [
      "402it [01:25,  5.02it/s]"
     ]
    },
    {
     "name": "stdout",
     "output_type": "stream",
     "text": [
      "Epoch: 2 (400/831) Training loss: 0.2613120675086975\n"
     ]
    },
    {
     "name": "stderr",
     "output_type": "stream",
     "text": [
      "501it [01:44,  5.00it/s]"
     ]
    },
    {
     "name": "stdout",
     "output_type": "stream",
     "text": [
      "Epoch: 2 (500/831) Training loss: 0.2074659913778305\n"
     ]
    },
    {
     "name": "stderr",
     "output_type": "stream",
     "text": [
      "601it [02:04,  5.07it/s]"
     ]
    },
    {
     "name": "stdout",
     "output_type": "stream",
     "text": [
      "Epoch: 2 (600/831) Training loss: 0.15057086944580078\n"
     ]
    },
    {
     "name": "stderr",
     "output_type": "stream",
     "text": [
      "701it [02:24,  4.96it/s]"
     ]
    },
    {
     "name": "stdout",
     "output_type": "stream",
     "text": [
      "Epoch: 2 (700/831) Training loss: 0.34445494413375854\n"
     ]
    },
    {
     "name": "stderr",
     "output_type": "stream",
     "text": [
      "802it [02:45,  5.09it/s]"
     ]
    },
    {
     "name": "stdout",
     "output_type": "stream",
     "text": [
      "Epoch: 2 (800/831) Training loss: 0.16275595128536224\n"
     ]
    },
    {
     "name": "stderr",
     "output_type": "stream",
     "text": [
      "831it [02:50,  4.87it/s]\n"
     ]
    },
    {
     "name": "stdout",
     "output_type": "stream",
     "text": [
      "Epoch 2 done. Training loss: 0.2468259185552597 Training accuracy: 0.8977888226509094\n"
     ]
    },
    {
     "name": "stderr",
     "output_type": "stream",
     "text": [
      "136it [00:21,  6.41it/s]\n"
     ]
    },
    {
     "name": "stdout",
     "output_type": "stream",
     "text": [
      "Epoch 2 done. Eval loss: 0.6261889338493347 Eval accuracy: 0.6754365563392639\n"
     ]
    },
    {
     "name": "stderr",
     "output_type": "stream",
     "text": [
      "2it [00:00,  5.00it/s]"
     ]
    },
    {
     "name": "stdout",
     "output_type": "stream",
     "text": [
      "Epoch: 3 (0/831) Training loss: 0.2029496431350708\n"
     ]
    },
    {
     "name": "stderr",
     "output_type": "stream",
     "text": [
      "102it [00:20,  5.07it/s]"
     ]
    },
    {
     "name": "stdout",
     "output_type": "stream",
     "text": [
      "Epoch: 3 (100/831) Training loss: 0.22345910966396332\n"
     ]
    },
    {
     "name": "stderr",
     "output_type": "stream",
     "text": [
      "202it [00:40,  4.98it/s]"
     ]
    },
    {
     "name": "stdout",
     "output_type": "stream",
     "text": [
      "Epoch: 3 (200/831) Training loss: 0.11989489197731018\n"
     ]
    },
    {
     "name": "stderr",
     "output_type": "stream",
     "text": [
      "301it [01:00,  4.97it/s]"
     ]
    },
    {
     "name": "stdout",
     "output_type": "stream",
     "text": [
      "Epoch: 3 (300/831) Training loss: 0.3893105685710907\n"
     ]
    },
    {
     "name": "stderr",
     "output_type": "stream",
     "text": [
      "401it [01:20,  4.92it/s]"
     ]
    },
    {
     "name": "stdout",
     "output_type": "stream",
     "text": [
      "Epoch: 3 (400/831) Training loss: 0.35094618797302246\n"
     ]
    },
    {
     "name": "stderr",
     "output_type": "stream",
     "text": [
      "501it [01:40,  5.12it/s]"
     ]
    },
    {
     "name": "stdout",
     "output_type": "stream",
     "text": [
      "Epoch: 3 (500/831) Training loss: 0.21717751026153564\n"
     ]
    },
    {
     "name": "stderr",
     "output_type": "stream",
     "text": [
      "602it [02:00,  5.05it/s]"
     ]
    },
    {
     "name": "stdout",
     "output_type": "stream",
     "text": [
      "Epoch: 3 (600/831) Training loss: 0.1800590455532074\n"
     ]
    },
    {
     "name": "stderr",
     "output_type": "stream",
     "text": [
      "701it [02:20,  5.12it/s]"
     ]
    },
    {
     "name": "stdout",
     "output_type": "stream",
     "text": [
      "Epoch: 3 (700/831) Training loss: 0.19034598767757416\n"
     ]
    },
    {
     "name": "stderr",
     "output_type": "stream",
     "text": [
      "801it [02:40,  5.07it/s]"
     ]
    },
    {
     "name": "stdout",
     "output_type": "stream",
     "text": [
      "Epoch: 3 (800/831) Training loss: 0.1653841733932495\n"
     ]
    },
    {
     "name": "stderr",
     "output_type": "stream",
     "text": [
      "831it [02:46,  4.99it/s]\n"
     ]
    },
    {
     "name": "stdout",
     "output_type": "stream",
     "text": [
      "Epoch 3 done. Training loss: 0.22554656863212585 Training accuracy: 0.9064192175865173\n"
     ]
    },
    {
     "name": "stderr",
     "output_type": "stream",
     "text": [
      "136it [00:21,  6.43it/s]\n"
     ]
    },
    {
     "name": "stdout",
     "output_type": "stream",
     "text": [
      "Epoch 3 done. Eval loss: 0.6040501594543457 Eval accuracy: 0.7027803063392639\n"
     ]
    },
    {
     "name": "stderr",
     "output_type": "stream",
     "text": [
      "1it [00:00,  4.76it/s]"
     ]
    },
    {
     "name": "stdout",
     "output_type": "stream",
     "text": [
      "Epoch: 4 (0/831) Training loss: 0.2310725897550583\n"
     ]
    },
    {
     "name": "stderr",
     "output_type": "stream",
     "text": [
      "101it [00:20,  4.78it/s]"
     ]
    },
    {
     "name": "stdout",
     "output_type": "stream",
     "text": [
      "Epoch: 4 (100/831) Training loss: 0.15734800696372986\n"
     ]
    },
    {
     "name": "stderr",
     "output_type": "stream",
     "text": [
      "201it [00:40,  5.06it/s]"
     ]
    },
    {
     "name": "stdout",
     "output_type": "stream",
     "text": [
      "Epoch: 4 (200/831) Training loss: 0.14343811571598053\n"
     ]
    },
    {
     "name": "stderr",
     "output_type": "stream",
     "text": [
      "302it [01:00,  5.12it/s]"
     ]
    },
    {
     "name": "stdout",
     "output_type": "stream",
     "text": [
      "Epoch: 4 (300/831) Training loss: 0.3653542399406433\n"
     ]
    },
    {
     "name": "stderr",
     "output_type": "stream",
     "text": [
      "402it [01:20,  5.11it/s]"
     ]
    },
    {
     "name": "stdout",
     "output_type": "stream",
     "text": [
      "Epoch: 4 (400/831) Training loss: 0.2209469974040985\n"
     ]
    },
    {
     "name": "stderr",
     "output_type": "stream",
     "text": [
      "502it [01:40,  5.03it/s]"
     ]
    },
    {
     "name": "stdout",
     "output_type": "stream",
     "text": [
      "Epoch: 4 (500/831) Training loss: 0.35361096262931824\n"
     ]
    },
    {
     "name": "stderr",
     "output_type": "stream",
     "text": [
      "601it [02:00,  5.04it/s]"
     ]
    },
    {
     "name": "stdout",
     "output_type": "stream",
     "text": [
      "Epoch: 4 (600/831) Training loss: 0.20778433978557587\n"
     ]
    },
    {
     "name": "stderr",
     "output_type": "stream",
     "text": [
      "702it [02:20,  5.18it/s]"
     ]
    },
    {
     "name": "stdout",
     "output_type": "stream",
     "text": [
      "Epoch: 4 (700/831) Training loss: 0.2862609028816223\n"
     ]
    },
    {
     "name": "stderr",
     "output_type": "stream",
     "text": [
      "802it [02:40,  5.16it/s]"
     ]
    },
    {
     "name": "stdout",
     "output_type": "stream",
     "text": [
      "Epoch: 4 (800/831) Training loss: 0.1355416625738144\n"
     ]
    },
    {
     "name": "stderr",
     "output_type": "stream",
     "text": [
      "831it [02:45,  5.01it/s]\n"
     ]
    },
    {
     "name": "stdout",
     "output_type": "stream",
     "text": [
      "Epoch 4 done. Training loss: 0.20711810886859894 Training accuracy: 0.915557324886322\n"
     ]
    },
    {
     "name": "stderr",
     "output_type": "stream",
     "text": [
      "136it [00:21,  6.41it/s]\n"
     ]
    },
    {
     "name": "stdout",
     "output_type": "stream",
     "text": [
      "Epoch 4 done. Eval loss: 0.8470120429992676 Eval accuracy: 0.5814567804336548\n"
     ]
    },
    {
     "name": "stderr",
     "output_type": "stream",
     "text": [
      "2it [00:00,  5.13it/s]"
     ]
    },
    {
     "name": "stdout",
     "output_type": "stream",
     "text": [
      "Epoch: 5 (0/831) Training loss: 0.20615556836128235\n"
     ]
    },
    {
     "name": "stderr",
     "output_type": "stream",
     "text": [
      "101it [00:20,  5.01it/s]"
     ]
    },
    {
     "name": "stdout",
     "output_type": "stream",
     "text": [
      "Epoch: 5 (100/831) Training loss: 0.28522711992263794\n"
     ]
    },
    {
     "name": "stderr",
     "output_type": "stream",
     "text": [
      "202it [00:40,  5.17it/s]"
     ]
    },
    {
     "name": "stdout",
     "output_type": "stream",
     "text": [
      "Epoch: 5 (200/831) Training loss: 0.22895817458629608\n"
     ]
    },
    {
     "name": "stderr",
     "output_type": "stream",
     "text": [
      "302it [01:00,  5.14it/s]"
     ]
    },
    {
     "name": "stdout",
     "output_type": "stream",
     "text": [
      "Epoch: 5 (300/831) Training loss: 0.2960282564163208\n"
     ]
    },
    {
     "name": "stderr",
     "output_type": "stream",
     "text": [
      "401it [01:20,  4.88it/s]"
     ]
    },
    {
     "name": "stdout",
     "output_type": "stream",
     "text": [
      "Epoch: 5 (400/831) Training loss: 0.2721713185310364\n"
     ]
    },
    {
     "name": "stderr",
     "output_type": "stream",
     "text": [
      "501it [01:40,  4.97it/s]"
     ]
    },
    {
     "name": "stdout",
     "output_type": "stream",
     "text": [
      "Epoch: 5 (500/831) Training loss: 0.15378642082214355\n"
     ]
    },
    {
     "name": "stderr",
     "output_type": "stream",
     "text": [
      "601it [02:00,  5.01it/s]"
     ]
    },
    {
     "name": "stdout",
     "output_type": "stream",
     "text": [
      "Epoch: 5 (600/831) Training loss: 0.12499235570430756\n"
     ]
    },
    {
     "name": "stderr",
     "output_type": "stream",
     "text": [
      "701it [02:20,  4.99it/s]"
     ]
    },
    {
     "name": "stdout",
     "output_type": "stream",
     "text": [
      "Epoch: 5 (700/831) Training loss: 0.30892372131347656\n"
     ]
    },
    {
     "name": "stderr",
     "output_type": "stream",
     "text": [
      "802it [02:40,  4.98it/s]"
     ]
    },
    {
     "name": "stdout",
     "output_type": "stream",
     "text": [
      "Epoch: 5 (800/831) Training loss: 0.225697860121727\n"
     ]
    },
    {
     "name": "stderr",
     "output_type": "stream",
     "text": [
      "831it [02:45,  5.01it/s]\n"
     ]
    },
    {
     "name": "stdout",
     "output_type": "stream",
     "text": [
      "Epoch 5 done. Training loss: 0.19131878018379211 Training accuracy: 0.9215929508209229\n"
     ]
    },
    {
     "name": "stderr",
     "output_type": "stream",
     "text": [
      "136it [00:21,  6.41it/s]\n"
     ]
    },
    {
     "name": "stdout",
     "output_type": "stream",
     "text": [
      "Epoch 5 done. Eval loss: 0.6893659234046936 Eval accuracy: 0.6799172759056091\n"
     ]
    },
    {
     "name": "stderr",
     "output_type": "stream",
     "text": [
      "2it [00:00,  5.03it/s]"
     ]
    },
    {
     "name": "stdout",
     "output_type": "stream",
     "text": [
      "Epoch: 6 (0/831) Training loss: 0.2293022871017456\n"
     ]
    },
    {
     "name": "stderr",
     "output_type": "stream",
     "text": [
      "101it [00:20,  5.07it/s]"
     ]
    },
    {
     "name": "stdout",
     "output_type": "stream",
     "text": [
      "Epoch: 6 (100/831) Training loss: 0.17350083589553833\n"
     ]
    },
    {
     "name": "stderr",
     "output_type": "stream",
     "text": [
      "202it [00:40,  4.96it/s]"
     ]
    },
    {
     "name": "stdout",
     "output_type": "stream",
     "text": [
      "Epoch: 6 (200/831) Training loss: 0.15661901235580444\n"
     ]
    },
    {
     "name": "stderr",
     "output_type": "stream",
     "text": [
      "302it [01:00,  5.07it/s]"
     ]
    },
    {
     "name": "stdout",
     "output_type": "stream",
     "text": [
      "Epoch: 6 (300/831) Training loss: 0.09292712062597275\n"
     ]
    },
    {
     "name": "stderr",
     "output_type": "stream",
     "text": [
      "401it [01:20,  5.00it/s]"
     ]
    },
    {
     "name": "stdout",
     "output_type": "stream",
     "text": [
      "Epoch: 6 (400/831) Training loss: 0.13564017415046692\n"
     ]
    },
    {
     "name": "stderr",
     "output_type": "stream",
     "text": [
      "502it [01:40,  5.03it/s]"
     ]
    },
    {
     "name": "stdout",
     "output_type": "stream",
     "text": [
      "Epoch: 6 (500/831) Training loss: 0.23693905770778656\n"
     ]
    },
    {
     "name": "stderr",
     "output_type": "stream",
     "text": [
      "602it [02:00,  5.11it/s]"
     ]
    },
    {
     "name": "stdout",
     "output_type": "stream",
     "text": [
      "Epoch: 6 (600/831) Training loss: 0.10600960999727249\n"
     ]
    },
    {
     "name": "stderr",
     "output_type": "stream",
     "text": [
      "702it [02:20,  5.06it/s]"
     ]
    },
    {
     "name": "stdout",
     "output_type": "stream",
     "text": [
      "Epoch: 6 (700/831) Training loss: 0.1658063381910324\n"
     ]
    },
    {
     "name": "stderr",
     "output_type": "stream",
     "text": [
      "801it [02:39,  5.08it/s]"
     ]
    },
    {
     "name": "stdout",
     "output_type": "stream",
     "text": [
      "Epoch: 6 (800/831) Training loss: 0.1938466578722\n"
     ]
    },
    {
     "name": "stderr",
     "output_type": "stream",
     "text": [
      "831it [02:45,  5.02it/s]\n"
     ]
    },
    {
     "name": "stdout",
     "output_type": "stream",
     "text": [
      "Epoch 6 done. Training loss: 0.17714986205101013 Training accuracy: 0.9281174540519714\n"
     ]
    },
    {
     "name": "stderr",
     "output_type": "stream",
     "text": [
      "136it [00:21,  6.44it/s]\n"
     ]
    },
    {
     "name": "stdout",
     "output_type": "stream",
     "text": [
      "Epoch 6 done. Eval loss: 0.7250509262084961 Eval accuracy: 0.6918658018112183\n"
     ]
    },
    {
     "name": "stderr",
     "output_type": "stream",
     "text": [
      "1it [00:00,  5.18it/s]"
     ]
    },
    {
     "name": "stdout",
     "output_type": "stream",
     "text": [
      "Epoch: 7 (0/831) Training loss: 0.12585251033306122\n"
     ]
    },
    {
     "name": "stderr",
     "output_type": "stream",
     "text": [
      "102it [00:20,  5.05it/s]"
     ]
    },
    {
     "name": "stdout",
     "output_type": "stream",
     "text": [
      "Epoch: 7 (100/831) Training loss: 0.10212473571300507\n"
     ]
    },
    {
     "name": "stderr",
     "output_type": "stream",
     "text": [
      "202it [00:40,  5.06it/s]"
     ]
    },
    {
     "name": "stdout",
     "output_type": "stream",
     "text": [
      "Epoch: 7 (200/831) Training loss: 0.31812170147895813\n"
     ]
    },
    {
     "name": "stderr",
     "output_type": "stream",
     "text": [
      "301it [01:00,  5.00it/s]"
     ]
    },
    {
     "name": "stdout",
     "output_type": "stream",
     "text": [
      "Epoch: 7 (300/831) Training loss: 0.12991386651992798\n"
     ]
    },
    {
     "name": "stderr",
     "output_type": "stream",
     "text": [
      "402it [01:20,  5.14it/s]"
     ]
    },
    {
     "name": "stdout",
     "output_type": "stream",
     "text": [
      "Epoch: 7 (400/831) Training loss: 0.1735658496618271\n"
     ]
    },
    {
     "name": "stderr",
     "output_type": "stream",
     "text": [
      "501it [01:39,  5.00it/s]"
     ]
    },
    {
     "name": "stdout",
     "output_type": "stream",
     "text": [
      "Epoch: 7 (500/831) Training loss: 0.19909904897212982\n"
     ]
    },
    {
     "name": "stderr",
     "output_type": "stream",
     "text": [
      "601it [01:59,  5.01it/s]"
     ]
    },
    {
     "name": "stdout",
     "output_type": "stream",
     "text": [
      "Epoch: 7 (600/831) Training loss: 0.21836689114570618\n"
     ]
    },
    {
     "name": "stderr",
     "output_type": "stream",
     "text": [
      "701it [02:19,  4.83it/s]"
     ]
    },
    {
     "name": "stdout",
     "output_type": "stream",
     "text": [
      "Epoch: 7 (700/831) Training loss: 0.19419190287590027\n"
     ]
    },
    {
     "name": "stderr",
     "output_type": "stream",
     "text": [
      "802it [02:40,  5.13it/s]"
     ]
    },
    {
     "name": "stdout",
     "output_type": "stream",
     "text": [
      "Epoch: 7 (800/831) Training loss: 0.14410625398159027\n"
     ]
    },
    {
     "name": "stderr",
     "output_type": "stream",
     "text": [
      "831it [02:45,  5.02it/s]\n"
     ]
    },
    {
     "name": "stdout",
     "output_type": "stream",
     "text": [
      "Epoch 7 done. Training loss: 0.16381056606769562 Training accuracy: 0.9333634376525879\n"
     ]
    },
    {
     "name": "stderr",
     "output_type": "stream",
     "text": [
      "136it [00:21,  6.39it/s]\n"
     ]
    },
    {
     "name": "stdout",
     "output_type": "stream",
     "text": [
      "Epoch 7 done. Eval loss: 0.6944552063941956 Eval accuracy: 0.6775045990943909\n"
     ]
    },
    {
     "name": "stderr",
     "output_type": "stream",
     "text": [
      "2it [00:00,  5.02it/s]"
     ]
    },
    {
     "name": "stdout",
     "output_type": "stream",
     "text": [
      "Epoch: 8 (0/831) Training loss: 0.15522374212741852\n"
     ]
    },
    {
     "name": "stderr",
     "output_type": "stream",
     "text": [
      "102it [00:20,  4.99it/s]"
     ]
    },
    {
     "name": "stdout",
     "output_type": "stream",
     "text": [
      "Epoch: 8 (100/831) Training loss: 0.22382499277591705\n"
     ]
    },
    {
     "name": "stderr",
     "output_type": "stream",
     "text": [
      "201it [00:40,  4.87it/s]"
     ]
    },
    {
     "name": "stdout",
     "output_type": "stream",
     "text": [
      "Epoch: 8 (200/831) Training loss: 0.261109322309494\n"
     ]
    },
    {
     "name": "stderr",
     "output_type": "stream",
     "text": [
      "302it [01:00,  5.07it/s]"
     ]
    },
    {
     "name": "stdout",
     "output_type": "stream",
     "text": [
      "Epoch: 8 (300/831) Training loss: 0.15105652809143066\n"
     ]
    },
    {
     "name": "stderr",
     "output_type": "stream",
     "text": [
      "401it [01:20,  4.91it/s]"
     ]
    },
    {
     "name": "stdout",
     "output_type": "stream",
     "text": [
      "Epoch: 8 (400/831) Training loss: 0.1935359686613083\n"
     ]
    },
    {
     "name": "stderr",
     "output_type": "stream",
     "text": [
      "501it [01:40,  4.88it/s]"
     ]
    },
    {
     "name": "stdout",
     "output_type": "stream",
     "text": [
      "Epoch: 8 (500/831) Training loss: 0.2056395709514618\n"
     ]
    },
    {
     "name": "stderr",
     "output_type": "stream",
     "text": [
      "601it [02:00,  4.98it/s]"
     ]
    },
    {
     "name": "stdout",
     "output_type": "stream",
     "text": [
      "Epoch: 8 (600/831) Training loss: 0.1751619428396225\n"
     ]
    },
    {
     "name": "stderr",
     "output_type": "stream",
     "text": [
      "701it [02:20,  5.11it/s]"
     ]
    },
    {
     "name": "stdout",
     "output_type": "stream",
     "text": [
      "Epoch: 8 (700/831) Training loss: 0.1625874638557434\n"
     ]
    },
    {
     "name": "stderr",
     "output_type": "stream",
     "text": [
      "801it [02:39,  5.01it/s]"
     ]
    },
    {
     "name": "stdout",
     "output_type": "stream",
     "text": [
      "Epoch: 8 (800/831) Training loss: 0.21923479437828064\n"
     ]
    },
    {
     "name": "stderr",
     "output_type": "stream",
     "text": [
      "831it [02:45,  5.01it/s]\n"
     ]
    },
    {
     "name": "stdout",
     "output_type": "stream",
     "text": [
      "Epoch 8 done. Training loss: 0.1510220766067505 Training accuracy: 0.9406024217605591\n"
     ]
    },
    {
     "name": "stderr",
     "output_type": "stream",
     "text": [
      "136it [00:21,  6.42it/s]\n"
     ]
    },
    {
     "name": "stdout",
     "output_type": "stream",
     "text": [
      "Epoch 8 done. Eval loss: 0.7782796621322632 Eval accuracy: 0.6852021813392639\n"
     ]
    },
    {
     "name": "stderr",
     "output_type": "stream",
     "text": [
      "1it [00:00,  4.93it/s]"
     ]
    },
    {
     "name": "stdout",
     "output_type": "stream",
     "text": [
      "Epoch: 9 (0/831) Training loss: 0.2800663113594055\n"
     ]
    },
    {
     "name": "stderr",
     "output_type": "stream",
     "text": [
      "101it [00:20,  4.90it/s]"
     ]
    },
    {
     "name": "stdout",
     "output_type": "stream",
     "text": [
      "Epoch: 9 (100/831) Training loss: 0.10539191961288452\n"
     ]
    },
    {
     "name": "stderr",
     "output_type": "stream",
     "text": [
      "202it [00:40,  5.02it/s]"
     ]
    },
    {
     "name": "stdout",
     "output_type": "stream",
     "text": [
      "Epoch: 9 (200/831) Training loss: 0.15794014930725098\n"
     ]
    },
    {
     "name": "stderr",
     "output_type": "stream",
     "text": [
      "302it [01:00,  5.08it/s]"
     ]
    },
    {
     "name": "stdout",
     "output_type": "stream",
     "text": [
      "Epoch: 9 (300/831) Training loss: 0.16377799212932587\n"
     ]
    },
    {
     "name": "stderr",
     "output_type": "stream",
     "text": [
      "402it [01:20,  5.06it/s]"
     ]
    },
    {
     "name": "stdout",
     "output_type": "stream",
     "text": [
      "Epoch: 9 (400/831) Training loss: 0.1123078390955925\n"
     ]
    },
    {
     "name": "stderr",
     "output_type": "stream",
     "text": [
      "501it [01:40,  4.95it/s]"
     ]
    },
    {
     "name": "stdout",
     "output_type": "stream",
     "text": [
      "Epoch: 9 (500/831) Training loss: 0.07380279153585434\n"
     ]
    },
    {
     "name": "stderr",
     "output_type": "stream",
     "text": [
      "601it [02:00,  4.88it/s]"
     ]
    },
    {
     "name": "stdout",
     "output_type": "stream",
     "text": [
      "Epoch: 9 (600/831) Training loss: 0.15277892351150513\n"
     ]
    },
    {
     "name": "stderr",
     "output_type": "stream",
     "text": [
      "702it [02:20,  4.97it/s]"
     ]
    },
    {
     "name": "stdout",
     "output_type": "stream",
     "text": [
      "Epoch: 9 (700/831) Training loss: 0.25732365250587463\n"
     ]
    },
    {
     "name": "stderr",
     "output_type": "stream",
     "text": [
      "801it [02:40,  5.06it/s]"
     ]
    },
    {
     "name": "stdout",
     "output_type": "stream",
     "text": [
      "Epoch: 9 (800/831) Training loss: 0.3017506003379822\n"
     ]
    },
    {
     "name": "stderr",
     "output_type": "stream",
     "text": [
      "831it [02:45,  5.01it/s]\n"
     ]
    },
    {
     "name": "stdout",
     "output_type": "stream",
     "text": [
      "Epoch 9 done. Training loss: 0.1450224220752716 Training accuracy: 0.9406964778900146\n"
     ]
    },
    {
     "name": "stderr",
     "output_type": "stream",
     "text": [
      "136it [00:21,  6.39it/s]"
     ]
    },
    {
     "name": "stdout",
     "output_type": "stream",
     "text": [
      "Epoch 9 done. Eval loss: 0.7594918012619019 Eval accuracy: 0.6494715213775635\n"
     ]
    },
    {
     "name": "stderr",
     "output_type": "stream",
     "text": [
      "\n"
     ]
    }
   ],
   "source": [
    "loss_history = []\n",
    "train_acc_history = []\n",
    "eval_acc_history = []\n",
    "eval_loss_history = []\n",
    "for epoch in range(EPOCHS):\n",
    "    train_acc, train_loss, history = train(model, train_loader, optimizer, criterion, epoch, logging_steps=100)\n",
    "    eval_acc, eval_loss = evaluate(model, test_loader, criterion, epoch)\n",
    "    \n",
    "    loss_history.extend(history)\n",
    "    eval_loss_history.append(eval_loss)\n",
    "    train_acc_history.append(train_acc)\n",
    "    eval_acc_history.append(eval_acc)"
   ]
  },
  {
   "cell_type": "markdown",
   "metadata": {},
   "source": [
    "## Graphing the Loss and Accuracy"
   ]
  },
  {
   "cell_type": "code",
   "execution_count": 48,
   "metadata": {},
   "outputs": [],
   "source": [
    "import matplotlib.pyplot as plt"
   ]
  },
  {
   "cell_type": "code",
   "execution_count": 49,
   "metadata": {},
   "outputs": [
    {
     "data": {
      "image/png": "[encoded data removed]",
      "text/plain": [
       "<Figure size 640x480 with 2 Axes>"
      ]
     },
     "metadata": {},
     "output_type": "display_data"
    }
   ],
   "source": [
    "xs = np.arange(len(train_loader), len(loss_history) + len(train_loader), len(train_loader))\n",
    "\n",
    "plt.plot(loss_history, label=\"loss\")\n",
    "plt.ylabel(\"BCE loss\")\n",
    "plt.legend()\n",
    "plt.twinx()\n",
    "plt.plot(xs, train_acc_history, label=\"accuracy\", c=\"C1\")\n",
    "plt.ylabel(\"accuracy\")\n",
    "plt.legend()\n",
    "plt.show()"
   ]
  },
  {
   "cell_type": "code",
   "execution_count": 50,
   "metadata": {},
   "outputs": [
    {
     "data": {
      "image/png": "[encoded data removed]",
      "text/plain": [
       "<Figure size 640x480 with 2 Axes>"
      ]
     },
     "metadata": {},
     "output_type": "display_data"
    }
   ],
   "source": [
    "eval_loss_history = [x.cpu() for x in eval_loss_history]\n",
    "plt.plot(eval_loss_history, label=\"loss\")\n",
    "plt.legend()\n",
    "plt.ylabel(\"BCE loss\")\n",
    "plt.twinx()\n",
    "plt.plot(eval_acc_history, c=\"C1\", label=\"accuracy\")\n",
    "plt.ylabel(\"accuracy\")\n",
    "plt.legend()\n",
    "plt.show()"
   ]
  },
  {
   "cell_type": "code",
   "execution_count": 51,
   "metadata": {},
   "outputs": [
    {
     "data": {
      "text/plain": [
       "[tensor(0.6457),\n",
       " tensor(0.6729),\n",
       " tensor(0.6754),\n",
       " tensor(0.7028),\n",
       " tensor(0.5815),\n",
       " tensor(0.6799),\n",
       " tensor(0.6919),\n",
       " tensor(0.6775),\n",
       " tensor(0.6852),\n",
       " tensor(0.6495)]"
      ]
     },
     "execution_count": 51,
     "metadata": {},
     "output_type": "execute_result"
    }
   ],
   "source": [
    "eval_acc_history"
   ]
  }
 ],
 "metadata": {
  "kernelspec": {
   "display_name": "Python 3.8.9 64-bit",
   "language": "python",
   "name": "python3"
  },
  "language_info": {
   "codemirror_mode": {
    "name": "ipython",
    "version": 3
   },
   "file_extension": ".py",
   "mimetype": "text/x-python",
   "name": "python",
   "nbconvert_exporter": "python",
   "pygments_lexer": "ipython3",
   "version": "3.8.10"
  },
  "orig_nbformat": 4,
  "vscode": {
   "interpreter": {
    "hash": "31f2aee4e71d21fbe5cf8b01ff0e069b9275f58929596ceb00d14d90e3e16cd6"
   }
  }
 },
 "nbformat": 4,
 "nbformat_minor": 2
}

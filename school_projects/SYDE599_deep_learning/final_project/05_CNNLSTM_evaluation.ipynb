{
  "cells": [
    {
      "cell_type": "code",
      "execution_count": 1,
      "metadata": {
        "id": "iw3SN6Yy8HBQ"
      },
      "outputs": [],
      "source": [
        "import glob\n",
        "import torch\n",
        "import torch.nn as nn\n",
        "import torch.nn.functional as F\n",
        "import torch.optim as optim\n",
        "import torchvision\n",
        "import numpy as np\n",
        "import pandas as pd\n",
        "from torch.utils.data import Dataset\n",
        "from tqdm import tqdm\n",
        "from matplotlib import pyplot as plt\n",
        "from scipy import signal\n",
        "\n",
        "independent = True"
      ]
    },
    {
      "cell_type": "code",
      "execution_count": 2,
      "metadata": {
        "colab": {
          "base_uri": "https://localhost:8080/"
        },
        "id": "I4mWvazJ8HBU",
        "outputId": "c56cc149-bd2f-4f15-fe8a-8c3716475eeb"
      },
      "outputs": [
        {
          "data": {
            "text/plain": [
              "56"
            ]
          },
          "execution_count": 2,
          "metadata": {},
          "output_type": "execute_result"
        }
      ],
      "source": [
        "data_dir = \"/root/data/norm_fog_data/\"\n",
        "# data_dir = 'drive/MyDrive/599_project_data/norm_fog_data/'\n",
        "\n",
        "data_files = glob.glob(data_dir + \"*.csv\")\n",
        "len(data_files)"
      ]
    },
    {
      "cell_type": "markdown",
      "metadata": {
        "id": "qIHQM1ol8HBV"
      },
      "source": [
        "# Load the data"
      ]
    },
    {
      "cell_type": "code",
      "execution_count": 3,
      "metadata": {
        "colab": {
          "base_uri": "https://localhost:8080/"
        },
        "id": "fflwLKvN8HBW",
        "outputId": "a3f33aa8-f1e4-4e2e-cb36-cf0ab4ce6678"
      },
      "outputs": [
        {
          "name": "stdout",
          "output_type": "stream",
          "text": [
            "/root/data/norm_fog_data/008_task_1.csv\n",
            "102500.0\n",
            "/root/data/norm_fog_data/004_task_1.csv\n",
            "0.0\n",
            "/root/data/norm_fog_data/006_task_3.csv\n",
            "17000.0\n",
            "/root/data/norm_fog_data/001_task_4.csv\n",
            "0.0\n",
            "/root/data/norm_fog_data/001_task_1.csv\n",
            "65500.0\n",
            "/root/data/norm_fog_data/008_task_9.csv\n",
            "10000.0\n",
            "/root/data/norm_fog_data/010_task_1.csv\n",
            "195500.0\n",
            "/root/data/norm_fog_data/002_task_4.csv\n",
            "1500.0\n",
            "/root/data/norm_fog_data/005_task_1.csv\n",
            "0.0\n",
            "/root/data/norm_fog_data/004_task_4.csv\n",
            "2500.0\n",
            "/root/data/norm_fog_data/008_task_7.csv\n",
            "92000.0\n",
            "/root/data/norm_fog_data/011_task_1.csv\n",
            "127500.0\n",
            "/root/data/norm_fog_data/004_task_3.csv\n",
            "0.0\n",
            "/root/data/norm_fog_data/009_task_2.csv\n",
            "14000.0\n",
            "/root/data/norm_fog_data/008_task_4.csv\n",
            "2500.0\n",
            "/root/data/norm_fog_data/007_task_3.csv\n",
            "16000.0\n",
            "/root/data/norm_fog_data/003_task_4.csv\n",
            "26500.0\n",
            "/root/data/norm_fog_data/010_task_3.csv\n",
            "15000.0\n",
            "/root/data/norm_fog_data/009_task_3.csv\n",
            "25500.0\n",
            "/root/data/norm_fog_data/011_task_3.csv\n",
            "20500.0\n",
            "/root/data/norm_fog_data/006_task_1.csv\n",
            "67000.0\n",
            "/root/data/norm_fog_data/009_task_6.csv\n",
            "4000.0\n",
            "/root/data/norm_fog_data/008_task_2.csv\n",
            "92500.0\n",
            "/root/data/norm_fog_data/009_task_4.csv\n",
            "4500.0\n",
            "/root/data/norm_fog_data/012_task_4.csv\n",
            "76500.0\n",
            "/root/data/norm_fog_data/005_task_3.csv\n",
            "0.0\n",
            "/root/data/norm_fog_data/006_task_2.csv\n",
            "77500.0\n",
            "/root/data/norm_fog_data/011_task_4.csv\n",
            "13000.0\n",
            "/root/data/norm_fog_data/010_task_4.csv\n",
            "10000.0\n",
            "/root/data/norm_fog_data/008_task_5.csv\n",
            "2000.0\n",
            "/root/data/norm_fog_data/008_task_3.csv\n",
            "11000.0\n",
            "/root/data/norm_fog_data/006_task_4.csv\n",
            "16500.0\n",
            "/root/data/norm_fog_data/002_task_2.csv\n",
            "0.0\n",
            "/root/data/norm_fog_data/003_task_1.csv\n",
            "588000.0\n",
            "/root/data/norm_fog_data/007_task_1.csv\n",
            "70500.0\n",
            "/root/data/norm_fog_data/001_task_2.csv\n",
            "64500.0\n",
            "/root/data/norm_fog_data/004_task_2.csv\n",
            "60000.0\n",
            "/root/data/norm_fog_data/002_task_1.csv\n",
            "0.0\n",
            "/root/data/norm_fog_data/007_task_2.csv\n",
            "62000.0\n",
            "/root/data/norm_fog_data/010_task_2.csv\n",
            "162500.0\n",
            "/root/data/norm_fog_data/012_task_1.csv\n",
            "46500.0\n",
            "/root/data/norm_fog_data/004_task_5.csv\n",
            "4500.0\n",
            "/root/data/norm_fog_data/009_task_5.csv\n",
            "4000.0\n",
            "/root/data/norm_fog_data/008_task_8.csv\n",
            "22000.0\n",
            "/root/data/norm_fog_data/007_task_4.csv\n",
            "18000.0\n",
            "/root/data/norm_fog_data/005_task_4.csv\n",
            "0.0\n",
            "/root/data/norm_fog_data/003_task_2.csv\n",
            "237000.0\n",
            "/root/data/norm_fog_data/012_task_3.csv\n",
            "0.0\n",
            "/root/data/norm_fog_data/001_task_3.csv\n",
            "0.0\n",
            "/root/data/norm_fog_data/011_task_2.csv\n",
            "75500.0\n",
            "/root/data/norm_fog_data/003_task_3.csv\n",
            "26500.0\n",
            "/root/data/norm_fog_data/008_task_6.csv\n",
            "101500.0\n",
            "/root/data/norm_fog_data/002_task_3.csv\n",
            "0.0\n",
            "/root/data/norm_fog_data/012_task_2.csv\n",
            "0.0\n",
            "/root/data/norm_fog_data/005_task_2.csv\n",
            "0.0\n",
            "/root/data/norm_fog_data/009_task_1.csv\n",
            "6500.0\n"
          ]
        }
      ],
      "source": [
        "WINDOW_SIZE = 650\n",
        "WINDOW_STEP = 200\n",
        "\n",
        "train_X = []\n",
        "train_Y = []\n",
        "test_X = []\n",
        "test_Y = []\n",
        "\n",
        "all_X = []\n",
        "all_Y = []\n",
        "\n",
        "\n",
        "for file in data_files:\n",
        "    print(file)\n",
        "    path_parts = file.split('/')\n",
        "    patient_num = path_parts[-1].split('_')[0]\n",
        "    \n",
        "    data = np.loadtxt(file, delimiter=\",\", skiprows=1)\n",
        "    # Timestamp is in col 0, labels are in col 1\n",
        "    # Data is in cols 2 to end\n",
        "    y = data[:, 1]\n",
        "    x = data[:, 2:]\n",
        "    y[y<0] = 0\n",
        "    y[y>0] = 1\n",
        "    print(y.sum())\n",
        "    # Remove both waist and right shank columns since test data is missing there\n",
        "    #channels_to_remove = [11, 12, 13, 14, 15, 16, 17, 18, 19, 20, 21, 22]  # These are channel inds AFTER removing timestamp and labels\n",
        "    #x = np.delete(x, channels_to_remove, axis=1)\n",
        "\n",
        "\n",
        "    # Split into non-overlapping windows\n",
        "    # Don't use the last bit of data that doesn't fill a whole window\n",
        "    n_windows = y.size // WINDOW_SIZE\n",
        "    end = WINDOW_SIZE * n_windows\n",
        "    x = x[:end, :]  # (n_samples, d)\n",
        "    y = y[:end]\n",
        "\n",
        "    # Reshape into (n_windows, window_size, d)\n",
        "    #x = x.reshape(n_windows, WINDOW_SIZE, -1)\n",
        "    #y = y.reshape(n_windows, WINDOW_SIZE)\n",
        "    # Split into overlapping windows\n",
        "    x = np.lib.stride_tricks.sliding_window_view(x, WINDOW_SIZE, axis=0)[::WINDOW_STEP]\n",
        "    y = np.lib.stride_tricks.sliding_window_view(y, WINDOW_SIZE, axis=0)[::WINDOW_STEP]\n",
        "\n",
        "    x = x.transpose(0,2,1)\n",
        "    \n",
        "    if independent:\n",
        "        if patient_num in ('001', '009', '010'):\n",
        "            test_X.append(x)\n",
        "            test_Y.append(y)\n",
        "        else:\n",
        "            train_X.append(x)\n",
        "            train_Y.append(y)\n",
        "    else:\n",
        "        all_X.append(x)\n",
        "        all_Y.append(y)\n"
      ]
    },
    {
      "cell_type": "code",
      "execution_count": 4,
      "metadata": {
        "id": "xL59JW_M8HBX"
      },
      "outputs": [],
      "source": [
        "if independent:\n",
        "    train_X = np.concatenate(train_X, axis=0)\n",
        "    train_Y = np.concatenate(train_Y, axis=0)\n",
        "\n",
        "    test_X = np.concatenate(test_X, axis=0)\n",
        "    test_Y = np.concatenate(test_Y, axis=0)\n",
        "else:\n",
        "    all_X = np.concatenate(all_X, axis=0)\n",
        "    all_Y = np.concatenate(all_Y, axis=0)\n",
        "    \n",
        "    test_X = all_X[22994:]\n",
        "    train_X = all_X[:22994]\n",
        "    test_Y = all_Y[22994:]\n",
        "    train_Y = all_Y[:22994]\n",
        "\n"
      ]
    },
    {
      "cell_type": "markdown",
      "metadata": {
        "id": "XGgM1ZVy8HBY"
      },
      "source": [
        "# Example of augmentation applied"
      ]
    },
    {
      "cell_type": "code",
      "execution_count": 5,
      "metadata": {
        "colab": {
          "base_uri": "https://localhost:8080/"
        },
        "id": "yHIKbB1s8HBY",
        "outputId": "ab5a647a-6354-4c67-c719-20e4dc9c71e2"
      },
      "outputs": [
        {
          "data": {
            "text/plain": [
              "(22994, 650, 30)"
            ]
          },
          "execution_count": 5,
          "metadata": {},
          "output_type": "execute_result"
        }
      ],
      "source": [
        "train_X.shape"
      ]
    },
    {
      "cell_type": "code",
      "execution_count": 6,
      "metadata": {
        "colab": {
          "base_uri": "https://localhost:8080/"
        },
        "id": "ar-bqtNxWLi9",
        "outputId": "4db9d76c-543b-451f-b870-2dc100bf4c74"
      },
      "outputs": [
        {
          "data": {
            "text/plain": [
              "(22994, 650, 30)"
            ]
          },
          "execution_count": 6,
          "metadata": {},
          "output_type": "execute_result"
        }
      ],
      "source": [
        "train_X.shape"
      ]
    },
    {
      "cell_type": "code",
      "execution_count": 7,
      "metadata": {
        "id": "BYBIPtAj8HBZ"
      },
      "outputs": [],
      "source": [
        "y = train_X[0, :, 0]"
      ]
    },
    {
      "cell_type": "code",
      "execution_count": 8,
      "metadata": {
        "id": "X9h5L8qt8HBZ"
      },
      "outputs": [],
      "source": [
        "y_stretch = signal.resample(y, int(len(y) * 1.1))\n",
        "y_squeeze = signal.resample(y, int(len(y) * 0.9))\n",
        "y_shrink = y * 0.8\n",
        "y_scaled = y * 1.2"
      ]
    },
    {
      "cell_type": "code",
      "execution_count": 9,
      "metadata": {
        "colab": {
          "base_uri": "https://localhost:8080/",
          "height": 265
        },
        "id": "EYw8MCoY8HBa",
        "outputId": "0cebb274-7cca-409c-beb1-2058dca02328"
      },
      "outputs": [
        {
          "data": {
            "image/png": "[encoded data removed]",
            "text/plain": [
              "<Figure size 640x480 with 1 Axes>"
            ]
          },
          "metadata": {},
          "output_type": "display_data"
        }
      ],
      "source": [
        "plt.plot(y, label=\"original\", zorder=4, c='k')\n",
        "plt.plot(y_stretch, label=\"stretch\", alpha=0.4)\n",
        "plt.plot(y_squeeze, label=\"squeeze\", alpha=0.4)\n",
        "plt.plot(y_shrink, label=\"shrink\", alpha=0.4)\n",
        "plt.plot(y_scaled, label=\"amplified\", alpha=0.4)\n",
        "plt.legend()\n",
        "plt.show()"
      ]
    },
    {
      "cell_type": "code",
      "execution_count": 10,
      "metadata": {
        "id": "aKRhkcIU8HBa"
      },
      "outputs": [],
      "source": [
        "# Build dataset, dataloader, collate function"
      ]
    },
    {
      "cell_type": "code",
      "execution_count": 11,
      "metadata": {
        "id": "4G0cW0st8HBb"
      },
      "outputs": [],
      "source": [
        "class FoGDataset(torch.utils.data.Dataset):\n",
        "    def __init__(self, data_x, data_y):\n",
        "        \"\"\"\n",
        "        Parameters:\n",
        "        -----------\n",
        "        data_x: np.ndarray of shape (num_samples, window_size, num_features) which contains data features for FoG\n",
        "        data_y: np.ndarray of shape (num_samples, window_size) which contains binary labels for FoG\n",
        "        \"\"\"\n",
        "        super().__init__()\n",
        "        self.data_x = data_x\n",
        "        self.data_y = data_y\n",
        "\n",
        "    def __len__(self):\n",
        "        return self.data_x.shape[0]\n",
        "\n",
        "    def __getitem__(self, index):\n",
        "        \"\"\"Returns tuple of (data, label) at index\"\"\"\n",
        "        inputs = self.data_x[index, :, :]\n",
        "        labels = self.data_y[index, :]\n",
        "        return inputs, labels\n",
        "\n",
        "\n",
        "class FoGDataAugment:\n",
        "    \"\"\"\n",
        "    Collate function to apply random time stretch/squeeze and signal shrink/scale\n",
        "    Apply stretch/squeeze to the time dimension by resampling and truncating to out_samples\n",
        "        The lower bound of stretch must satisfy (lb * len(input)) > out_samples\n",
        "    \"\"\"\n",
        "    def __init__(self, out_samples=512, p=0.5, stretch=(0.8, 1.2), scale=(0.8, 1.2)):\n",
        "        \"\"\"\n",
        "        Parameters:\n",
        "        -----------\n",
        "        p: float between [0, 1], probability of applying each the stretch and scale transform independently\n",
        "        strech: tuple of float, upper and lower bound on time stretch factor\n",
        "        scale: tuple of float, upper and lower bound on signal scale factor\n",
        "        \"\"\"\n",
        "        self.p = p\n",
        "        self.stretch = stretch\n",
        "        self.scale = scale\n",
        "        self.out_samples = out_samples\n",
        "    \n",
        "    def _reduce_labels(self, y):\n",
        "        \"\"\"If there is a 1 in the label, then return 1\"\"\"\n",
        "        return np.any(y == 1, axis=-1).astype(int)\n",
        "\n",
        "    def _random_crop(self, inputs, labels):\n",
        "        \"\"\"Apply a random crop of the signal of length self.out_samples to both inputs and labels\"\"\"\n",
        "        n, d = inputs.shape\n",
        "        max_offset = n - self.out_samples\n",
        "        offset = np.random.choice(max_offset)\n",
        "        inds = slice(offset, offset + self.out_samples)\n",
        "        return inputs[inds, :], labels[inds]\n",
        "\n",
        "    def __call__(self, data):\n",
        "        \"\"\"\n",
        "        Parameters:\n",
        "        -----------\n",
        "        data: list of tuple of (inputs, labels) of length batch_size\n",
        "            inputs: np.ndarray, dimensions (n_samples, n_channels), signal data\n",
        "            labels: np.ndarray, dimensions (n_samples,), binary label vector for the signal data\n",
        "\n",
        "        Returns:\n",
        "        --------\n",
        "        (inputs, labels): augmented signal data, reduced labels\n",
        "        \"\"\"\n",
        "        x = []\n",
        "        y = []\n",
        "        for (inputs, labels) in data:\n",
        "            n, d = inputs.shape\n",
        "            assert (self.stretch[0] * n) >= self.out_samples, f\"input size {n} must be greater than {int(self.out_samples / self.stretch[0])} to apply augmentation\"\n",
        "\n",
        "            # Randomly apply time stretch\n",
        "            if np.random.binomial(1, self.p) != 0:\n",
        "                lb, ub = self.stretch\n",
        "                stretch = np.random.uniform(lb, ub)\n",
        "                inputs = signal.resample(inputs, int(n * stretch), axis=0)  # Resample the time (n_samples) axis\n",
        "            if np.random.binomial(1, self.p) != 0:\n",
        "                lb, ub = self.scale\n",
        "                scale = np.random.uniform(lb, ub)\n",
        "                inputs = scale * inputs  # Scale all channels equally\n",
        "            \n",
        "            # Apply random crop to self.out_size on both inputs and labels\n",
        "            inputs, labels = self._random_crop(inputs, labels)\n",
        "\n",
        "            labels = self._reduce_labels(labels)\n",
        "            x.append(inputs)\n",
        "            y.append(labels)\n",
        "        collated_inputs = torch.tensor(x, dtype=torch.float32)\n",
        "        collated_labels = torch.tensor(y, dtype=torch.float32)\n",
        "        return collated_inputs, collated_labels"
      ]
    },
    {
      "cell_type": "code",
      "execution_count": 12,
      "metadata": {
        "id": "zeseExtI8HBc"
      },
      "outputs": [],
      "source": [
        "train_dataset = FoGDataset(train_X, train_Y)\n",
        "test_dataset = FoGDataset(test_X, test_Y)\n",
        "\n",
        "augment_fn = FoGDataAugment(out_samples=512)\n",
        "test_augment = FoGDataAugment(out_samples=512, p=0)\n",
        "\n",
        "BATCH_SIZE = 64\n",
        "train_loader = torch.utils.data.DataLoader(train_dataset, batch_size=BATCH_SIZE, collate_fn=augment_fn, shuffle=True)\n",
        "test_loader = torch.utils.data.DataLoader(test_dataset, batch_size=BATCH_SIZE, collate_fn=test_augment)"
      ]
    },
    {
      "cell_type": "code",
      "execution_count": 13,
      "metadata": {
        "id": "9Vzlee9fYXc4"
      },
      "outputs": [],
      "source": [
        "del train_X, train_Y, test_X, test_Y, train_dataset, test_dataset"
      ]
    },
    {
      "cell_type": "markdown",
      "metadata": {
        "id": "wsOYqn5e8HBc"
      },
      "source": [
        "# Define model"
      ]
    },
    {
      "cell_type": "code",
      "execution_count": 14,
      "metadata": {
        "id": "bUa0MmBn8HBc"
      },
      "outputs": [],
      "source": [
        "class TransformerModel(nn.Module):\n",
        "    def __init__(self, n_layers=3, in_features=30, d_model=128, n_heads=8, dropout=0.1):\n",
        "        super().__init__()\n",
        "        self.d_model = d_model\n",
        "\n",
        "        self.input_transform = nn.Linear(in_features, d_model)\n",
        "        self.encoder_layer = nn.TransformerEncoderLayer(\n",
        "            d_model=d_model,\n",
        "            nhead=n_heads,\n",
        "            dropout=dropout,\n",
        "            dim_feedforward=4*d_model,\n",
        "            activation=\"gelu\",\n",
        "            batch_first=True,\n",
        "            norm_first=True)\n",
        "\n",
        "        self.encoder = nn.TransformerEncoder(self.encoder_layer, num_layers=n_layers)\n",
        "        self.layer_norm = nn.LayerNorm(d_model)\n",
        "\n",
        "        # We'll just make a prediction on the features of the first and last sequence point\n",
        "        self.classifier = nn.Linear(d_model * 2, 1)\n",
        "    \n",
        "    def forward(self, x):\n",
        "        x = self.input_transform(x)\n",
        "        x = self.encoder(x)\n",
        "        x = self.layer_norm(x)\n",
        "\n",
        "        x = x[:, [0, -1], :].reshape(-1, 2 * self.d_model)\n",
        "        x = self.classifier(x)\n",
        "        return x"
      ]
    },
    {
      "cell_type": "code",
      "execution_count": 15,
      "metadata": {
        "id": "9UULvV82-4uL"
      },
      "outputs": [],
      "source": [
        "class LSTMModel(nn.Module):\n",
        "    def __init__(self, input_dim, hidden_dim, layer_dim, output_dim, dropout_prob, fc_dim, bidirectional):\n",
        "        super(LSTMModel, self).__init__()\n",
        "\n",
        "        # LSTM layers\n",
        "        self.lstm = nn.LSTM(\n",
        "            input_dim, hidden_dim, layer_dim, batch_first=True, dropout=dropout_prob, bidirectional=bidirection\n",
        "        )\n",
        "\n",
        "        # Fully connected layer\n",
        "        self.fc = nn.Linear(fc_dim, output_dim)\n",
        "\n",
        "    def forward(self, x):\n",
        "\n",
        "        # We need to detach as we are doing truncated backpropagation through time (BPTT)\n",
        "        # If we don't, we'll backprop all the way to the start even after going through another batch\n",
        "        out, (hn, cn) = self.lstm(x)\n",
        "        \n",
        "        # Convert the final state to our desired output shape (batch_size, output_dim)\n",
        "        out = self.fc(out.flatten(start_dim=-2))\n",
        "\n",
        "        return out"
      ]
    },
    {
      "cell_type": "code",
      "execution_count": 16,
      "metadata": {
        "id": "hFCG70UBFqpQ"
      },
      "outputs": [],
      "source": [
        "class CNNLSTMModel(nn.Module):\n",
        "    def __init__(self, input_dim, hidden_dim, layer_dim, output_dim, dropout_prob, fc_dim, bidirection):\n",
        "        super(CNNLSTMModel, self).__init__()\n",
        "        # Convolutional layers\n",
        "        self.conv1 = nn.Conv1d(in_channels=30, out_channels=64, kernel_size=4)\n",
        "        self.mp = nn.MaxPool1d(kernel_size=2, stride=2)\n",
        "        self.conv2 = nn.Conv1d(in_channels=64,out_channels=32,kernel_size=4)\n",
        "\n",
        "\n",
        "          # LSTM layers\n",
        "        self.lstm = nn.LSTM(\n",
        "            input_dim, hidden_dim, layer_dim, batch_first=True, dropout=dropout_prob, bidirectional=bidirection\n",
        "        )\n",
        "\n",
        "        # Fully connected layer\n",
        "        self.fc1 = nn.Linear(fc_dim, 128)\n",
        "        self.fc2 = nn.Linear(128, 1)\n",
        "        self.fc3 = nn.Linear(64, output_dim)\n",
        "\n",
        "    def forward(self, x):\n",
        "       \n",
        "        out = self.conv1(x.transpose(1,2))\n",
        "        out = self.mp(out)\n",
        "        #out = self.conv2(out)\n",
        "        #out = self.mp(out)\n",
        "        \n",
        "        #out = self.conv2(out)\n",
        "        #out = self.mp(out)\n",
        "        # We need to detach as we are doing truncated backpropagation through time (BPTT)\n",
        "        # If we don't, we'll backprop all the way to the start even after going through another batch\n",
        "        out, (hn, cn) = self.lstm(out.transpose(1,2))\n",
        "        \n",
        "        # Convert the final state to our desired output shape (batch_size, output_dim)\n",
        "        out = self.fc1(out.flatten(start_dim=-2))\n",
        "        out = self.fc2(out)\n",
        "        #out = self.fc3(out)\n",
        "\n",
        "        return out"
      ]
    },
    {
      "cell_type": "code",
      "execution_count": 17,
      "metadata": {
        "id": "Zjpc6VrGvS25"
      },
      "outputs": [],
      "source": [
        "class CNNLSTM(nn.Module):\n",
        "    def __init__(self, input_features=30, dropout_prob=0.5, padding = 'valid', mp=2, pool='max', input_dim=1, hidden_dim=1, layer_dim=1, output_dim=1, fc_dim=1, bidirection=True):\n",
        "        super(CNNLSTM, self).__init__()\n",
        "\n",
        "        self.conv1 = nn.Conv1d(input_features, 32, kernel_size=32, stride=2)\n",
        "        self.mp = nn.MaxPool1d(mp, stride=mp)\n",
        "\n",
        "        self.conv2 = nn.Conv1d(32, 64, kernel_size=16)\n",
        "\n",
        "        self.conv3 = nn.Conv1d(64, 128, kernel_size=8)\n",
        "\n",
        "        #self.conv4 = nn.Conv1d(128, 1, kernel_size=4)\n",
        "        self.conv4 = nn.Conv1d(128, 1, kernel_size=4)\n",
        "        self.dropout = nn.Dropout(dropout_prob)\n",
        "\n",
        "        self.lstm = nn.LSTM(\n",
        "            input_dim, hidden_dim, layer_dim, batch_first=True, dropout=dropout_prob, bidirectional=bidirection\n",
        "        )\n",
        "\n",
        "        if bidirection:\n",
        "            fc_dim = 2*hidden_dim\n",
        "        else:\n",
        "            fc_dim = hidden_dim\n",
        "\n",
        "        # Fully connected layer\n",
        "        self.fc = nn.Linear(fc_dim, output_dim)\n",
        "\n",
        "\n",
        "    def forward(self, x):\n",
        "        x = self.conv1(x.transpose(1,2))\n",
        "        # print(x.shape)\n",
        "        x = F.relu(x)\n",
        "        x = self.mp(x)\n",
        "        #print(x.shape)\n",
        "        x = self.conv2(x)\n",
        "        # print(x.shape)\n",
        "        x = F.relu(x)\n",
        "        x = self.mp(x)\n",
        "\n",
        "        x = self.conv3(x)\n",
        "        # print(x.shape)\n",
        "        x = F.relu(x)\n",
        "        \n",
        "        x = self.conv4(x)\n",
        "        \n",
        "        \n",
        "        x = self.dropout(x)\n",
        "        #x = x.transpose(1,2)\n",
        "        x, _ = self.lstm(x)\n",
        "        \n",
        "        x = self.fc(torch.flatten(x,1))\n",
        "        return x"
      ]
    },
    {
      "cell_type": "markdown",
      "metadata": {
        "id": "BsnWUiSa8HBd"
      },
      "source": [
        "# Training"
      ]
    },
    {
      "cell_type": "code",
      "execution_count": 18,
      "metadata": {
        "id": "gJ1RAtvS8HBd"
      },
      "outputs": [],
      "source": [
        "def train(model, dataloader, optimizer, criterion, epoch, logging_steps=20, device=None):\n",
        "    if device is None:\n",
        "        device = \"cuda\" if torch.cuda.is_available() else \"cpu\"\n",
        "    model = model.to(device)\n",
        "    model.train()\n",
        "    total_loss = 0\n",
        "    correct = 0\n",
        "    loss_history = []\n",
        "    for i, (inputs, targets) in tqdm(enumerate(dataloader)):\n",
        "        optimizer.zero_grad()\n",
        "        inputs = inputs.to(device)\n",
        "        targets = targets.to(device)\n",
        "        outputs = model(inputs)\n",
        "        outputs = outputs.flatten()\n",
        "        loss = criterion(outputs, targets)\n",
        "        loss.backward()\n",
        "        optimizer.step()\n",
        "\n",
        "        total_loss += loss\n",
        "        loss_history.append(loss.item())\n",
        "        preds = torch.round(torch.sigmoid(outputs))\n",
        "        correct += torch.sum(preds == targets).detach().cpu()\n",
        "\n",
        "        # if i % logging_steps == 0:\n",
        "        #     print(f'Epoch: {epoch} ({i}/{len(dataloader)}) Training loss: {loss}')\n",
        "\n",
        "    accuracy = correct / (dataloader.batch_size * len(dataloader))\n",
        "    print(f'Epoch {epoch} done. Training loss: {total_loss/len(dataloader)} Training accuracy: {accuracy}')\n",
        "    return accuracy, total_loss/len(dataloader), loss_history"
      ]
    },
    {
      "cell_type": "code",
      "execution_count": 19,
      "metadata": {
        "id": "VhIEJffo8HBd"
      },
      "outputs": [],
      "source": [
        "def evaluate(model, dataloader, criterion, epoch, device=None):\n",
        "    if device is None:\n",
        "        device = \"cuda\" if torch.cuda.is_available() else \"cpu\"\n",
        "    model.eval()\n",
        "    total_loss = 0\n",
        "    correct = 0\n",
        "    with torch.no_grad():\n",
        "        for i, (inputs, targets) in tqdm(enumerate(dataloader)):\n",
        "            inputs = inputs.to(device)\n",
        "            targets = targets.to(device)\n",
        "            outputs = model(inputs)\n",
        "            outputs = outputs.flatten()\n",
        "            loss = criterion(outputs, targets)\n",
        "\n",
        "            total_loss += loss\n",
        "            preds = torch.round(torch.sigmoid(outputs))\n",
        "            \n",
        "            correct += torch.sum(preds == targets).detach().cpu()\n",
        "\n",
        "        accuracy = correct / (dataloader.batch_size * len(dataloader))\n",
        "        print(f'Epoch {epoch} done. Eval loss: {total_loss/len(dataloader)} Eval accuracy: {accuracy}')\n",
        "    return accuracy, total_loss/len(dataloader)"
      ]
    },
    {
      "cell_type": "code",
      "execution_count": 20,
      "metadata": {},
      "outputs": [],
      "source": [
        "from sklearn.metrics import confusion_matrix, ConfusionMatrixDisplay\n",
        "from sklearn import metrics\n",
        "import matplotlib.pyplot as plt\n",
        "\n",
        "def test_model(model, dataloader, device=None):\n",
        "    if device is None:\n",
        "        device = \"cuda\" if torch.cuda.is_available() else \"cpu\"\n",
        "    model.eval()\n",
        "\n",
        "    accuracies = []\n",
        "    macro_averaged_precisions = []\n",
        "    micro_averaged_precisions = []\n",
        "    macro_averaged_recalls = []\n",
        "    micro_averaged_recalls = []\n",
        "    macro_averaged_f1s = []\n",
        "    micro_averaged_f1s = []\n",
        "    cms = []\n",
        "\n",
        "    with torch.no_grad():\n",
        "        for i, (inputs, targets) in tqdm(enumerate(dataloader)):\n",
        "            inputs = inputs.to(device)\n",
        "            targets = targets.to(device)\n",
        "            outputs = model(inputs).flatten()\n",
        "            out = torch.round(torch.sigmoid(outputs))\n",
        "            y = targets\n",
        "            # y = y.mean(axis=1)\n",
        "            # y = np.round_(y)\n",
        "            \n",
        "            y = torch.tensor(y, dtype=torch.int64)\n",
        "            accuracy = metrics.accuracy_score(y, out)\n",
        "            #print('Acc')\n",
        "            macro_averaged_precision = metrics.precision_score(y, out, average = 'macro')\n",
        "            micro_averaged_precision = metrics.precision_score(y, out, average = 'micro')\n",
        "            #print('Precision')\n",
        "            macro_averaged_recall = metrics.recall_score(y, out, average = 'macro')\n",
        "            micro_averaged_recall = metrics.recall_score(y, out, average = 'micro')\n",
        "            #print('Recall')\n",
        "            macro_averaged_f1 = metrics.f1_score(y, out, average = 'macro')\n",
        "            micro_averaged_f1 = metrics.f1_score(y, out, average = 'micro')\n",
        "            # Sitting, standing, walking, upstairs\n",
        "            cm = confusion_matrix(y, out, labels=[0,1])\n",
        "\n",
        "            accuracies.append(accuracy)\n",
        "            macro_averaged_precisions.append(macro_averaged_precision)\n",
        "            micro_averaged_precisions.append(micro_averaged_precision)\n",
        "            macro_averaged_recalls.append(macro_averaged_recall)\n",
        "            micro_averaged_recalls.append(micro_averaged_recall)\n",
        "            macro_averaged_f1s.append( macro_averaged_f1)\n",
        "            micro_averaged_f1s.append(micro_averaged_f1)\n",
        "            cms.append(cm)\n",
        "\n",
        "    accuracy = np.mean(np.array(accuracies), axis=0)\n",
        "    macro_averaged_precision = np.mean(np.array(macro_averaged_precisions))\n",
        "    micro_averaged_precision = np.mean(np.array(micro_averaged_precisions))\n",
        "    macro_averaged_recall = np.mean(np.array(macro_averaged_recalls))\n",
        "    micro_averaged_recall = np.mean(np.array(micro_averaged_recalls))\n",
        "    macro_averaged_f1 = np.mean(np.array(macro_averaged_f1s))\n",
        "    micro_averaged_f1 = np.mean(np.array(micro_averaged_f1s))\n",
        "    cm = np.mean(np.array(cms), axis=0)\n",
        "\n",
        "    return accuracy, macro_averaged_precision, micro_averaged_precision, macro_averaged_recall, micro_averaged_recall, macro_averaged_f1, micro_averaged_f1, cm\n"
      ]
    },
    {
      "cell_type": "code",
      "execution_count": 21,
      "metadata": {
        "id": "pcoq8uOp8HBd"
      },
      "outputs": [
        {
          "name": "stderr",
          "output_type": "stream",
          "text": [
            "/usr/local/lib/python3.8/dist-packages/torch/nn/modules/rnn.py:67: UserWarning: dropout option adds dropout after all but last recurrent layer, so non-zero dropout expects num_layers greater than 1, but got dropout=0.51 and num_layers=1\n",
            "  warnings.warn(\"dropout option adds dropout after all but last \"\n",
            "0it [00:00, ?it/s]/tmp/ipykernel_193106/2142566481.py:88: UserWarning: Creating a tensor from a list of numpy.ndarrays is extremely slow. Please consider converting the list to a single numpy.ndarray with numpy.array() before converting to a tensor. (Triggered internally at ../torch/csrc/utils/tensor_new.cpp:230.)\n",
            "  collated_inputs = torch.tensor(x, dtype=torch.float32)\n",
            "360it [00:26, 13.39it/s]\n"
          ]
        },
        {
          "name": "stdout",
          "output_type": "stream",
          "text": [
            "Epoch 0 done. Training loss: 0.6043574810028076 Training accuracy: 0.6814669966697693\n"
          ]
        },
        {
          "name": "stderr",
          "output_type": "stream",
          "text": [
            "123it [00:07, 17.04it/s]\n"
          ]
        },
        {
          "name": "stdout",
          "output_type": "stream",
          "text": [
            "Epoch 0 done. Eval loss: 0.639186680316925 Eval accuracy: 0.6596798896789551\n"
          ]
        },
        {
          "name": "stderr",
          "output_type": "stream",
          "text": [
            "360it [00:25, 13.86it/s]\n"
          ]
        },
        {
          "name": "stdout",
          "output_type": "stream",
          "text": [
            "Epoch 1 done. Training loss: 0.45210546255111694 Training accuracy: 0.8151909708976746\n"
          ]
        },
        {
          "name": "stderr",
          "output_type": "stream",
          "text": [
            "123it [00:07, 16.99it/s]\n"
          ]
        },
        {
          "name": "stdout",
          "output_type": "stream",
          "text": [
            "Epoch 1 done. Eval loss: 0.5688600540161133 Eval accuracy: 0.703125\n"
          ]
        },
        {
          "name": "stderr",
          "output_type": "stream",
          "text": [
            "360it [00:25, 13.99it/s]\n"
          ]
        },
        {
          "name": "stdout",
          "output_type": "stream",
          "text": [
            "Epoch 2 done. Training loss: 0.39022505283355713 Training accuracy: 0.8404079675674438\n"
          ]
        },
        {
          "name": "stderr",
          "output_type": "stream",
          "text": [
            "123it [00:07, 16.76it/s]\n"
          ]
        },
        {
          "name": "stdout",
          "output_type": "stream",
          "text": [
            "Epoch 2 done. Eval loss: 0.4881427586078644 Eval accuracy: 0.763973593711853\n"
          ]
        },
        {
          "name": "stderr",
          "output_type": "stream",
          "text": [
            "360it [00:25, 13.99it/s]\n"
          ]
        },
        {
          "name": "stdout",
          "output_type": "stream",
          "text": [
            "Epoch 3 done. Training loss: 0.3634347915649414 Training accuracy: 0.8521267175674438\n"
          ]
        },
        {
          "name": "stderr",
          "output_type": "stream",
          "text": [
            "123it [00:07, 16.90it/s]\n"
          ]
        },
        {
          "name": "stdout",
          "output_type": "stream",
          "text": [
            "Epoch 3 done. Eval loss: 0.45885252952575684 Eval accuracy: 0.7802337408065796\n"
          ]
        },
        {
          "name": "stderr",
          "output_type": "stream",
          "text": [
            "360it [00:26, 13.79it/s]\n"
          ]
        },
        {
          "name": "stdout",
          "output_type": "stream",
          "text": [
            "Epoch 4 done. Training loss: 0.3532513976097107 Training accuracy: 0.8544704914093018\n"
          ]
        },
        {
          "name": "stderr",
          "output_type": "stream",
          "text": [
            "123it [00:07, 16.82it/s]\n"
          ]
        },
        {
          "name": "stdout",
          "output_type": "stream",
          "text": [
            "Epoch 4 done. Eval loss: 0.5539607405662537 Eval accuracy: 0.7470782399177551\n"
          ]
        },
        {
          "name": "stderr",
          "output_type": "stream",
          "text": [
            "360it [00:28, 12.80it/s]\n"
          ]
        },
        {
          "name": "stdout",
          "output_type": "stream",
          "text": [
            "Epoch 5 done. Training loss: 0.3534334897994995 Training accuracy: 0.85546875\n"
          ]
        },
        {
          "name": "stderr",
          "output_type": "stream",
          "text": [
            "123it [00:07, 16.83it/s]\n"
          ]
        },
        {
          "name": "stdout",
          "output_type": "stream",
          "text": [
            "Epoch 5 done. Eval loss: 0.5377287864685059 Eval accuracy: 0.7452998161315918\n"
          ]
        },
        {
          "name": "stderr",
          "output_type": "stream",
          "text": [
            "360it [00:26, 13.77it/s]\n"
          ]
        },
        {
          "name": "stdout",
          "output_type": "stream",
          "text": [
            "Epoch 6 done. Training loss: 0.3421323597431183 Training accuracy: 0.8623263835906982\n"
          ]
        },
        {
          "name": "stderr",
          "output_type": "stream",
          "text": [
            "123it [00:07, 16.72it/s]\n"
          ]
        },
        {
          "name": "stdout",
          "output_type": "stream",
          "text": [
            "Epoch 6 done. Eval loss: 0.5107426047325134 Eval accuracy: 0.7554624080657959\n"
          ]
        },
        {
          "name": "stderr",
          "output_type": "stream",
          "text": [
            "360it [00:26, 13.80it/s]\n"
          ]
        },
        {
          "name": "stdout",
          "output_type": "stream",
          "text": [
            "Epoch 7 done. Training loss: 0.3398768901824951 Training accuracy: 0.862109363079071\n"
          ]
        },
        {
          "name": "stderr",
          "output_type": "stream",
          "text": [
            "123it [00:07, 17.06it/s]\n"
          ]
        },
        {
          "name": "stdout",
          "output_type": "stream",
          "text": [
            "Epoch 7 done. Eval loss: 0.45901617407798767 Eval accuracy: 0.7939532399177551\n"
          ]
        },
        {
          "name": "stderr",
          "output_type": "stream",
          "text": [
            "360it [00:26, 13.65it/s]\n"
          ]
        },
        {
          "name": "stdout",
          "output_type": "stream",
          "text": [
            "Epoch 8 done. Training loss: 0.33423560857772827 Training accuracy: 0.8634548783302307\n"
          ]
        },
        {
          "name": "stderr",
          "output_type": "stream",
          "text": [
            "123it [00:07, 16.71it/s]\n"
          ]
        },
        {
          "name": "stdout",
          "output_type": "stream",
          "text": [
            "Epoch 8 done. Eval loss: 0.5237051248550415 Eval accuracy: 0.767276406288147\n"
          ]
        },
        {
          "name": "stderr",
          "output_type": "stream",
          "text": [
            "118it [00:08, 13.44it/s]"
          ]
        }
      ],
      "source": [
        "EPOCHS = 15\n",
        "\n",
        "input_dim = 11\n",
        "bidirection = False\n",
        "hidden_dim = 4 \n",
        "layer_dim = 1\n",
        "output_dim = 1 \n",
        "dropout_prob = 0.51\n",
        "fc_dim = 8\n",
        "lr=0.002\n",
        "padding= \"same\"\n",
        "pooling = \"max\"\n",
        "pool_size=3\n",
        "weight_decay=0.003\n",
        "optim_type = \"Adam\"\n",
        "\n",
        "runs = 5\n",
        "\n",
        "eval_accuracies = []\n",
        "eval_losses = []\n",
        "eval_hist_accuracies = []\n",
        "eval_hist_losses = []\n",
        "train_hist_accuracies = []\n",
        "train_hist_losses = []\n",
        "# accuracies = []\n",
        "# macro_averaged_precisions = []\n",
        "# micro_averaged_precisions = []\n",
        "# macro_averaged_recalls = []\n",
        "# micro_averaged_recalls = []\n",
        "# macro_averaged_f1s = []\n",
        "# micro_averaged_f1s = []\n",
        "# cms = []\n",
        "\n",
        "for i in np.arange(runs):\n",
        "\n",
        "    model = CNNLSTM(input_features=30, dropout_prob=dropout_prob, padding=padding, mp=pool_size, pool=pooling, input_dim=input_dim, hidden_dim=hidden_dim, layer_dim=layer_dim, output_dim=output_dim, fc_dim=fc_dim, bidirection=bidirection)\n",
        "\n",
        "    optimizer = getattr(optim, optim_type)(model.parameters(), lr= lr, weight_decay=weight_decay)\n",
        "\n",
        "    criterion = nn.BCEWithLogitsLoss()\n",
        "    \n",
        "\n",
        "    loss_history = []\n",
        "    train_acc_history = []\n",
        "    eval_acc_history = []\n",
        "    eval_loss_history = []\n",
        "    for epoch in range(EPOCHS):\n",
        "        train_acc, train_loss, history = train(model, train_loader, optimizer, criterion, epoch)\n",
        "        eval_acc, eval_loss = evaluate(model, test_loader, criterion, epoch)\n",
        "        \n",
        "        loss_history.extend(history)\n",
        "        eval_loss_history.append(eval_loss)\n",
        "        train_acc_history.append(train_acc)\n",
        "        eval_acc_history.append(eval_acc)\n",
        "\n",
        "    eval_accuracies.append(eval_acc_history[-1])\n",
        "    eval_losses.append(eval_loss_history[-1])\n",
        "    eval_hist_accuracies.append(eval_acc_history)\n",
        "    eval_hist_losses.append(eval_loss_history)\n",
        "    train_hist_accuracies.append(train_acc_history)\n",
        "    train_hist_losses.append(loss_history)\n",
        "\n",
        "    # accuracy, macro_averaged_precision, micro_averaged_precision, macro_averaged_recall, micro_averaged_recall, macro_averaged_f1, micro_averaged_f1, cm = test_model(model, test_loader)\n",
        "\n",
        "\n",
        "    # accuracies.append(accuracy)\n",
        "    # macro_averaged_precisions.append(macro_averaged_precision)\n",
        "    # micro_averaged_precisions.append(micro_averaged_precision)\n",
        "    # macro_averaged_recalls.append(macro_averaged_recall)\n",
        "    # micro_averaged_recalls.append(micro_averaged_recall)\n",
        "    # macro_averaged_f1s.append( macro_averaged_f1)\n",
        "    # micro_averaged_f1s.append(micro_averaged_f1)\n",
        "    # cms.append(cm)\n",
        "    "
      ]
    },
    {
      "cell_type": "code",
      "execution_count": null,
      "metadata": {},
      "outputs": [],
      "source": [
        "# accuracy = np.mean(np.array(accuracies), axis=0)\n",
        "# macro_averaged_precision = np.mean(np.array(macro_averaged_precisions))\n",
        "# micro_averaged_precision = np.mean(np.array(micro_averaged_precisions))\n",
        "# macro_averaged_recall = np.mean(np.array(macro_averaged_recalls))\n",
        "# micro_averaged_recall = np.mean(np.array(micro_averaged_recalls))\n",
        "# macro_averaged_f1 = np.mean(np.array(macro_averaged_f1s))\n",
        "# micro_averaged_f1 = np.mean(np.array(micro_averaged_f1s))\n",
        "# cm = np.mean(np.array(cms), axis=0)\n",
        "\n",
        "# eval_accuracy = np.mean(np.array(eval_accuracies))\n",
        "# eval_loss = np.mean(np.array(eval_losses))\n",
        "\n",
        "# d = {\"macro_averaged_precision\": macro_averaged_precision, \"micro_averaged_precision\": micro_averaged_precision, \n",
        "#      \"macro_averaged_recall\": macro_averaged_recall, \"micro_averaged_recall\": micro_averaged_recall,\n",
        "#      \"macro_averaged_f1\": macro_averaged_f1, \"micro_averaged_f1\": micro_averaged_f1,\n",
        "#      \"cm\": [cm], \"accuracy\": accuracy, \"eval_accuracy\": eval_accuracy, \"eval_loss\": eval_loss}\n",
        "# df = pd.DataFrame(d)\n",
        "# if independent:\n",
        "#      df.to_csv(\"Model_Evaluation_Independent.csv\")\n",
        "# else:\n",
        "#      df.to_csv(\"Model_Evaluation_Dependent.csv\")"
      ]
    },
    {
      "cell_type": "code",
      "execution_count": null,
      "metadata": {},
      "outputs": [
        {
          "name": "stderr",
          "output_type": "stream",
          "text": [
            "/home/ob1/.local/lib/python3.10/site-packages/torch/nn/modules/rnn.py:62: UserWarning: dropout option adds dropout after all but last recurrent layer, so non-zero dropout expects num_layers greater than 1, but got dropout=0.5 and num_layers=1\n",
            "  warnings.warn(\"dropout option adds dropout after all but last \"\n"
          ]
        },
        {
          "data": {
            "text/plain": [
              "=================================================================\n",
              "Layer (type:depth-idx)                   Param #\n",
              "=================================================================\n",
              "CNNLSTM                                  --\n",
              "├─Conv1d: 1-1                            30,752\n",
              "├─MaxPool1d: 1-2                         --\n",
              "├─Conv1d: 1-3                            32,832\n",
              "├─Conv1d: 1-4                            65,664\n",
              "├─Conv1d: 1-5                            513\n",
              "├─Dropout: 1-6                           --\n",
              "├─LSTM: 1-7                              32\n",
              "├─Linear: 1-8                            3\n",
              "=================================================================\n",
              "Total params: 129,796\n",
              "Trainable params: 129,796\n",
              "Non-trainable params: 0\n",
              "================================================================="
            ]
          },
          "execution_count": 25,
          "metadata": {},
          "output_type": "execute_result"
        }
      ],
      "source": [
        "import torchinfo\n",
        "model = CNNLSTM()\n",
        "torchinfo.summary(model)"
      ]
    },
    {
      "cell_type": "code",
      "execution_count": null,
      "metadata": {
        "id": "iKyYbLHz8HBe"
      },
      "outputs": [],
      "source": [
        "import matplotlib.pyplot as plt"
      ]
    },
    {
      "cell_type": "code",
      "execution_count": null,
      "metadata": {},
      "outputs": [],
      "source": [
        "avg_eval_acc = np.mean(np.array(eval_hist_accuracies), axis=0)\n",
        "avg_eval_loss = np.mean(np.array(eval_hist_losses), axis=0)\n",
        "avg_train_acc = np.mean(np.array(train_hist_accuracies), axis=0)\n",
        "avg_train_loss = np.mean(np.array(train_hist_losses), axis=0)"
      ]
    },
    {
      "cell_type": "code",
      "execution_count": null,
      "metadata": {
        "colab": {
          "base_uri": "https://localhost:8080/",
          "height": 265
        },
        "id": "G-k1jzfv8HBe",
        "outputId": "2b97254a-1ee3-45c0-9d84-32f0c18af1b4"
      },
      "outputs": [
        {
          "data": {
            "image/png": "[encoded data removed]",
            "text/plain": [
              "<Figure size 432x288 with 2 Axes>"
            ]
          },
          "metadata": {
            "needs_background": "light"
          },
          "output_type": "display_data"
        }
      ],
      "source": [
        "xs = np.arange(len(train_loader), len(loss_history) + len(train_loader), len(train_loader))\n",
        "\n",
        "\n",
        "\n",
        "plt.plot(avg_train_loss, label=\"train loss\")\n",
        "plt.plot(avg_eval_loss, label=\"test loss\")\n",
        "plt.ylabel(\"BCE loss\")\n",
        "plt.legend()\n",
        "plt.twinx()\n",
        "plt.plot(xs, avg_train_acc, label=\"train accuracy\", c=\"C1\")\n",
        "plt.plot(xs, avg_eval_acc, label=\"test accuracy\", c=\"C1\")\n",
        "plt.ylabel(\"accuracy\")\n",
        "plt.legend()\n",
        "plt.show()"
      ]
    },
    {
      "cell_type": "code",
      "execution_count": null,
      "metadata": {
        "colab": {
          "base_uri": "https://localhost:8080/",
          "height": 265
        },
        "id": "gDyyTTlN8HBe",
        "outputId": "9cc70792-40a2-46fb-84c1-1b15613a42fd"
      },
      "outputs": [
        {
          "data": {
            "image/png": "[encoded data removed]",
            "text/plain": [
              "<Figure size 432x288 with 2 Axes>"
            ]
          },
          "metadata": {
            "needs_background": "light"
          },
          "output_type": "display_data"
        }
      ],
      "source": [
        "eval_loss_history = [x.cpu() for x in eval_loss_history]\n",
        "plt.plot(eval_loss_history, label=\"loss\")\n",
        "plt.legend()\n",
        "plt.ylabel(\"BCE loss\")\n",
        "plt.twinx()\n",
        "plt.plot(eval_acc_history, c=\"C1\", label=\"accuracy\")\n",
        "plt.ylabel(\"accuracy\")\n",
        "plt.legend()\n",
        "plt.show()"
      ]
    }
  ],
  "metadata": {
    "accelerator": "GPU",
    "colab": {
      "provenance": []
    },
    "gpuClass": "standard",
    "kernelspec": {
      "display_name": "Python 3.8.10 64-bit",
      "language": "python",
      "name": "python3"
    },
    "language_info": {
      "codemirror_mode": {
        "name": "ipython",
        "version": 3
      },
      "file_extension": ".py",
      "mimetype": "text/x-python",
      "name": "python",
      "nbconvert_exporter": "python",
      "pygments_lexer": "ipython3",
      "version": "3.8.10"
    },
    "orig_nbformat": 4,
    "vscode": {
      "interpreter": {
        "hash": "916dbcbb3f70747c44a77c7bcd40155683ae19c65e1c03b4aa3499c5328201f1"
      }
    }
  },
  "nbformat": 4,
  "nbformat_minor": 0
}

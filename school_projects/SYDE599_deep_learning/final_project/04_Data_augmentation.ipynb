{
  "cells": [
    {
      "cell_type": "code",
      "execution_count": 1,
      "metadata": {
        "id": "iw3SN6Yy8HBQ"
      },
      "outputs": [],
      "source": [
        "import glob\n",
        "import torch\n",
        "import torch.nn as nn\n",
        "import torch.nn.functional as F\n",
        "import torch.optim as optim\n",
        "import torchvision\n",
        "import numpy as np\n",
        "import pandas as pd\n",
        "from torch.utils.data import Dataset\n",
        "from tqdm import tqdm\n",
        "from matplotlib import pyplot as plt\n",
        "from scipy import signal"
      ]
    },
    {
      "cell_type": "code",
      "source": [
        "from google.colab import drive\n",
        "drive.mount('/content/drive')"
      ],
      "metadata": {
        "colab": {
          "base_uri": "https://localhost:8080/"
        },
        "id": "libUhYK68Q-l",
        "outputId": "180cf117-8133-4a5f-9661-e63785b0d8e9"
      },
      "execution_count": 2,
      "outputs": [
        {
          "output_type": "stream",
          "name": "stdout",
          "text": [
            "Mounted at /content/drive\n"
          ]
        }
      ]
    },
    {
      "cell_type": "code",
      "execution_count": 3,
      "metadata": {
        "colab": {
          "base_uri": "https://localhost:8080/"
        },
        "id": "I4mWvazJ8HBU",
        "outputId": "4d12e806-4356-4921-ff54-53425886d476"
      },
      "outputs": [
        {
          "output_type": "execute_result",
          "data": {
            "text/plain": [
              "56"
            ]
          },
          "metadata": {},
          "execution_count": 3
        }
      ],
      "source": [
        "# data_dir = \"/Users/trevoryu/Code/syde_599/data/norm_fog_data/\"\n",
        "data_dir = 'drive/MyDrive/norm_fog_data/'\n",
        "\n",
        "data_files = glob.glob(data_dir + \"*.csv\")\n",
        "len(data_files)"
      ]
    },
    {
      "cell_type": "markdown",
      "metadata": {
        "id": "qIHQM1ol8HBV"
      },
      "source": [
        "# Load the data"
      ]
    },
    {
      "cell_type": "code",
      "execution_count": 4,
      "metadata": {
        "colab": {
          "base_uri": "https://localhost:8080/"
        },
        "id": "fflwLKvN8HBW",
        "outputId": "ae827ce1-e30a-43cd-d97e-b1dc32ca2a29"
      },
      "outputs": [
        {
          "output_type": "stream",
          "name": "stdout",
          "text": [
            "drive/MyDrive/norm_fog_data/001_task_1.csv\n",
            "65500.0\n",
            "drive/MyDrive/norm_fog_data/002_task_2.csv\n",
            "0.0\n",
            "drive/MyDrive/norm_fog_data/003_task_1.csv\n",
            "588000.0\n",
            "drive/MyDrive/norm_fog_data/001_task_2.csv\n",
            "64500.0\n",
            "drive/MyDrive/norm_fog_data/002_task_3.csv\n",
            "0.0\n",
            "drive/MyDrive/norm_fog_data/002_task_1.csv\n",
            "0.0\n",
            "drive/MyDrive/norm_fog_data/001_task_3.csv\n",
            "0.0\n",
            "drive/MyDrive/norm_fog_data/002_task_4.csv\n",
            "1500.0\n",
            "drive/MyDrive/norm_fog_data/001_task_4.csv\n",
            "0.0\n",
            "drive/MyDrive/norm_fog_data/003_task_4.csv\n",
            "26500.0\n",
            "drive/MyDrive/norm_fog_data/004_task_1.csv\n",
            "0.0\n",
            "drive/MyDrive/norm_fog_data/003_task_2.csv\n",
            "237000.0\n",
            "drive/MyDrive/norm_fog_data/003_task_3.csv\n",
            "26500.0\n",
            "drive/MyDrive/norm_fog_data/004_task_2.csv\n",
            "60000.0\n",
            "drive/MyDrive/norm_fog_data/006_task_4.csv\n",
            "16500.0\n",
            "drive/MyDrive/norm_fog_data/005_task_4.csv\n",
            "0.0\n",
            "drive/MyDrive/norm_fog_data/004_task_5.csv\n",
            "4500.0\n",
            "drive/MyDrive/norm_fog_data/004_task_3.csv\n",
            "0.0\n",
            "drive/MyDrive/norm_fog_data/006_task_1.csv\n",
            "67000.0\n",
            "drive/MyDrive/norm_fog_data/005_task_2.csv\n",
            "0.0\n",
            "drive/MyDrive/norm_fog_data/006_task_3.csv\n",
            "17000.0\n",
            "drive/MyDrive/norm_fog_data/004_task_4.csv\n",
            "2500.0\n",
            "drive/MyDrive/norm_fog_data/005_task_1.csv\n",
            "0.0\n",
            "drive/MyDrive/norm_fog_data/007_task_2.csv\n",
            "62000.0\n",
            "drive/MyDrive/norm_fog_data/006_task_2.csv\n",
            "77500.0\n",
            "drive/MyDrive/norm_fog_data/007_task_1.csv\n",
            "70500.0\n",
            "drive/MyDrive/norm_fog_data/005_task_3.csv\n",
            "0.0\n",
            "drive/MyDrive/norm_fog_data/008_task_1.csv\n",
            "102500.0\n",
            "drive/MyDrive/norm_fog_data/008_task_6.csv\n",
            "101500.0\n",
            "drive/MyDrive/norm_fog_data/009_task_1.csv\n",
            "6500.0\n",
            "drive/MyDrive/norm_fog_data/007_task_4.csv\n",
            "18000.0\n",
            "drive/MyDrive/norm_fog_data/008_task_7.csv\n",
            "92000.0\n",
            "drive/MyDrive/norm_fog_data/008_task_8.csv\n",
            "22000.0\n",
            "drive/MyDrive/norm_fog_data/008_task_3.csv\n",
            "11000.0\n",
            "drive/MyDrive/norm_fog_data/008_task_4.csv\n",
            "2500.0\n",
            "drive/MyDrive/norm_fog_data/008_task_9.csv\n",
            "10000.0\n",
            "drive/MyDrive/norm_fog_data/008_task_5.csv\n",
            "2000.0\n",
            "drive/MyDrive/norm_fog_data/007_task_3.csv\n",
            "16000.0\n",
            "drive/MyDrive/norm_fog_data/008_task_2.csv\n",
            "92500.0\n",
            "drive/MyDrive/norm_fog_data/009_task_2.csv\n",
            "14000.0\n",
            "drive/MyDrive/norm_fog_data/009_task_4.csv\n",
            "4500.0\n",
            "drive/MyDrive/norm_fog_data/010_task_2.csv\n",
            "162500.0\n",
            "drive/MyDrive/norm_fog_data/009_task_3.csv\n",
            "25500.0\n",
            "drive/MyDrive/norm_fog_data/009_task_5.csv\n",
            "4000.0\n",
            "drive/MyDrive/norm_fog_data/009_task_6.csv\n",
            "4000.0\n",
            "drive/MyDrive/norm_fog_data/010_task_1.csv\n",
            "195500.0\n",
            "drive/MyDrive/norm_fog_data/010_task_3.csv\n",
            "15000.0\n",
            "drive/MyDrive/norm_fog_data/010_task_4.csv\n",
            "10000.0\n",
            "drive/MyDrive/norm_fog_data/011_task_2.csv\n",
            "75500.0\n",
            "drive/MyDrive/norm_fog_data/011_task_1.csv\n",
            "127500.0\n",
            "drive/MyDrive/norm_fog_data/011_task_3.csv\n",
            "20500.0\n",
            "drive/MyDrive/norm_fog_data/011_task_4.csv\n",
            "13000.0\n",
            "drive/MyDrive/norm_fog_data/012_task_4.csv\n",
            "76500.0\n",
            "drive/MyDrive/norm_fog_data/012_task_3.csv\n",
            "0.0\n",
            "drive/MyDrive/norm_fog_data/012_task_1.csv\n",
            "46500.0\n",
            "drive/MyDrive/norm_fog_data/012_task_2.csv\n",
            "0.0\n"
          ]
        }
      ],
      "source": [
        "WINDOW_SIZE = 650\n",
        "WINDOW_STEP = 200\n",
        "\n",
        "train_X = []\n",
        "train_Y = []\n",
        "test_X = []\n",
        "test_Y = []\n",
        "\n",
        "for file in data_files:\n",
        "    print(file)\n",
        "    path_parts = file.split('/')\n",
        "    patient_num = path_parts[-1].split('_')[0]\n",
        "    \n",
        "    data = np.loadtxt(file, delimiter=\",\", skiprows=1)\n",
        "    # Timestamp is in col 0, labels are in col 1\n",
        "    # Data is in cols 2 to end\n",
        "    y = data[:, 1]\n",
        "    x = data[:, 2:]\n",
        "    y[y<0] = 0\n",
        "    y[y>0] = 1\n",
        "    print(y.sum())\n",
        "    # Remove both waist and right shank columns since test data is missing there\n",
        "    #channels_to_remove = [11, 12, 13, 14, 15, 16, 17, 18, 19, 20, 21, 22]  # These are channel inds AFTER removing timestamp and labels\n",
        "    #x = np.delete(x, channels_to_remove, axis=1)\n",
        "\n",
        "\n",
        "    # Split into non-overlapping windows\n",
        "    # Don't use the last bit of data that doesn't fill a whole window\n",
        "    n_windows = y.size // WINDOW_SIZE\n",
        "    end = WINDOW_SIZE * n_windows\n",
        "    x = x[:end, :]  # (n_samples, d)\n",
        "    y = y[:end]\n",
        "\n",
        "    # Reshape into (n_windows, window_size, d)\n",
        "    #x = x.reshape(n_windows, WINDOW_SIZE, -1)\n",
        "    #y = y.reshape(n_windows, WINDOW_SIZE)\n",
        "    # Split into overlapping windows\n",
        "    x = np.lib.stride_tricks.sliding_window_view(x, WINDOW_SIZE, axis=0)[::WINDOW_STEP]\n",
        "    y = np.lib.stride_tricks.sliding_window_view(y, WINDOW_SIZE, axis=0)[::WINDOW_STEP]\n",
        "\n",
        "    x = x.transpose(0,2,1)\n",
        "    \n",
        "    \n",
        "    if patient_num in ('001', '009', '010'):\n",
        "        test_X.append(x)\n",
        "        test_Y.append(y)\n",
        "    else:\n",
        "        train_X.append(x)\n",
        "        train_Y.append(y)"
      ]
    },
    {
      "cell_type": "code",
      "execution_count": 5,
      "metadata": {
        "id": "xL59JW_M8HBX"
      },
      "outputs": [],
      "source": [
        "train_X = np.concatenate(train_X, axis=0)\n",
        "train_Y = np.concatenate(train_Y, axis=0)\n",
        "\n",
        "test_X = np.concatenate(test_X, axis=0)\n",
        "test_Y = np.concatenate(test_Y, axis=0)"
      ]
    },
    {
      "cell_type": "markdown",
      "metadata": {
        "id": "XGgM1ZVy8HBY"
      },
      "source": [
        "# Example of augmentation applied"
      ]
    },
    {
      "cell_type": "code",
      "execution_count": null,
      "metadata": {
        "colab": {
          "base_uri": "https://localhost:8080/"
        },
        "id": "yHIKbB1s8HBY",
        "outputId": "91351186-e544-43d1-e5ba-476d4f2f1d0b"
      },
      "outputs": [
        {
          "output_type": "execute_result",
          "data": {
            "text/plain": [
              "(8192, 650, 18)"
            ]
          },
          "metadata": {},
          "execution_count": 8
        }
      ],
      "source": [
        "train_X.shape"
      ]
    },
    {
      "cell_type": "code",
      "source": [
        "train_X.shape"
      ],
      "metadata": {
        "colab": {
          "base_uri": "https://localhost:8080/"
        },
        "id": "ar-bqtNxWLi9",
        "outputId": "6f42e31b-842c-4179-934d-6bda54b688dc"
      },
      "execution_count": null,
      "outputs": [
        {
          "output_type": "execute_result",
          "data": {
            "text/plain": [
              "(26506, 650, 30)"
            ]
          },
          "metadata": {},
          "execution_count": 6
        }
      ]
    },
    {
      "cell_type": "code",
      "execution_count": null,
      "metadata": {
        "id": "BYBIPtAj8HBZ"
      },
      "outputs": [],
      "source": [
        "y = train_X[0, :, 0]"
      ]
    },
    {
      "cell_type": "code",
      "execution_count": null,
      "metadata": {
        "id": "X9h5L8qt8HBZ"
      },
      "outputs": [],
      "source": [
        "y_stretch = signal.resample(y, int(len(y) * 1.1))\n",
        "y_squeeze = signal.resample(y, int(len(y) * 0.9))\n",
        "y_shrink = y * 0.8\n",
        "y_scaled = y * 1.2"
      ]
    },
    {
      "cell_type": "code",
      "execution_count": null,
      "metadata": {
        "colab": {
          "base_uri": "https://localhost:8080/",
          "height": 265
        },
        "id": "EYw8MCoY8HBa",
        "outputId": "33033ffa-29b2-4521-f8b6-4be8e008f4ea"
      },
      "outputs": [
        {
          "output_type": "display_data",
          "data": {
            "text/plain": [
              "<Figure size 432x288 with 1 Axes>"
            ],
            "image/png": "[encoded data removed]"
          },
          "metadata": {
            "needs_background": "light"
          }
        }
      ],
      "source": [
        "plt.plot(y, label=\"original\", zorder=4, c='k')\n",
        "plt.plot(y_stretch, label=\"stretch\", alpha=0.4)\n",
        "plt.plot(y_squeeze, label=\"squeeze\", alpha=0.4)\n",
        "plt.plot(y_shrink, label=\"shrink\", alpha=0.4)\n",
        "plt.plot(y_scaled, label=\"amplified\", alpha=0.4)\n",
        "plt.legend()\n",
        "plt.show()"
      ]
    },
    {
      "cell_type": "code",
      "execution_count": null,
      "metadata": {
        "id": "aKRhkcIU8HBa"
      },
      "outputs": [],
      "source": [
        "# Build dataset, dataloader, collate function"
      ]
    },
    {
      "cell_type": "code",
      "execution_count": 6,
      "metadata": {
        "id": "4G0cW0st8HBb"
      },
      "outputs": [],
      "source": [
        "class FoGDataset(torch.utils.data.Dataset):\n",
        "    def __init__(self, data_x, data_y):\n",
        "        \"\"\"\n",
        "        Parameters:\n",
        "        -----------\n",
        "        data_x: np.ndarray of shape (num_samples, window_size, num_features) which contains data features for FoG\n",
        "        data_y: np.ndarray of shape (num_samples, window_size) which contains binary labels for FoG\n",
        "        \"\"\"\n",
        "        super().__init__()\n",
        "        self.data_x = data_x\n",
        "        self.data_y = data_y\n",
        "\n",
        "    def __len__(self):\n",
        "        return self.data_x.shape[0]\n",
        "\n",
        "    def __getitem__(self, index):\n",
        "        \"\"\"Returns tuple of (data, label) at index\"\"\"\n",
        "        inputs = self.data_x[index, :, :]\n",
        "        labels = self.data_y[index, :]\n",
        "        return inputs, labels\n",
        "\n",
        "\n",
        "class FoGDataAugment:\n",
        "    \"\"\"\n",
        "    Collate function to apply random time stretch/squeeze and signal shrink/scale\n",
        "    Apply stretch/squeeze to the time dimension by resampling and truncating to out_samples\n",
        "        The lower bound of stretch must satisfy (lb * len(input)) > out_samples\n",
        "    \"\"\"\n",
        "    def __init__(self, out_samples=512, p=0.5, stretch=(0.8, 1.2), scale=(0.8, 1.2)):\n",
        "        \"\"\"\n",
        "        Parameters:\n",
        "        -----------\n",
        "        p: float between [0, 1], probability of applying each the stretch and scale transform independently\n",
        "        strech: tuple of float, upper and lower bound on time stretch factor\n",
        "        scale: tuple of float, upper and lower bound on signal scale factor\n",
        "        \"\"\"\n",
        "        self.p = p\n",
        "        self.stretch = stretch\n",
        "        self.scale = scale\n",
        "        self.out_samples = out_samples\n",
        "    \n",
        "    def _reduce_labels(self, y):\n",
        "        \"\"\"If there is a 1 in the label, then return 1\"\"\"\n",
        "        return np.any(y == 1, axis=-1).astype(int)\n",
        "\n",
        "    def _random_crop(self, inputs, labels):\n",
        "        \"\"\"Apply a random crop of the signal of length self.out_samples to both inputs and labels\"\"\"\n",
        "        n, d = inputs.shape\n",
        "        max_offset = n - self.out_samples\n",
        "        offset = np.random.choice(max_offset)\n",
        "        inds = slice(offset, offset + self.out_samples)\n",
        "        return inputs[inds, :], labels[inds]\n",
        "\n",
        "    def __call__(self, data):\n",
        "        \"\"\"\n",
        "        Parameters:\n",
        "        -----------\n",
        "        data: list of tuple of (inputs, labels) of length batch_size\n",
        "            inputs: np.ndarray, dimensions (n_samples, n_channels), signal data\n",
        "            labels: np.ndarray, dimensions (n_samples,), binary label vector for the signal data\n",
        "\n",
        "        Returns:\n",
        "        --------\n",
        "        (inputs, labels): augmented signal data, reduced labels\n",
        "        \"\"\"\n",
        "        x = []\n",
        "        y = []\n",
        "        for (inputs, labels) in data:\n",
        "            n, d = inputs.shape\n",
        "            assert (self.stretch[0] * n) >= self.out_samples, f\"input size {n} must be greater than {int(self.out_samples / self.stretch[0])} to apply augmentation\"\n",
        "\n",
        "            # Randomly apply time stretch\n",
        "            if np.random.binomial(1, self.p) != 0:\n",
        "                lb, ub = self.stretch\n",
        "                stretch = np.random.uniform(lb, ub)\n",
        "                inputs = signal.resample(inputs, int(n * stretch), axis=0)  # Resample the time (n_samples) axis\n",
        "            if np.random.binomial(1, self.p) != 0:\n",
        "                lb, ub = self.scale\n",
        "                scale = np.random.uniform(lb, ub)\n",
        "                inputs = scale * inputs  # Scale all channels equally\n",
        "            \n",
        "            # Apply random crop to self.out_size on both inputs and labels\n",
        "            inputs, labels = self._random_crop(inputs, labels)\n",
        "\n",
        "            labels = self._reduce_labels(labels)\n",
        "            x.append(inputs)\n",
        "            y.append(labels)\n",
        "        collated_inputs = torch.tensor(x, dtype=torch.float32)\n",
        "        collated_labels = torch.tensor(y, dtype=torch.float32)\n",
        "        return collated_inputs, collated_labels"
      ]
    },
    {
      "cell_type": "code",
      "execution_count": 7,
      "metadata": {
        "id": "zeseExtI8HBc"
      },
      "outputs": [],
      "source": [
        "train_dataset = FoGDataset(train_X, train_Y)\n",
        "test_dataset = FoGDataset(test_X, test_Y)\n",
        "\n",
        "augment_fn = FoGDataAugment(out_samples=512)\n",
        "test_augment = FoGDataAugment(out_samples=512, p=0)\n",
        "\n",
        "BATCH_SIZE = 64\n",
        "train_loader = torch.utils.data.DataLoader(train_dataset, batch_size=BATCH_SIZE, collate_fn=augment_fn, shuffle=True)\n",
        "test_loader = torch.utils.data.DataLoader(test_dataset, batch_size=BATCH_SIZE, collate_fn=test_augment)"
      ]
    },
    {
      "cell_type": "code",
      "source": [
        "del train_X, train_Y, test_X, test_Y, train_dataset, test_dataset"
      ],
      "metadata": {
        "id": "9Vzlee9fYXc4"
      },
      "execution_count": 8,
      "outputs": []
    },
    {
      "cell_type": "markdown",
      "metadata": {
        "id": "wsOYqn5e8HBc"
      },
      "source": [
        "# Define model"
      ]
    },
    {
      "cell_type": "code",
      "execution_count": null,
      "metadata": {
        "id": "bUa0MmBn8HBc"
      },
      "outputs": [],
      "source": [
        "class TransformerModel(nn.Module):\n",
        "    def __init__(self, n_layers=3, in_features=30, d_model=128, n_heads=8, dropout=0.1):\n",
        "        super().__init__()\n",
        "        self.d_model = d_model\n",
        "\n",
        "        self.input_transform = nn.Linear(in_features, d_model)\n",
        "        self.encoder_layer = nn.TransformerEncoderLayer(\n",
        "            d_model=d_model,\n",
        "            nhead=n_heads,\n",
        "            dropout=dropout,\n",
        "            dim_feedforward=4*d_model,\n",
        "            activation=\"gelu\",\n",
        "            batch_first=True,\n",
        "            norm_first=True)\n",
        "\n",
        "        self.encoder = nn.TransformerEncoder(self.encoder_layer, num_layers=n_layers)\n",
        "        self.layer_norm = nn.LayerNorm(d_model)\n",
        "\n",
        "        # We'll just make a prediction on the features of the first and last sequence point\n",
        "        self.classifier = nn.Linear(d_model * 2, 1)\n",
        "    \n",
        "    def forward(self, x):\n",
        "        x = self.input_transform(x)\n",
        "        x = self.encoder(x)\n",
        "        x = self.layer_norm(x)\n",
        "\n",
        "        x = x[:, [0, -1], :].reshape(-1, 2 * self.d_model)\n",
        "        x = self.classifier(x)\n",
        "        return x"
      ]
    },
    {
      "cell_type": "code",
      "source": [
        "class LSTMModel(nn.Module):\n",
        "    def __init__(self, input_dim, hidden_dim, layer_dim, output_dim, dropout_prob, fc_dim, bidirectional):\n",
        "        super(LSTMModel, self).__init__()\n",
        "\n",
        "        # LSTM layers\n",
        "        self.lstm = nn.LSTM(\n",
        "            input_dim, hidden_dim, layer_dim, batch_first=True, dropout=dropout_prob, bidirectional=bidirection\n",
        "        )\n",
        "\n",
        "        # Fully connected layer\n",
        "        self.fc = nn.Linear(fc_dim, output_dim)\n",
        "\n",
        "    def forward(self, x):\n",
        "\n",
        "        # We need to detach as we are doing truncated backpropagation through time (BPTT)\n",
        "        # If we don't, we'll backprop all the way to the start even after going through another batch\n",
        "        out, (hn, cn) = self.lstm(x)\n",
        "        \n",
        "        # Convert the final state to our desired output shape (batch_size, output_dim)\n",
        "        out = self.fc(out.flatten(start_dim=-2))\n",
        "\n",
        "        return out"
      ],
      "metadata": {
        "id": "9UULvV82-4uL"
      },
      "execution_count": null,
      "outputs": []
    },
    {
      "cell_type": "code",
      "source": [
        "class CNNLSTMModel(nn.Module):\n",
        "    def __init__(self, input_dim, hidden_dim, layer_dim, output_dim, dropout_prob, fc_dim, bidirection):\n",
        "        super(CNNLSTMModel, self).__init__()\n",
        "        # Convolutional layers\n",
        "        self.conv1 = nn.Conv1d(in_channels=30, out_channels=64, kernel_size=4)\n",
        "        self.mp = nn.MaxPool1d(kernel_size=2, stride=2)\n",
        "        self.conv2 = nn.Conv1d(in_channels=64,out_channels=32,kernel_size=4)\n",
        "\n",
        "\n",
        "          # LSTM layers\n",
        "        self.lstm = nn.LSTM(\n",
        "            input_dim, hidden_dim, layer_dim, batch_first=True, dropout=dropout_prob, bidirectional=bidirection\n",
        "        )\n",
        "\n",
        "        # Fully connected layer\n",
        "        self.fc1 = nn.Linear(fc_dim, 128)\n",
        "        self.fc2 = nn.Linear(128, 1)\n",
        "        self.fc3 = nn.Linear(64, output_dim)\n",
        "\n",
        "    def forward(self, x):\n",
        "       \n",
        "        out = self.conv1(x.transpose(1,2))\n",
        "        out = self.mp(out)\n",
        "        #out = self.conv2(out)\n",
        "        #out = self.mp(out)\n",
        "        \n",
        "        #out = self.conv2(out)\n",
        "        #out = self.mp(out)\n",
        "        # We need to detach as we are doing truncated backpropagation through time (BPTT)\n",
        "        # If we don't, we'll backprop all the way to the start even after going through another batch\n",
        "        out, (hn, cn) = self.lstm(out.transpose(1,2))\n",
        "        \n",
        "        # Convert the final state to our desired output shape (batch_size, output_dim)\n",
        "        out = self.fc1(out.flatten(start_dim=-2))\n",
        "        out = self.fc2(out)\n",
        "        #out = self.fc3(out)\n",
        "\n",
        "        return out"
      ],
      "metadata": {
        "id": "hFCG70UBFqpQ"
      },
      "execution_count": null,
      "outputs": []
    },
    {
      "cell_type": "code",
      "source": [
        "class CNNLSTM(nn.Module):\n",
        "    def __init__(self, input_features=30, dropout_prob=0.5, padding = 'valid', mp=2, pool='max', input_dim=1, hidden_dim=1, layer_dim=1, output_dim=1, fc_dim=1, bidirection=True):\n",
        "        super(CNNLSTM, self).__init__()\n",
        "\n",
        "        self.conv1 = nn.Conv1d(input_features, 32, kernel_size=32, stride=2)\n",
        "        self.mp = nn.MaxPool1d(mp, stride=mp)\n",
        "\n",
        "        self.conv2 = nn.Conv1d(32, 64, kernel_size=16)\n",
        "\n",
        "        self.conv3 = nn.Conv1d(64, 128, kernel_size=8)\n",
        "\n",
        "        self.conv4 = nn.Conv1d(128, 1, kernel_size=4)\n",
        "        self.dropout = nn.Dropout(dropout_prob)\n",
        "\n",
        "        self.lstm = nn.LSTM(\n",
        "            input_dim, hidden_dim, layer_dim, batch_first=True, dropout=dropout_prob, bidirectional=bidirection\n",
        "        )\n",
        "\n",
        "        # Fully connected layer\n",
        "        self.fc = nn.Linear(fc_dim, output_dim)\n",
        "\n",
        "\n",
        "    def forward(self, x):\n",
        "        x = self.conv1(x.transpose(1,2))\n",
        "        # print(x.shape)\n",
        "        x = F.relu(x)\n",
        "        x = self.mp(x)\n",
        "        #print(x.shape)\n",
        "        x = self.conv2(x)\n",
        "        # print(x.shape)\n",
        "        x = F.relu(x)\n",
        "        x = self.mp(x)\n",
        "\n",
        "        x = self.conv3(x)\n",
        "        # print(x.shape)\n",
        "        x = F.relu(x)\n",
        "        \n",
        "        x = self.conv4(x)\n",
        "        # print(x.shape)\n",
        "        x = torch.flatten(x, 1)\n",
        "        x = self.dropout(x)\n",
        "        \n",
        "        x, _ = self.lstm(x)\n",
        "        \n",
        "        x = self.fc(x)\n",
        "        return x"
      ],
      "metadata": {
        "id": "Zjpc6VrGvS25"
      },
      "execution_count": 34,
      "outputs": []
    },
    {
      "cell_type": "markdown",
      "metadata": {
        "id": "BsnWUiSa8HBd"
      },
      "source": [
        "# Training"
      ]
    },
    {
      "cell_type": "code",
      "execution_count": 10,
      "metadata": {
        "id": "gJ1RAtvS8HBd"
      },
      "outputs": [],
      "source": [
        "def train(model, dataloader, optimizer, criterion, epoch, logging_steps=20, device=None):\n",
        "    if device is None:\n",
        "        device = \"cuda\" if torch.cuda.is_available() else \"cpu\"\n",
        "    model = model.to(device)\n",
        "    model.train()\n",
        "    total_loss = 0\n",
        "    correct = 0\n",
        "    loss_history = []\n",
        "    for i, (inputs, targets) in tqdm(enumerate(dataloader)):\n",
        "        optimizer.zero_grad()\n",
        "        inputs = inputs.to(device)\n",
        "        targets = targets.to(device)\n",
        "        outputs = model(inputs)\n",
        "        outputs = outputs.flatten()\n",
        "        loss = criterion(outputs, targets)\n",
        "        loss.backward()\n",
        "        optimizer.step()\n",
        "\n",
        "        total_loss += loss\n",
        "        loss_history.append(loss.item())\n",
        "        preds = torch.round(torch.sigmoid(outputs))\n",
        "        correct += torch.sum(preds == targets).detach().cpu()\n",
        "\n",
        "        if i % logging_steps == 0:\n",
        "            print(f'Epoch: {epoch} ({i}/{len(dataloader)}) Training loss: {loss}')\n",
        "\n",
        "    accuracy = correct / (dataloader.batch_size * len(dataloader))\n",
        "    print(f'Epoch {epoch} done. Training loss: {total_loss/len(dataloader)} Training accuracy: {accuracy}')\n",
        "    return accuracy, total_loss/len(dataloader), loss_history"
      ]
    },
    {
      "cell_type": "code",
      "execution_count": 11,
      "metadata": {
        "id": "VhIEJffo8HBd"
      },
      "outputs": [],
      "source": [
        "def evaluate(model, dataloader, criterion, epoch, device=None):\n",
        "    if device is None:\n",
        "        device = \"cuda\" if torch.cuda.is_available() else \"cpu\"\n",
        "    model.eval()\n",
        "    total_loss = 0\n",
        "    correct = 0\n",
        "    with torch.no_grad():\n",
        "        for i, (inputs, targets) in tqdm(enumerate(dataloader)):\n",
        "            inputs = inputs.to(device)\n",
        "            targets = targets.to(device)\n",
        "            outputs = model(inputs)\n",
        "            outputs = outputs.flatten()\n",
        "            loss = criterion(outputs, targets)\n",
        "\n",
        "            total_loss += loss\n",
        "            preds = torch.round(torch.sigmoid(outputs))\n",
        "            \n",
        "            correct += torch.sum(preds == targets).detach().cpu()\n",
        "\n",
        "        accuracy = correct / (dataloader.batch_size * len(dataloader))\n",
        "        print(f'Epoch {epoch} done. Eval loss: {total_loss/len(dataloader)} Eval accuracy: {accuracy}')\n",
        "    return accuracy, total_loss/len(dataloader)"
      ]
    },
    {
      "cell_type": "code",
      "execution_count": 49,
      "metadata": {
        "colab": {
          "base_uri": "https://localhost:8080/"
        },
        "id": "pcoq8uOp8HBd",
        "outputId": "5c789f9a-d083-44d1-c40d-7a85d694dc38"
      },
      "outputs": [
        {
          "output_type": "stream",
          "name": "stderr",
          "text": [
            "2it [00:00,  8.90it/s]"
          ]
        },
        {
          "output_type": "stream",
          "name": "stdout",
          "text": [
            "Epoch: 0 (0/360) Training loss: 0.696784496307373\n"
          ]
        },
        {
          "output_type": "stream",
          "name": "stderr",
          "text": [
            "22it [00:02,  8.37it/s]"
          ]
        },
        {
          "output_type": "stream",
          "name": "stdout",
          "text": [
            "Epoch: 0 (20/360) Training loss: 0.6727320551872253\n"
          ]
        },
        {
          "output_type": "stream",
          "name": "stderr",
          "text": [
            "42it [00:04,  8.55it/s]"
          ]
        },
        {
          "output_type": "stream",
          "name": "stdout",
          "text": [
            "Epoch: 0 (40/360) Training loss: 0.6600127220153809\n"
          ]
        },
        {
          "output_type": "stream",
          "name": "stderr",
          "text": [
            "62it [00:07,  8.82it/s]"
          ]
        },
        {
          "output_type": "stream",
          "name": "stdout",
          "text": [
            "Epoch: 0 (60/360) Training loss: 0.641897976398468\n"
          ]
        },
        {
          "output_type": "stream",
          "name": "stderr",
          "text": [
            "82it [00:09,  8.87it/s]"
          ]
        },
        {
          "output_type": "stream",
          "name": "stdout",
          "text": [
            "Epoch: 0 (80/360) Training loss: 0.6295894384384155\n"
          ]
        },
        {
          "output_type": "stream",
          "name": "stderr",
          "text": [
            "102it [00:11,  8.70it/s]"
          ]
        },
        {
          "output_type": "stream",
          "name": "stdout",
          "text": [
            "Epoch: 0 (100/360) Training loss: 0.6120108962059021\n"
          ]
        },
        {
          "output_type": "stream",
          "name": "stderr",
          "text": [
            "122it [00:14,  8.38it/s]"
          ]
        },
        {
          "output_type": "stream",
          "name": "stdout",
          "text": [
            "Epoch: 0 (120/360) Training loss: 0.6034926772117615\n"
          ]
        },
        {
          "output_type": "stream",
          "name": "stderr",
          "text": [
            "142it [00:16,  8.76it/s]"
          ]
        },
        {
          "output_type": "stream",
          "name": "stdout",
          "text": [
            "Epoch: 0 (140/360) Training loss: 0.5832045674324036\n"
          ]
        },
        {
          "output_type": "stream",
          "name": "stderr",
          "text": [
            "162it [00:18,  8.85it/s]"
          ]
        },
        {
          "output_type": "stream",
          "name": "stdout",
          "text": [
            "Epoch: 0 (160/360) Training loss: 0.6067796945571899\n"
          ]
        },
        {
          "output_type": "stream",
          "name": "stderr",
          "text": [
            "182it [00:21,  8.51it/s]"
          ]
        },
        {
          "output_type": "stream",
          "name": "stdout",
          "text": [
            "Epoch: 0 (180/360) Training loss: 0.5410553216934204\n"
          ]
        },
        {
          "output_type": "stream",
          "name": "stderr",
          "text": [
            "202it [00:23,  8.68it/s]"
          ]
        },
        {
          "output_type": "stream",
          "name": "stdout",
          "text": [
            "Epoch: 0 (200/360) Training loss: 0.47453436255455017\n"
          ]
        },
        {
          "output_type": "stream",
          "name": "stderr",
          "text": [
            "222it [00:25,  8.66it/s]"
          ]
        },
        {
          "output_type": "stream",
          "name": "stdout",
          "text": [
            "Epoch: 0 (220/360) Training loss: 0.5025134682655334\n"
          ]
        },
        {
          "output_type": "stream",
          "name": "stderr",
          "text": [
            "242it [00:27,  8.61it/s]"
          ]
        },
        {
          "output_type": "stream",
          "name": "stdout",
          "text": [
            "Epoch: 0 (240/360) Training loss: 0.5869114398956299\n"
          ]
        },
        {
          "output_type": "stream",
          "name": "stderr",
          "text": [
            "262it [00:30,  8.95it/s]"
          ]
        },
        {
          "output_type": "stream",
          "name": "stdout",
          "text": [
            "Epoch: 0 (260/360) Training loss: 0.520044207572937\n"
          ]
        },
        {
          "output_type": "stream",
          "name": "stderr",
          "text": [
            "282it [00:32,  7.94it/s]"
          ]
        },
        {
          "output_type": "stream",
          "name": "stdout",
          "text": [
            "Epoch: 0 (280/360) Training loss: 0.48654136061668396\n"
          ]
        },
        {
          "output_type": "stream",
          "name": "stderr",
          "text": [
            "302it [00:34,  8.77it/s]"
          ]
        },
        {
          "output_type": "stream",
          "name": "stdout",
          "text": [
            "Epoch: 0 (300/360) Training loss: 0.4138643741607666\n"
          ]
        },
        {
          "output_type": "stream",
          "name": "stderr",
          "text": [
            "322it [00:37,  8.24it/s]"
          ]
        },
        {
          "output_type": "stream",
          "name": "stdout",
          "text": [
            "Epoch: 0 (320/360) Training loss: 0.5069635510444641\n"
          ]
        },
        {
          "output_type": "stream",
          "name": "stderr",
          "text": [
            "342it [00:39,  8.58it/s]"
          ]
        },
        {
          "output_type": "stream",
          "name": "stdout",
          "text": [
            "Epoch: 0 (340/360) Training loss: 0.3908015787601471\n"
          ]
        },
        {
          "output_type": "stream",
          "name": "stderr",
          "text": [
            "360it [00:41,  8.63it/s]\n"
          ]
        },
        {
          "output_type": "stream",
          "name": "stdout",
          "text": [
            "Epoch 0 done. Training loss: 0.5560433268547058 Training accuracy: 0.7560763955116272\n"
          ]
        },
        {
          "output_type": "stream",
          "name": "stderr",
          "text": [
            "123it [00:10, 11.90it/s]\n"
          ]
        },
        {
          "output_type": "stream",
          "name": "stdout",
          "text": [
            "Epoch 0 done. Eval loss: 0.6067556738853455 Eval accuracy: 0.6961382031440735\n"
          ]
        },
        {
          "output_type": "stream",
          "name": "stderr",
          "text": [
            "1it [00:00,  8.72it/s]"
          ]
        },
        {
          "output_type": "stream",
          "name": "stdout",
          "text": [
            "Epoch: 1 (0/360) Training loss: 0.48987624049186707\n"
          ]
        },
        {
          "output_type": "stream",
          "name": "stderr",
          "text": [
            "22it [00:02,  8.75it/s]"
          ]
        },
        {
          "output_type": "stream",
          "name": "stdout",
          "text": [
            "Epoch: 1 (20/360) Training loss: 0.4255276024341583\n"
          ]
        },
        {
          "output_type": "stream",
          "name": "stderr",
          "text": [
            "42it [00:04,  8.85it/s]"
          ]
        },
        {
          "output_type": "stream",
          "name": "stdout",
          "text": [
            "Epoch: 1 (40/360) Training loss: 0.4110257029533386\n"
          ]
        },
        {
          "output_type": "stream",
          "name": "stderr",
          "text": [
            "62it [00:07,  8.47it/s]"
          ]
        },
        {
          "output_type": "stream",
          "name": "stdout",
          "text": [
            "Epoch: 1 (60/360) Training loss: 0.4808591306209564\n"
          ]
        },
        {
          "output_type": "stream",
          "name": "stderr",
          "text": [
            "82it [00:09,  8.64it/s]"
          ]
        },
        {
          "output_type": "stream",
          "name": "stdout",
          "text": [
            "Epoch: 1 (80/360) Training loss: 0.4661329388618469\n"
          ]
        },
        {
          "output_type": "stream",
          "name": "stderr",
          "text": [
            "102it [00:11,  8.16it/s]"
          ]
        },
        {
          "output_type": "stream",
          "name": "stdout",
          "text": [
            "Epoch: 1 (100/360) Training loss: 0.3811855912208557\n"
          ]
        },
        {
          "output_type": "stream",
          "name": "stderr",
          "text": [
            "122it [00:14,  8.84it/s]"
          ]
        },
        {
          "output_type": "stream",
          "name": "stdout",
          "text": [
            "Epoch: 1 (120/360) Training loss: 0.44503533840179443\n"
          ]
        },
        {
          "output_type": "stream",
          "name": "stderr",
          "text": [
            "142it [00:16,  8.83it/s]"
          ]
        },
        {
          "output_type": "stream",
          "name": "stdout",
          "text": [
            "Epoch: 1 (140/360) Training loss: 0.4166327118873596\n"
          ]
        },
        {
          "output_type": "stream",
          "name": "stderr",
          "text": [
            "162it [00:18,  8.49it/s]"
          ]
        },
        {
          "output_type": "stream",
          "name": "stdout",
          "text": [
            "Epoch: 1 (160/360) Training loss: 0.48602229356765747\n"
          ]
        },
        {
          "output_type": "stream",
          "name": "stderr",
          "text": [
            "182it [00:21,  8.77it/s]"
          ]
        },
        {
          "output_type": "stream",
          "name": "stdout",
          "text": [
            "Epoch: 1 (180/360) Training loss: 0.3398764133453369\n"
          ]
        },
        {
          "output_type": "stream",
          "name": "stderr",
          "text": [
            "202it [00:23,  8.82it/s]"
          ]
        },
        {
          "output_type": "stream",
          "name": "stdout",
          "text": [
            "Epoch: 1 (200/360) Training loss: 0.5036909580230713\n"
          ]
        },
        {
          "output_type": "stream",
          "name": "stderr",
          "text": [
            "222it [00:25,  8.65it/s]"
          ]
        },
        {
          "output_type": "stream",
          "name": "stdout",
          "text": [
            "Epoch: 1 (220/360) Training loss: 0.3579641282558441\n"
          ]
        },
        {
          "output_type": "stream",
          "name": "stderr",
          "text": [
            "242it [00:27,  8.58it/s]"
          ]
        },
        {
          "output_type": "stream",
          "name": "stdout",
          "text": [
            "Epoch: 1 (240/360) Training loss: 0.44687747955322266\n"
          ]
        },
        {
          "output_type": "stream",
          "name": "stderr",
          "text": [
            "262it [00:30,  8.86it/s]"
          ]
        },
        {
          "output_type": "stream",
          "name": "stdout",
          "text": [
            "Epoch: 1 (260/360) Training loss: 0.43187275528907776\n"
          ]
        },
        {
          "output_type": "stream",
          "name": "stderr",
          "text": [
            "282it [00:32,  8.66it/s]"
          ]
        },
        {
          "output_type": "stream",
          "name": "stdout",
          "text": [
            "Epoch: 1 (280/360) Training loss: 0.40486782789230347\n"
          ]
        },
        {
          "output_type": "stream",
          "name": "stderr",
          "text": [
            "302it [00:34,  8.85it/s]"
          ]
        },
        {
          "output_type": "stream",
          "name": "stdout",
          "text": [
            "Epoch: 1 (300/360) Training loss: 0.4877994954586029\n"
          ]
        },
        {
          "output_type": "stream",
          "name": "stderr",
          "text": [
            "322it [00:37,  8.76it/s]"
          ]
        },
        {
          "output_type": "stream",
          "name": "stdout",
          "text": [
            "Epoch: 1 (320/360) Training loss: 0.41077756881713867\n"
          ]
        },
        {
          "output_type": "stream",
          "name": "stderr",
          "text": [
            "342it [00:39,  8.50it/s]"
          ]
        },
        {
          "output_type": "stream",
          "name": "stdout",
          "text": [
            "Epoch: 1 (340/360) Training loss: 0.3670068085193634\n"
          ]
        },
        {
          "output_type": "stream",
          "name": "stderr",
          "text": [
            "360it [00:41,  8.67it/s]\n"
          ]
        },
        {
          "output_type": "stream",
          "name": "stdout",
          "text": [
            "Epoch 1 done. Training loss: 0.4125900864601135 Training accuracy: 0.8415798544883728\n"
          ]
        },
        {
          "output_type": "stream",
          "name": "stderr",
          "text": [
            "123it [00:11, 10.39it/s]\n"
          ]
        },
        {
          "output_type": "stream",
          "name": "stdout",
          "text": [
            "Epoch 1 done. Eval loss: 0.46508899331092834 Eval accuracy: 0.7905233502388\n"
          ]
        },
        {
          "output_type": "stream",
          "name": "stderr",
          "text": [
            "1it [00:00,  7.83it/s]"
          ]
        },
        {
          "output_type": "stream",
          "name": "stdout",
          "text": [
            "Epoch: 2 (0/360) Training loss: 0.5672650933265686\n"
          ]
        },
        {
          "output_type": "stream",
          "name": "stderr",
          "text": [
            "22it [00:02,  8.57it/s]"
          ]
        },
        {
          "output_type": "stream",
          "name": "stdout",
          "text": [
            "Epoch: 2 (20/360) Training loss: 0.41301411390304565\n"
          ]
        },
        {
          "output_type": "stream",
          "name": "stderr",
          "text": [
            "42it [00:04,  8.83it/s]"
          ]
        },
        {
          "output_type": "stream",
          "name": "stdout",
          "text": [
            "Epoch: 2 (40/360) Training loss: 0.4681888818740845\n"
          ]
        },
        {
          "output_type": "stream",
          "name": "stderr",
          "text": [
            "62it [00:07,  8.54it/s]"
          ]
        },
        {
          "output_type": "stream",
          "name": "stdout",
          "text": [
            "Epoch: 2 (60/360) Training loss: 0.40340757369995117\n"
          ]
        },
        {
          "output_type": "stream",
          "name": "stderr",
          "text": [
            "82it [00:09,  8.72it/s]"
          ]
        },
        {
          "output_type": "stream",
          "name": "stdout",
          "text": [
            "Epoch: 2 (80/360) Training loss: 0.29833292961120605\n"
          ]
        },
        {
          "output_type": "stream",
          "name": "stderr",
          "text": [
            "102it [00:11,  8.54it/s]"
          ]
        },
        {
          "output_type": "stream",
          "name": "stdout",
          "text": [
            "Epoch: 2 (100/360) Training loss: 0.4531170129776001\n"
          ]
        },
        {
          "output_type": "stream",
          "name": "stderr",
          "text": [
            "122it [00:14,  8.48it/s]"
          ]
        },
        {
          "output_type": "stream",
          "name": "stdout",
          "text": [
            "Epoch: 2 (120/360) Training loss: 0.33358144760131836\n"
          ]
        },
        {
          "output_type": "stream",
          "name": "stderr",
          "text": [
            "142it [00:16,  8.48it/s]"
          ]
        },
        {
          "output_type": "stream",
          "name": "stdout",
          "text": [
            "Epoch: 2 (140/360) Training loss: 0.3366406559944153\n"
          ]
        },
        {
          "output_type": "stream",
          "name": "stderr",
          "text": [
            "162it [00:18,  8.74it/s]"
          ]
        },
        {
          "output_type": "stream",
          "name": "stdout",
          "text": [
            "Epoch: 2 (160/360) Training loss: 0.4842347800731659\n"
          ]
        },
        {
          "output_type": "stream",
          "name": "stderr",
          "text": [
            "182it [00:21,  8.62it/s]"
          ]
        },
        {
          "output_type": "stream",
          "name": "stdout",
          "text": [
            "Epoch: 2 (180/360) Training loss: 0.26435399055480957\n"
          ]
        },
        {
          "output_type": "stream",
          "name": "stderr",
          "text": [
            "202it [00:23,  8.88it/s]"
          ]
        },
        {
          "output_type": "stream",
          "name": "stdout",
          "text": [
            "Epoch: 2 (200/360) Training loss: 0.5080999135971069\n"
          ]
        },
        {
          "output_type": "stream",
          "name": "stderr",
          "text": [
            "222it [00:25,  8.87it/s]"
          ]
        },
        {
          "output_type": "stream",
          "name": "stdout",
          "text": [
            "Epoch: 2 (220/360) Training loss: 0.4275761842727661\n"
          ]
        },
        {
          "output_type": "stream",
          "name": "stderr",
          "text": [
            "242it [00:28,  8.33it/s]"
          ]
        },
        {
          "output_type": "stream",
          "name": "stdout",
          "text": [
            "Epoch: 2 (240/360) Training loss: 0.3067997694015503\n"
          ]
        },
        {
          "output_type": "stream",
          "name": "stderr",
          "text": [
            "262it [00:30,  8.68it/s]"
          ]
        },
        {
          "output_type": "stream",
          "name": "stdout",
          "text": [
            "Epoch: 2 (260/360) Training loss: 0.49154752492904663\n"
          ]
        },
        {
          "output_type": "stream",
          "name": "stderr",
          "text": [
            "282it [00:32,  8.33it/s]"
          ]
        },
        {
          "output_type": "stream",
          "name": "stdout",
          "text": [
            "Epoch: 2 (280/360) Training loss: 0.3656139671802521\n"
          ]
        },
        {
          "output_type": "stream",
          "name": "stderr",
          "text": [
            "302it [00:35,  8.84it/s]"
          ]
        },
        {
          "output_type": "stream",
          "name": "stdout",
          "text": [
            "Epoch: 2 (300/360) Training loss: 0.27238214015960693\n"
          ]
        },
        {
          "output_type": "stream",
          "name": "stderr",
          "text": [
            "322it [00:37,  8.74it/s]"
          ]
        },
        {
          "output_type": "stream",
          "name": "stdout",
          "text": [
            "Epoch: 2 (320/360) Training loss: 0.23774880170822144\n"
          ]
        },
        {
          "output_type": "stream",
          "name": "stderr",
          "text": [
            "342it [00:39,  8.66it/s]"
          ]
        },
        {
          "output_type": "stream",
          "name": "stdout",
          "text": [
            "Epoch: 2 (340/360) Training loss: 0.27089929580688477\n"
          ]
        },
        {
          "output_type": "stream",
          "name": "stderr",
          "text": [
            "360it [00:41,  8.66it/s]\n"
          ]
        },
        {
          "output_type": "stream",
          "name": "stdout",
          "text": [
            "Epoch 2 done. Training loss: 0.36092856526374817 Training accuracy: 0.864062488079071\n"
          ]
        },
        {
          "output_type": "stream",
          "name": "stderr",
          "text": [
            "123it [00:10, 11.74it/s]\n"
          ]
        },
        {
          "output_type": "stream",
          "name": "stdout",
          "text": [
            "Epoch 2 done. Eval loss: 0.44655126333236694 Eval accuracy: 0.808307945728302\n"
          ]
        },
        {
          "output_type": "stream",
          "name": "stderr",
          "text": [
            "1it [00:00,  8.60it/s]"
          ]
        },
        {
          "output_type": "stream",
          "name": "stdout",
          "text": [
            "Epoch: 3 (0/360) Training loss: 0.3050260543823242\n"
          ]
        },
        {
          "output_type": "stream",
          "name": "stderr",
          "text": [
            "22it [00:02,  8.65it/s]"
          ]
        },
        {
          "output_type": "stream",
          "name": "stdout",
          "text": [
            "Epoch: 3 (20/360) Training loss: 0.35995033383369446\n"
          ]
        },
        {
          "output_type": "stream",
          "name": "stderr",
          "text": [
            "42it [00:04,  8.26it/s]"
          ]
        },
        {
          "output_type": "stream",
          "name": "stdout",
          "text": [
            "Epoch: 3 (40/360) Training loss: 0.40667980909347534\n"
          ]
        },
        {
          "output_type": "stream",
          "name": "stderr",
          "text": [
            "62it [00:07,  8.77it/s]"
          ]
        },
        {
          "output_type": "stream",
          "name": "stdout",
          "text": [
            "Epoch: 3 (60/360) Training loss: 0.2471226155757904\n"
          ]
        },
        {
          "output_type": "stream",
          "name": "stderr",
          "text": [
            "82it [00:09,  8.76it/s]"
          ]
        },
        {
          "output_type": "stream",
          "name": "stdout",
          "text": [
            "Epoch: 3 (80/360) Training loss: 0.30657958984375\n"
          ]
        },
        {
          "output_type": "stream",
          "name": "stderr",
          "text": [
            "102it [00:11,  8.84it/s]"
          ]
        },
        {
          "output_type": "stream",
          "name": "stdout",
          "text": [
            "Epoch: 3 (100/360) Training loss: 0.42389366030693054\n"
          ]
        },
        {
          "output_type": "stream",
          "name": "stderr",
          "text": [
            "122it [00:14,  8.63it/s]"
          ]
        },
        {
          "output_type": "stream",
          "name": "stdout",
          "text": [
            "Epoch: 3 (120/360) Training loss: 0.3559494912624359\n"
          ]
        },
        {
          "output_type": "stream",
          "name": "stderr",
          "text": [
            "142it [00:16,  8.38it/s]"
          ]
        },
        {
          "output_type": "stream",
          "name": "stdout",
          "text": [
            "Epoch: 3 (140/360) Training loss: 0.3332349359989166\n"
          ]
        },
        {
          "output_type": "stream",
          "name": "stderr",
          "text": [
            "162it [00:18,  8.60it/s]"
          ]
        },
        {
          "output_type": "stream",
          "name": "stdout",
          "text": [
            "Epoch: 3 (160/360) Training loss: 0.37367403507232666\n"
          ]
        },
        {
          "output_type": "stream",
          "name": "stderr",
          "text": [
            "182it [00:20,  8.67it/s]"
          ]
        },
        {
          "output_type": "stream",
          "name": "stdout",
          "text": [
            "Epoch: 3 (180/360) Training loss: 0.31133049726486206\n"
          ]
        },
        {
          "output_type": "stream",
          "name": "stderr",
          "text": [
            "202it [00:23,  8.77it/s]"
          ]
        },
        {
          "output_type": "stream",
          "name": "stdout",
          "text": [
            "Epoch: 3 (200/360) Training loss: 0.3988820016384125\n"
          ]
        },
        {
          "output_type": "stream",
          "name": "stderr",
          "text": [
            "222it [00:25,  8.54it/s]"
          ]
        },
        {
          "output_type": "stream",
          "name": "stdout",
          "text": [
            "Epoch: 3 (220/360) Training loss: 0.24730266630649567\n"
          ]
        },
        {
          "output_type": "stream",
          "name": "stderr",
          "text": [
            "242it [00:27,  8.62it/s]"
          ]
        },
        {
          "output_type": "stream",
          "name": "stdout",
          "text": [
            "Epoch: 3 (240/360) Training loss: 0.417402058839798\n"
          ]
        },
        {
          "output_type": "stream",
          "name": "stderr",
          "text": [
            "262it [00:30,  7.92it/s]"
          ]
        },
        {
          "output_type": "stream",
          "name": "stdout",
          "text": [
            "Epoch: 3 (260/360) Training loss: 0.2846974730491638\n"
          ]
        },
        {
          "output_type": "stream",
          "name": "stderr",
          "text": [
            "282it [00:32,  8.68it/s]"
          ]
        },
        {
          "output_type": "stream",
          "name": "stdout",
          "text": [
            "Epoch: 3 (280/360) Training loss: 0.36545777320861816\n"
          ]
        },
        {
          "output_type": "stream",
          "name": "stderr",
          "text": [
            "302it [00:35,  8.87it/s]"
          ]
        },
        {
          "output_type": "stream",
          "name": "stdout",
          "text": [
            "Epoch: 3 (300/360) Training loss: 0.22141814231872559\n"
          ]
        },
        {
          "output_type": "stream",
          "name": "stderr",
          "text": [
            "322it [00:37,  8.89it/s]"
          ]
        },
        {
          "output_type": "stream",
          "name": "stdout",
          "text": [
            "Epoch: 3 (320/360) Training loss: 0.3054169714450836\n"
          ]
        },
        {
          "output_type": "stream",
          "name": "stderr",
          "text": [
            "342it [00:39,  8.82it/s]"
          ]
        },
        {
          "output_type": "stream",
          "name": "stdout",
          "text": [
            "Epoch: 3 (340/360) Training loss: 0.2791746258735657\n"
          ]
        },
        {
          "output_type": "stream",
          "name": "stderr",
          "text": [
            "360it [00:41,  8.65it/s]\n"
          ]
        },
        {
          "output_type": "stream",
          "name": "stdout",
          "text": [
            "Epoch 3 done. Training loss: 0.32423272728919983 Training accuracy: 0.8793402910232544\n"
          ]
        },
        {
          "output_type": "stream",
          "name": "stderr",
          "text": [
            "123it [00:10, 11.82it/s]\n"
          ]
        },
        {
          "output_type": "stream",
          "name": "stdout",
          "text": [
            "Epoch 3 done. Eval loss: 0.5679231286048889 Eval accuracy: 0.7709603905677795\n"
          ]
        },
        {
          "output_type": "stream",
          "name": "stderr",
          "text": [
            "1it [00:00,  9.01it/s]"
          ]
        },
        {
          "output_type": "stream",
          "name": "stdout",
          "text": [
            "Epoch: 4 (0/360) Training loss: 0.44357264041900635\n"
          ]
        },
        {
          "output_type": "stream",
          "name": "stderr",
          "text": [
            "22it [00:02,  8.77it/s]"
          ]
        },
        {
          "output_type": "stream",
          "name": "stdout",
          "text": [
            "Epoch: 4 (20/360) Training loss: 0.27001067996025085\n"
          ]
        },
        {
          "output_type": "stream",
          "name": "stderr",
          "text": [
            "42it [00:04,  9.07it/s]"
          ]
        },
        {
          "output_type": "stream",
          "name": "stdout",
          "text": [
            "Epoch: 4 (40/360) Training loss: 0.3117826282978058\n"
          ]
        },
        {
          "output_type": "stream",
          "name": "stderr",
          "text": [
            "62it [00:07,  8.52it/s]"
          ]
        },
        {
          "output_type": "stream",
          "name": "stdout",
          "text": [
            "Epoch: 4 (60/360) Training loss: 0.18710921704769135\n"
          ]
        },
        {
          "output_type": "stream",
          "name": "stderr",
          "text": [
            "82it [00:09,  8.70it/s]"
          ]
        },
        {
          "output_type": "stream",
          "name": "stdout",
          "text": [
            "Epoch: 4 (80/360) Training loss: 0.3800472617149353\n"
          ]
        },
        {
          "output_type": "stream",
          "name": "stderr",
          "text": [
            "102it [00:11,  8.38it/s]"
          ]
        },
        {
          "output_type": "stream",
          "name": "stdout",
          "text": [
            "Epoch: 4 (100/360) Training loss: 0.31689026951789856\n"
          ]
        },
        {
          "output_type": "stream",
          "name": "stderr",
          "text": [
            "122it [00:14,  8.84it/s]"
          ]
        },
        {
          "output_type": "stream",
          "name": "stdout",
          "text": [
            "Epoch: 4 (120/360) Training loss: 0.22465229034423828\n"
          ]
        },
        {
          "output_type": "stream",
          "name": "stderr",
          "text": [
            "142it [00:16,  8.56it/s]"
          ]
        },
        {
          "output_type": "stream",
          "name": "stdout",
          "text": [
            "Epoch: 4 (140/360) Training loss: 0.22783344984054565\n"
          ]
        },
        {
          "output_type": "stream",
          "name": "stderr",
          "text": [
            "162it [00:18,  8.53it/s]"
          ]
        },
        {
          "output_type": "stream",
          "name": "stdout",
          "text": [
            "Epoch: 4 (160/360) Training loss: 0.24558085203170776\n"
          ]
        },
        {
          "output_type": "stream",
          "name": "stderr",
          "text": [
            "182it [00:21,  8.80it/s]"
          ]
        },
        {
          "output_type": "stream",
          "name": "stdout",
          "text": [
            "Epoch: 4 (180/360) Training loss: 0.2479676753282547\n"
          ]
        },
        {
          "output_type": "stream",
          "name": "stderr",
          "text": [
            "202it [00:23,  8.76it/s]"
          ]
        },
        {
          "output_type": "stream",
          "name": "stdout",
          "text": [
            "Epoch: 4 (200/360) Training loss: 0.28124451637268066\n"
          ]
        },
        {
          "output_type": "stream",
          "name": "stderr",
          "text": [
            "222it [00:25,  8.55it/s]"
          ]
        },
        {
          "output_type": "stream",
          "name": "stdout",
          "text": [
            "Epoch: 4 (220/360) Training loss: 0.3536628186702728\n"
          ]
        },
        {
          "output_type": "stream",
          "name": "stderr",
          "text": [
            "242it [00:27,  8.82it/s]"
          ]
        },
        {
          "output_type": "stream",
          "name": "stdout",
          "text": [
            "Epoch: 4 (240/360) Training loss: 0.308724045753479\n"
          ]
        },
        {
          "output_type": "stream",
          "name": "stderr",
          "text": [
            "262it [00:30,  8.65it/s]"
          ]
        },
        {
          "output_type": "stream",
          "name": "stdout",
          "text": [
            "Epoch: 4 (260/360) Training loss: 0.2935894727706909\n"
          ]
        },
        {
          "output_type": "stream",
          "name": "stderr",
          "text": [
            "282it [00:32,  8.75it/s]"
          ]
        },
        {
          "output_type": "stream",
          "name": "stdout",
          "text": [
            "Epoch: 4 (280/360) Training loss: 0.3243691325187683\n"
          ]
        },
        {
          "output_type": "stream",
          "name": "stderr",
          "text": [
            "302it [00:34,  8.46it/s]"
          ]
        },
        {
          "output_type": "stream",
          "name": "stdout",
          "text": [
            "Epoch: 4 (300/360) Training loss: 0.33838340640068054\n"
          ]
        },
        {
          "output_type": "stream",
          "name": "stderr",
          "text": [
            "322it [00:37,  8.53it/s]"
          ]
        },
        {
          "output_type": "stream",
          "name": "stdout",
          "text": [
            "Epoch: 4 (320/360) Training loss: 0.33289122581481934\n"
          ]
        },
        {
          "output_type": "stream",
          "name": "stderr",
          "text": [
            "342it [00:39,  8.07it/s]"
          ]
        },
        {
          "output_type": "stream",
          "name": "stdout",
          "text": [
            "Epoch: 4 (340/360) Training loss: 0.4072510600090027\n"
          ]
        },
        {
          "output_type": "stream",
          "name": "stderr",
          "text": [
            "360it [00:41,  8.64it/s]\n"
          ]
        },
        {
          "output_type": "stream",
          "name": "stdout",
          "text": [
            "Epoch 4 done. Training loss: 0.3007482886314392 Training accuracy: 0.8865017294883728\n"
          ]
        },
        {
          "output_type": "stream",
          "name": "stderr",
          "text": [
            "123it [00:10, 11.76it/s]\n"
          ]
        },
        {
          "output_type": "stream",
          "name": "stdout",
          "text": [
            "Epoch 4 done. Eval loss: 0.57558673620224 Eval accuracy: 0.7610518336296082\n"
          ]
        },
        {
          "output_type": "stream",
          "name": "stderr",
          "text": [
            "1it [00:00,  8.57it/s]"
          ]
        },
        {
          "output_type": "stream",
          "name": "stdout",
          "text": [
            "Epoch: 5 (0/360) Training loss: 0.24734023213386536\n"
          ]
        },
        {
          "output_type": "stream",
          "name": "stderr",
          "text": [
            "22it [00:02,  8.71it/s]"
          ]
        },
        {
          "output_type": "stream",
          "name": "stdout",
          "text": [
            "Epoch: 5 (20/360) Training loss: 0.21827715635299683\n"
          ]
        },
        {
          "output_type": "stream",
          "name": "stderr",
          "text": [
            "42it [00:04,  8.48it/s]"
          ]
        },
        {
          "output_type": "stream",
          "name": "stdout",
          "text": [
            "Epoch: 5 (40/360) Training loss: 0.22257259488105774\n"
          ]
        },
        {
          "output_type": "stream",
          "name": "stderr",
          "text": [
            "62it [00:07,  8.89it/s]"
          ]
        },
        {
          "output_type": "stream",
          "name": "stdout",
          "text": [
            "Epoch: 5 (60/360) Training loss: 0.46782803535461426\n"
          ]
        },
        {
          "output_type": "stream",
          "name": "stderr",
          "text": [
            "82it [00:09,  8.90it/s]"
          ]
        },
        {
          "output_type": "stream",
          "name": "stdout",
          "text": [
            "Epoch: 5 (80/360) Training loss: 0.33217209577560425\n"
          ]
        },
        {
          "output_type": "stream",
          "name": "stderr",
          "text": [
            "102it [00:11,  8.85it/s]"
          ]
        },
        {
          "output_type": "stream",
          "name": "stdout",
          "text": [
            "Epoch: 5 (100/360) Training loss: 0.3836338520050049\n"
          ]
        },
        {
          "output_type": "stream",
          "name": "stderr",
          "text": [
            "122it [00:14,  8.76it/s]"
          ]
        },
        {
          "output_type": "stream",
          "name": "stdout",
          "text": [
            "Epoch: 5 (120/360) Training loss: 0.2693687379360199\n"
          ]
        },
        {
          "output_type": "stream",
          "name": "stderr",
          "text": [
            "142it [00:16,  7.72it/s]"
          ]
        },
        {
          "output_type": "stream",
          "name": "stdout",
          "text": [
            "Epoch: 5 (140/360) Training loss: 0.29599979519844055\n"
          ]
        },
        {
          "output_type": "stream",
          "name": "stderr",
          "text": [
            "162it [00:18,  8.73it/s]"
          ]
        },
        {
          "output_type": "stream",
          "name": "stdout",
          "text": [
            "Epoch: 5 (160/360) Training loss: 0.2823638319969177\n"
          ]
        },
        {
          "output_type": "stream",
          "name": "stderr",
          "text": [
            "182it [00:21,  8.52it/s]"
          ]
        },
        {
          "output_type": "stream",
          "name": "stdout",
          "text": [
            "Epoch: 5 (180/360) Training loss: 0.3672735095024109\n"
          ]
        },
        {
          "output_type": "stream",
          "name": "stderr",
          "text": [
            "202it [00:23,  8.77it/s]"
          ]
        },
        {
          "output_type": "stream",
          "name": "stdout",
          "text": [
            "Epoch: 5 (200/360) Training loss: 0.3646986484527588\n"
          ]
        },
        {
          "output_type": "stream",
          "name": "stderr",
          "text": [
            "222it [00:25,  8.73it/s]"
          ]
        },
        {
          "output_type": "stream",
          "name": "stdout",
          "text": [
            "Epoch: 5 (220/360) Training loss: 0.3531203269958496\n"
          ]
        },
        {
          "output_type": "stream",
          "name": "stderr",
          "text": [
            "242it [00:28,  8.78it/s]"
          ]
        },
        {
          "output_type": "stream",
          "name": "stdout",
          "text": [
            "Epoch: 5 (240/360) Training loss: 0.25100237131118774\n"
          ]
        },
        {
          "output_type": "stream",
          "name": "stderr",
          "text": [
            "262it [00:30,  8.61it/s]"
          ]
        },
        {
          "output_type": "stream",
          "name": "stdout",
          "text": [
            "Epoch: 5 (260/360) Training loss: 0.2732751965522766\n"
          ]
        },
        {
          "output_type": "stream",
          "name": "stderr",
          "text": [
            "282it [00:32,  8.54it/s]"
          ]
        },
        {
          "output_type": "stream",
          "name": "stdout",
          "text": [
            "Epoch: 5 (280/360) Training loss: 0.17946641147136688\n"
          ]
        },
        {
          "output_type": "stream",
          "name": "stderr",
          "text": [
            "302it [00:34,  8.77it/s]"
          ]
        },
        {
          "output_type": "stream",
          "name": "stdout",
          "text": [
            "Epoch: 5 (300/360) Training loss: 0.3195512890815735\n"
          ]
        },
        {
          "output_type": "stream",
          "name": "stderr",
          "text": [
            "322it [00:37,  8.78it/s]"
          ]
        },
        {
          "output_type": "stream",
          "name": "stdout",
          "text": [
            "Epoch: 5 (320/360) Training loss: 0.39270448684692383\n"
          ]
        },
        {
          "output_type": "stream",
          "name": "stderr",
          "text": [
            "342it [00:39,  8.45it/s]"
          ]
        },
        {
          "output_type": "stream",
          "name": "stdout",
          "text": [
            "Epoch: 5 (340/360) Training loss: 0.19961296021938324\n"
          ]
        },
        {
          "output_type": "stream",
          "name": "stderr",
          "text": [
            "360it [00:41,  8.66it/s]\n"
          ]
        },
        {
          "output_type": "stream",
          "name": "stdout",
          "text": [
            "Epoch 5 done. Training loss: 0.2777443528175354 Training accuracy: 0.8976128697395325\n"
          ]
        },
        {
          "output_type": "stream",
          "name": "stderr",
          "text": [
            "123it [00:10, 11.67it/s]\n"
          ]
        },
        {
          "output_type": "stream",
          "name": "stdout",
          "text": [
            "Epoch 5 done. Eval loss: 0.5437843799591064 Eval accuracy: 0.7743902206420898\n"
          ]
        },
        {
          "output_type": "stream",
          "name": "stderr",
          "text": [
            "1it [00:00,  8.76it/s]"
          ]
        },
        {
          "output_type": "stream",
          "name": "stdout",
          "text": [
            "Epoch: 6 (0/360) Training loss: 0.3080981969833374\n"
          ]
        },
        {
          "output_type": "stream",
          "name": "stderr",
          "text": [
            "22it [00:02,  8.71it/s]"
          ]
        },
        {
          "output_type": "stream",
          "name": "stdout",
          "text": [
            "Epoch: 6 (20/360) Training loss: 0.13939085602760315\n"
          ]
        },
        {
          "output_type": "stream",
          "name": "stderr",
          "text": [
            "42it [00:04,  8.81it/s]"
          ]
        },
        {
          "output_type": "stream",
          "name": "stdout",
          "text": [
            "Epoch: 6 (40/360) Training loss: 0.32472485303878784\n"
          ]
        },
        {
          "output_type": "stream",
          "name": "stderr",
          "text": [
            "62it [00:07,  8.77it/s]"
          ]
        },
        {
          "output_type": "stream",
          "name": "stdout",
          "text": [
            "Epoch: 6 (60/360) Training loss: 0.21004700660705566\n"
          ]
        },
        {
          "output_type": "stream",
          "name": "stderr",
          "text": [
            "82it [00:09,  8.74it/s]"
          ]
        },
        {
          "output_type": "stream",
          "name": "stdout",
          "text": [
            "Epoch: 6 (80/360) Training loss: 0.22530212998390198\n"
          ]
        },
        {
          "output_type": "stream",
          "name": "stderr",
          "text": [
            "102it [00:11,  8.87it/s]"
          ]
        },
        {
          "output_type": "stream",
          "name": "stdout",
          "text": [
            "Epoch: 6 (100/360) Training loss: 0.1998940408229828\n"
          ]
        },
        {
          "output_type": "stream",
          "name": "stderr",
          "text": [
            "122it [00:14,  8.57it/s]"
          ]
        },
        {
          "output_type": "stream",
          "name": "stdout",
          "text": [
            "Epoch: 6 (120/360) Training loss: 0.28308290243148804\n"
          ]
        },
        {
          "output_type": "stream",
          "name": "stderr",
          "text": [
            "142it [00:16,  8.86it/s]"
          ]
        },
        {
          "output_type": "stream",
          "name": "stdout",
          "text": [
            "Epoch: 6 (140/360) Training loss: 0.20069584250450134\n"
          ]
        },
        {
          "output_type": "stream",
          "name": "stderr",
          "text": [
            "162it [00:18,  8.59it/s]"
          ]
        },
        {
          "output_type": "stream",
          "name": "stdout",
          "text": [
            "Epoch: 6 (160/360) Training loss: 0.20665670931339264\n"
          ]
        },
        {
          "output_type": "stream",
          "name": "stderr",
          "text": [
            "182it [00:20,  8.53it/s]"
          ]
        },
        {
          "output_type": "stream",
          "name": "stdout",
          "text": [
            "Epoch: 6 (180/360) Training loss: 0.22601084411144257\n"
          ]
        },
        {
          "output_type": "stream",
          "name": "stderr",
          "text": [
            "202it [00:23,  8.42it/s]"
          ]
        },
        {
          "output_type": "stream",
          "name": "stdout",
          "text": [
            "Epoch: 6 (200/360) Training loss: 0.2130270004272461\n"
          ]
        },
        {
          "output_type": "stream",
          "name": "stderr",
          "text": [
            "222it [00:25,  8.46it/s]"
          ]
        },
        {
          "output_type": "stream",
          "name": "stdout",
          "text": [
            "Epoch: 6 (220/360) Training loss: 0.2943354547023773\n"
          ]
        },
        {
          "output_type": "stream",
          "name": "stderr",
          "text": [
            "242it [00:27,  8.05it/s]"
          ]
        },
        {
          "output_type": "stream",
          "name": "stdout",
          "text": [
            "Epoch: 6 (240/360) Training loss: 0.2658005654811859\n"
          ]
        },
        {
          "output_type": "stream",
          "name": "stderr",
          "text": [
            "262it [00:31,  7.94it/s]"
          ]
        },
        {
          "output_type": "stream",
          "name": "stdout",
          "text": [
            "Epoch: 6 (260/360) Training loss: 0.2961972951889038\n"
          ]
        },
        {
          "output_type": "stream",
          "name": "stderr",
          "text": [
            "282it [00:33,  8.80it/s]"
          ]
        },
        {
          "output_type": "stream",
          "name": "stdout",
          "text": [
            "Epoch: 6 (280/360) Training loss: 0.21493734419345856\n"
          ]
        },
        {
          "output_type": "stream",
          "name": "stderr",
          "text": [
            "302it [00:36,  8.74it/s]"
          ]
        },
        {
          "output_type": "stream",
          "name": "stdout",
          "text": [
            "Epoch: 6 (300/360) Training loss: 0.35777732729911804\n"
          ]
        },
        {
          "output_type": "stream",
          "name": "stderr",
          "text": [
            "322it [00:38,  8.53it/s]"
          ]
        },
        {
          "output_type": "stream",
          "name": "stdout",
          "text": [
            "Epoch: 6 (320/360) Training loss: 0.3219735622406006\n"
          ]
        },
        {
          "output_type": "stream",
          "name": "stderr",
          "text": [
            "342it [00:40,  8.70it/s]"
          ]
        },
        {
          "output_type": "stream",
          "name": "stdout",
          "text": [
            "Epoch: 6 (340/360) Training loss: 0.16670379042625427\n"
          ]
        },
        {
          "output_type": "stream",
          "name": "stderr",
          "text": [
            "360it [00:42,  8.41it/s]\n"
          ]
        },
        {
          "output_type": "stream",
          "name": "stdout",
          "text": [
            "Epoch 6 done. Training loss: 0.27002114057540894 Training accuracy: 0.8961805701255798\n"
          ]
        },
        {
          "output_type": "stream",
          "name": "stderr",
          "text": [
            "123it [00:10, 11.91it/s]\n"
          ]
        },
        {
          "output_type": "stream",
          "name": "stdout",
          "text": [
            "Epoch 6 done. Eval loss: 0.5021616220474243 Eval accuracy: 0.795223593711853\n"
          ]
        },
        {
          "output_type": "stream",
          "name": "stderr",
          "text": [
            "1it [00:00,  7.95it/s]"
          ]
        },
        {
          "output_type": "stream",
          "name": "stdout",
          "text": [
            "Epoch: 7 (0/360) Training loss: 0.3332729935646057\n"
          ]
        },
        {
          "output_type": "stream",
          "name": "stderr",
          "text": [
            "22it [00:02,  7.84it/s]"
          ]
        },
        {
          "output_type": "stream",
          "name": "stdout",
          "text": [
            "Epoch: 7 (20/360) Training loss: 0.32934316992759705\n"
          ]
        },
        {
          "output_type": "stream",
          "name": "stderr",
          "text": [
            "42it [00:04,  8.50it/s]"
          ]
        },
        {
          "output_type": "stream",
          "name": "stdout",
          "text": [
            "Epoch: 7 (40/360) Training loss: 0.36566662788391113\n"
          ]
        },
        {
          "output_type": "stream",
          "name": "stderr",
          "text": [
            "62it [00:07,  8.80it/s]"
          ]
        },
        {
          "output_type": "stream",
          "name": "stdout",
          "text": [
            "Epoch: 7 (60/360) Training loss: 0.17163673043251038\n"
          ]
        },
        {
          "output_type": "stream",
          "name": "stderr",
          "text": [
            "82it [00:09,  8.48it/s]"
          ]
        },
        {
          "output_type": "stream",
          "name": "stdout",
          "text": [
            "Epoch: 7 (80/360) Training loss: 0.3622499108314514\n"
          ]
        },
        {
          "output_type": "stream",
          "name": "stderr",
          "text": [
            "102it [00:11,  8.62it/s]"
          ]
        },
        {
          "output_type": "stream",
          "name": "stdout",
          "text": [
            "Epoch: 7 (100/360) Training loss: 0.3206697106361389\n"
          ]
        },
        {
          "output_type": "stream",
          "name": "stderr",
          "text": [
            "122it [00:14,  8.68it/s]"
          ]
        },
        {
          "output_type": "stream",
          "name": "stdout",
          "text": [
            "Epoch: 7 (120/360) Training loss: 0.15697422623634338\n"
          ]
        },
        {
          "output_type": "stream",
          "name": "stderr",
          "text": [
            "142it [00:16,  8.52it/s]"
          ]
        },
        {
          "output_type": "stream",
          "name": "stdout",
          "text": [
            "Epoch: 7 (140/360) Training loss: 0.20901603996753693\n"
          ]
        },
        {
          "output_type": "stream",
          "name": "stderr",
          "text": [
            "162it [00:18,  8.55it/s]"
          ]
        },
        {
          "output_type": "stream",
          "name": "stdout",
          "text": [
            "Epoch: 7 (160/360) Training loss: 0.08508510887622833\n"
          ]
        },
        {
          "output_type": "stream",
          "name": "stderr",
          "text": [
            "182it [00:21,  8.63it/s]"
          ]
        },
        {
          "output_type": "stream",
          "name": "stdout",
          "text": [
            "Epoch: 7 (180/360) Training loss: 0.22559362649917603\n"
          ]
        },
        {
          "output_type": "stream",
          "name": "stderr",
          "text": [
            "202it [00:23,  8.68it/s]"
          ]
        },
        {
          "output_type": "stream",
          "name": "stdout",
          "text": [
            "Epoch: 7 (200/360) Training loss: 0.22774159908294678\n"
          ]
        },
        {
          "output_type": "stream",
          "name": "stderr",
          "text": [
            "222it [00:25,  8.63it/s]"
          ]
        },
        {
          "output_type": "stream",
          "name": "stdout",
          "text": [
            "Epoch: 7 (220/360) Training loss: 0.2213437855243683\n"
          ]
        },
        {
          "output_type": "stream",
          "name": "stderr",
          "text": [
            "242it [00:28,  8.71it/s]"
          ]
        },
        {
          "output_type": "stream",
          "name": "stdout",
          "text": [
            "Epoch: 7 (240/360) Training loss: 0.1709248125553131\n"
          ]
        },
        {
          "output_type": "stream",
          "name": "stderr",
          "text": [
            "262it [00:30,  8.49it/s]"
          ]
        },
        {
          "output_type": "stream",
          "name": "stdout",
          "text": [
            "Epoch: 7 (260/360) Training loss: 0.3014965355396271\n"
          ]
        },
        {
          "output_type": "stream",
          "name": "stderr",
          "text": [
            "282it [00:32,  7.67it/s]"
          ]
        },
        {
          "output_type": "stream",
          "name": "stdout",
          "text": [
            "Epoch: 7 (280/360) Training loss: 0.32857459783554077\n"
          ]
        },
        {
          "output_type": "stream",
          "name": "stderr",
          "text": [
            "302it [00:35,  8.55it/s]"
          ]
        },
        {
          "output_type": "stream",
          "name": "stdout",
          "text": [
            "Epoch: 7 (300/360) Training loss: 0.35314449667930603\n"
          ]
        },
        {
          "output_type": "stream",
          "name": "stderr",
          "text": [
            "322it [00:37,  8.55it/s]"
          ]
        },
        {
          "output_type": "stream",
          "name": "stdout",
          "text": [
            "Epoch: 7 (320/360) Training loss: 0.2752588391304016\n"
          ]
        },
        {
          "output_type": "stream",
          "name": "stderr",
          "text": [
            "342it [00:39,  8.76it/s]"
          ]
        },
        {
          "output_type": "stream",
          "name": "stdout",
          "text": [
            "Epoch: 7 (340/360) Training loss: 0.16652466356754303\n"
          ]
        },
        {
          "output_type": "stream",
          "name": "stderr",
          "text": [
            "360it [00:41,  8.60it/s]\n"
          ]
        },
        {
          "output_type": "stream",
          "name": "stdout",
          "text": [
            "Epoch 7 done. Training loss: 0.25878673791885376 Training accuracy: 0.9040798544883728\n"
          ]
        },
        {
          "output_type": "stream",
          "name": "stderr",
          "text": [
            "123it [00:10, 11.59it/s]\n"
          ]
        },
        {
          "output_type": "stream",
          "name": "stdout",
          "text": [
            "Epoch 7 done. Eval loss: 0.4905593693256378 Eval accuracy: 0.7907774448394775\n"
          ]
        },
        {
          "output_type": "stream",
          "name": "stderr",
          "text": [
            "1it [00:00,  8.18it/s]"
          ]
        },
        {
          "output_type": "stream",
          "name": "stdout",
          "text": [
            "Epoch: 8 (0/360) Training loss: 0.2518841028213501\n"
          ]
        },
        {
          "output_type": "stream",
          "name": "stderr",
          "text": [
            "22it [00:02,  8.65it/s]"
          ]
        },
        {
          "output_type": "stream",
          "name": "stdout",
          "text": [
            "Epoch: 8 (20/360) Training loss: 0.1965101808309555\n"
          ]
        },
        {
          "output_type": "stream",
          "name": "stderr",
          "text": [
            "42it [00:04,  8.16it/s]"
          ]
        },
        {
          "output_type": "stream",
          "name": "stdout",
          "text": [
            "Epoch: 8 (40/360) Training loss: 0.3259904384613037\n"
          ]
        },
        {
          "output_type": "stream",
          "name": "stderr",
          "text": [
            "62it [00:07,  8.71it/s]"
          ]
        },
        {
          "output_type": "stream",
          "name": "stdout",
          "text": [
            "Epoch: 8 (60/360) Training loss: 0.19577130675315857\n"
          ]
        },
        {
          "output_type": "stream",
          "name": "stderr",
          "text": [
            "82it [00:09,  8.59it/s]"
          ]
        },
        {
          "output_type": "stream",
          "name": "stdout",
          "text": [
            "Epoch: 8 (80/360) Training loss: 0.197774738073349\n"
          ]
        },
        {
          "output_type": "stream",
          "name": "stderr",
          "text": [
            "102it [00:12,  8.26it/s]"
          ]
        },
        {
          "output_type": "stream",
          "name": "stdout",
          "text": [
            "Epoch: 8 (100/360) Training loss: 0.24317817389965057\n"
          ]
        },
        {
          "output_type": "stream",
          "name": "stderr",
          "text": [
            "122it [00:14,  8.46it/s]"
          ]
        },
        {
          "output_type": "stream",
          "name": "stdout",
          "text": [
            "Epoch: 8 (120/360) Training loss: 0.22938880324363708\n"
          ]
        },
        {
          "output_type": "stream",
          "name": "stderr",
          "text": [
            "142it [00:16,  8.72it/s]"
          ]
        },
        {
          "output_type": "stream",
          "name": "stdout",
          "text": [
            "Epoch: 8 (140/360) Training loss: 0.4601588845252991\n"
          ]
        },
        {
          "output_type": "stream",
          "name": "stderr",
          "text": [
            "162it [00:19,  8.76it/s]"
          ]
        },
        {
          "output_type": "stream",
          "name": "stdout",
          "text": [
            "Epoch: 8 (160/360) Training loss: 0.15008321404457092\n"
          ]
        },
        {
          "output_type": "stream",
          "name": "stderr",
          "text": [
            "182it [00:21,  8.76it/s]"
          ]
        },
        {
          "output_type": "stream",
          "name": "stdout",
          "text": [
            "Epoch: 8 (180/360) Training loss: 0.15928399562835693\n"
          ]
        },
        {
          "output_type": "stream",
          "name": "stderr",
          "text": [
            "202it [00:23,  8.43it/s]"
          ]
        },
        {
          "output_type": "stream",
          "name": "stdout",
          "text": [
            "Epoch: 8 (200/360) Training loss: 0.4057976007461548\n"
          ]
        },
        {
          "output_type": "stream",
          "name": "stderr",
          "text": [
            "222it [00:25,  8.82it/s]"
          ]
        },
        {
          "output_type": "stream",
          "name": "stdout",
          "text": [
            "Epoch: 8 (220/360) Training loss: 0.17626257240772247\n"
          ]
        },
        {
          "output_type": "stream",
          "name": "stderr",
          "text": [
            "242it [00:28,  8.81it/s]"
          ]
        },
        {
          "output_type": "stream",
          "name": "stdout",
          "text": [
            "Epoch: 8 (240/360) Training loss: 0.2688853442668915\n"
          ]
        },
        {
          "output_type": "stream",
          "name": "stderr",
          "text": [
            "262it [00:30,  8.63it/s]"
          ]
        },
        {
          "output_type": "stream",
          "name": "stdout",
          "text": [
            "Epoch: 8 (260/360) Training loss: 0.11657728254795074\n"
          ]
        },
        {
          "output_type": "stream",
          "name": "stderr",
          "text": [
            "282it [00:32,  8.72it/s]"
          ]
        },
        {
          "output_type": "stream",
          "name": "stdout",
          "text": [
            "Epoch: 8 (280/360) Training loss: 0.0933198630809784\n"
          ]
        },
        {
          "output_type": "stream",
          "name": "stderr",
          "text": [
            "302it [00:35,  8.76it/s]"
          ]
        },
        {
          "output_type": "stream",
          "name": "stdout",
          "text": [
            "Epoch: 8 (300/360) Training loss: 0.3676474988460541\n"
          ]
        },
        {
          "output_type": "stream",
          "name": "stderr",
          "text": [
            "322it [00:37,  8.84it/s]"
          ]
        },
        {
          "output_type": "stream",
          "name": "stdout",
          "text": [
            "Epoch: 8 (320/360) Training loss: 0.4013820290565491\n"
          ]
        },
        {
          "output_type": "stream",
          "name": "stderr",
          "text": [
            "342it [00:39,  8.52it/s]"
          ]
        },
        {
          "output_type": "stream",
          "name": "stdout",
          "text": [
            "Epoch: 8 (340/360) Training loss: 0.2752525508403778\n"
          ]
        },
        {
          "output_type": "stream",
          "name": "stderr",
          "text": [
            "360it [00:41,  8.58it/s]\n"
          ]
        },
        {
          "output_type": "stream",
          "name": "stdout",
          "text": [
            "Epoch 8 done. Training loss: 0.2492837756872177 Training accuracy: 0.9072048664093018\n"
          ]
        },
        {
          "output_type": "stream",
          "name": "stderr",
          "text": [
            "123it [00:10, 11.80it/s]\n"
          ]
        },
        {
          "output_type": "stream",
          "name": "stdout",
          "text": [
            "Epoch 8 done. Eval loss: 0.5963093638420105 Eval accuracy: 0.7644817233085632\n"
          ]
        },
        {
          "output_type": "stream",
          "name": "stderr",
          "text": [
            "1it [00:00,  8.30it/s]"
          ]
        },
        {
          "output_type": "stream",
          "name": "stdout",
          "text": [
            "Epoch: 9 (0/360) Training loss: 0.16040346026420593\n"
          ]
        },
        {
          "output_type": "stream",
          "name": "stderr",
          "text": [
            "22it [00:02,  8.50it/s]"
          ]
        },
        {
          "output_type": "stream",
          "name": "stdout",
          "text": [
            "Epoch: 9 (20/360) Training loss: 0.11093270778656006\n"
          ]
        },
        {
          "output_type": "stream",
          "name": "stderr",
          "text": [
            "42it [00:04,  8.64it/s]"
          ]
        },
        {
          "output_type": "stream",
          "name": "stdout",
          "text": [
            "Epoch: 9 (40/360) Training loss: 0.2054777592420578\n"
          ]
        },
        {
          "output_type": "stream",
          "name": "stderr",
          "text": [
            "62it [00:07,  8.64it/s]"
          ]
        },
        {
          "output_type": "stream",
          "name": "stdout",
          "text": [
            "Epoch: 9 (60/360) Training loss: 0.1782436966896057\n"
          ]
        },
        {
          "output_type": "stream",
          "name": "stderr",
          "text": [
            "82it [00:09,  8.67it/s]"
          ]
        },
        {
          "output_type": "stream",
          "name": "stdout",
          "text": [
            "Epoch: 9 (80/360) Training loss: 0.2636132538318634\n"
          ]
        },
        {
          "output_type": "stream",
          "name": "stderr",
          "text": [
            "102it [00:11,  8.44it/s]"
          ]
        },
        {
          "output_type": "stream",
          "name": "stdout",
          "text": [
            "Epoch: 9 (100/360) Training loss: 0.20656979084014893\n"
          ]
        },
        {
          "output_type": "stream",
          "name": "stderr",
          "text": [
            "122it [00:14,  8.57it/s]"
          ]
        },
        {
          "output_type": "stream",
          "name": "stdout",
          "text": [
            "Epoch: 9 (120/360) Training loss: 0.22315473854541779\n"
          ]
        },
        {
          "output_type": "stream",
          "name": "stderr",
          "text": [
            "142it [00:16,  8.65it/s]"
          ]
        },
        {
          "output_type": "stream",
          "name": "stdout",
          "text": [
            "Epoch: 9 (140/360) Training loss: 0.3156152367591858\n"
          ]
        },
        {
          "output_type": "stream",
          "name": "stderr",
          "text": [
            "162it [00:18,  8.65it/s]"
          ]
        },
        {
          "output_type": "stream",
          "name": "stdout",
          "text": [
            "Epoch: 9 (160/360) Training loss: 0.31126031279563904\n"
          ]
        },
        {
          "output_type": "stream",
          "name": "stderr",
          "text": [
            "182it [00:21,  8.23it/s]"
          ]
        },
        {
          "output_type": "stream",
          "name": "stdout",
          "text": [
            "Epoch: 9 (180/360) Training loss: 0.28158897161483765\n"
          ]
        },
        {
          "output_type": "stream",
          "name": "stderr",
          "text": [
            "202it [00:23,  8.51it/s]"
          ]
        },
        {
          "output_type": "stream",
          "name": "stdout",
          "text": [
            "Epoch: 9 (200/360) Training loss: 0.2566419243812561\n"
          ]
        },
        {
          "output_type": "stream",
          "name": "stderr",
          "text": [
            "222it [00:26,  8.48it/s]"
          ]
        },
        {
          "output_type": "stream",
          "name": "stdout",
          "text": [
            "Epoch: 9 (220/360) Training loss: 0.23900246620178223\n"
          ]
        },
        {
          "output_type": "stream",
          "name": "stderr",
          "text": [
            "242it [00:28,  8.15it/s]"
          ]
        },
        {
          "output_type": "stream",
          "name": "stdout",
          "text": [
            "Epoch: 9 (240/360) Training loss: 0.4586242735385895\n"
          ]
        },
        {
          "output_type": "stream",
          "name": "stderr",
          "text": [
            "262it [00:30,  8.69it/s]"
          ]
        },
        {
          "output_type": "stream",
          "name": "stdout",
          "text": [
            "Epoch: 9 (260/360) Training loss: 0.26512011885643005\n"
          ]
        },
        {
          "output_type": "stream",
          "name": "stderr",
          "text": [
            "282it [00:33,  8.62it/s]"
          ]
        },
        {
          "output_type": "stream",
          "name": "stdout",
          "text": [
            "Epoch: 9 (280/360) Training loss: 0.22191381454467773\n"
          ]
        },
        {
          "output_type": "stream",
          "name": "stderr",
          "text": [
            "302it [00:35,  8.67it/s]"
          ]
        },
        {
          "output_type": "stream",
          "name": "stdout",
          "text": [
            "Epoch: 9 (300/360) Training loss: 0.2953394055366516\n"
          ]
        },
        {
          "output_type": "stream",
          "name": "stderr",
          "text": [
            "322it [00:37,  8.58it/s]"
          ]
        },
        {
          "output_type": "stream",
          "name": "stdout",
          "text": [
            "Epoch: 9 (320/360) Training loss: 0.15771321952342987\n"
          ]
        },
        {
          "output_type": "stream",
          "name": "stderr",
          "text": [
            "342it [00:40,  8.92it/s]"
          ]
        },
        {
          "output_type": "stream",
          "name": "stdout",
          "text": [
            "Epoch: 9 (340/360) Training loss: 0.24495992064476013\n"
          ]
        },
        {
          "output_type": "stream",
          "name": "stderr",
          "text": [
            "360it [00:42,  8.56it/s]\n"
          ]
        },
        {
          "output_type": "stream",
          "name": "stdout",
          "text": [
            "Epoch 9 done. Training loss: 0.23850314319133759 Training accuracy: 0.9124131798744202\n"
          ]
        },
        {
          "output_type": "stream",
          "name": "stderr",
          "text": [
            "123it [00:10, 11.57it/s]"
          ]
        },
        {
          "output_type": "stream",
          "name": "stdout",
          "text": [
            "Epoch 9 done. Eval loss: 0.6084859371185303 Eval accuracy: 0.7623221278190613\n"
          ]
        },
        {
          "output_type": "stream",
          "name": "stderr",
          "text": [
            "\n"
          ]
        }
      ],
      "source": [
        "input_dim = 42\n",
        "hidden_dim = 4 \n",
        "layer_dim = 1\n",
        "output_dim = 1 \n",
        "dropout_prob = 0.5\n",
        "fc_dim = 8\n",
        "bidirection = True\n",
        "model = CNNLSTM(input_features=30, dropout_prob=0.5, padding = 'valid', mp=2, pool='max', input_dim=input_dim, hidden_dim=hidden_dim, layer_dim=layer_dim, output_dim=output_dim, fc_dim=fc_dim, bidirection=bidirection)\n",
        "optimizer = torch.optim.Adam(model.parameters(), lr=1e-3, weight_decay=0)\n",
        "criterion = nn.BCEWithLogitsLoss()\n",
        "EPOCHS = 10\n",
        "\n",
        "loss_history = []\n",
        "train_acc_history = []\n",
        "eval_acc_history = []\n",
        "eval_loss_history = []\n",
        "for epoch in range(EPOCHS):\n",
        "    train_acc, train_loss, history = train(model, train_loader, optimizer, criterion, epoch)\n",
        "    eval_acc, eval_loss = evaluate(model, test_loader, criterion, epoch)\n",
        "    \n",
        "    loss_history.extend(history)\n",
        "    eval_loss_history.append(eval_loss)\n",
        "    train_acc_history.append(train_acc)\n",
        "    eval_acc_history.append(eval_acc)\n",
        "    "
      ]
    },
    {
      "cell_type": "code",
      "execution_count": 51,
      "metadata": {
        "id": "iKyYbLHz8HBe"
      },
      "outputs": [],
      "source": [
        "import matplotlib.pyplot as plt"
      ]
    },
    {
      "cell_type": "code",
      "execution_count": 52,
      "metadata": {
        "colab": {
          "base_uri": "https://localhost:8080/",
          "height": 265
        },
        "id": "G-k1jzfv8HBe",
        "outputId": "2b97254a-1ee3-45c0-9d84-32f0c18af1b4"
      },
      "outputs": [
        {
          "output_type": "display_data",
          "data": {
            "text/plain": [
              "<Figure size 432x288 with 2 Axes>"
            ],
            "image/png": "[encoded data removed]"
          },
          "metadata": {
            "needs_background": "light"
          }
        }
      ],
      "source": [
        "xs = np.arange(len(train_loader), len(loss_history) + len(train_loader), len(train_loader))\n",
        "\n",
        "plt.plot(loss_history, label=\"loss\")\n",
        "plt.ylabel(\"BCE loss\")\n",
        "plt.legend()\n",
        "plt.twinx()\n",
        "plt.plot(xs, train_acc_history, label=\"accuracy\", c=\"C1\")\n",
        "plt.ylabel(\"accuracy\")\n",
        "plt.legend()\n",
        "plt.show()"
      ]
    },
    {
      "cell_type": "code",
      "execution_count": 53,
      "metadata": {
        "colab": {
          "base_uri": "https://localhost:8080/",
          "height": 265
        },
        "id": "gDyyTTlN8HBe",
        "outputId": "9cc70792-40a2-46fb-84c1-1b15613a42fd"
      },
      "outputs": [
        {
          "output_type": "display_data",
          "data": {
            "text/plain": [
              "<Figure size 432x288 with 2 Axes>"
            ],
            "image/png": "[encoded data removed]"
          },
          "metadata": {
            "needs_background": "light"
          }
        }
      ],
      "source": [
        "eval_loss_history = [x.cpu() for x in eval_loss_history]\n",
        "plt.plot(eval_loss_history, label=\"loss\")\n",
        "plt.legend()\n",
        "plt.ylabel(\"BCE loss\")\n",
        "plt.twinx()\n",
        "plt.plot(eval_acc_history, c=\"C1\", label=\"accuracy\")\n",
        "plt.ylabel(\"accuracy\")\n",
        "plt.legend()\n",
        "plt.show()"
      ]
    }
  ],
  "metadata": {
    "kernelspec": {
      "display_name": "Python 3.8.10 64-bit",
      "language": "python",
      "name": "python3"
    },
    "language_info": {
      "codemirror_mode": {
        "name": "ipython",
        "version": 3
      },
      "file_extension": ".py",
      "mimetype": "text/x-python",
      "name": "python",
      "nbconvert_exporter": "python",
      "pygments_lexer": "ipython3",
      "version": "3.8.10"
    },
    "orig_nbformat": 4,
    "vscode": {
      "interpreter": {
        "hash": "916dbcbb3f70747c44a77c7bcd40155683ae19c65e1c03b4aa3499c5328201f1"
      }
    },
    "colab": {
      "provenance": []
    },
    "accelerator": "GPU",
    "gpuClass": "standard"
  },
  "nbformat": 4,
  "nbformat_minor": 0
}